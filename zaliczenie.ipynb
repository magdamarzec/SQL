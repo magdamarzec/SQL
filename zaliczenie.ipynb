{
 "cells": [
  {
   "cell_type": "markdown",
   "id": "6055c6ab",
   "metadata": {},
   "source": [
    "# Projekt końcowy"
   ]
  },
  {
   "cell_type": "markdown",
   "id": "f07cf22b",
   "metadata": {},
   "source": [
    "### Poniższy projekt ma na celu zbudowanie modelu klasyfikacyjnego, który na podstawie podanych danych będzie przewidywał, czy potencjalny pożyczkobiorca spłaci swój dług."
   ]
  },
  {
   "cell_type": "code",
   "execution_count": null,
   "id": "5cbc99f0",
   "metadata": {},
   "outputs": [],
   "source": []
  },
  {
   "cell_type": "code",
   "execution_count": 1,
   "id": "b963705d",
   "metadata": {},
   "outputs": [],
   "source": [
    "import numpy as np \n",
    "import pandas as pd \n",
    "import seaborn as sns\n",
    "import seaborn as sns\n",
    "import matplotlib.pyplot as plt\n",
    "import matplotlib.pyplot as plt\n",
    "%matplotlib inline\n",
    "from scipy import stats\n",
    "from scipy.stats import zscore\n",
    "from sklearn.preprocessing import StandardScaler\n",
    "from sklearn.model_selection import train_test_split\n",
    "from sklearn.linear_model import LinearRegression, Ridge, Lasso\n",
    "from sklearn.neighbors import KNeighborsRegressor\n",
    "from sklearn.tree import DecisionTreeRegressor\n",
    "from sklearn.ensemble import (RandomForestRegressor, GradientBoostingRegressor,AdaBoostRegressor,BaggingRegressor)\n",
    "from sklearn.svm import SVR\n",
    "from sklearn import metrics\n",
    "from sklearn.metrics import accuracy_score,roc_auc_score\n",
    "from sklearn.metrics import accuracy_score\n",
    "from sklearn.ensemble import VotingRegressor\n",
    "from sklearn.metrics import mean_squared_error,mean_absolute_error,r2_score\n",
    "from sklearn.model_selection import KFold\n",
    "from sklearn.model_selection import cross_val_score\n",
    "from sklearn import preprocessing\n",
    "from sklearn.preprocessing import PolynomialFeatures\n",
    "from sklearn.cluster import KMeans\n",
    "from sklearn.utils import resample"
   ]
  },
  {
   "cell_type": "code",
   "execution_count": 2,
   "id": "55784d88",
   "metadata": {
    "scrolled": true
   },
   "outputs": [
    {
     "name": "stderr",
     "output_type": "stream",
     "text": [
      "C:\\Users\\asus\\AppData\\Local\\Temp\\ipykernel_304\\140937924.py:1: DtypeWarning: Columns (0,49) have mixed types. Specify dtype option on import or set low_memory=False.\n",
      "  df=pd.read_csv('Loan_data.csv')\n"
     ]
    }
   ],
   "source": [
    "df=pd.read_csv('Loan_data.csv')"
   ]
  },
  {
   "cell_type": "code",
   "execution_count": 3,
   "id": "dbc2439f",
   "metadata": {
    "scrolled": true
   },
   "outputs": [
    {
     "data": {
      "text/html": [
       "<div>\n",
       "<style scoped>\n",
       "    .dataframe tbody tr th:only-of-type {\n",
       "        vertical-align: middle;\n",
       "    }\n",
       "\n",
       "    .dataframe tbody tr th {\n",
       "        vertical-align: top;\n",
       "    }\n",
       "\n",
       "    .dataframe thead th {\n",
       "        text-align: right;\n",
       "    }\n",
       "</style>\n",
       "<table border=\"1\" class=\"dataframe\">\n",
       "  <thead>\n",
       "    <tr style=\"text-align: right;\">\n",
       "      <th></th>\n",
       "      <th>id</th>\n",
       "      <th>member_id</th>\n",
       "      <th>loan_amnt</th>\n",
       "      <th>funded_amnt</th>\n",
       "      <th>funded_amnt_inv</th>\n",
       "      <th>term</th>\n",
       "      <th>int_rate</th>\n",
       "      <th>installment</th>\n",
       "      <th>grade</th>\n",
       "      <th>sub_grade</th>\n",
       "      <th>...</th>\n",
       "      <th>hardship_payoff_balance_amount</th>\n",
       "      <th>hardship_last_payment_amount</th>\n",
       "      <th>disbursement_method</th>\n",
       "      <th>debt_settlement_flag</th>\n",
       "      <th>debt_settlement_flag_date</th>\n",
       "      <th>settlement_status</th>\n",
       "      <th>settlement_date</th>\n",
       "      <th>settlement_amount</th>\n",
       "      <th>settlement_percentage</th>\n",
       "      <th>settlement_term</th>\n",
       "    </tr>\n",
       "  </thead>\n",
       "  <tbody>\n",
       "    <tr>\n",
       "      <th>0</th>\n",
       "      <td>1077501</td>\n",
       "      <td>NaN</td>\n",
       "      <td>5000.0</td>\n",
       "      <td>5000.0</td>\n",
       "      <td>4975.0</td>\n",
       "      <td>36 months</td>\n",
       "      <td>10.65%</td>\n",
       "      <td>162.87</td>\n",
       "      <td>B</td>\n",
       "      <td>B2</td>\n",
       "      <td>...</td>\n",
       "      <td>NaN</td>\n",
       "      <td>NaN</td>\n",
       "      <td>Cash</td>\n",
       "      <td>N</td>\n",
       "      <td>NaN</td>\n",
       "      <td>NaN</td>\n",
       "      <td>NaN</td>\n",
       "      <td>NaN</td>\n",
       "      <td>NaN</td>\n",
       "      <td>NaN</td>\n",
       "    </tr>\n",
       "    <tr>\n",
       "      <th>1</th>\n",
       "      <td>1077430</td>\n",
       "      <td>NaN</td>\n",
       "      <td>2500.0</td>\n",
       "      <td>2500.0</td>\n",
       "      <td>2500.0</td>\n",
       "      <td>60 months</td>\n",
       "      <td>15.27%</td>\n",
       "      <td>59.83</td>\n",
       "      <td>C</td>\n",
       "      <td>C4</td>\n",
       "      <td>...</td>\n",
       "      <td>NaN</td>\n",
       "      <td>NaN</td>\n",
       "      <td>Cash</td>\n",
       "      <td>N</td>\n",
       "      <td>NaN</td>\n",
       "      <td>NaN</td>\n",
       "      <td>NaN</td>\n",
       "      <td>NaN</td>\n",
       "      <td>NaN</td>\n",
       "      <td>NaN</td>\n",
       "    </tr>\n",
       "    <tr>\n",
       "      <th>2</th>\n",
       "      <td>1077175</td>\n",
       "      <td>NaN</td>\n",
       "      <td>2400.0</td>\n",
       "      <td>2400.0</td>\n",
       "      <td>2400.0</td>\n",
       "      <td>36 months</td>\n",
       "      <td>15.96%</td>\n",
       "      <td>84.33</td>\n",
       "      <td>C</td>\n",
       "      <td>C5</td>\n",
       "      <td>...</td>\n",
       "      <td>NaN</td>\n",
       "      <td>NaN</td>\n",
       "      <td>Cash</td>\n",
       "      <td>N</td>\n",
       "      <td>NaN</td>\n",
       "      <td>NaN</td>\n",
       "      <td>NaN</td>\n",
       "      <td>NaN</td>\n",
       "      <td>NaN</td>\n",
       "      <td>NaN</td>\n",
       "    </tr>\n",
       "    <tr>\n",
       "      <th>3</th>\n",
       "      <td>1076863</td>\n",
       "      <td>NaN</td>\n",
       "      <td>10000.0</td>\n",
       "      <td>10000.0</td>\n",
       "      <td>10000.0</td>\n",
       "      <td>36 months</td>\n",
       "      <td>13.49%</td>\n",
       "      <td>339.31</td>\n",
       "      <td>C</td>\n",
       "      <td>C1</td>\n",
       "      <td>...</td>\n",
       "      <td>NaN</td>\n",
       "      <td>NaN</td>\n",
       "      <td>Cash</td>\n",
       "      <td>N</td>\n",
       "      <td>NaN</td>\n",
       "      <td>NaN</td>\n",
       "      <td>NaN</td>\n",
       "      <td>NaN</td>\n",
       "      <td>NaN</td>\n",
       "      <td>NaN</td>\n",
       "    </tr>\n",
       "    <tr>\n",
       "      <th>4</th>\n",
       "      <td>1075358</td>\n",
       "      <td>NaN</td>\n",
       "      <td>3000.0</td>\n",
       "      <td>3000.0</td>\n",
       "      <td>3000.0</td>\n",
       "      <td>60 months</td>\n",
       "      <td>12.69%</td>\n",
       "      <td>67.79</td>\n",
       "      <td>B</td>\n",
       "      <td>B5</td>\n",
       "      <td>...</td>\n",
       "      <td>NaN</td>\n",
       "      <td>NaN</td>\n",
       "      <td>Cash</td>\n",
       "      <td>N</td>\n",
       "      <td>NaN</td>\n",
       "      <td>NaN</td>\n",
       "      <td>NaN</td>\n",
       "      <td>NaN</td>\n",
       "      <td>NaN</td>\n",
       "      <td>NaN</td>\n",
       "    </tr>\n",
       "  </tbody>\n",
       "</table>\n",
       "<p>5 rows × 151 columns</p>\n",
       "</div>"
      ],
      "text/plain": [
       "        id  member_id  loan_amnt  funded_amnt  funded_amnt_inv        term  \\\n",
       "0  1077501        NaN     5000.0       5000.0           4975.0   36 months   \n",
       "1  1077430        NaN     2500.0       2500.0           2500.0   60 months   \n",
       "2  1077175        NaN     2400.0       2400.0           2400.0   36 months   \n",
       "3  1076863        NaN    10000.0      10000.0          10000.0   36 months   \n",
       "4  1075358        NaN     3000.0       3000.0           3000.0   60 months   \n",
       "\n",
       "  int_rate  installment grade sub_grade  ... hardship_payoff_balance_amount  \\\n",
       "0   10.65%       162.87     B        B2  ...                            NaN   \n",
       "1   15.27%        59.83     C        C4  ...                            NaN   \n",
       "2   15.96%        84.33     C        C5  ...                            NaN   \n",
       "3   13.49%       339.31     C        C1  ...                            NaN   \n",
       "4   12.69%        67.79     B        B5  ...                            NaN   \n",
       "\n",
       "  hardship_last_payment_amount disbursement_method  debt_settlement_flag  \\\n",
       "0                          NaN                Cash                     N   \n",
       "1                          NaN                Cash                     N   \n",
       "2                          NaN                Cash                     N   \n",
       "3                          NaN                Cash                     N   \n",
       "4                          NaN                Cash                     N   \n",
       "\n",
       "  debt_settlement_flag_date settlement_status settlement_date  \\\n",
       "0                       NaN               NaN             NaN   \n",
       "1                       NaN               NaN             NaN   \n",
       "2                       NaN               NaN             NaN   \n",
       "3                       NaN               NaN             NaN   \n",
       "4                       NaN               NaN             NaN   \n",
       "\n",
       "  settlement_amount settlement_percentage settlement_term  \n",
       "0               NaN                   NaN             NaN  \n",
       "1               NaN                   NaN             NaN  \n",
       "2               NaN                   NaN             NaN  \n",
       "3               NaN                   NaN             NaN  \n",
       "4               NaN                   NaN             NaN  \n",
       "\n",
       "[5 rows x 151 columns]"
      ]
     },
     "execution_count": 3,
     "metadata": {},
     "output_type": "execute_result"
    }
   ],
   "source": [
    "df.head()"
   ]
  },
  {
   "cell_type": "code",
   "execution_count": 4,
   "id": "cba7f803",
   "metadata": {},
   "outputs": [
    {
     "data": {
      "text/plain": [
       "(42536, 151)"
      ]
     },
     "execution_count": 4,
     "metadata": {},
     "output_type": "execute_result"
    }
   ],
   "source": [
    "df.shape"
   ]
  },
  {
   "cell_type": "code",
   "execution_count": 5,
   "id": "fb820422",
   "metadata": {},
   "outputs": [],
   "source": [
    "#Dane zawierają 42536 obserwacji i 151 kolumn - łącznie z kolumną ze statusem pożyczki (zmienna objaśniana)"
   ]
  },
  {
   "cell_type": "code",
   "execution_count": 6,
   "id": "de46d9d7",
   "metadata": {},
   "outputs": [
    {
     "data": {
      "text/plain": [
       "id                        object\n",
       "member_id                float64\n",
       "loan_amnt                float64\n",
       "funded_amnt              float64\n",
       "funded_amnt_inv          float64\n",
       "                          ...   \n",
       "settlement_status         object\n",
       "settlement_date           object\n",
       "settlement_amount        float64\n",
       "settlement_percentage    float64\n",
       "settlement_term          float64\n",
       "Length: 151, dtype: object"
      ]
     },
     "execution_count": 6,
     "metadata": {},
     "output_type": "execute_result"
    }
   ],
   "source": [
    "df.dtypes"
   ]
  },
  {
   "cell_type": "code",
   "execution_count": 7,
   "id": "65560434",
   "metadata": {},
   "outputs": [
    {
     "name": "stdout",
     "output_type": "stream",
     "text": [
      "<class 'pandas.core.frame.DataFrame'>\n",
      "RangeIndex: 42536 entries, 0 to 42535\n",
      "Columns: 151 entries, id to settlement_term\n",
      "dtypes: float64(120), object(31)\n",
      "memory usage: 49.0+ MB\n"
     ]
    }
   ],
   "source": [
    "df.info()"
   ]
  },
  {
   "cell_type": "code",
   "execution_count": 8,
   "id": "9eba0d1f",
   "metadata": {},
   "outputs": [
    {
     "data": {
      "text/plain": [
       "Index(['id', 'member_id', 'loan_amnt', 'funded_amnt', 'funded_amnt_inv',\n",
       "       'term', 'int_rate', 'installment', 'grade', 'sub_grade',\n",
       "       ...\n",
       "       'hardship_payoff_balance_amount', 'hardship_last_payment_amount',\n",
       "       'disbursement_method', 'debt_settlement_flag',\n",
       "       'debt_settlement_flag_date', 'settlement_status', 'settlement_date',\n",
       "       'settlement_amount', 'settlement_percentage', 'settlement_term'],\n",
       "      dtype='object', length=151)"
      ]
     },
     "execution_count": 8,
     "metadata": {},
     "output_type": "execute_result"
    }
   ],
   "source": [
    "df.keys()"
   ]
  },
  {
   "cell_type": "code",
   "execution_count": 9,
   "id": "0034553a",
   "metadata": {},
   "outputs": [
    {
     "data": {
      "text/html": [
       "<div>\n",
       "<style scoped>\n",
       "    .dataframe tbody tr th:only-of-type {\n",
       "        vertical-align: middle;\n",
       "    }\n",
       "\n",
       "    .dataframe tbody tr th {\n",
       "        vertical-align: top;\n",
       "    }\n",
       "\n",
       "    .dataframe thead th {\n",
       "        text-align: right;\n",
       "    }\n",
       "</style>\n",
       "<table border=\"1\" class=\"dataframe\">\n",
       "  <thead>\n",
       "    <tr style=\"text-align: right;\">\n",
       "      <th></th>\n",
       "      <th>member_id</th>\n",
       "      <th>loan_amnt</th>\n",
       "      <th>funded_amnt</th>\n",
       "      <th>funded_amnt_inv</th>\n",
       "      <th>installment</th>\n",
       "      <th>annual_inc</th>\n",
       "      <th>dti</th>\n",
       "      <th>delinq_2yrs</th>\n",
       "      <th>fico_range_low</th>\n",
       "      <th>fico_range_high</th>\n",
       "      <th>...</th>\n",
       "      <th>payment_plan_start_date</th>\n",
       "      <th>hardship_length</th>\n",
       "      <th>hardship_dpd</th>\n",
       "      <th>hardship_loan_status</th>\n",
       "      <th>orig_projected_additional_accrued_interest</th>\n",
       "      <th>hardship_payoff_balance_amount</th>\n",
       "      <th>hardship_last_payment_amount</th>\n",
       "      <th>settlement_amount</th>\n",
       "      <th>settlement_percentage</th>\n",
       "      <th>settlement_term</th>\n",
       "    </tr>\n",
       "  </thead>\n",
       "  <tbody>\n",
       "    <tr>\n",
       "      <th>count</th>\n",
       "      <td>0.0</td>\n",
       "      <td>42535.000000</td>\n",
       "      <td>42535.000000</td>\n",
       "      <td>42535.000000</td>\n",
       "      <td>42535.000000</td>\n",
       "      <td>4.253100e+04</td>\n",
       "      <td>42535.000000</td>\n",
       "      <td>42506.000000</td>\n",
       "      <td>42535.000000</td>\n",
       "      <td>42535.000000</td>\n",
       "      <td>...</td>\n",
       "      <td>0.0</td>\n",
       "      <td>0.0</td>\n",
       "      <td>0.0</td>\n",
       "      <td>0.0</td>\n",
       "      <td>0.0</td>\n",
       "      <td>0.0</td>\n",
       "      <td>0.0</td>\n",
       "      <td>160.000000</td>\n",
       "      <td>160.000000</td>\n",
       "      <td>160.000000</td>\n",
       "    </tr>\n",
       "    <tr>\n",
       "      <th>mean</th>\n",
       "      <td>NaN</td>\n",
       "      <td>11089.722581</td>\n",
       "      <td>10821.585753</td>\n",
       "      <td>10139.938785</td>\n",
       "      <td>322.623063</td>\n",
       "      <td>6.913656e+04</td>\n",
       "      <td>13.373043</td>\n",
       "      <td>0.152449</td>\n",
       "      <td>713.052545</td>\n",
       "      <td>717.052545</td>\n",
       "      <td>...</td>\n",
       "      <td>NaN</td>\n",
       "      <td>NaN</td>\n",
       "      <td>NaN</td>\n",
       "      <td>NaN</td>\n",
       "      <td>NaN</td>\n",
       "      <td>NaN</td>\n",
       "      <td>NaN</td>\n",
       "      <td>4272.137875</td>\n",
       "      <td>49.905875</td>\n",
       "      <td>1.200000</td>\n",
       "    </tr>\n",
       "    <tr>\n",
       "      <th>std</th>\n",
       "      <td>NaN</td>\n",
       "      <td>7410.938391</td>\n",
       "      <td>7146.914675</td>\n",
       "      <td>7131.598014</td>\n",
       "      <td>208.927216</td>\n",
       "      <td>6.409635e+04</td>\n",
       "      <td>6.726315</td>\n",
       "      <td>0.512406</td>\n",
       "      <td>36.188439</td>\n",
       "      <td>36.188439</td>\n",
       "      <td>...</td>\n",
       "      <td>NaN</td>\n",
       "      <td>NaN</td>\n",
       "      <td>NaN</td>\n",
       "      <td>NaN</td>\n",
       "      <td>NaN</td>\n",
       "      <td>NaN</td>\n",
       "      <td>NaN</td>\n",
       "      <td>3119.373774</td>\n",
       "      <td>15.563690</td>\n",
       "      <td>4.085255</td>\n",
       "    </tr>\n",
       "    <tr>\n",
       "      <th>min</th>\n",
       "      <td>NaN</td>\n",
       "      <td>500.000000</td>\n",
       "      <td>500.000000</td>\n",
       "      <td>0.000000</td>\n",
       "      <td>15.670000</td>\n",
       "      <td>1.896000e+03</td>\n",
       "      <td>0.000000</td>\n",
       "      <td>0.000000</td>\n",
       "      <td>610.000000</td>\n",
       "      <td>614.000000</td>\n",
       "      <td>...</td>\n",
       "      <td>NaN</td>\n",
       "      <td>NaN</td>\n",
       "      <td>NaN</td>\n",
       "      <td>NaN</td>\n",
       "      <td>NaN</td>\n",
       "      <td>NaN</td>\n",
       "      <td>NaN</td>\n",
       "      <td>193.290000</td>\n",
       "      <td>10.690000</td>\n",
       "      <td>0.000000</td>\n",
       "    </tr>\n",
       "    <tr>\n",
       "      <th>25%</th>\n",
       "      <td>NaN</td>\n",
       "      <td>5200.000000</td>\n",
       "      <td>5000.000000</td>\n",
       "      <td>4950.000000</td>\n",
       "      <td>165.520000</td>\n",
       "      <td>4.000000e+04</td>\n",
       "      <td>8.200000</td>\n",
       "      <td>0.000000</td>\n",
       "      <td>685.000000</td>\n",
       "      <td>689.000000</td>\n",
       "      <td>...</td>\n",
       "      <td>NaN</td>\n",
       "      <td>NaN</td>\n",
       "      <td>NaN</td>\n",
       "      <td>NaN</td>\n",
       "      <td>NaN</td>\n",
       "      <td>NaN</td>\n",
       "      <td>NaN</td>\n",
       "      <td>1842.750000</td>\n",
       "      <td>40.000000</td>\n",
       "      <td>0.000000</td>\n",
       "    </tr>\n",
       "    <tr>\n",
       "      <th>50%</th>\n",
       "      <td>NaN</td>\n",
       "      <td>9700.000000</td>\n",
       "      <td>9600.000000</td>\n",
       "      <td>8500.000000</td>\n",
       "      <td>277.690000</td>\n",
       "      <td>5.900000e+04</td>\n",
       "      <td>13.470000</td>\n",
       "      <td>0.000000</td>\n",
       "      <td>710.000000</td>\n",
       "      <td>714.000000</td>\n",
       "      <td>...</td>\n",
       "      <td>NaN</td>\n",
       "      <td>NaN</td>\n",
       "      <td>NaN</td>\n",
       "      <td>NaN</td>\n",
       "      <td>NaN</td>\n",
       "      <td>NaN</td>\n",
       "      <td>NaN</td>\n",
       "      <td>3499.350000</td>\n",
       "      <td>49.970000</td>\n",
       "      <td>0.000000</td>\n",
       "    </tr>\n",
       "    <tr>\n",
       "      <th>75%</th>\n",
       "      <td>NaN</td>\n",
       "      <td>15000.000000</td>\n",
       "      <td>15000.000000</td>\n",
       "      <td>14000.000000</td>\n",
       "      <td>428.180000</td>\n",
       "      <td>8.250000e+04</td>\n",
       "      <td>18.680000</td>\n",
       "      <td>0.000000</td>\n",
       "      <td>740.000000</td>\n",
       "      <td>744.000000</td>\n",
       "      <td>...</td>\n",
       "      <td>NaN</td>\n",
       "      <td>NaN</td>\n",
       "      <td>NaN</td>\n",
       "      <td>NaN</td>\n",
       "      <td>NaN</td>\n",
       "      <td>NaN</td>\n",
       "      <td>NaN</td>\n",
       "      <td>5701.100000</td>\n",
       "      <td>60.652500</td>\n",
       "      <td>0.000000</td>\n",
       "    </tr>\n",
       "    <tr>\n",
       "      <th>max</th>\n",
       "      <td>NaN</td>\n",
       "      <td>35000.000000</td>\n",
       "      <td>35000.000000</td>\n",
       "      <td>35000.000000</td>\n",
       "      <td>1305.190000</td>\n",
       "      <td>6.000000e+06</td>\n",
       "      <td>29.990000</td>\n",
       "      <td>13.000000</td>\n",
       "      <td>825.000000</td>\n",
       "      <td>829.000000</td>\n",
       "      <td>...</td>\n",
       "      <td>NaN</td>\n",
       "      <td>NaN</td>\n",
       "      <td>NaN</td>\n",
       "      <td>NaN</td>\n",
       "      <td>NaN</td>\n",
       "      <td>NaN</td>\n",
       "      <td>NaN</td>\n",
       "      <td>14798.200000</td>\n",
       "      <td>92.740000</td>\n",
       "      <td>24.000000</td>\n",
       "    </tr>\n",
       "  </tbody>\n",
       "</table>\n",
       "<p>8 rows × 120 columns</p>\n",
       "</div>"
      ],
      "text/plain": [
       "       member_id     loan_amnt   funded_amnt  funded_amnt_inv   installment  \\\n",
       "count        0.0  42535.000000  42535.000000     42535.000000  42535.000000   \n",
       "mean         NaN  11089.722581  10821.585753     10139.938785    322.623063   \n",
       "std          NaN   7410.938391   7146.914675      7131.598014    208.927216   \n",
       "min          NaN    500.000000    500.000000         0.000000     15.670000   \n",
       "25%          NaN   5200.000000   5000.000000      4950.000000    165.520000   \n",
       "50%          NaN   9700.000000   9600.000000      8500.000000    277.690000   \n",
       "75%          NaN  15000.000000  15000.000000     14000.000000    428.180000   \n",
       "max          NaN  35000.000000  35000.000000     35000.000000   1305.190000   \n",
       "\n",
       "         annual_inc           dti   delinq_2yrs  fico_range_low  \\\n",
       "count  4.253100e+04  42535.000000  42506.000000    42535.000000   \n",
       "mean   6.913656e+04     13.373043      0.152449      713.052545   \n",
       "std    6.409635e+04      6.726315      0.512406       36.188439   \n",
       "min    1.896000e+03      0.000000      0.000000      610.000000   \n",
       "25%    4.000000e+04      8.200000      0.000000      685.000000   \n",
       "50%    5.900000e+04     13.470000      0.000000      710.000000   \n",
       "75%    8.250000e+04     18.680000      0.000000      740.000000   \n",
       "max    6.000000e+06     29.990000     13.000000      825.000000   \n",
       "\n",
       "       fico_range_high  ...  payment_plan_start_date  hardship_length  \\\n",
       "count     42535.000000  ...                      0.0              0.0   \n",
       "mean        717.052545  ...                      NaN              NaN   \n",
       "std          36.188439  ...                      NaN              NaN   \n",
       "min         614.000000  ...                      NaN              NaN   \n",
       "25%         689.000000  ...                      NaN              NaN   \n",
       "50%         714.000000  ...                      NaN              NaN   \n",
       "75%         744.000000  ...                      NaN              NaN   \n",
       "max         829.000000  ...                      NaN              NaN   \n",
       "\n",
       "       hardship_dpd  hardship_loan_status  \\\n",
       "count           0.0                   0.0   \n",
       "mean            NaN                   NaN   \n",
       "std             NaN                   NaN   \n",
       "min             NaN                   NaN   \n",
       "25%             NaN                   NaN   \n",
       "50%             NaN                   NaN   \n",
       "75%             NaN                   NaN   \n",
       "max             NaN                   NaN   \n",
       "\n",
       "       orig_projected_additional_accrued_interest  \\\n",
       "count                                         0.0   \n",
       "mean                                          NaN   \n",
       "std                                           NaN   \n",
       "min                                           NaN   \n",
       "25%                                           NaN   \n",
       "50%                                           NaN   \n",
       "75%                                           NaN   \n",
       "max                                           NaN   \n",
       "\n",
       "       hardship_payoff_balance_amount  hardship_last_payment_amount  \\\n",
       "count                             0.0                           0.0   \n",
       "mean                              NaN                           NaN   \n",
       "std                               NaN                           NaN   \n",
       "min                               NaN                           NaN   \n",
       "25%                               NaN                           NaN   \n",
       "50%                               NaN                           NaN   \n",
       "75%                               NaN                           NaN   \n",
       "max                               NaN                           NaN   \n",
       "\n",
       "       settlement_amount  settlement_percentage  settlement_term  \n",
       "count         160.000000             160.000000       160.000000  \n",
       "mean         4272.137875              49.905875         1.200000  \n",
       "std          3119.373774              15.563690         4.085255  \n",
       "min           193.290000              10.690000         0.000000  \n",
       "25%          1842.750000              40.000000         0.000000  \n",
       "50%          3499.350000              49.970000         0.000000  \n",
       "75%          5701.100000              60.652500         0.000000  \n",
       "max         14798.200000              92.740000        24.000000  \n",
       "\n",
       "[8 rows x 120 columns]"
      ]
     },
     "execution_count": 9,
     "metadata": {},
     "output_type": "execute_result"
    }
   ],
   "source": [
    "df.describe()"
   ]
  },
  {
   "cell_type": "code",
   "execution_count": null,
   "id": "b767d0ac",
   "metadata": {},
   "outputs": [],
   "source": []
  },
  {
   "cell_type": "code",
   "execution_count": 10,
   "id": "7aa49e48",
   "metadata": {},
   "outputs": [],
   "source": [
    "#Importuję opis zmiennych \n",
    "df_description = pd.read_csv('LCDataDictionary.csv')"
   ]
  },
  {
   "cell_type": "code",
   "execution_count": 11,
   "id": "eb85bd1a",
   "metadata": {},
   "outputs": [],
   "source": [
    "pd.set_option('display.max_rows', 200)\n",
    "pd.set_option('display.max_columns', 151)\n",
    "pd.set_option('display.max_colwidth', 2000)\n",
    "pd.set_option('max_colwidth', 2000)\n",
    "pd.options.display.float_format = '{:.3f}'.format"
   ]
  },
  {
   "cell_type": "code",
   "execution_count": 12,
   "id": "89da83da",
   "metadata": {},
   "outputs": [
    {
     "data": {
      "text/html": [
       "<div>\n",
       "<style scoped>\n",
       "    .dataframe tbody tr th:only-of-type {\n",
       "        vertical-align: middle;\n",
       "    }\n",
       "\n",
       "    .dataframe tbody tr th {\n",
       "        vertical-align: top;\n",
       "    }\n",
       "\n",
       "    .dataframe thead th {\n",
       "        text-align: right;\n",
       "    }\n",
       "</style>\n",
       "<table border=\"1\" class=\"dataframe\">\n",
       "  <thead>\n",
       "    <tr style=\"text-align: right;\">\n",
       "      <th></th>\n",
       "      <th>LoanStatNew</th>\n",
       "      <th>Description</th>\n",
       "    </tr>\n",
       "  </thead>\n",
       "  <tbody>\n",
       "    <tr>\n",
       "      <th>0</th>\n",
       "      <td>acc_now_delinq</td>\n",
       "      <td>The number of accounts on which the borrower is now delinquent.</td>\n",
       "    </tr>\n",
       "    <tr>\n",
       "      <th>1</th>\n",
       "      <td>acc_open_past_24mths</td>\n",
       "      <td>Number of trades opened in past 24 months.</td>\n",
       "    </tr>\n",
       "    <tr>\n",
       "      <th>2</th>\n",
       "      <td>addr_state</td>\n",
       "      <td>The state provided by the borrower in the loan application</td>\n",
       "    </tr>\n",
       "    <tr>\n",
       "      <th>3</th>\n",
       "      <td>all_util</td>\n",
       "      <td>Balance to credit limit on all trades</td>\n",
       "    </tr>\n",
       "    <tr>\n",
       "      <th>4</th>\n",
       "      <td>annual_inc</td>\n",
       "      <td>The self-reported annual income provided by the borrower during registration.</td>\n",
       "    </tr>\n",
       "    <tr>\n",
       "      <th>5</th>\n",
       "      <td>annual_inc_joint</td>\n",
       "      <td>The combined self-reported annual income provided by the co-borrowers during registration</td>\n",
       "    </tr>\n",
       "    <tr>\n",
       "      <th>6</th>\n",
       "      <td>application_type</td>\n",
       "      <td>Indicates whether the loan is an individual application or a joint application with two co-borrowers</td>\n",
       "    </tr>\n",
       "    <tr>\n",
       "      <th>7</th>\n",
       "      <td>avg_cur_bal</td>\n",
       "      <td>Average current balance of all accounts</td>\n",
       "    </tr>\n",
       "    <tr>\n",
       "      <th>8</th>\n",
       "      <td>bc_open_to_buy</td>\n",
       "      <td>Total open to buy on revolving bankcards.</td>\n",
       "    </tr>\n",
       "    <tr>\n",
       "      <th>9</th>\n",
       "      <td>bc_util</td>\n",
       "      <td>Ratio of total current balance to high credit/credit limit for all bankcard accounts.</td>\n",
       "    </tr>\n",
       "    <tr>\n",
       "      <th>10</th>\n",
       "      <td>chargeoff_within_12_mths</td>\n",
       "      <td>Number of charge-offs within 12 months</td>\n",
       "    </tr>\n",
       "    <tr>\n",
       "      <th>11</th>\n",
       "      <td>collection_recovery_fee</td>\n",
       "      <td>post charge off collection fee</td>\n",
       "    </tr>\n",
       "    <tr>\n",
       "      <th>12</th>\n",
       "      <td>collections_12_mths_ex_med</td>\n",
       "      <td>Number of collections in 12 months excluding medical collections</td>\n",
       "    </tr>\n",
       "    <tr>\n",
       "      <th>13</th>\n",
       "      <td>delinq_2yrs</td>\n",
       "      <td>The number of 30+ days past-due incidences of delinquency in the borrower's credit file for the past 2 years</td>\n",
       "    </tr>\n",
       "    <tr>\n",
       "      <th>14</th>\n",
       "      <td>delinq_amnt</td>\n",
       "      <td>The past-due amount owed for the accounts on which the borrower is now delinquent.</td>\n",
       "    </tr>\n",
       "    <tr>\n",
       "      <th>15</th>\n",
       "      <td>desc</td>\n",
       "      <td>Loan description provided by the borrower</td>\n",
       "    </tr>\n",
       "    <tr>\n",
       "      <th>16</th>\n",
       "      <td>dti</td>\n",
       "      <td>A ratio calculated using the borrower’s total monthly debt payments on the total debt obligations, excluding mortgage and the requested LC loan, divided by the borrower’s self-reported monthly income.</td>\n",
       "    </tr>\n",
       "    <tr>\n",
       "      <th>17</th>\n",
       "      <td>dti_joint</td>\n",
       "      <td>A ratio calculated using the co-borrowers' total monthly payments on the total debt obligations, excluding mortgages and the requested LC loan, divided by the co-borrowers' combined self-reported monthly income</td>\n",
       "    </tr>\n",
       "    <tr>\n",
       "      <th>18</th>\n",
       "      <td>earliest_cr_line</td>\n",
       "      <td>The month the borrower's earliest reported credit line was opened</td>\n",
       "    </tr>\n",
       "    <tr>\n",
       "      <th>19</th>\n",
       "      <td>emp_length</td>\n",
       "      <td>Employment length in years. Possible values are between 0 and 10 where 0 means less than one year and 10 means ten or more years.</td>\n",
       "    </tr>\n",
       "    <tr>\n",
       "      <th>20</th>\n",
       "      <td>emp_title</td>\n",
       "      <td>The job title supplied by the Borrower when applying for the loan.*</td>\n",
       "    </tr>\n",
       "    <tr>\n",
       "      <th>21</th>\n",
       "      <td>fico_range_high</td>\n",
       "      <td>The upper boundary range the borrower’s FICO at loan origination belongs to.</td>\n",
       "    </tr>\n",
       "    <tr>\n",
       "      <th>22</th>\n",
       "      <td>fico_range_low</td>\n",
       "      <td>The lower boundary range the borrower’s FICO at loan origination belongs to.</td>\n",
       "    </tr>\n",
       "    <tr>\n",
       "      <th>23</th>\n",
       "      <td>funded_amnt</td>\n",
       "      <td>The total amount committed to that loan at that point in time.</td>\n",
       "    </tr>\n",
       "    <tr>\n",
       "      <th>24</th>\n",
       "      <td>funded_amnt_inv</td>\n",
       "      <td>The total amount committed by investors for that loan at that point in time.</td>\n",
       "    </tr>\n",
       "    <tr>\n",
       "      <th>25</th>\n",
       "      <td>grade</td>\n",
       "      <td>LC assigned loan grade</td>\n",
       "    </tr>\n",
       "    <tr>\n",
       "      <th>26</th>\n",
       "      <td>home_ownership</td>\n",
       "      <td>The home ownership status provided by the borrower during registration or obtained from the credit report. Our values are: RENT, OWN, MORTGAGE, OTHER</td>\n",
       "    </tr>\n",
       "    <tr>\n",
       "      <th>27</th>\n",
       "      <td>id</td>\n",
       "      <td>A unique LC assigned ID for the loan listing.</td>\n",
       "    </tr>\n",
       "    <tr>\n",
       "      <th>28</th>\n",
       "      <td>il_util</td>\n",
       "      <td>Ratio of total current balance to high credit/credit limit on all install acct</td>\n",
       "    </tr>\n",
       "    <tr>\n",
       "      <th>29</th>\n",
       "      <td>initial_list_status</td>\n",
       "      <td>The initial listing status of the loan. Possible values are – W, F</td>\n",
       "    </tr>\n",
       "    <tr>\n",
       "      <th>30</th>\n",
       "      <td>inq_fi</td>\n",
       "      <td>Number of personal finance inquiries</td>\n",
       "    </tr>\n",
       "    <tr>\n",
       "      <th>31</th>\n",
       "      <td>inq_last_12m</td>\n",
       "      <td>Number of credit inquiries in past 12 months</td>\n",
       "    </tr>\n",
       "    <tr>\n",
       "      <th>32</th>\n",
       "      <td>inq_last_6mths</td>\n",
       "      <td>The number of inquiries in past 6 months (excluding auto and mortgage inquiries)</td>\n",
       "    </tr>\n",
       "    <tr>\n",
       "      <th>33</th>\n",
       "      <td>installment</td>\n",
       "      <td>The monthly payment owed by the borrower if the loan originates.</td>\n",
       "    </tr>\n",
       "    <tr>\n",
       "      <th>34</th>\n",
       "      <td>int_rate</td>\n",
       "      <td>Interest Rate on the loan</td>\n",
       "    </tr>\n",
       "    <tr>\n",
       "      <th>35</th>\n",
       "      <td>issue_d</td>\n",
       "      <td>The month which the loan was funded</td>\n",
       "    </tr>\n",
       "    <tr>\n",
       "      <th>36</th>\n",
       "      <td>last_credit_pull_d</td>\n",
       "      <td>The most recent month LC pulled credit for this loan</td>\n",
       "    </tr>\n",
       "    <tr>\n",
       "      <th>37</th>\n",
       "      <td>last_fico_range_high</td>\n",
       "      <td>The upper boundary range the borrower’s last FICO pulled belongs to.</td>\n",
       "    </tr>\n",
       "    <tr>\n",
       "      <th>38</th>\n",
       "      <td>last_fico_range_low</td>\n",
       "      <td>The lower boundary range the borrower’s last FICO pulled belongs to.</td>\n",
       "    </tr>\n",
       "    <tr>\n",
       "      <th>39</th>\n",
       "      <td>last_pymnt_amnt</td>\n",
       "      <td>Last total payment amount received</td>\n",
       "    </tr>\n",
       "    <tr>\n",
       "      <th>40</th>\n",
       "      <td>last_pymnt_d</td>\n",
       "      <td>Last month payment was received</td>\n",
       "    </tr>\n",
       "    <tr>\n",
       "      <th>41</th>\n",
       "      <td>loan_amnt</td>\n",
       "      <td>The listed amount of the loan applied for by the borrower. If at some point in time, the credit department reduces the loan amount, then it will be reflected in this value.</td>\n",
       "    </tr>\n",
       "    <tr>\n",
       "      <th>42</th>\n",
       "      <td>loan_status</td>\n",
       "      <td>Current status of the loan</td>\n",
       "    </tr>\n",
       "    <tr>\n",
       "      <th>43</th>\n",
       "      <td>max_bal_bc</td>\n",
       "      <td>Maximum current balance owed on all revolving accounts</td>\n",
       "    </tr>\n",
       "    <tr>\n",
       "      <th>44</th>\n",
       "      <td>member_id</td>\n",
       "      <td>A unique LC assigned Id for the borrower member.</td>\n",
       "    </tr>\n",
       "    <tr>\n",
       "      <th>45</th>\n",
       "      <td>mo_sin_old_il_acct</td>\n",
       "      <td>Months since oldest bank installment account opened</td>\n",
       "    </tr>\n",
       "    <tr>\n",
       "      <th>46</th>\n",
       "      <td>mo_sin_old_rev_tl_op</td>\n",
       "      <td>Months since oldest revolving account opened</td>\n",
       "    </tr>\n",
       "    <tr>\n",
       "      <th>47</th>\n",
       "      <td>mo_sin_rcnt_rev_tl_op</td>\n",
       "      <td>Months since most recent revolving account opened</td>\n",
       "    </tr>\n",
       "    <tr>\n",
       "      <th>48</th>\n",
       "      <td>mo_sin_rcnt_tl</td>\n",
       "      <td>Months since most recent account opened</td>\n",
       "    </tr>\n",
       "    <tr>\n",
       "      <th>49</th>\n",
       "      <td>mort_acc</td>\n",
       "      <td>Number of mortgage accounts.</td>\n",
       "    </tr>\n",
       "    <tr>\n",
       "      <th>50</th>\n",
       "      <td>mths_since_last_delinq</td>\n",
       "      <td>The number of months since the borrower's last delinquency.</td>\n",
       "    </tr>\n",
       "    <tr>\n",
       "      <th>51</th>\n",
       "      <td>mths_since_last_major_derog</td>\n",
       "      <td>Months since most recent 90-day or worse rating</td>\n",
       "    </tr>\n",
       "    <tr>\n",
       "      <th>52</th>\n",
       "      <td>mths_since_last_record</td>\n",
       "      <td>The number of months since the last public record.</td>\n",
       "    </tr>\n",
       "    <tr>\n",
       "      <th>53</th>\n",
       "      <td>mths_since_rcnt_il</td>\n",
       "      <td>Months since most recent installment accounts opened</td>\n",
       "    </tr>\n",
       "    <tr>\n",
       "      <th>54</th>\n",
       "      <td>mths_since_recent_bc</td>\n",
       "      <td>Months since most recent bankcard account opened.</td>\n",
       "    </tr>\n",
       "    <tr>\n",
       "      <th>55</th>\n",
       "      <td>mths_since_recent_bc_dlq</td>\n",
       "      <td>Months since most recent bankcard delinquency</td>\n",
       "    </tr>\n",
       "    <tr>\n",
       "      <th>56</th>\n",
       "      <td>mths_since_recent_inq</td>\n",
       "      <td>Months since most recent inquiry.</td>\n",
       "    </tr>\n",
       "    <tr>\n",
       "      <th>57</th>\n",
       "      <td>mths_since_recent_revol_delinq</td>\n",
       "      <td>Months since most recent revolving delinquency.</td>\n",
       "    </tr>\n",
       "    <tr>\n",
       "      <th>58</th>\n",
       "      <td>next_pymnt_d</td>\n",
       "      <td>Next scheduled payment date</td>\n",
       "    </tr>\n",
       "    <tr>\n",
       "      <th>59</th>\n",
       "      <td>num_accts_ever_120_pd</td>\n",
       "      <td>Number of accounts ever 120 or more days past due</td>\n",
       "    </tr>\n",
       "    <tr>\n",
       "      <th>60</th>\n",
       "      <td>num_actv_bc_tl</td>\n",
       "      <td>Number of currently active bankcard accounts</td>\n",
       "    </tr>\n",
       "    <tr>\n",
       "      <th>61</th>\n",
       "      <td>num_actv_rev_tl</td>\n",
       "      <td>Number of currently active revolving trades</td>\n",
       "    </tr>\n",
       "    <tr>\n",
       "      <th>62</th>\n",
       "      <td>num_bc_sats</td>\n",
       "      <td>Number of satisfactory bankcard accounts</td>\n",
       "    </tr>\n",
       "    <tr>\n",
       "      <th>63</th>\n",
       "      <td>num_bc_tl</td>\n",
       "      <td>Number of bankcard accounts</td>\n",
       "    </tr>\n",
       "    <tr>\n",
       "      <th>64</th>\n",
       "      <td>num_il_tl</td>\n",
       "      <td>Number of installment accounts</td>\n",
       "    </tr>\n",
       "    <tr>\n",
       "      <th>65</th>\n",
       "      <td>num_op_rev_tl</td>\n",
       "      <td>Number of open revolving accounts</td>\n",
       "    </tr>\n",
       "    <tr>\n",
       "      <th>66</th>\n",
       "      <td>num_rev_accts</td>\n",
       "      <td>Number of revolving accounts</td>\n",
       "    </tr>\n",
       "    <tr>\n",
       "      <th>67</th>\n",
       "      <td>num_rev_tl_bal_gt_0</td>\n",
       "      <td>Number of revolving trades with balance &gt;0</td>\n",
       "    </tr>\n",
       "    <tr>\n",
       "      <th>68</th>\n",
       "      <td>num_sats</td>\n",
       "      <td>Number of satisfactory accounts</td>\n",
       "    </tr>\n",
       "    <tr>\n",
       "      <th>69</th>\n",
       "      <td>num_tl_120dpd_2m</td>\n",
       "      <td>Number of accounts currently 120 days past due (updated in past 2 months)</td>\n",
       "    </tr>\n",
       "    <tr>\n",
       "      <th>70</th>\n",
       "      <td>num_tl_30dpd</td>\n",
       "      <td>Number of accounts currently 30 days past due (updated in past 2 months)</td>\n",
       "    </tr>\n",
       "    <tr>\n",
       "      <th>71</th>\n",
       "      <td>num_tl_90g_dpd_24m</td>\n",
       "      <td>Number of accounts 90 or more days past due in last 24 months</td>\n",
       "    </tr>\n",
       "    <tr>\n",
       "      <th>72</th>\n",
       "      <td>num_tl_op_past_12m</td>\n",
       "      <td>Number of accounts opened in past 12 months</td>\n",
       "    </tr>\n",
       "    <tr>\n",
       "      <th>73</th>\n",
       "      <td>open_acc</td>\n",
       "      <td>The number of open credit lines in the borrower's credit file.</td>\n",
       "    </tr>\n",
       "    <tr>\n",
       "      <th>74</th>\n",
       "      <td>open_acc_6m</td>\n",
       "      <td>Number of open trades in last 6 months</td>\n",
       "    </tr>\n",
       "    <tr>\n",
       "      <th>75</th>\n",
       "      <td>open_il_12m</td>\n",
       "      <td>Number of installment accounts opened in past 12 months</td>\n",
       "    </tr>\n",
       "    <tr>\n",
       "      <th>76</th>\n",
       "      <td>open_il_24m</td>\n",
       "      <td>Number of installment accounts opened in past 24 months</td>\n",
       "    </tr>\n",
       "    <tr>\n",
       "      <th>77</th>\n",
       "      <td>open_act_il</td>\n",
       "      <td>Number of currently active installment trades</td>\n",
       "    </tr>\n",
       "    <tr>\n",
       "      <th>78</th>\n",
       "      <td>open_rv_12m</td>\n",
       "      <td>Number of revolving trades opened in past 12 months</td>\n",
       "    </tr>\n",
       "    <tr>\n",
       "      <th>79</th>\n",
       "      <td>open_rv_24m</td>\n",
       "      <td>Number of revolving trades opened in past 24 months</td>\n",
       "    </tr>\n",
       "    <tr>\n",
       "      <th>80</th>\n",
       "      <td>out_prncp</td>\n",
       "      <td>Remaining outstanding principal for total amount funded</td>\n",
       "    </tr>\n",
       "    <tr>\n",
       "      <th>81</th>\n",
       "      <td>out_prncp_inv</td>\n",
       "      <td>Remaining outstanding principal for portion of total amount funded by investors</td>\n",
       "    </tr>\n",
       "    <tr>\n",
       "      <th>82</th>\n",
       "      <td>pct_tl_nvr_dlq</td>\n",
       "      <td>Percent of trades never delinquent</td>\n",
       "    </tr>\n",
       "    <tr>\n",
       "      <th>83</th>\n",
       "      <td>percent_bc_gt_75</td>\n",
       "      <td>Percentage of all bankcard accounts &gt; 75% of limit.</td>\n",
       "    </tr>\n",
       "    <tr>\n",
       "      <th>84</th>\n",
       "      <td>policy_code</td>\n",
       "      <td>publicly available policy_code=1\\nnew products not publicly available policy_code=2</td>\n",
       "    </tr>\n",
       "    <tr>\n",
       "      <th>85</th>\n",
       "      <td>pub_rec</td>\n",
       "      <td>Number of derogatory public records</td>\n",
       "    </tr>\n",
       "    <tr>\n",
       "      <th>86</th>\n",
       "      <td>pub_rec_bankruptcies</td>\n",
       "      <td>Number of public record bankruptcies</td>\n",
       "    </tr>\n",
       "    <tr>\n",
       "      <th>87</th>\n",
       "      <td>purpose</td>\n",
       "      <td>A category provided by the borrower for the loan request.</td>\n",
       "    </tr>\n",
       "    <tr>\n",
       "      <th>88</th>\n",
       "      <td>pymnt_plan</td>\n",
       "      <td>Indicates if a payment plan has been put in place for the loan</td>\n",
       "    </tr>\n",
       "    <tr>\n",
       "      <th>89</th>\n",
       "      <td>recoveries</td>\n",
       "      <td>post charge off gross recovery</td>\n",
       "    </tr>\n",
       "    <tr>\n",
       "      <th>90</th>\n",
       "      <td>revol_bal</td>\n",
       "      <td>Total credit revolving balance</td>\n",
       "    </tr>\n",
       "    <tr>\n",
       "      <th>91</th>\n",
       "      <td>revol_util</td>\n",
       "      <td>Revolving line utilization rate, or the amount of credit the borrower is using relative to all available revolving credit.</td>\n",
       "    </tr>\n",
       "    <tr>\n",
       "      <th>92</th>\n",
       "      <td>sub_grade</td>\n",
       "      <td>LC assigned loan subgrade</td>\n",
       "    </tr>\n",
       "    <tr>\n",
       "      <th>93</th>\n",
       "      <td>tax_liens</td>\n",
       "      <td>Number of tax liens</td>\n",
       "    </tr>\n",
       "    <tr>\n",
       "      <th>94</th>\n",
       "      <td>term</td>\n",
       "      <td>The number of payments on the loan. Values are in months and can be either 36 or 60.</td>\n",
       "    </tr>\n",
       "    <tr>\n",
       "      <th>95</th>\n",
       "      <td>title</td>\n",
       "      <td>The loan title provided by the borrower</td>\n",
       "    </tr>\n",
       "    <tr>\n",
       "      <th>96</th>\n",
       "      <td>tot_coll_amt</td>\n",
       "      <td>Total collection amounts ever owed</td>\n",
       "    </tr>\n",
       "    <tr>\n",
       "      <th>97</th>\n",
       "      <td>tot_cur_bal</td>\n",
       "      <td>Total current balance of all accounts</td>\n",
       "    </tr>\n",
       "    <tr>\n",
       "      <th>98</th>\n",
       "      <td>tot_hi_cred_lim</td>\n",
       "      <td>Total high credit/credit limit</td>\n",
       "    </tr>\n",
       "    <tr>\n",
       "      <th>99</th>\n",
       "      <td>total_acc</td>\n",
       "      <td>The total number of credit lines currently in the borrower's credit file</td>\n",
       "    </tr>\n",
       "    <tr>\n",
       "      <th>100</th>\n",
       "      <td>total_bal_ex_mort</td>\n",
       "      <td>Total credit balance excluding mortgage</td>\n",
       "    </tr>\n",
       "    <tr>\n",
       "      <th>101</th>\n",
       "      <td>total_bal_il</td>\n",
       "      <td>Total current balance of all installment accounts</td>\n",
       "    </tr>\n",
       "    <tr>\n",
       "      <th>102</th>\n",
       "      <td>total_bc_limit</td>\n",
       "      <td>Total bankcard high credit/credit limit</td>\n",
       "    </tr>\n",
       "    <tr>\n",
       "      <th>103</th>\n",
       "      <td>total_cu_tl</td>\n",
       "      <td>Number of finance trades</td>\n",
       "    </tr>\n",
       "    <tr>\n",
       "      <th>104</th>\n",
       "      <td>total_il_high_credit_limit</td>\n",
       "      <td>Total installment high credit/credit limit</td>\n",
       "    </tr>\n",
       "    <tr>\n",
       "      <th>105</th>\n",
       "      <td>total_pymnt</td>\n",
       "      <td>Payments received to date for total amount funded</td>\n",
       "    </tr>\n",
       "    <tr>\n",
       "      <th>106</th>\n",
       "      <td>total_pymnt_inv</td>\n",
       "      <td>Payments received to date for portion of total amount funded by investors</td>\n",
       "    </tr>\n",
       "    <tr>\n",
       "      <th>107</th>\n",
       "      <td>total_rec_int</td>\n",
       "      <td>Interest received to date</td>\n",
       "    </tr>\n",
       "    <tr>\n",
       "      <th>108</th>\n",
       "      <td>total_rec_late_fee</td>\n",
       "      <td>Late fees received to date</td>\n",
       "    </tr>\n",
       "    <tr>\n",
       "      <th>109</th>\n",
       "      <td>total_rec_prncp</td>\n",
       "      <td>Principal received to date</td>\n",
       "    </tr>\n",
       "    <tr>\n",
       "      <th>110</th>\n",
       "      <td>total_rev_hi_lim</td>\n",
       "      <td>Total revolving high credit/credit limit</td>\n",
       "    </tr>\n",
       "    <tr>\n",
       "      <th>111</th>\n",
       "      <td>url</td>\n",
       "      <td>URL for the LC page with listing data.</td>\n",
       "    </tr>\n",
       "    <tr>\n",
       "      <th>112</th>\n",
       "      <td>verification_status</td>\n",
       "      <td>Indicates if income was verified by LC, not verified, or if the income source was verified</td>\n",
       "    </tr>\n",
       "    <tr>\n",
       "      <th>113</th>\n",
       "      <td>verified_status_joint</td>\n",
       "      <td>Indicates if the co-borrowers' joint income was verified by LC, not verified, or if the income source was verified</td>\n",
       "    </tr>\n",
       "    <tr>\n",
       "      <th>114</th>\n",
       "      <td>zip_code</td>\n",
       "      <td>The first 3 numbers of the zip code provided by the borrower in the loan application.</td>\n",
       "    </tr>\n",
       "    <tr>\n",
       "      <th>115</th>\n",
       "      <td>revol_bal_joint</td>\n",
       "      <td>Sum of revolving credit balance of the co-borrowers, net of duplicate balances</td>\n",
       "    </tr>\n",
       "    <tr>\n",
       "      <th>116</th>\n",
       "      <td>sec_app_fico_range_low</td>\n",
       "      <td>FICO range (high) for the secondary applicant</td>\n",
       "    </tr>\n",
       "    <tr>\n",
       "      <th>117</th>\n",
       "      <td>sec_app_fico_range_high</td>\n",
       "      <td>FICO range (low) for the secondary applicant</td>\n",
       "    </tr>\n",
       "    <tr>\n",
       "      <th>118</th>\n",
       "      <td>sec_app_earliest_cr_line</td>\n",
       "      <td>Earliest credit line at time of application for the secondary applicant</td>\n",
       "    </tr>\n",
       "    <tr>\n",
       "      <th>119</th>\n",
       "      <td>sec_app_inq_last_6mths</td>\n",
       "      <td>Credit inquiries in the last 6 months at time of application for the secondary applicant</td>\n",
       "    </tr>\n",
       "    <tr>\n",
       "      <th>120</th>\n",
       "      <td>sec_app_mort_acc</td>\n",
       "      <td>Number of mortgage accounts at time of application for the secondary applicant</td>\n",
       "    </tr>\n",
       "    <tr>\n",
       "      <th>121</th>\n",
       "      <td>sec_app_open_acc</td>\n",
       "      <td>Number of open trades at time of application for the secondary applicant</td>\n",
       "    </tr>\n",
       "    <tr>\n",
       "      <th>122</th>\n",
       "      <td>sec_app_revol_util</td>\n",
       "      <td>Ratio of total current balance to high credit/credit limit for all revolving accounts</td>\n",
       "    </tr>\n",
       "    <tr>\n",
       "      <th>123</th>\n",
       "      <td>sec_app_open_act_il</td>\n",
       "      <td>Number of currently active installment trades at time of application for the secondary applicant</td>\n",
       "    </tr>\n",
       "    <tr>\n",
       "      <th>124</th>\n",
       "      <td>sec_app_num_rev_accts</td>\n",
       "      <td>Number of revolving accounts at time of application for the secondary applicant</td>\n",
       "    </tr>\n",
       "    <tr>\n",
       "      <th>125</th>\n",
       "      <td>sec_app_chargeoff_within_12_mths</td>\n",
       "      <td>Number of charge-offs within last 12 months at time of application for the secondary applicant</td>\n",
       "    </tr>\n",
       "    <tr>\n",
       "      <th>126</th>\n",
       "      <td>sec_app_collections_12_mths_ex_med</td>\n",
       "      <td>Number of collections within last 12 months excluding medical collections at time of application for the secondary applicant</td>\n",
       "    </tr>\n",
       "    <tr>\n",
       "      <th>127</th>\n",
       "      <td>sec_app_mths_since_last_major_derog</td>\n",
       "      <td>Months since most recent 90-day or worse rating at time of application for the secondary applicant</td>\n",
       "    </tr>\n",
       "    <tr>\n",
       "      <th>128</th>\n",
       "      <td>hardship_flag</td>\n",
       "      <td>Flags whether or not the borrower is on a hardship plan</td>\n",
       "    </tr>\n",
       "    <tr>\n",
       "      <th>129</th>\n",
       "      <td>hardship_type</td>\n",
       "      <td>Describes the hardship plan offering</td>\n",
       "    </tr>\n",
       "    <tr>\n",
       "      <th>130</th>\n",
       "      <td>hardship_reason</td>\n",
       "      <td>Describes the reason the hardship plan was offered</td>\n",
       "    </tr>\n",
       "    <tr>\n",
       "      <th>131</th>\n",
       "      <td>hardship_status</td>\n",
       "      <td>Describes if the hardship plan is active, pending, canceled, completed, or broken</td>\n",
       "    </tr>\n",
       "    <tr>\n",
       "      <th>132</th>\n",
       "      <td>deferral_term</td>\n",
       "      <td>Amount of months that the borrower is expected to pay less than the contractual monthly payment amount due to a hardship plan</td>\n",
       "    </tr>\n",
       "    <tr>\n",
       "      <th>133</th>\n",
       "      <td>hardship_amount</td>\n",
       "      <td>The interest payment that the borrower has committed to make each month while they are on a hardship plan</td>\n",
       "    </tr>\n",
       "    <tr>\n",
       "      <th>134</th>\n",
       "      <td>hardship_start_date</td>\n",
       "      <td>The start date of the hardship plan period</td>\n",
       "    </tr>\n",
       "    <tr>\n",
       "      <th>135</th>\n",
       "      <td>hardship_end_date</td>\n",
       "      <td>The end date of the hardship plan period</td>\n",
       "    </tr>\n",
       "    <tr>\n",
       "      <th>136</th>\n",
       "      <td>payment_plan_start_date</td>\n",
       "      <td>The day the first hardship plan payment is due. For example, if a borrower has a hardship plan period of 3 months, the start date is the start of the three-month period in which the borrower is allowed to make interest-only payments.</td>\n",
       "    </tr>\n",
       "    <tr>\n",
       "      <th>137</th>\n",
       "      <td>hardship_length</td>\n",
       "      <td>The number of months the borrower will make smaller payments than normally obligated due to a hardship plan</td>\n",
       "    </tr>\n",
       "    <tr>\n",
       "      <th>138</th>\n",
       "      <td>hardship_dpd</td>\n",
       "      <td>Account days past due as of the hardship plan start date</td>\n",
       "    </tr>\n",
       "    <tr>\n",
       "      <th>139</th>\n",
       "      <td>hardship_loan_status</td>\n",
       "      <td>Loan Status as of the hardship plan start date</td>\n",
       "    </tr>\n",
       "    <tr>\n",
       "      <th>140</th>\n",
       "      <td>orig_projected_additional_accrued_interest</td>\n",
       "      <td>The original projected additional interest amount that will accrue for the given hardship payment plan as of the Hardship Start Date. This field will be null if the borrower has broken their hardship payment plan.</td>\n",
       "    </tr>\n",
       "    <tr>\n",
       "      <th>141</th>\n",
       "      <td>hardship_payoff_balance_amount</td>\n",
       "      <td>The payoff balance amount as of the hardship plan start date</td>\n",
       "    </tr>\n",
       "    <tr>\n",
       "      <th>142</th>\n",
       "      <td>hardship_last_payment_amount</td>\n",
       "      <td>The last payment amount as of the hardship plan start date</td>\n",
       "    </tr>\n",
       "    <tr>\n",
       "      <th>143</th>\n",
       "      <td>disbursement_method</td>\n",
       "      <td>The method by which the borrower receives their loan. Possible values are: CASH, DIRECT_PAY</td>\n",
       "    </tr>\n",
       "    <tr>\n",
       "      <th>144</th>\n",
       "      <td>debt_settlement_flag</td>\n",
       "      <td>Flags whether or not the borrower, who has charged-off, is working with a debt-settlement company.</td>\n",
       "    </tr>\n",
       "    <tr>\n",
       "      <th>145</th>\n",
       "      <td>debt_settlement_flag_date</td>\n",
       "      <td>The most recent date that the Debt_Settlement_Flag has been set</td>\n",
       "    </tr>\n",
       "    <tr>\n",
       "      <th>146</th>\n",
       "      <td>settlement_status</td>\n",
       "      <td>The status of the borrower’s settlement plan. Possible values are: COMPLETE, ACTIVE, BROKEN, CANCELLED, DENIED, DRAFT</td>\n",
       "    </tr>\n",
       "    <tr>\n",
       "      <th>147</th>\n",
       "      <td>settlement_date</td>\n",
       "      <td>The date that the borrower agrees to the settlement plan</td>\n",
       "    </tr>\n",
       "    <tr>\n",
       "      <th>148</th>\n",
       "      <td>settlement_amount</td>\n",
       "      <td>The loan amount that the borrower has agreed to settle for</td>\n",
       "    </tr>\n",
       "    <tr>\n",
       "      <th>149</th>\n",
       "      <td>settlement_percentage</td>\n",
       "      <td>The settlement amount as a percentage of the payoff balance amount on the loan</td>\n",
       "    </tr>\n",
       "    <tr>\n",
       "      <th>150</th>\n",
       "      <td>settlement_term</td>\n",
       "      <td>The number of months that the borrower will be on the settlement plan</td>\n",
       "    </tr>\n",
       "    <tr>\n",
       "      <th>151</th>\n",
       "      <td>NaN</td>\n",
       "      <td>NaN</td>\n",
       "    </tr>\n",
       "    <tr>\n",
       "      <th>152</th>\n",
       "      <td>NaN</td>\n",
       "      <td>* Employer Title replaces Employer Name for all loans listed after 9/23/2013</td>\n",
       "    </tr>\n",
       "  </tbody>\n",
       "</table>\n",
       "</div>"
      ],
      "text/plain": [
       "                                    LoanStatNew  \\\n",
       "0                                acc_now_delinq   \n",
       "1                          acc_open_past_24mths   \n",
       "2                                    addr_state   \n",
       "3                                      all_util   \n",
       "4                                    annual_inc   \n",
       "5                              annual_inc_joint   \n",
       "6                              application_type   \n",
       "7                                   avg_cur_bal   \n",
       "8                                bc_open_to_buy   \n",
       "9                                       bc_util   \n",
       "10                     chargeoff_within_12_mths   \n",
       "11                      collection_recovery_fee   \n",
       "12                   collections_12_mths_ex_med   \n",
       "13                                  delinq_2yrs   \n",
       "14                                  delinq_amnt   \n",
       "15                                         desc   \n",
       "16                                          dti   \n",
       "17                                    dti_joint   \n",
       "18                             earliest_cr_line   \n",
       "19                                   emp_length   \n",
       "20                                    emp_title   \n",
       "21                              fico_range_high   \n",
       "22                               fico_range_low   \n",
       "23                                  funded_amnt   \n",
       "24                              funded_amnt_inv   \n",
       "25                                        grade   \n",
       "26                               home_ownership   \n",
       "27                                           id   \n",
       "28                                      il_util   \n",
       "29                          initial_list_status   \n",
       "30                                       inq_fi   \n",
       "31                                 inq_last_12m   \n",
       "32                               inq_last_6mths   \n",
       "33                                  installment   \n",
       "34                                     int_rate   \n",
       "35                                      issue_d   \n",
       "36                           last_credit_pull_d   \n",
       "37                         last_fico_range_high   \n",
       "38                          last_fico_range_low   \n",
       "39                              last_pymnt_amnt   \n",
       "40                                 last_pymnt_d   \n",
       "41                                    loan_amnt   \n",
       "42                                  loan_status   \n",
       "43                                   max_bal_bc   \n",
       "44                                    member_id   \n",
       "45                           mo_sin_old_il_acct   \n",
       "46                         mo_sin_old_rev_tl_op   \n",
       "47                        mo_sin_rcnt_rev_tl_op   \n",
       "48                               mo_sin_rcnt_tl   \n",
       "49                                     mort_acc   \n",
       "50                       mths_since_last_delinq   \n",
       "51                  mths_since_last_major_derog   \n",
       "52                       mths_since_last_record   \n",
       "53                           mths_since_rcnt_il   \n",
       "54                         mths_since_recent_bc   \n",
       "55                     mths_since_recent_bc_dlq   \n",
       "56                        mths_since_recent_inq   \n",
       "57               mths_since_recent_revol_delinq   \n",
       "58                                 next_pymnt_d   \n",
       "59                        num_accts_ever_120_pd   \n",
       "60                               num_actv_bc_tl   \n",
       "61                              num_actv_rev_tl   \n",
       "62                                  num_bc_sats   \n",
       "63                                    num_bc_tl   \n",
       "64                                    num_il_tl   \n",
       "65                                num_op_rev_tl   \n",
       "66                                num_rev_accts   \n",
       "67                          num_rev_tl_bal_gt_0   \n",
       "68                                     num_sats   \n",
       "69                             num_tl_120dpd_2m   \n",
       "70                                 num_tl_30dpd   \n",
       "71                           num_tl_90g_dpd_24m   \n",
       "72                           num_tl_op_past_12m   \n",
       "73                                     open_acc   \n",
       "74                                  open_acc_6m   \n",
       "75                                  open_il_12m   \n",
       "76                                  open_il_24m   \n",
       "77                                  open_act_il   \n",
       "78                                  open_rv_12m   \n",
       "79                                  open_rv_24m   \n",
       "80                                    out_prncp   \n",
       "81                                out_prncp_inv   \n",
       "82                               pct_tl_nvr_dlq   \n",
       "83                             percent_bc_gt_75   \n",
       "84                                  policy_code   \n",
       "85                                      pub_rec   \n",
       "86                         pub_rec_bankruptcies   \n",
       "87                                      purpose   \n",
       "88                                   pymnt_plan   \n",
       "89                                   recoveries   \n",
       "90                                    revol_bal   \n",
       "91                                   revol_util   \n",
       "92                                    sub_grade   \n",
       "93                                    tax_liens   \n",
       "94                                         term   \n",
       "95                                        title   \n",
       "96                                 tot_coll_amt   \n",
       "97                                  tot_cur_bal   \n",
       "98                              tot_hi_cred_lim   \n",
       "99                                    total_acc   \n",
       "100                           total_bal_ex_mort   \n",
       "101                                total_bal_il   \n",
       "102                              total_bc_limit   \n",
       "103                                 total_cu_tl   \n",
       "104                  total_il_high_credit_limit   \n",
       "105                                 total_pymnt   \n",
       "106                             total_pymnt_inv   \n",
       "107                               total_rec_int   \n",
       "108                          total_rec_late_fee   \n",
       "109                             total_rec_prncp   \n",
       "110                          total_rev_hi_lim     \n",
       "111                                         url   \n",
       "112                         verification_status   \n",
       "113                       verified_status_joint   \n",
       "114                                    zip_code   \n",
       "115                            revol_bal_joint    \n",
       "116                     sec_app_fico_range_low    \n",
       "117                    sec_app_fico_range_high    \n",
       "118                   sec_app_earliest_cr_line    \n",
       "119                     sec_app_inq_last_6mths    \n",
       "120                           sec_app_mort_acc    \n",
       "121                           sec_app_open_acc    \n",
       "122                         sec_app_revol_util    \n",
       "123                         sec_app_open_act_il   \n",
       "124                      sec_app_num_rev_accts    \n",
       "125           sec_app_chargeoff_within_12_mths    \n",
       "126         sec_app_collections_12_mths_ex_med    \n",
       "127        sec_app_mths_since_last_major_derog    \n",
       "128                               hardship_flag   \n",
       "129                               hardship_type   \n",
       "130                             hardship_reason   \n",
       "131                             hardship_status   \n",
       "132                               deferral_term   \n",
       "133                             hardship_amount   \n",
       "134                         hardship_start_date   \n",
       "135                           hardship_end_date   \n",
       "136                     payment_plan_start_date   \n",
       "137                             hardship_length   \n",
       "138                                hardship_dpd   \n",
       "139                        hardship_loan_status   \n",
       "140  orig_projected_additional_accrued_interest   \n",
       "141              hardship_payoff_balance_amount   \n",
       "142                hardship_last_payment_amount   \n",
       "143                         disbursement_method   \n",
       "144                        debt_settlement_flag   \n",
       "145                   debt_settlement_flag_date   \n",
       "146                           settlement_status   \n",
       "147                             settlement_date   \n",
       "148                           settlement_amount   \n",
       "149                       settlement_percentage   \n",
       "150                             settlement_term   \n",
       "151                                         NaN   \n",
       "152                                         NaN   \n",
       "\n",
       "                                                                                                                                                                                                                                   Description  \n",
       "0                                                                                                                                                                              The number of accounts on which the borrower is now delinquent.  \n",
       "1                                                                                                                                                                                                   Number of trades opened in past 24 months.  \n",
       "2                                                                                                                                                                                   The state provided by the borrower in the loan application  \n",
       "3                                                                                                                                                                                                        Balance to credit limit on all trades  \n",
       "4                                                                                                                                                                The self-reported annual income provided by the borrower during registration.  \n",
       "5                                                                                                                                                    The combined self-reported annual income provided by the co-borrowers during registration  \n",
       "6                                                                                                                                         Indicates whether the loan is an individual application or a joint application with two co-borrowers  \n",
       "7                                                                                                                                                                                                      Average current balance of all accounts  \n",
       "8                                                                                                                                                                                                    Total open to buy on revolving bankcards.  \n",
       "9                                                                                                                                                        Ratio of total current balance to high credit/credit limit for all bankcard accounts.  \n",
       "10                                                                                                                                                                                                      Number of charge-offs within 12 months  \n",
       "11                                                                                                                                                                                                              post charge off collection fee  \n",
       "12                                                                                                                                                                            Number of collections in 12 months excluding medical collections  \n",
       "13                                                                                                                                The number of 30+ days past-due incidences of delinquency in the borrower's credit file for the past 2 years  \n",
       "14                                                                                                                                                          The past-due amount owed for the accounts on which the borrower is now delinquent.  \n",
       "15                                                                                                                                                                                                   Loan description provided by the borrower  \n",
       "16                                    A ratio calculated using the borrower’s total monthly debt payments on the total debt obligations, excluding mortgage and the requested LC loan, divided by the borrower’s self-reported monthly income.  \n",
       "17                          A ratio calculated using the co-borrowers' total monthly payments on the total debt obligations, excluding mortgages and the requested LC loan, divided by the co-borrowers' combined self-reported monthly income  \n",
       "18                                                                                                                                                                           The month the borrower's earliest reported credit line was opened  \n",
       "19                                                                                                          Employment length in years. Possible values are between 0 and 10 where 0 means less than one year and 10 means ten or more years.   \n",
       "20                                                                                                                                                                         The job title supplied by the Borrower when applying for the loan.*  \n",
       "21                                                                                                                                                                The upper boundary range the borrower’s FICO at loan origination belongs to.  \n",
       "22                                                                                                                                                                The lower boundary range the borrower’s FICO at loan origination belongs to.  \n",
       "23                                                                                                                                                                              The total amount committed to that loan at that point in time.  \n",
       "24                                                                                                                                                                The total amount committed by investors for that loan at that point in time.  \n",
       "25                                                                                                                                                                                                                      LC assigned loan grade  \n",
       "26                                                                                       The home ownership status provided by the borrower during registration or obtained from the credit report. Our values are: RENT, OWN, MORTGAGE, OTHER  \n",
       "27                                                                                                                                                                                               A unique LC assigned ID for the loan listing.  \n",
       "28                                                                                                                                                              Ratio of total current balance to high credit/credit limit on all install acct  \n",
       "29                                                                                                                                                                          The initial listing status of the loan. Possible values are – W, F  \n",
       "30                                                                                                                                                                                                        Number of personal finance inquiries  \n",
       "31                                                                                                                                                                                                Number of credit inquiries in past 12 months  \n",
       "32                                                                                                                                                            The number of inquiries in past 6 months (excluding auto and mortgage inquiries)  \n",
       "33                                                                                                                                                                            The monthly payment owed by the borrower if the loan originates.  \n",
       "34                                                                                                                                                                                                                   Interest Rate on the loan  \n",
       "35                                                                                                                                                                                                         The month which the loan was funded  \n",
       "36                                                                                                                                                                                        The most recent month LC pulled credit for this loan  \n",
       "37                                                                                                                                                                        The upper boundary range the borrower’s last FICO pulled belongs to.  \n",
       "38                                                                                                                                                                        The lower boundary range the borrower’s last FICO pulled belongs to.  \n",
       "39                                                                                                                                                                                                          Last total payment amount received  \n",
       "40                                                                                                                                                                                                             Last month payment was received  \n",
       "41                                                                The listed amount of the loan applied for by the borrower. If at some point in time, the credit department reduces the loan amount, then it will be reflected in this value.  \n",
       "42                                                                                                                                                                                                                  Current status of the loan  \n",
       "43                                                                                                                                                                                      Maximum current balance owed on all revolving accounts  \n",
       "44                                                                                                                                                                                            A unique LC assigned Id for the borrower member.  \n",
       "45                                                                                                                                                                                         Months since oldest bank installment account opened  \n",
       "46                                                                                                                                                                                                Months since oldest revolving account opened  \n",
       "47                                                                                                                                                                                           Months since most recent revolving account opened  \n",
       "48                                                                                                                                                                                                     Months since most recent account opened  \n",
       "49                                                                                                                                                                                                                Number of mortgage accounts.  \n",
       "50                                                                                                                                                                                 The number of months since the borrower's last delinquency.  \n",
       "51                                                                                                                                                                                             Months since most recent 90-day or worse rating  \n",
       "52                                                                                                                                                                                          The number of months since the last public record.  \n",
       "53                                                                                                                                                                                        Months since most recent installment accounts opened  \n",
       "54                                                                                                                                                                                           Months since most recent bankcard account opened.  \n",
       "55                                                                                                                                                                                               Months since most recent bankcard delinquency  \n",
       "56                                                                                                                                                                                                           Months since most recent inquiry.  \n",
       "57                                                                                                                                                                                             Months since most recent revolving delinquency.  \n",
       "58                                                                                                                                                                                                                 Next scheduled payment date  \n",
       "59                                                                                                                                                                                           Number of accounts ever 120 or more days past due  \n",
       "60                                                                                                                                                                                                Number of currently active bankcard accounts  \n",
       "61                                                                                                                                                                                                 Number of currently active revolving trades  \n",
       "62                                                                                                                                                                                                    Number of satisfactory bankcard accounts  \n",
       "63                                                                                                                                                                                                                 Number of bankcard accounts  \n",
       "64                                                                                                                                                                                                              Number of installment accounts  \n",
       "65                                                                                                                                                                                                           Number of open revolving accounts  \n",
       "66                                                                                                                                                                                                                Number of revolving accounts  \n",
       "67                                                                                                                                                                                                  Number of revolving trades with balance >0  \n",
       "68                                                                                                                                                                                                             Number of satisfactory accounts  \n",
       "69                                                                                                                                                                   Number of accounts currently 120 days past due (updated in past 2 months)  \n",
       "70                                                                                                                                                                    Number of accounts currently 30 days past due (updated in past 2 months)  \n",
       "71                                                                                                                                                                               Number of accounts 90 or more days past due in last 24 months  \n",
       "72                                                                                                                                                                                                 Number of accounts opened in past 12 months  \n",
       "73                                                                                                                                                                              The number of open credit lines in the borrower's credit file.  \n",
       "74                                                                                                                                                                                                      Number of open trades in last 6 months  \n",
       "75                                                                                                                                                                                     Number of installment accounts opened in past 12 months  \n",
       "76                                                                                                                                                                                     Number of installment accounts opened in past 24 months  \n",
       "77                                                                                                                                                                                               Number of currently active installment trades  \n",
       "78                                                                                                                                                                                         Number of revolving trades opened in past 12 months  \n",
       "79                                                                                                                                                                                         Number of revolving trades opened in past 24 months  \n",
       "80                                                                                                                                                                                     Remaining outstanding principal for total amount funded  \n",
       "81                                                                                                                                                             Remaining outstanding principal for portion of total amount funded by investors  \n",
       "82                                                                                                                                                                                                          Percent of trades never delinquent  \n",
       "83                                                                                                                                                                                         Percentage of all bankcard accounts > 75% of limit.  \n",
       "84                                                                                                                                                         publicly available policy_code=1\\nnew products not publicly available policy_code=2  \n",
       "85                                                                                                                                                                                                         Number of derogatory public records  \n",
       "86                                                                                                                                                                                                        Number of public record bankruptcies  \n",
       "87                                                                                                                                                                                  A category provided by the borrower for the loan request.   \n",
       "88                                                                                                                                                                              Indicates if a payment plan has been put in place for the loan  \n",
       "89                                                                                                                                                                                                              post charge off gross recovery  \n",
       "90                                                                                                                                                                                                              Total credit revolving balance  \n",
       "91                                                                                                                  Revolving line utilization rate, or the amount of credit the borrower is using relative to all available revolving credit.  \n",
       "92                                                                                                                                                                                                                   LC assigned loan subgrade  \n",
       "93                                                                                                                                                                                                                         Number of tax liens  \n",
       "94                                                                                                                                                        The number of payments on the loan. Values are in months and can be either 36 or 60.  \n",
       "95                                                                                                                                                                                                     The loan title provided by the borrower  \n",
       "96                                                                                                                                                                                                          Total collection amounts ever owed  \n",
       "97                                                                                                                                                                                                       Total current balance of all accounts  \n",
       "98                                                                                                                                                                                                              Total high credit/credit limit  \n",
       "99                                                                                                                                                                    The total number of credit lines currently in the borrower's credit file  \n",
       "100                                                                                                                                                                                                    Total credit balance excluding mortgage  \n",
       "101                                                                                                                                                                                          Total current balance of all installment accounts  \n",
       "102                                                                                                                                                                                                    Total bankcard high credit/credit limit  \n",
       "103                                                                                                                                                                                                                   Number of finance trades  \n",
       "104                                                                                                                                                                                                 Total installment high credit/credit limit  \n",
       "105                                                                                                                                                                                          Payments received to date for total amount funded  \n",
       "106                                                                                                                                                                  Payments received to date for portion of total amount funded by investors  \n",
       "107                                                                                                                                                                                                                  Interest received to date  \n",
       "108                                                                                                                                                                                                                 Late fees received to date  \n",
       "109                                                                                                                                                                                                                 Principal received to date  \n",
       "110                                                                                                                                                                                                   Total revolving high credit/credit limit  \n",
       "111                                                                                                                                                                                                     URL for the LC page with listing data.  \n",
       "112                                                                                                                                                 Indicates if income was verified by LC, not verified, or if the income source was verified  \n",
       "113                                                                                                                         Indicates if the co-borrowers' joint income was verified by LC, not verified, or if the income source was verified  \n",
       "114                                                                                                                                                      The first 3 numbers of the zip code provided by the borrower in the loan application.  \n",
       "115                                                                                                                                                             Sum of revolving credit balance of the co-borrowers, net of duplicate balances  \n",
       "116                                                                                                                                                                                              FICO range (high) for the secondary applicant  \n",
       "117                                                                                                                                                                                               FICO range (low) for the secondary applicant  \n",
       "118                                                                                                                                                                    Earliest credit line at time of application for the secondary applicant  \n",
       "119                                                                                                                                                   Credit inquiries in the last 6 months at time of application for the secondary applicant  \n",
       "120                                                                                                                                                             Number of mortgage accounts at time of application for the secondary applicant  \n",
       "121                                                                                                                                                                   Number of open trades at time of application for the secondary applicant  \n",
       "122                                                                                                                                                      Ratio of total current balance to high credit/credit limit for all revolving accounts  \n",
       "123                                                                                                                                           Number of currently active installment trades at time of application for the secondary applicant  \n",
       "124                                                                                                                                                            Number of revolving accounts at time of application for the secondary applicant  \n",
       "125                                                                                                                                             Number of charge-offs within last 12 months at time of application for the secondary applicant  \n",
       "126                                                                                                               Number of collections within last 12 months excluding medical collections at time of application for the secondary applicant  \n",
       "127                                                                                                                                         Months since most recent 90-day or worse rating at time of application for the secondary applicant  \n",
       "128                                                                                                                                                                                    Flags whether or not the borrower is on a hardship plan  \n",
       "129                                                                                                                                                                                                       Describes the hardship plan offering  \n",
       "130                                                                                                                                                                                         Describes the reason the hardship plan was offered  \n",
       "131                                                                                                                                                          Describes if the hardship plan is active, pending, canceled, completed, or broken  \n",
       "132                                                                                                              Amount of months that the borrower is expected to pay less than the contractual monthly payment amount due to a hardship plan  \n",
       "133                                                                                                                                  The interest payment that the borrower has committed to make each month while they are on a hardship plan  \n",
       "134                                                                                                                                                                                                 The start date of the hardship plan period  \n",
       "135                                                                                                                                                                                                   The end date of the hardship plan period  \n",
       "136  The day the first hardship plan payment is due. For example, if a borrower has a hardship plan period of 3 months, the start date is the start of the three-month period in which the borrower is allowed to make interest-only payments.  \n",
       "137                                                                                                                                The number of months the borrower will make smaller payments than normally obligated due to a hardship plan  \n",
       "138                                                                                                                                                                                   Account days past due as of the hardship plan start date  \n",
       "139                                                                                                                                                                                             Loan Status as of the hardship plan start date  \n",
       "140                      The original projected additional interest amount that will accrue for the given hardship payment plan as of the Hardship Start Date. This field will be null if the borrower has broken their hardship payment plan.  \n",
       "141                                                                                                                                                                               The payoff balance amount as of the hardship plan start date  \n",
       "142                                                                                                                                                                                 The last payment amount as of the hardship plan start date  \n",
       "143                                                                                                                                                The method by which the borrower receives their loan. Possible values are: CASH, DIRECT_PAY  \n",
       "144                                                                                                                                         Flags whether or not the borrower, who has charged-off, is working with a debt-settlement company.  \n",
       "145                                                                                                                                                                          The most recent date that the Debt_Settlement_Flag has been set    \n",
       "146                                                                                                                      The status of the borrower’s settlement plan. Possible values are: COMPLETE, ACTIVE, BROKEN, CANCELLED, DENIED, DRAFT  \n",
       "147                                                                                                                                                                                   The date that the borrower agrees to the settlement plan  \n",
       "148                                                                                                                                                                                 The loan amount that the borrower has agreed to settle for  \n",
       "149                                                                                                                                                             The settlement amount as a percentage of the payoff balance amount on the loan  \n",
       "150                                                                                                                                                                      The number of months that the borrower will be on the settlement plan  \n",
       "151                                                                                                                                                                                                                                        NaN  \n",
       "152                                                                                                                                                               * Employer Title replaces Employer Name for all loans listed after 9/23/2013  "
      ]
     },
     "execution_count": 12,
     "metadata": {},
     "output_type": "execute_result"
    }
   ],
   "source": [
    "df_description[['LoanStatNew', 'Description']]"
   ]
  },
  {
   "cell_type": "code",
   "execution_count": null,
   "id": "1036dd1b",
   "metadata": {},
   "outputs": [],
   "source": []
  },
  {
   "cell_type": "markdown",
   "id": "eb120ba0",
   "metadata": {},
   "source": [
    "### Sprawdzam brakujące wartości"
   ]
  },
  {
   "cell_type": "code",
   "execution_count": 13,
   "id": "50d9d9fd",
   "metadata": {
    "scrolled": true
   },
   "outputs": [
    {
     "data": {
      "text/plain": [
       "id                                                0\n",
       "member_id                                     42536\n",
       "loan_amnt                                         1\n",
       "funded_amnt                                       1\n",
       "funded_amnt_inv                                   1\n",
       "term                                              1\n",
       "int_rate                                          1\n",
       "installment                                       1\n",
       "grade                                             1\n",
       "sub_grade                                         1\n",
       "emp_title                                      2627\n",
       "emp_length                                     1113\n",
       "home_ownership                                    1\n",
       "annual_inc                                        5\n",
       "verification_status                               1\n",
       "issue_d                                           1\n",
       "loan_status                                       1\n",
       "pymnt_plan                                        1\n",
       "url                                               1\n",
       "desc                                          13294\n",
       "purpose                                           1\n",
       "title                                            14\n",
       "zip_code                                          1\n",
       "addr_state                                        1\n",
       "dti                                               1\n",
       "delinq_2yrs                                      30\n",
       "earliest_cr_line                                 30\n",
       "fico_range_low                                    1\n",
       "fico_range_high                                   1\n",
       "inq_last_6mths                                   30\n",
       "mths_since_last_delinq                        26927\n",
       "mths_since_last_record                        38885\n",
       "open_acc                                         30\n",
       "pub_rec                                          30\n",
       "revol_bal                                         1\n",
       "revol_util                                       91\n",
       "total_acc                                        30\n",
       "initial_list_status                               1\n",
       "out_prncp                                         1\n",
       "out_prncp_inv                                     1\n",
       "total_pymnt                                       1\n",
       "total_pymnt_inv                                   1\n",
       "total_rec_prncp                                   1\n",
       "total_rec_int                                     1\n",
       "total_rec_late_fee                                1\n",
       "recoveries                                        1\n",
       "collection_recovery_fee                           1\n",
       "last_pymnt_d                                     84\n",
       "last_pymnt_amnt                                   1\n",
       "next_pymnt_d                                  39787\n",
       "last_credit_pull_d                                5\n",
       "last_fico_range_high                              1\n",
       "last_fico_range_low                               1\n",
       "collections_12_mths_ex_med                      146\n",
       "mths_since_last_major_derog                   42536\n",
       "policy_code                                       1\n",
       "application_type                                  1\n",
       "annual_inc_joint                              42536\n",
       "dti_joint                                     42536\n",
       "verification_status_joint                     42536\n",
       "acc_now_delinq                                   30\n",
       "tot_coll_amt                                  42536\n",
       "tot_cur_bal                                   42536\n",
       "open_acc_6m                                   42536\n",
       "open_act_il                                   42536\n",
       "open_il_12m                                   42536\n",
       "open_il_24m                                   42536\n",
       "mths_since_rcnt_il                            42536\n",
       "total_bal_il                                  42536\n",
       "il_util                                       42536\n",
       "open_rv_12m                                   42536\n",
       "open_rv_24m                                   42536\n",
       "max_bal_bc                                    42536\n",
       "all_util                                      42536\n",
       "total_rev_hi_lim                              42536\n",
       "inq_fi                                        42536\n",
       "total_cu_tl                                   42536\n",
       "inq_last_12m                                  42536\n",
       "acc_open_past_24mths                          42536\n",
       "avg_cur_bal                                   42536\n",
       "bc_open_to_buy                                42536\n",
       "bc_util                                       42536\n",
       "chargeoff_within_12_mths                        146\n",
       "delinq_amnt                                      30\n",
       "mo_sin_old_il_acct                            42536\n",
       "mo_sin_old_rev_tl_op                          42536\n",
       "mo_sin_rcnt_rev_tl_op                         42536\n",
       "mo_sin_rcnt_tl                                42536\n",
       "mort_acc                                      42536\n",
       "mths_since_recent_bc                          42536\n",
       "mths_since_recent_bc_dlq                      42536\n",
       "mths_since_recent_inq                         42536\n",
       "mths_since_recent_revol_delinq                42536\n",
       "num_accts_ever_120_pd                         42536\n",
       "num_actv_bc_tl                                42536\n",
       "num_actv_rev_tl                               42536\n",
       "num_bc_sats                                   42536\n",
       "num_bc_tl                                     42536\n",
       "num_il_tl                                     42536\n",
       "num_op_rev_tl                                 42536\n",
       "num_rev_accts                                 42536\n",
       "num_rev_tl_bal_gt_0                           42536\n",
       "num_sats                                      42536\n",
       "num_tl_120dpd_2m                              42536\n",
       "num_tl_30dpd                                  42536\n",
       "num_tl_90g_dpd_24m                            42536\n",
       "num_tl_op_past_12m                            42536\n",
       "pct_tl_nvr_dlq                                42536\n",
       "percent_bc_gt_75                              42536\n",
       "pub_rec_bankruptcies                           1366\n",
       "tax_liens                                       106\n",
       "tot_hi_cred_lim                               42536\n",
       "total_bal_ex_mort                             42536\n",
       "total_bc_limit                                42536\n",
       "total_il_high_credit_limit                    42536\n",
       "revol_bal_joint                               42536\n",
       "sec_app_fico_range_low                        42536\n",
       "sec_app_fico_range_high                       42536\n",
       "sec_app_earliest_cr_line                      42536\n",
       "sec_app_inq_last_6mths                        42536\n",
       "sec_app_mort_acc                              42536\n",
       "sec_app_open_acc                              42536\n",
       "sec_app_revol_util                            42536\n",
       "sec_app_open_act_il                           42536\n",
       "sec_app_num_rev_accts                         42536\n",
       "sec_app_chargeoff_within_12_mths              42536\n",
       "sec_app_collections_12_mths_ex_med            42536\n",
       "sec_app_mths_since_last_major_derog           42536\n",
       "hardship_flag                                     1\n",
       "hardship_type                                 42536\n",
       "hardship_reason                               42536\n",
       "hardship_status                               42536\n",
       "deferral_term                                 42536\n",
       "hardship_amount                               42536\n",
       "hardship_start_date                           42536\n",
       "hardship_end_date                             42536\n",
       "payment_plan_start_date                       42536\n",
       "hardship_length                               42536\n",
       "hardship_dpd                                  42536\n",
       "hardship_loan_status                          42536\n",
       "orig_projected_additional_accrued_interest    42536\n",
       "hardship_payoff_balance_amount                42536\n",
       "hardship_last_payment_amount                  42536\n",
       "disbursement_method                               1\n",
       "debt_settlement_flag                              1\n",
       "debt_settlement_flag_date                     42376\n",
       "settlement_status                             42376\n",
       "settlement_date                               42376\n",
       "settlement_amount                             42376\n",
       "settlement_percentage                         42376\n",
       "settlement_term                               42376\n",
       "dtype: int64"
      ]
     },
     "execution_count": 13,
     "metadata": {},
     "output_type": "execute_result"
    }
   ],
   "source": [
    "df.isna().sum()"
   ]
  },
  {
   "cell_type": "code",
   "execution_count": 14,
   "id": "2f67fcc9",
   "metadata": {},
   "outputs": [],
   "source": [
    "#Sprawdzam i usuwam kolumny w 100% z nan"
   ]
  },
  {
   "cell_type": "code",
   "execution_count": 15,
   "id": "783d086f",
   "metadata": {},
   "outputs": [],
   "source": [
    "nan_cols = [i for i in df.columns if df[i].isnull().all()]"
   ]
  },
  {
   "cell_type": "code",
   "execution_count": 16,
   "id": "a4b84f01",
   "metadata": {},
   "outputs": [
    {
     "data": {
      "text/plain": [
       "['member_id',\n",
       " 'mths_since_last_major_derog',\n",
       " 'annual_inc_joint',\n",
       " 'dti_joint',\n",
       " 'verification_status_joint',\n",
       " 'tot_coll_amt',\n",
       " 'tot_cur_bal',\n",
       " 'open_acc_6m',\n",
       " 'open_act_il',\n",
       " 'open_il_12m',\n",
       " 'open_il_24m',\n",
       " 'mths_since_rcnt_il',\n",
       " 'total_bal_il',\n",
       " 'il_util',\n",
       " 'open_rv_12m',\n",
       " 'open_rv_24m',\n",
       " 'max_bal_bc',\n",
       " 'all_util',\n",
       " 'total_rev_hi_lim',\n",
       " 'inq_fi',\n",
       " 'total_cu_tl',\n",
       " 'inq_last_12m',\n",
       " 'acc_open_past_24mths',\n",
       " 'avg_cur_bal',\n",
       " 'bc_open_to_buy',\n",
       " 'bc_util',\n",
       " 'mo_sin_old_il_acct',\n",
       " 'mo_sin_old_rev_tl_op',\n",
       " 'mo_sin_rcnt_rev_tl_op',\n",
       " 'mo_sin_rcnt_tl',\n",
       " 'mort_acc',\n",
       " 'mths_since_recent_bc',\n",
       " 'mths_since_recent_bc_dlq',\n",
       " 'mths_since_recent_inq',\n",
       " 'mths_since_recent_revol_delinq',\n",
       " 'num_accts_ever_120_pd',\n",
       " 'num_actv_bc_tl',\n",
       " 'num_actv_rev_tl',\n",
       " 'num_bc_sats',\n",
       " 'num_bc_tl',\n",
       " 'num_il_tl',\n",
       " 'num_op_rev_tl',\n",
       " 'num_rev_accts',\n",
       " 'num_rev_tl_bal_gt_0',\n",
       " 'num_sats',\n",
       " 'num_tl_120dpd_2m',\n",
       " 'num_tl_30dpd',\n",
       " 'num_tl_90g_dpd_24m',\n",
       " 'num_tl_op_past_12m',\n",
       " 'pct_tl_nvr_dlq',\n",
       " 'percent_bc_gt_75',\n",
       " 'tot_hi_cred_lim',\n",
       " 'total_bal_ex_mort',\n",
       " 'total_bc_limit',\n",
       " 'total_il_high_credit_limit',\n",
       " 'revol_bal_joint',\n",
       " 'sec_app_fico_range_low',\n",
       " 'sec_app_fico_range_high',\n",
       " 'sec_app_earliest_cr_line',\n",
       " 'sec_app_inq_last_6mths',\n",
       " 'sec_app_mort_acc',\n",
       " 'sec_app_open_acc',\n",
       " 'sec_app_revol_util',\n",
       " 'sec_app_open_act_il',\n",
       " 'sec_app_num_rev_accts',\n",
       " 'sec_app_chargeoff_within_12_mths',\n",
       " 'sec_app_collections_12_mths_ex_med',\n",
       " 'sec_app_mths_since_last_major_derog',\n",
       " 'hardship_type',\n",
       " 'hardship_reason',\n",
       " 'hardship_status',\n",
       " 'deferral_term',\n",
       " 'hardship_amount',\n",
       " 'hardship_start_date',\n",
       " 'hardship_end_date',\n",
       " 'payment_plan_start_date',\n",
       " 'hardship_length',\n",
       " 'hardship_dpd',\n",
       " 'hardship_loan_status',\n",
       " 'orig_projected_additional_accrued_interest',\n",
       " 'hardship_payoff_balance_amount',\n",
       " 'hardship_last_payment_amount']"
      ]
     },
     "execution_count": 16,
     "metadata": {},
     "output_type": "execute_result"
    }
   ],
   "source": [
    "nan_cols"
   ]
  },
  {
   "cell_type": "code",
   "execution_count": 17,
   "id": "bc711c01",
   "metadata": {},
   "outputs": [],
   "source": [
    "df.drop(\n",
    "['member_id',\n",
    " 'mths_since_last_major_derog',\n",
    " 'annual_inc_joint',\n",
    " 'dti_joint',\n",
    " 'verification_status_joint',\n",
    " 'tot_coll_amt',\n",
    " 'tot_cur_bal',\n",
    " 'open_acc_6m',\n",
    " 'open_act_il',\n",
    " 'open_il_12m',\n",
    " 'open_il_24m',\n",
    " 'mths_since_rcnt_il',\n",
    " 'total_bal_il',\n",
    " 'il_util',\n",
    " 'open_rv_12m',\n",
    " 'open_rv_24m',\n",
    " 'max_bal_bc',\n",
    " 'all_util',\n",
    " 'total_rev_hi_lim',\n",
    " 'inq_fi',\n",
    " 'total_cu_tl',\n",
    " 'inq_last_12m',\n",
    " 'acc_open_past_24mths',\n",
    " 'avg_cur_bal',\n",
    " 'bc_open_to_buy',\n",
    " 'bc_util',\n",
    " 'mo_sin_old_il_acct',\n",
    " 'mo_sin_old_rev_tl_op',\n",
    " 'mo_sin_rcnt_rev_tl_op',\n",
    " 'mo_sin_rcnt_tl',\n",
    " 'mort_acc',\n",
    " 'mths_since_recent_bc',\n",
    " 'mths_since_recent_bc_dlq',\n",
    " 'mths_since_recent_inq',\n",
    " 'mths_since_recent_revol_delinq',\n",
    " 'num_accts_ever_120_pd',\n",
    " 'num_actv_bc_tl',\n",
    " 'num_actv_rev_tl',\n",
    " 'num_bc_sats',\n",
    " 'num_bc_tl',\n",
    " 'num_il_tl',\n",
    " 'num_op_rev_tl',\n",
    " 'num_rev_accts',\n",
    " 'num_rev_tl_bal_gt_0',\n",
    " 'num_sats',\n",
    " 'num_tl_120dpd_2m',\n",
    " 'num_tl_30dpd',\n",
    " 'num_tl_90g_dpd_24m',\n",
    " 'num_tl_op_past_12m',\n",
    " 'pct_tl_nvr_dlq',\n",
    " 'percent_bc_gt_75',\n",
    " 'tot_hi_cred_lim',\n",
    " 'total_bal_ex_mort',\n",
    " 'total_bc_limit',\n",
    " 'total_il_high_credit_limit',\n",
    " 'revol_bal_joint',\n",
    " 'sec_app_fico_range_low',\n",
    " 'sec_app_fico_range_high',\n",
    " 'sec_app_earliest_cr_line',\n",
    " 'sec_app_inq_last_6mths',\n",
    " 'sec_app_mort_acc',\n",
    " 'sec_app_open_acc',\n",
    " 'sec_app_revol_util',\n",
    " 'sec_app_open_act_il',\n",
    " 'sec_app_num_rev_accts',\n",
    " 'sec_app_chargeoff_within_12_mths',\n",
    " 'sec_app_collections_12_mths_ex_med',\n",
    " 'sec_app_mths_since_last_major_derog',\n",
    " 'hardship_type',\n",
    " 'hardship_reason',\n",
    " 'hardship_status',\n",
    " 'deferral_term',\n",
    " 'hardship_amount',\n",
    " 'hardship_start_date',\n",
    " 'hardship_end_date',\n",
    " 'payment_plan_start_date',\n",
    " 'hardship_length',\n",
    " 'hardship_dpd',\n",
    " 'hardship_loan_status',\n",
    " 'orig_projected_additional_accrued_interest',\n",
    " 'hardship_payoff_balance_amount',\n",
    " 'hardship_last_payment_amount'], \n",
    "axis=1, inplace=True)"
   ]
  },
  {
   "cell_type": "code",
   "execution_count": 18,
   "id": "0c9ea317",
   "metadata": {},
   "outputs": [],
   "source": [
    "#Usuwam kolumny, które zawierają nan w 85% "
   ]
  },
  {
   "cell_type": "code",
   "execution_count": 19,
   "id": "0cb9d82f",
   "metadata": {},
   "outputs": [],
   "source": [
    "nan_cols85 = [i for i in df.columns if df[i].isnull().sum() > 0.85*len(df)]"
   ]
  },
  {
   "cell_type": "code",
   "execution_count": 20,
   "id": "63f93644",
   "metadata": {},
   "outputs": [
    {
     "data": {
      "text/plain": [
       "['mths_since_last_record',\n",
       " 'next_pymnt_d',\n",
       " 'debt_settlement_flag_date',\n",
       " 'settlement_status',\n",
       " 'settlement_date',\n",
       " 'settlement_amount',\n",
       " 'settlement_percentage',\n",
       " 'settlement_term']"
      ]
     },
     "execution_count": 20,
     "metadata": {},
     "output_type": "execute_result"
    }
   ],
   "source": [
    "nan_cols85"
   ]
  },
  {
   "cell_type": "code",
   "execution_count": 21,
   "id": "e13ad279",
   "metadata": {},
   "outputs": [],
   "source": [
    "df.drop(\n",
    "['mths_since_last_record',\n",
    " 'next_pymnt_d',\n",
    " 'debt_settlement_flag_date',\n",
    " 'settlement_status',\n",
    " 'settlement_date',\n",
    " 'settlement_amount',\n",
    " 'settlement_percentage',\n",
    " 'settlement_term'],\n",
    "axis=1, inplace=True)"
   ]
  },
  {
   "cell_type": "code",
   "execution_count": 22,
   "id": "b0a84073",
   "metadata": {},
   "outputs": [],
   "source": [
    "#Usunięcie kolumn ze zbędnymi informacjami"
   ]
  },
  {
   "cell_type": "code",
   "execution_count": 23,
   "id": "b4341270",
   "metadata": {},
   "outputs": [],
   "source": [
    "df.drop(\n",
    "['url', \n",
    " 'id', \n",
    " 'zip_code', \n",
    " 'addr_state', \n",
    " 'title', \n",
    " 'issue_d',\n",
    " 'last_pymnt_amnt',\n",
    " 'last_pymnt_d', \n",
    " 'last_credit_pull_d',\n",
    " 'emp_title',\n",
    " 'disbursement_method',\n",
    " 'recoveries',\n",
    " 'collection_recovery_fee',\n",
    " 'sub_grade'],\n",
    "axis=1, inplace=True)"
   ]
  },
  {
   "cell_type": "code",
   "execution_count": 24,
   "id": "353ff97d",
   "metadata": {},
   "outputs": [],
   "source": [
    "#Usunięcie kolumn, które zawierają informacje z przyszłości, niedostępne w momencie udzielania pożyczki"
   ]
  },
  {
   "cell_type": "code",
   "execution_count": 25,
   "id": "62cbeca6",
   "metadata": {},
   "outputs": [],
   "source": [
    "df.drop(\n",
    "['delinq_2yrs', \n",
    " 'mths_since_last_delinq', \n",
    " 'delinq_amnt', \n",
    " 'hardship_flag', \n",
    " 'acc_now_delinq',\n",
    " 'chargeoff_within_12_mths',\n",
    " 'debt_settlement_flag',\n",
    " 'total_pymnt',\n",
    " 'total_pymnt_inv',\n",
    " 'total_rec_prncp',\n",
    " 'total_rec_int',\n",
    " 'total_rec_late_fee',\n",
    " 'last_fico_range_high',\n",
    " 'last_fico_range_low'],\n",
    "axis=1, inplace=True)"
   ]
  },
  {
   "cell_type": "code",
   "execution_count": 26,
   "id": "49389654",
   "metadata": {},
   "outputs": [],
   "source": [
    "#Sprawdzam, które kolumny przyjmują tylko jedną wartość. Sprawdzam też, czy zawierają NaNy i czy mogą one dać jakąś informację"
   ]
  },
  {
   "cell_type": "code",
   "execution_count": null,
   "id": "7a0a7677",
   "metadata": {},
   "outputs": [],
   "source": []
  },
  {
   "cell_type": "code",
   "execution_count": 27,
   "id": "4931ee8e",
   "metadata": {},
   "outputs": [
    {
     "data": {
      "text/plain": [
       "Individual    42535\n",
       "Name: application_type, dtype: int64"
      ]
     },
     "execution_count": 27,
     "metadata": {},
     "output_type": "execute_result"
    }
   ],
   "source": [
    "df['application_type'].value_counts()"
   ]
  },
  {
   "cell_type": "code",
   "execution_count": 28,
   "id": "ae284fa6",
   "metadata": {},
   "outputs": [
    {
     "data": {
      "text/plain": [
       "1"
      ]
     },
     "execution_count": 28,
     "metadata": {},
     "output_type": "execute_result"
    }
   ],
   "source": [
    "df['application_type'].isnull().sum()"
   ]
  },
  {
   "cell_type": "code",
   "execution_count": 29,
   "id": "05f69d95",
   "metadata": {},
   "outputs": [],
   "source": [
    "df.drop(\n",
    "['application_type'],\n",
    "axis=1, inplace=True)"
   ]
  },
  {
   "cell_type": "code",
   "execution_count": null,
   "id": "61be4f0d",
   "metadata": {},
   "outputs": [],
   "source": []
  },
  {
   "cell_type": "code",
   "execution_count": 30,
   "id": "f9097f1f",
   "metadata": {},
   "outputs": [
    {
     "data": {
      "text/plain": [
       "n    42535\n",
       "Name: pymnt_plan, dtype: int64"
      ]
     },
     "execution_count": 30,
     "metadata": {},
     "output_type": "execute_result"
    }
   ],
   "source": [
    "df['pymnt_plan'].value_counts()"
   ]
  },
  {
   "cell_type": "code",
   "execution_count": 31,
   "id": "f5cbce24",
   "metadata": {},
   "outputs": [
    {
     "data": {
      "text/plain": [
       "1"
      ]
     },
     "execution_count": 31,
     "metadata": {},
     "output_type": "execute_result"
    }
   ],
   "source": [
    "df['pymnt_plan'].isnull().sum()"
   ]
  },
  {
   "cell_type": "code",
   "execution_count": 32,
   "id": "831f5830",
   "metadata": {},
   "outputs": [],
   "source": [
    "df.drop(\n",
    "['pymnt_plan'],\n",
    "axis=1, inplace=True)"
   ]
  },
  {
   "cell_type": "code",
   "execution_count": null,
   "id": "1c7d466a",
   "metadata": {},
   "outputs": [],
   "source": []
  },
  {
   "cell_type": "code",
   "execution_count": 33,
   "id": "02667ac6",
   "metadata": {},
   "outputs": [
    {
     "data": {
      "text/plain": [
       "f    42535\n",
       "Name: initial_list_status, dtype: int64"
      ]
     },
     "execution_count": 33,
     "metadata": {},
     "output_type": "execute_result"
    }
   ],
   "source": [
    "df['initial_list_status'].value_counts()"
   ]
  },
  {
   "cell_type": "code",
   "execution_count": 34,
   "id": "6ba417eb",
   "metadata": {},
   "outputs": [
    {
     "data": {
      "text/plain": [
       "1"
      ]
     },
     "execution_count": 34,
     "metadata": {},
     "output_type": "execute_result"
    }
   ],
   "source": [
    "df['initial_list_status'].isnull().sum()"
   ]
  },
  {
   "cell_type": "code",
   "execution_count": 35,
   "id": "0f328262",
   "metadata": {},
   "outputs": [],
   "source": [
    "df.drop(\n",
    "['initial_list_status'],\n",
    "axis=1, inplace=True)"
   ]
  },
  {
   "cell_type": "code",
   "execution_count": null,
   "id": "7dccb8ec",
   "metadata": {},
   "outputs": [],
   "source": []
  },
  {
   "cell_type": "code",
   "execution_count": 36,
   "id": "54799d99",
   "metadata": {},
   "outputs": [
    {
     "data": {
      "text/plain": [
       "0.000    42535\n",
       "Name: out_prncp, dtype: int64"
      ]
     },
     "execution_count": 36,
     "metadata": {},
     "output_type": "execute_result"
    }
   ],
   "source": [
    "df['out_prncp'].value_counts()"
   ]
  },
  {
   "cell_type": "code",
   "execution_count": 37,
   "id": "89cff7ef",
   "metadata": {},
   "outputs": [
    {
     "data": {
      "text/plain": [
       "1"
      ]
     },
     "execution_count": 37,
     "metadata": {},
     "output_type": "execute_result"
    }
   ],
   "source": [
    "df['out_prncp'].isnull().sum()"
   ]
  },
  {
   "cell_type": "code",
   "execution_count": 38,
   "id": "95e70d81",
   "metadata": {},
   "outputs": [],
   "source": [
    "df.drop(\n",
    "['out_prncp'],\n",
    "axis=1, inplace=True)"
   ]
  },
  {
   "cell_type": "code",
   "execution_count": null,
   "id": "5ea26f67",
   "metadata": {},
   "outputs": [],
   "source": []
  },
  {
   "cell_type": "code",
   "execution_count": 39,
   "id": "c83def15",
   "metadata": {},
   "outputs": [
    {
     "data": {
      "text/plain": [
       "0.000    42535\n",
       "Name: out_prncp_inv, dtype: int64"
      ]
     },
     "execution_count": 39,
     "metadata": {},
     "output_type": "execute_result"
    }
   ],
   "source": [
    "df['out_prncp_inv'].value_counts()"
   ]
  },
  {
   "cell_type": "code",
   "execution_count": 40,
   "id": "36079f25",
   "metadata": {},
   "outputs": [
    {
     "data": {
      "text/plain": [
       "1"
      ]
     },
     "execution_count": 40,
     "metadata": {},
     "output_type": "execute_result"
    }
   ],
   "source": [
    "df['out_prncp_inv'].isnull().sum()"
   ]
  },
  {
   "cell_type": "code",
   "execution_count": 41,
   "id": "3fa66175",
   "metadata": {},
   "outputs": [],
   "source": [
    "df.drop(\n",
    "['out_prncp_inv'],\n",
    "axis=1, inplace=True)"
   ]
  },
  {
   "cell_type": "code",
   "execution_count": null,
   "id": "a009de61",
   "metadata": {},
   "outputs": [],
   "source": []
  },
  {
   "cell_type": "code",
   "execution_count": 42,
   "id": "8398c9b9",
   "metadata": {},
   "outputs": [
    {
     "data": {
      "text/plain": [
       "1.000    42535\n",
       "Name: policy_code, dtype: int64"
      ]
     },
     "execution_count": 42,
     "metadata": {},
     "output_type": "execute_result"
    }
   ],
   "source": [
    "df['policy_code'].value_counts()"
   ]
  },
  {
   "cell_type": "code",
   "execution_count": 43,
   "id": "f9cd140b",
   "metadata": {},
   "outputs": [
    {
     "data": {
      "text/plain": [
       "1"
      ]
     },
     "execution_count": 43,
     "metadata": {},
     "output_type": "execute_result"
    }
   ],
   "source": [
    "df['policy_code'].isnull().sum()"
   ]
  },
  {
   "cell_type": "code",
   "execution_count": 44,
   "id": "52c00ddf",
   "metadata": {},
   "outputs": [],
   "source": [
    "df.drop(\n",
    "['policy_code'],\n",
    "axis=1, inplace=True)"
   ]
  },
  {
   "cell_type": "code",
   "execution_count": null,
   "id": "4f93802d",
   "metadata": {},
   "outputs": [],
   "source": []
  },
  {
   "cell_type": "code",
   "execution_count": 45,
   "id": "eaba3b02",
   "metadata": {},
   "outputs": [
    {
     "data": {
      "text/plain": [
       "0.000    42390\n",
       "Name: collections_12_mths_ex_med, dtype: int64"
      ]
     },
     "execution_count": 45,
     "metadata": {},
     "output_type": "execute_result"
    }
   ],
   "source": [
    "df['collections_12_mths_ex_med'].value_counts()"
   ]
  },
  {
   "cell_type": "code",
   "execution_count": 46,
   "id": "3c238434",
   "metadata": {},
   "outputs": [
    {
     "data": {
      "text/plain": [
       "146"
      ]
     },
     "execution_count": 46,
     "metadata": {},
     "output_type": "execute_result"
    }
   ],
   "source": [
    "df['collections_12_mths_ex_med'].isnull().sum()"
   ]
  },
  {
   "cell_type": "code",
   "execution_count": 47,
   "id": "7d31c36e",
   "metadata": {},
   "outputs": [],
   "source": [
    "df.drop(\n",
    "['collections_12_mths_ex_med'],\n",
    "axis=1, inplace=True)"
   ]
  },
  {
   "cell_type": "code",
   "execution_count": null,
   "id": "4bdbd376",
   "metadata": {},
   "outputs": [],
   "source": []
  },
  {
   "cell_type": "code",
   "execution_count": 48,
   "id": "d087b20e",
   "metadata": {},
   "outputs": [
    {
     "data": {
      "text/plain": [
       "0.000    42429\n",
       "1.000        1\n",
       "Name: tax_liens, dtype: int64"
      ]
     },
     "execution_count": 48,
     "metadata": {},
     "output_type": "execute_result"
    }
   ],
   "source": [
    "df['tax_liens'].value_counts()"
   ]
  },
  {
   "cell_type": "code",
   "execution_count": 49,
   "id": "b40fe89f",
   "metadata": {},
   "outputs": [
    {
     "data": {
      "text/plain": [
       "106"
      ]
     },
     "execution_count": 49,
     "metadata": {},
     "output_type": "execute_result"
    }
   ],
   "source": [
    "df['tax_liens'].isnull().sum()"
   ]
  },
  {
   "cell_type": "code",
   "execution_count": 50,
   "id": "5c729ba6",
   "metadata": {},
   "outputs": [],
   "source": [
    "df.drop(\n",
    "['tax_liens'],\n",
    "axis=1, inplace=True)"
   ]
  },
  {
   "cell_type": "code",
   "execution_count": null,
   "id": "8c1b133a",
   "metadata": {},
   "outputs": [],
   "source": []
  },
  {
   "cell_type": "code",
   "execution_count": 51,
   "id": "dab653bf",
   "metadata": {},
   "outputs": [],
   "source": [
    "#Decuję też usunąć kolumnę 'desc' - w większości powiela ona dane z kolumny 'purpose'\n",
    "df.drop(\n",
    "['desc'],\n",
    "axis=1, inplace=True)"
   ]
  },
  {
   "cell_type": "code",
   "execution_count": 52,
   "id": "a24002d5",
   "metadata": {},
   "outputs": [
    {
     "data": {
      "text/plain": [
       "(42536, 24)"
      ]
     },
     "execution_count": 52,
     "metadata": {},
     "output_type": "execute_result"
    }
   ],
   "source": [
    "df.shape"
   ]
  },
  {
   "cell_type": "markdown",
   "id": "0c8cc551",
   "metadata": {},
   "source": [
    "### Przekształcenie wartości w kolumnach - usunięcie procentów, dodatkowych znaków, itd"
   ]
  },
  {
   "cell_type": "code",
   "execution_count": 53,
   "id": "a75cd4ff",
   "metadata": {},
   "outputs": [],
   "source": [
    "def usuniecie_miesiecy(df, column):\n",
    "    df[column] = pd.to_numeric(df[column].str.replace('months', ''))"
   ]
  },
  {
   "cell_type": "code",
   "execution_count": 54,
   "id": "9046a43e",
   "metadata": {},
   "outputs": [],
   "source": [
    "usuniecie_miesiecy(df, 'term')"
   ]
  },
  {
   "cell_type": "code",
   "execution_count": 55,
   "id": "562ca78d",
   "metadata": {},
   "outputs": [
    {
     "data": {
      "text/html": [
       "<div>\n",
       "<style scoped>\n",
       "    .dataframe tbody tr th:only-of-type {\n",
       "        vertical-align: middle;\n",
       "    }\n",
       "\n",
       "    .dataframe tbody tr th {\n",
       "        vertical-align: top;\n",
       "    }\n",
       "\n",
       "    .dataframe thead th {\n",
       "        text-align: right;\n",
       "    }\n",
       "</style>\n",
       "<table border=\"1\" class=\"dataframe\">\n",
       "  <thead>\n",
       "    <tr style=\"text-align: right;\">\n",
       "      <th></th>\n",
       "      <th>loan_amnt</th>\n",
       "      <th>funded_amnt</th>\n",
       "      <th>funded_amnt_inv</th>\n",
       "      <th>term</th>\n",
       "      <th>int_rate</th>\n",
       "      <th>installment</th>\n",
       "      <th>grade</th>\n",
       "      <th>emp_length</th>\n",
       "      <th>home_ownership</th>\n",
       "      <th>annual_inc</th>\n",
       "      <th>verification_status</th>\n",
       "      <th>loan_status</th>\n",
       "      <th>purpose</th>\n",
       "      <th>dti</th>\n",
       "      <th>earliest_cr_line</th>\n",
       "      <th>fico_range_low</th>\n",
       "      <th>fico_range_high</th>\n",
       "      <th>inq_last_6mths</th>\n",
       "      <th>open_acc</th>\n",
       "      <th>pub_rec</th>\n",
       "      <th>revol_bal</th>\n",
       "      <th>revol_util</th>\n",
       "      <th>total_acc</th>\n",
       "      <th>pub_rec_bankruptcies</th>\n",
       "    </tr>\n",
       "  </thead>\n",
       "  <tbody>\n",
       "    <tr>\n",
       "      <th>0</th>\n",
       "      <td>5000.000</td>\n",
       "      <td>5000.000</td>\n",
       "      <td>4975.000</td>\n",
       "      <td>36.000</td>\n",
       "      <td>10.65%</td>\n",
       "      <td>162.870</td>\n",
       "      <td>B</td>\n",
       "      <td>10+ years</td>\n",
       "      <td>RENT</td>\n",
       "      <td>24000.000</td>\n",
       "      <td>Verified</td>\n",
       "      <td>Fully Paid</td>\n",
       "      <td>credit_card</td>\n",
       "      <td>27.650</td>\n",
       "      <td>Jan-1985</td>\n",
       "      <td>735.000</td>\n",
       "      <td>739.000</td>\n",
       "      <td>1.000</td>\n",
       "      <td>3.000</td>\n",
       "      <td>0.000</td>\n",
       "      <td>13648.000</td>\n",
       "      <td>83.7%</td>\n",
       "      <td>9.000</td>\n",
       "      <td>0.000</td>\n",
       "    </tr>\n",
       "    <tr>\n",
       "      <th>1</th>\n",
       "      <td>2500.000</td>\n",
       "      <td>2500.000</td>\n",
       "      <td>2500.000</td>\n",
       "      <td>60.000</td>\n",
       "      <td>15.27%</td>\n",
       "      <td>59.830</td>\n",
       "      <td>C</td>\n",
       "      <td>&lt; 1 year</td>\n",
       "      <td>RENT</td>\n",
       "      <td>30000.000</td>\n",
       "      <td>Source Verified</td>\n",
       "      <td>Charged Off</td>\n",
       "      <td>car</td>\n",
       "      <td>1.000</td>\n",
       "      <td>Apr-1999</td>\n",
       "      <td>740.000</td>\n",
       "      <td>744.000</td>\n",
       "      <td>5.000</td>\n",
       "      <td>3.000</td>\n",
       "      <td>0.000</td>\n",
       "      <td>1687.000</td>\n",
       "      <td>9.4%</td>\n",
       "      <td>4.000</td>\n",
       "      <td>0.000</td>\n",
       "    </tr>\n",
       "    <tr>\n",
       "      <th>2</th>\n",
       "      <td>2400.000</td>\n",
       "      <td>2400.000</td>\n",
       "      <td>2400.000</td>\n",
       "      <td>36.000</td>\n",
       "      <td>15.96%</td>\n",
       "      <td>84.330</td>\n",
       "      <td>C</td>\n",
       "      <td>10+ years</td>\n",
       "      <td>RENT</td>\n",
       "      <td>12252.000</td>\n",
       "      <td>Not Verified</td>\n",
       "      <td>Fully Paid</td>\n",
       "      <td>small_business</td>\n",
       "      <td>8.720</td>\n",
       "      <td>Nov-2001</td>\n",
       "      <td>735.000</td>\n",
       "      <td>739.000</td>\n",
       "      <td>2.000</td>\n",
       "      <td>2.000</td>\n",
       "      <td>0.000</td>\n",
       "      <td>2956.000</td>\n",
       "      <td>98.5%</td>\n",
       "      <td>10.000</td>\n",
       "      <td>0.000</td>\n",
       "    </tr>\n",
       "    <tr>\n",
       "      <th>3</th>\n",
       "      <td>10000.000</td>\n",
       "      <td>10000.000</td>\n",
       "      <td>10000.000</td>\n",
       "      <td>36.000</td>\n",
       "      <td>13.49%</td>\n",
       "      <td>339.310</td>\n",
       "      <td>C</td>\n",
       "      <td>10+ years</td>\n",
       "      <td>RENT</td>\n",
       "      <td>49200.000</td>\n",
       "      <td>Source Verified</td>\n",
       "      <td>Fully Paid</td>\n",
       "      <td>other</td>\n",
       "      <td>20.000</td>\n",
       "      <td>Feb-1996</td>\n",
       "      <td>690.000</td>\n",
       "      <td>694.000</td>\n",
       "      <td>1.000</td>\n",
       "      <td>10.000</td>\n",
       "      <td>0.000</td>\n",
       "      <td>5598.000</td>\n",
       "      <td>21%</td>\n",
       "      <td>37.000</td>\n",
       "      <td>0.000</td>\n",
       "    </tr>\n",
       "    <tr>\n",
       "      <th>4</th>\n",
       "      <td>3000.000</td>\n",
       "      <td>3000.000</td>\n",
       "      <td>3000.000</td>\n",
       "      <td>60.000</td>\n",
       "      <td>12.69%</td>\n",
       "      <td>67.790</td>\n",
       "      <td>B</td>\n",
       "      <td>1 year</td>\n",
       "      <td>RENT</td>\n",
       "      <td>80000.000</td>\n",
       "      <td>Source Verified</td>\n",
       "      <td>Fully Paid</td>\n",
       "      <td>other</td>\n",
       "      <td>17.940</td>\n",
       "      <td>Jan-1996</td>\n",
       "      <td>695.000</td>\n",
       "      <td>699.000</td>\n",
       "      <td>0.000</td>\n",
       "      <td>15.000</td>\n",
       "      <td>0.000</td>\n",
       "      <td>27783.000</td>\n",
       "      <td>53.9%</td>\n",
       "      <td>38.000</td>\n",
       "      <td>0.000</td>\n",
       "    </tr>\n",
       "  </tbody>\n",
       "</table>\n",
       "</div>"
      ],
      "text/plain": [
       "   loan_amnt  funded_amnt  funded_amnt_inv   term int_rate  installment grade  \\\n",
       "0   5000.000     5000.000         4975.000 36.000   10.65%      162.870     B   \n",
       "1   2500.000     2500.000         2500.000 60.000   15.27%       59.830     C   \n",
       "2   2400.000     2400.000         2400.000 36.000   15.96%       84.330     C   \n",
       "3  10000.000    10000.000        10000.000 36.000   13.49%      339.310     C   \n",
       "4   3000.000     3000.000         3000.000 60.000   12.69%       67.790     B   \n",
       "\n",
       "  emp_length home_ownership  annual_inc verification_status  loan_status  \\\n",
       "0  10+ years           RENT   24000.000            Verified   Fully Paid   \n",
       "1   < 1 year           RENT   30000.000     Source Verified  Charged Off   \n",
       "2  10+ years           RENT   12252.000        Not Verified   Fully Paid   \n",
       "3  10+ years           RENT   49200.000     Source Verified   Fully Paid   \n",
       "4     1 year           RENT   80000.000     Source Verified   Fully Paid   \n",
       "\n",
       "          purpose    dti earliest_cr_line  fico_range_low  fico_range_high  \\\n",
       "0     credit_card 27.650         Jan-1985         735.000          739.000   \n",
       "1             car  1.000         Apr-1999         740.000          744.000   \n",
       "2  small_business  8.720         Nov-2001         735.000          739.000   \n",
       "3           other 20.000         Feb-1996         690.000          694.000   \n",
       "4           other 17.940         Jan-1996         695.000          699.000   \n",
       "\n",
       "   inq_last_6mths  open_acc  pub_rec  revol_bal revol_util  total_acc  \\\n",
       "0           1.000     3.000    0.000  13648.000      83.7%      9.000   \n",
       "1           5.000     3.000    0.000   1687.000       9.4%      4.000   \n",
       "2           2.000     2.000    0.000   2956.000      98.5%     10.000   \n",
       "3           1.000    10.000    0.000   5598.000        21%     37.000   \n",
       "4           0.000    15.000    0.000  27783.000      53.9%     38.000   \n",
       "\n",
       "   pub_rec_bankruptcies  \n",
       "0                 0.000  \n",
       "1                 0.000  \n",
       "2                 0.000  \n",
       "3                 0.000  \n",
       "4                 0.000  "
      ]
     },
     "execution_count": 55,
     "metadata": {},
     "output_type": "execute_result"
    }
   ],
   "source": [
    "df.head()"
   ]
  },
  {
   "cell_type": "code",
   "execution_count": null,
   "id": "f38038c6",
   "metadata": {},
   "outputs": [],
   "source": []
  },
  {
   "cell_type": "code",
   "execution_count": 56,
   "id": "dc601807",
   "metadata": {},
   "outputs": [],
   "source": [
    "#usuwam dodatkowe znaki z kolumny 'emp_length'"
   ]
  },
  {
   "cell_type": "code",
   "execution_count": 57,
   "id": "89c763a8",
   "metadata": {},
   "outputs": [
    {
     "data": {
      "text/plain": [
       "10+ years    9369\n",
       "< 1 year     5062\n",
       "2 years      4743\n",
       "3 years      4364\n",
       "4 years      3649\n",
       "1 year       3595\n",
       "5 years      3458\n",
       "6 years      2375\n",
       "7 years      1875\n",
       "8 years      1592\n",
       "9 years      1341\n",
       "Name: emp_length, dtype: int64"
      ]
     },
     "execution_count": 57,
     "metadata": {},
     "output_type": "execute_result"
    }
   ],
   "source": [
    "df['emp_length'].value_counts()"
   ]
  },
  {
   "cell_type": "code",
   "execution_count": 58,
   "id": "505545f8",
   "metadata": {},
   "outputs": [],
   "source": [
    "def usuniecie_znakow(df, column):\n",
    "    df[column] = df[column].str.replace('\\+ years', '')\n",
    "    df[column] = df[column].str.replace('< 1 year', str(0))\n",
    "    df[column] = df[column].str.replace(' years', '')\n",
    "    df[column] = df[column].str.replace(' year', '')"
   ]
  },
  {
   "cell_type": "code",
   "execution_count": 59,
   "id": "43de6771",
   "metadata": {},
   "outputs": [
    {
     "name": "stderr",
     "output_type": "stream",
     "text": [
      "C:\\Users\\asus\\AppData\\Local\\Temp\\ipykernel_304\\1282640428.py:2: FutureWarning: The default value of regex will change from True to False in a future version.\n",
      "  df[column] = df[column].str.replace('\\+ years', '')\n"
     ]
    }
   ],
   "source": [
    "usuniecie_znakow(df,'emp_length')"
   ]
  },
  {
   "cell_type": "code",
   "execution_count": 60,
   "id": "b5d193ae",
   "metadata": {},
   "outputs": [
    {
     "data": {
      "text/plain": [
       "10    9369\n",
       "0     5062\n",
       "2     4743\n",
       "3     4364\n",
       "4     3649\n",
       "1     3595\n",
       "5     3458\n",
       "6     2375\n",
       "7     1875\n",
       "8     1592\n",
       "9     1341\n",
       "Name: emp_length, dtype: int64"
      ]
     },
     "execution_count": 60,
     "metadata": {},
     "output_type": "execute_result"
    }
   ],
   "source": [
    "df['emp_length'].value_counts()"
   ]
  },
  {
   "cell_type": "code",
   "execution_count": 61,
   "id": "17876107",
   "metadata": {},
   "outputs": [
    {
     "data": {
      "text/plain": [
       "array(['10', '0', '1', '3', '8', '9', '4', '5', '6', '2', '7', nan],\n",
       "      dtype=object)"
      ]
     },
     "execution_count": 61,
     "metadata": {},
     "output_type": "execute_result"
    }
   ],
   "source": [
    "df['emp_length'].unique()"
   ]
  },
  {
   "cell_type": "code",
   "execution_count": 62,
   "id": "49e417c8",
   "metadata": {},
   "outputs": [],
   "source": [
    "#W zbiorze występuje liczba 4 i 4.0. Połączę obie te wartości w jedną"
   ]
  },
  {
   "cell_type": "code",
   "execution_count": null,
   "id": "957ea413",
   "metadata": {},
   "outputs": [],
   "source": []
  },
  {
   "cell_type": "code",
   "execution_count": 63,
   "id": "77e44dce",
   "metadata": {},
   "outputs": [],
   "source": [
    "#df['emp_length'] = pd.to_numeric(df['emp_length'], downcast='integer')"
   ]
  },
  {
   "cell_type": "code",
   "execution_count": 64,
   "id": "7803029c",
   "metadata": {},
   "outputs": [],
   "source": [
    "#df['emp_length'].unique()"
   ]
  },
  {
   "cell_type": "code",
   "execution_count": null,
   "id": "2c217650",
   "metadata": {},
   "outputs": [],
   "source": []
  },
  {
   "cell_type": "code",
   "execution_count": 65,
   "id": "b6628be8",
   "metadata": {},
   "outputs": [],
   "source": [
    "#przekształcenie procentow"
   ]
  },
  {
   "cell_type": "code",
   "execution_count": 66,
   "id": "4af7c06a",
   "metadata": {},
   "outputs": [],
   "source": [
    "df['revol_util'] = df['revol_util'].str.rstrip('%').astype('float') / 100.0"
   ]
  },
  {
   "cell_type": "code",
   "execution_count": 67,
   "id": "6adfee74",
   "metadata": {},
   "outputs": [],
   "source": [
    "df['int_rate'] = df['int_rate'].str.rstrip('%').astype('float') / 100.0"
   ]
  },
  {
   "cell_type": "code",
   "execution_count": 68,
   "id": "9b5af1e1",
   "metadata": {
    "scrolled": true
   },
   "outputs": [
    {
     "data": {
      "text/html": [
       "<div>\n",
       "<style scoped>\n",
       "    .dataframe tbody tr th:only-of-type {\n",
       "        vertical-align: middle;\n",
       "    }\n",
       "\n",
       "    .dataframe tbody tr th {\n",
       "        vertical-align: top;\n",
       "    }\n",
       "\n",
       "    .dataframe thead th {\n",
       "        text-align: right;\n",
       "    }\n",
       "</style>\n",
       "<table border=\"1\" class=\"dataframe\">\n",
       "  <thead>\n",
       "    <tr style=\"text-align: right;\">\n",
       "      <th></th>\n",
       "      <th>loan_amnt</th>\n",
       "      <th>funded_amnt</th>\n",
       "      <th>funded_amnt_inv</th>\n",
       "      <th>term</th>\n",
       "      <th>int_rate</th>\n",
       "      <th>installment</th>\n",
       "      <th>grade</th>\n",
       "      <th>emp_length</th>\n",
       "      <th>home_ownership</th>\n",
       "      <th>annual_inc</th>\n",
       "      <th>verification_status</th>\n",
       "      <th>loan_status</th>\n",
       "      <th>purpose</th>\n",
       "      <th>dti</th>\n",
       "      <th>earliest_cr_line</th>\n",
       "      <th>fico_range_low</th>\n",
       "      <th>fico_range_high</th>\n",
       "      <th>inq_last_6mths</th>\n",
       "      <th>open_acc</th>\n",
       "      <th>pub_rec</th>\n",
       "      <th>revol_bal</th>\n",
       "      <th>revol_util</th>\n",
       "      <th>total_acc</th>\n",
       "      <th>pub_rec_bankruptcies</th>\n",
       "    </tr>\n",
       "  </thead>\n",
       "  <tbody>\n",
       "    <tr>\n",
       "      <th>0</th>\n",
       "      <td>5000.000</td>\n",
       "      <td>5000.000</td>\n",
       "      <td>4975.000</td>\n",
       "      <td>36.000</td>\n",
       "      <td>0.106</td>\n",
       "      <td>162.870</td>\n",
       "      <td>B</td>\n",
       "      <td>10</td>\n",
       "      <td>RENT</td>\n",
       "      <td>24000.000</td>\n",
       "      <td>Verified</td>\n",
       "      <td>Fully Paid</td>\n",
       "      <td>credit_card</td>\n",
       "      <td>27.650</td>\n",
       "      <td>Jan-1985</td>\n",
       "      <td>735.000</td>\n",
       "      <td>739.000</td>\n",
       "      <td>1.000</td>\n",
       "      <td>3.000</td>\n",
       "      <td>0.000</td>\n",
       "      <td>13648.000</td>\n",
       "      <td>0.837</td>\n",
       "      <td>9.000</td>\n",
       "      <td>0.000</td>\n",
       "    </tr>\n",
       "    <tr>\n",
       "      <th>1</th>\n",
       "      <td>2500.000</td>\n",
       "      <td>2500.000</td>\n",
       "      <td>2500.000</td>\n",
       "      <td>60.000</td>\n",
       "      <td>0.153</td>\n",
       "      <td>59.830</td>\n",
       "      <td>C</td>\n",
       "      <td>0</td>\n",
       "      <td>RENT</td>\n",
       "      <td>30000.000</td>\n",
       "      <td>Source Verified</td>\n",
       "      <td>Charged Off</td>\n",
       "      <td>car</td>\n",
       "      <td>1.000</td>\n",
       "      <td>Apr-1999</td>\n",
       "      <td>740.000</td>\n",
       "      <td>744.000</td>\n",
       "      <td>5.000</td>\n",
       "      <td>3.000</td>\n",
       "      <td>0.000</td>\n",
       "      <td>1687.000</td>\n",
       "      <td>0.094</td>\n",
       "      <td>4.000</td>\n",
       "      <td>0.000</td>\n",
       "    </tr>\n",
       "    <tr>\n",
       "      <th>2</th>\n",
       "      <td>2400.000</td>\n",
       "      <td>2400.000</td>\n",
       "      <td>2400.000</td>\n",
       "      <td>36.000</td>\n",
       "      <td>0.160</td>\n",
       "      <td>84.330</td>\n",
       "      <td>C</td>\n",
       "      <td>10</td>\n",
       "      <td>RENT</td>\n",
       "      <td>12252.000</td>\n",
       "      <td>Not Verified</td>\n",
       "      <td>Fully Paid</td>\n",
       "      <td>small_business</td>\n",
       "      <td>8.720</td>\n",
       "      <td>Nov-2001</td>\n",
       "      <td>735.000</td>\n",
       "      <td>739.000</td>\n",
       "      <td>2.000</td>\n",
       "      <td>2.000</td>\n",
       "      <td>0.000</td>\n",
       "      <td>2956.000</td>\n",
       "      <td>0.985</td>\n",
       "      <td>10.000</td>\n",
       "      <td>0.000</td>\n",
       "    </tr>\n",
       "    <tr>\n",
       "      <th>3</th>\n",
       "      <td>10000.000</td>\n",
       "      <td>10000.000</td>\n",
       "      <td>10000.000</td>\n",
       "      <td>36.000</td>\n",
       "      <td>0.135</td>\n",
       "      <td>339.310</td>\n",
       "      <td>C</td>\n",
       "      <td>10</td>\n",
       "      <td>RENT</td>\n",
       "      <td>49200.000</td>\n",
       "      <td>Source Verified</td>\n",
       "      <td>Fully Paid</td>\n",
       "      <td>other</td>\n",
       "      <td>20.000</td>\n",
       "      <td>Feb-1996</td>\n",
       "      <td>690.000</td>\n",
       "      <td>694.000</td>\n",
       "      <td>1.000</td>\n",
       "      <td>10.000</td>\n",
       "      <td>0.000</td>\n",
       "      <td>5598.000</td>\n",
       "      <td>0.210</td>\n",
       "      <td>37.000</td>\n",
       "      <td>0.000</td>\n",
       "    </tr>\n",
       "    <tr>\n",
       "      <th>4</th>\n",
       "      <td>3000.000</td>\n",
       "      <td>3000.000</td>\n",
       "      <td>3000.000</td>\n",
       "      <td>60.000</td>\n",
       "      <td>0.127</td>\n",
       "      <td>67.790</td>\n",
       "      <td>B</td>\n",
       "      <td>1</td>\n",
       "      <td>RENT</td>\n",
       "      <td>80000.000</td>\n",
       "      <td>Source Verified</td>\n",
       "      <td>Fully Paid</td>\n",
       "      <td>other</td>\n",
       "      <td>17.940</td>\n",
       "      <td>Jan-1996</td>\n",
       "      <td>695.000</td>\n",
       "      <td>699.000</td>\n",
       "      <td>0.000</td>\n",
       "      <td>15.000</td>\n",
       "      <td>0.000</td>\n",
       "      <td>27783.000</td>\n",
       "      <td>0.539</td>\n",
       "      <td>38.000</td>\n",
       "      <td>0.000</td>\n",
       "    </tr>\n",
       "  </tbody>\n",
       "</table>\n",
       "</div>"
      ],
      "text/plain": [
       "   loan_amnt  funded_amnt  funded_amnt_inv   term  int_rate  installment  \\\n",
       "0   5000.000     5000.000         4975.000 36.000     0.106      162.870   \n",
       "1   2500.000     2500.000         2500.000 60.000     0.153       59.830   \n",
       "2   2400.000     2400.000         2400.000 36.000     0.160       84.330   \n",
       "3  10000.000    10000.000        10000.000 36.000     0.135      339.310   \n",
       "4   3000.000     3000.000         3000.000 60.000     0.127       67.790   \n",
       "\n",
       "  grade emp_length home_ownership  annual_inc verification_status  \\\n",
       "0     B         10           RENT   24000.000            Verified   \n",
       "1     C          0           RENT   30000.000     Source Verified   \n",
       "2     C         10           RENT   12252.000        Not Verified   \n",
       "3     C         10           RENT   49200.000     Source Verified   \n",
       "4     B          1           RENT   80000.000     Source Verified   \n",
       "\n",
       "   loan_status         purpose    dti earliest_cr_line  fico_range_low  \\\n",
       "0   Fully Paid     credit_card 27.650         Jan-1985         735.000   \n",
       "1  Charged Off             car  1.000         Apr-1999         740.000   \n",
       "2   Fully Paid  small_business  8.720         Nov-2001         735.000   \n",
       "3   Fully Paid           other 20.000         Feb-1996         690.000   \n",
       "4   Fully Paid           other 17.940         Jan-1996         695.000   \n",
       "\n",
       "   fico_range_high  inq_last_6mths  open_acc  pub_rec  revol_bal  revol_util  \\\n",
       "0          739.000           1.000     3.000    0.000  13648.000       0.837   \n",
       "1          744.000           5.000     3.000    0.000   1687.000       0.094   \n",
       "2          739.000           2.000     2.000    0.000   2956.000       0.985   \n",
       "3          694.000           1.000    10.000    0.000   5598.000       0.210   \n",
       "4          699.000           0.000    15.000    0.000  27783.000       0.539   \n",
       "\n",
       "   total_acc  pub_rec_bankruptcies  \n",
       "0      9.000                 0.000  \n",
       "1      4.000                 0.000  \n",
       "2     10.000                 0.000  \n",
       "3     37.000                 0.000  \n",
       "4     38.000                 0.000  "
      ]
     },
     "execution_count": 68,
     "metadata": {},
     "output_type": "execute_result"
    }
   ],
   "source": [
    "df.head()"
   ]
  },
  {
   "cell_type": "code",
   "execution_count": null,
   "id": "0091b74f",
   "metadata": {},
   "outputs": [],
   "source": []
  },
  {
   "cell_type": "code",
   "execution_count": 69,
   "id": "98b57f7f",
   "metadata": {},
   "outputs": [],
   "source": [
    "#wartości związane z datą"
   ]
  },
  {
   "cell_type": "code",
   "execution_count": 70,
   "id": "e07e6174",
   "metadata": {},
   "outputs": [
    {
     "data": {
      "text/plain": [
       "Oct-1999    393\n",
       "Nov-1998    390\n",
       "Oct-2000    370\n",
       "Dec-1998    366\n",
       "Dec-1997    348\n",
       "           ... \n",
       "Jul-1964      1\n",
       "Mar-1963      1\n",
       "Nov-1965      1\n",
       "Apr-1966      1\n",
       "Nov-1959      1\n",
       "Name: earliest_cr_line, Length: 530, dtype: int64"
      ]
     },
     "execution_count": 70,
     "metadata": {},
     "output_type": "execute_result"
    }
   ],
   "source": [
    "df['earliest_cr_line'].value_counts()"
   ]
  },
  {
   "cell_type": "code",
   "execution_count": 71,
   "id": "19f7884e",
   "metadata": {},
   "outputs": [
    {
     "data": {
      "text/plain": [
       "dtype('O')"
      ]
     },
     "execution_count": 71,
     "metadata": {},
     "output_type": "execute_result"
    }
   ],
   "source": [
    "df['earliest_cr_line'].dtypes"
   ]
  },
  {
   "cell_type": "code",
   "execution_count": 72,
   "id": "8f5df604",
   "metadata": {},
   "outputs": [],
   "source": [
    "#df['earliest_cr_line'].dt.year"
   ]
  },
  {
   "cell_type": "code",
   "execution_count": 73,
   "id": "8d5aeb3a",
   "metadata": {},
   "outputs": [],
   "source": [
    "df['earliest_cr_line'] = pd.DatetimeIndex(df['earliest_cr_line']).year"
   ]
  },
  {
   "cell_type": "code",
   "execution_count": 74,
   "id": "3d3294a8",
   "metadata": {},
   "outputs": [
    {
     "data": {
      "text/plain": [
       "2000.000    3436\n",
       "1999.000    3152\n",
       "1998.000    3066\n",
       "2001.000    2667\n",
       "1997.000    2622\n",
       "1996.000    2426\n",
       "1995.000    2292\n",
       "1994.000    2166\n",
       "2002.000    2059\n",
       "2003.000    1976\n",
       "2004.000    1890\n",
       "2005.000    1639\n",
       "1993.000    1610\n",
       "2006.000    1343\n",
       "1992.000    1155\n",
       "1990.000    1113\n",
       "1991.000    1039\n",
       "1989.000     931\n",
       "1988.000     783\n",
       "2007.000     767\n",
       "1987.000     664\n",
       "1986.000     533\n",
       "1985.000     486\n",
       "1984.000     433\n",
       "1983.000     360\n",
       "1982.000     238\n",
       "1981.000     207\n",
       "1980.000     187\n",
       "1979.000     178\n",
       "1978.000     173\n",
       "2008.000     160\n",
       "1977.000     124\n",
       "1976.000     112\n",
       "1975.000      87\n",
       "1974.000      71\n",
       "1973.000      69\n",
       "1972.000      56\n",
       "1971.000      50\n",
       "1970.000      49\n",
       "1969.000      41\n",
       "1968.000      23\n",
       "1967.000      18\n",
       "1963.000      12\n",
       "1966.000      11\n",
       "1964.000       9\n",
       "1965.000       9\n",
       "1962.000       5\n",
       "1954.000       2\n",
       "1959.000       2\n",
       "1961.000       2\n",
       "1956.000       1\n",
       "1946.000       1\n",
       "1950.000       1\n",
       "Name: earliest_cr_line, dtype: int64"
      ]
     },
     "execution_count": 74,
     "metadata": {},
     "output_type": "execute_result"
    }
   ],
   "source": [
    "df['earliest_cr_line'].value_counts()"
   ]
  },
  {
   "cell_type": "code",
   "execution_count": 75,
   "id": "6d208186",
   "metadata": {},
   "outputs": [],
   "source": [
    "#pd.to_numeric(df['earliest_cr_line'], downcast='integer')"
   ]
  },
  {
   "cell_type": "code",
   "execution_count": null,
   "id": "5f65db38",
   "metadata": {},
   "outputs": [],
   "source": []
  },
  {
   "cell_type": "code",
   "execution_count": 76,
   "id": "26e0564c",
   "metadata": {},
   "outputs": [],
   "source": [
    "#zamieniam wartości 'verification_status' na dwie wartości 0 i 1. "
   ]
  },
  {
   "cell_type": "code",
   "execution_count": 77,
   "id": "27cc1bdd",
   "metadata": {},
   "outputs": [
    {
     "data": {
      "text/plain": [
       "Not Verified       18758\n",
       "Verified           13471\n",
       "Source Verified    10306\n",
       "Name: verification_status, dtype: int64"
      ]
     },
     "execution_count": 77,
     "metadata": {},
     "output_type": "execute_result"
    }
   ],
   "source": [
    "df['verification_status'].value_counts()"
   ]
  },
  {
   "cell_type": "code",
   "execution_count": 78,
   "id": "c52e69f1",
   "metadata": {},
   "outputs": [],
   "source": [
    "df['verification_status2'] = np.where(df['verification_status'].isin(\n",
    "    ['Verified', 'Source Verified']), 0, 1)"
   ]
  },
  {
   "cell_type": "code",
   "execution_count": 79,
   "id": "e7954898",
   "metadata": {},
   "outputs": [
    {
     "data": {
      "text/plain": [
       "0    23777\n",
       "1    18759\n",
       "Name: verification_status2, dtype: int64"
      ]
     },
     "execution_count": 79,
     "metadata": {},
     "output_type": "execute_result"
    }
   ],
   "source": [
    "df['verification_status2'].value_counts()"
   ]
  },
  {
   "cell_type": "code",
   "execution_count": 80,
   "id": "ea7cf789",
   "metadata": {},
   "outputs": [],
   "source": [
    "#usuwam pierwotną kolumnę 'verification_status'\n",
    "df.drop(columns = ['verification_status'], inplace = True)"
   ]
  },
  {
   "cell_type": "code",
   "execution_count": null,
   "id": "6743c6e6",
   "metadata": {},
   "outputs": [],
   "source": []
  },
  {
   "cell_type": "markdown",
   "id": "f27ab48f",
   "metadata": {},
   "source": [
    "### BRAKUJĄCE WARTOŚCI"
   ]
  },
  {
   "cell_type": "code",
   "execution_count": 81,
   "id": "1f8e3d48",
   "metadata": {
    "scrolled": true
   },
   "outputs": [
    {
     "data": {
      "text/plain": [
       "loan_amnt                  1\n",
       "funded_amnt                1\n",
       "funded_amnt_inv            1\n",
       "term                       1\n",
       "int_rate                   1\n",
       "installment                1\n",
       "grade                      1\n",
       "emp_length              1113\n",
       "home_ownership             1\n",
       "annual_inc                 5\n",
       "loan_status                1\n",
       "purpose                    1\n",
       "dti                        1\n",
       "earliest_cr_line          30\n",
       "fico_range_low             1\n",
       "fico_range_high            1\n",
       "inq_last_6mths            30\n",
       "open_acc                  30\n",
       "pub_rec                   30\n",
       "revol_bal                  1\n",
       "revol_util                91\n",
       "total_acc                 30\n",
       "pub_rec_bankruptcies    1366\n",
       "verification_status2       0\n",
       "dtype: int64"
      ]
     },
     "execution_count": 81,
     "metadata": {},
     "output_type": "execute_result"
    }
   ],
   "source": [
    "df.isna().sum()"
   ]
  },
  {
   "cell_type": "code",
   "execution_count": 82,
   "id": "ccf027fe",
   "metadata": {},
   "outputs": [
    {
     "data": {
      "text/plain": [
       "array([[<AxesSubplot:title={'center':'loan_amnt'}>,\n",
       "        <AxesSubplot:title={'center':'funded_amnt'}>,\n",
       "        <AxesSubplot:title={'center':'funded_amnt_inv'}>,\n",
       "        <AxesSubplot:title={'center':'term'}>],\n",
       "       [<AxesSubplot:title={'center':'int_rate'}>,\n",
       "        <AxesSubplot:title={'center':'installment'}>,\n",
       "        <AxesSubplot:title={'center':'annual_inc'}>,\n",
       "        <AxesSubplot:title={'center':'dti'}>],\n",
       "       [<AxesSubplot:title={'center':'earliest_cr_line'}>,\n",
       "        <AxesSubplot:title={'center':'fico_range_low'}>,\n",
       "        <AxesSubplot:title={'center':'fico_range_high'}>,\n",
       "        <AxesSubplot:title={'center':'inq_last_6mths'}>],\n",
       "       [<AxesSubplot:title={'center':'open_acc'}>,\n",
       "        <AxesSubplot:title={'center':'pub_rec'}>,\n",
       "        <AxesSubplot:title={'center':'revol_bal'}>,\n",
       "        <AxesSubplot:title={'center':'revol_util'}>],\n",
       "       [<AxesSubplot:title={'center':'total_acc'}>,\n",
       "        <AxesSubplot:title={'center':'pub_rec_bankruptcies'}>,\n",
       "        <AxesSubplot:title={'center':'verification_status2'}>,\n",
       "        <AxesSubplot:>]], dtype=object)"
      ]
     },
     "execution_count": 82,
     "metadata": {},
     "output_type": "execute_result"
    },
    {
     "data": {
      "image/png": "[encoded data removed]",
      "text/plain": [
       "<Figure size 1500x1500 with 20 Axes>"
      ]
     },
     "metadata": {},
     "output_type": "display_data"
    }
   ],
   "source": [
    "df.hist(figsize=(15,15))"
   ]
  },
  {
   "cell_type": "code",
   "execution_count": 83,
   "id": "1c31e832",
   "metadata": {},
   "outputs": [],
   "source": [
    "#Uzupełniam brakujące wartości - na podstawie histogramu decyduję, czy uzupełniam medianą, czy najczęściej występującą wartością"
   ]
  },
  {
   "cell_type": "code",
   "execution_count": 84,
   "id": "692e9674",
   "metadata": {},
   "outputs": [],
   "source": [
    "# Dane kategoryczne\n",
    "\n",
    "# Będę je uzupełniać najczęściej występującą wartością\n",
    "# Najczęściej występującą wartość 'term' to 36\n",
    "# Najczęściej występującą wartość 'grade' to B\n",
    "# Najczęściej występującą wartość 'home_ownership' to 'RENT'\n",
    "# Najczęściej występującą wartość 'purpose' to debt_consolidation'"
   ]
  },
  {
   "cell_type": "code",
   "execution_count": 85,
   "id": "3300fbdd",
   "metadata": {},
   "outputs": [
    {
     "data": {
      "text/plain": [
       "36.000    31534\n",
       "60.000    11001\n",
       "Name: term, dtype: int64"
      ]
     },
     "execution_count": 85,
     "metadata": {},
     "output_type": "execute_result"
    }
   ],
   "source": [
    "#term\n",
    "df['term'].value_counts()"
   ]
  },
  {
   "cell_type": "code",
   "execution_count": 86,
   "id": "ca97e218",
   "metadata": {},
   "outputs": [],
   "source": [
    "df['term'].fillna(36.0, inplace=True)"
   ]
  },
  {
   "cell_type": "code",
   "execution_count": null,
   "id": "30f60744",
   "metadata": {},
   "outputs": [],
   "source": []
  },
  {
   "cell_type": "code",
   "execution_count": 87,
   "id": "539ca26a",
   "metadata": {},
   "outputs": [
    {
     "data": {
      "text/plain": [
       "B    12389\n",
       "A    10183\n",
       "C     8740\n",
       "D     6016\n",
       "E     3394\n",
       "F     1301\n",
       "G      512\n",
       "Name: grade, dtype: int64"
      ]
     },
     "execution_count": 87,
     "metadata": {},
     "output_type": "execute_result"
    }
   ],
   "source": [
    "#grade\n",
    "df['grade'].value_counts()"
   ]
  },
  {
   "cell_type": "code",
   "execution_count": 88,
   "id": "673d522b",
   "metadata": {},
   "outputs": [],
   "source": [
    "df['grade'].fillna('B', inplace=True)"
   ]
  },
  {
   "cell_type": "code",
   "execution_count": null,
   "id": "c17de7c7",
   "metadata": {},
   "outputs": [],
   "source": []
  },
  {
   "cell_type": "code",
   "execution_count": 89,
   "id": "f05eb57a",
   "metadata": {},
   "outputs": [
    {
     "data": {
      "text/plain": [
       "RENT        20181\n",
       "MORTGAGE    18959\n",
       "OWN          3251\n",
       "OTHER         136\n",
       "NONE            8\n",
       "Name: home_ownership, dtype: int64"
      ]
     },
     "execution_count": 89,
     "metadata": {},
     "output_type": "execute_result"
    }
   ],
   "source": [
    "#home_ownership\n",
    "df['home_ownership'].value_counts()"
   ]
  },
  {
   "cell_type": "code",
   "execution_count": 90,
   "id": "30d2b11d",
   "metadata": {},
   "outputs": [],
   "source": [
    "df['home_ownership'].fillna('RENT', inplace=True)"
   ]
  },
  {
   "cell_type": "code",
   "execution_count": null,
   "id": "e57b1b94",
   "metadata": {},
   "outputs": [],
   "source": []
  },
  {
   "cell_type": "code",
   "execution_count": 91,
   "id": "0bc4d395",
   "metadata": {},
   "outputs": [
    {
     "data": {
      "text/plain": [
       "debt_consolidation    19776\n",
       "credit_card            5477\n",
       "other                  4425\n",
       "home_improvement       3199\n",
       "major_purchase         2311\n",
       "small_business         1992\n",
       "car                    1615\n",
       "wedding                1004\n",
       "medical                 753\n",
       "moving                  629\n",
       "house                   426\n",
       "educational             422\n",
       "vacation                400\n",
       "renewable_energy        106\n",
       "Name: purpose, dtype: int64"
      ]
     },
     "execution_count": 91,
     "metadata": {},
     "output_type": "execute_result"
    }
   ],
   "source": [
    "#purpose\n",
    "df['purpose'].value_counts()"
   ]
  },
  {
   "cell_type": "code",
   "execution_count": 92,
   "id": "410bf6b7",
   "metadata": {},
   "outputs": [],
   "source": [
    "df['purpose'].fillna('debt_consolidation', inplace=True)"
   ]
  },
  {
   "cell_type": "code",
   "execution_count": null,
   "id": "098132ca",
   "metadata": {},
   "outputs": [],
   "source": []
  },
  {
   "cell_type": "code",
   "execution_count": 93,
   "id": "e968b228",
   "metadata": {},
   "outputs": [
    {
     "data": {
      "text/plain": [
       "Fully Paid                                             34116\n",
       "Charged Off                                             5670\n",
       "Does not meet the credit policy. Status:Fully Paid      1988\n",
       "Does not meet the credit policy. Status:Charged Off      761\n",
       "Name: loan_status, dtype: int64"
      ]
     },
     "execution_count": 93,
     "metadata": {},
     "output_type": "execute_result"
    }
   ],
   "source": [
    "#loan_status\n",
    "df['loan_status'].value_counts()"
   ]
  },
  {
   "cell_type": "code",
   "execution_count": 94,
   "id": "8ef76977",
   "metadata": {},
   "outputs": [],
   "source": [
    "df['loan_status'].fillna('Fully Paid', inplace=True)"
   ]
  },
  {
   "cell_type": "code",
   "execution_count": null,
   "id": "c8525b2b",
   "metadata": {},
   "outputs": [],
   "source": []
  },
  {
   "cell_type": "code",
   "execution_count": 95,
   "id": "238a07b7",
   "metadata": {},
   "outputs": [],
   "source": [
    "# Dane numeryczne\n",
    "# Będę je uzupełniać medianą"
   ]
  },
  {
   "cell_type": "code",
   "execution_count": null,
   "id": "c1350408",
   "metadata": {},
   "outputs": [],
   "source": []
  },
  {
   "cell_type": "code",
   "execution_count": 96,
   "id": "019aea89",
   "metadata": {},
   "outputs": [],
   "source": [
    "#loan_amnt\n",
    "df['loan_amnt'].fillna(df['loan_amnt'].median(), inplace=True)"
   ]
  },
  {
   "cell_type": "code",
   "execution_count": 97,
   "id": "4e5fd905",
   "metadata": {},
   "outputs": [],
   "source": [
    "#funded_amnt\n",
    "df['funded_amnt'].fillna(df['funded_amnt'].median(), inplace=True)"
   ]
  },
  {
   "cell_type": "code",
   "execution_count": 98,
   "id": "9f2c0598",
   "metadata": {},
   "outputs": [],
   "source": [
    "#funded_amnt_inv\n",
    "df['funded_amnt_inv'].fillna(df['funded_amnt_inv'].median(), inplace=True)"
   ]
  },
  {
   "cell_type": "code",
   "execution_count": 99,
   "id": "6fd6ae8e",
   "metadata": {},
   "outputs": [],
   "source": [
    "#int_rate\n",
    "df['int_rate'].fillna(df['int_rate'].median(), inplace=True)"
   ]
  },
  {
   "cell_type": "code",
   "execution_count": 100,
   "id": "9ec57887",
   "metadata": {},
   "outputs": [],
   "source": [
    "#installment\n",
    "df['installment'].fillna(df['installment'].median(), inplace=True)"
   ]
  },
  {
   "cell_type": "code",
   "execution_count": 101,
   "id": "83e093e0",
   "metadata": {},
   "outputs": [],
   "source": [
    "#emp_length\n",
    "df['emp_length'].fillna(df['emp_length'].median(), inplace=True)"
   ]
  },
  {
   "cell_type": "code",
   "execution_count": 102,
   "id": "9d15b587",
   "metadata": {},
   "outputs": [],
   "source": [
    "#annual_inc\n",
    "df['annual_inc'].fillna(df['annual_inc'].median(), inplace=True)"
   ]
  },
  {
   "cell_type": "code",
   "execution_count": 103,
   "id": "6bf86f27",
   "metadata": {},
   "outputs": [],
   "source": [
    "#dti\n",
    "df['dti'].fillna(df['dti'].median(), inplace=True)"
   ]
  },
  {
   "cell_type": "code",
   "execution_count": 104,
   "id": "ea852491",
   "metadata": {},
   "outputs": [],
   "source": [
    "#fico_range_low\n",
    "df['fico_range_low'].fillna(df['fico_range_low'].median(), inplace=True)"
   ]
  },
  {
   "cell_type": "code",
   "execution_count": 105,
   "id": "0d87fe6e",
   "metadata": {},
   "outputs": [],
   "source": [
    "#fico_range_high\n",
    "df['fico_range_high'].fillna(df['fico_range_high'].median(), inplace=True)"
   ]
  },
  {
   "cell_type": "code",
   "execution_count": 106,
   "id": "f2f637f5",
   "metadata": {},
   "outputs": [],
   "source": [
    "#inq_last_6mths\n",
    "df['emp_length'].fillna(df['emp_length'].median(), inplace=True)"
   ]
  },
  {
   "cell_type": "code",
   "execution_count": 107,
   "id": "b6b470e7",
   "metadata": {},
   "outputs": [],
   "source": [
    "#open_acc\n",
    "df['open_acc'].fillna(df['open_acc'].median(), inplace=True)"
   ]
  },
  {
   "cell_type": "code",
   "execution_count": 108,
   "id": "ab8c7b34",
   "metadata": {},
   "outputs": [],
   "source": [
    "#pub_rec\n",
    "df['pub_rec'].fillna(df['pub_rec'].median(), inplace=True)"
   ]
  },
  {
   "cell_type": "code",
   "execution_count": 109,
   "id": "f36421a4",
   "metadata": {},
   "outputs": [],
   "source": [
    "#revol_bal\n",
    "df['revol_bal'].fillna(df['revol_bal'].median(), inplace=True)"
   ]
  },
  {
   "cell_type": "code",
   "execution_count": 110,
   "id": "6ca2165a",
   "metadata": {},
   "outputs": [],
   "source": [
    "#revol_util\n",
    "df['revol_util'].fillna(df['revol_util'].median(), inplace=True)"
   ]
  },
  {
   "cell_type": "code",
   "execution_count": 111,
   "id": "02e1237a",
   "metadata": {},
   "outputs": [],
   "source": [
    "#total_acc\n",
    "df['total_acc'].fillna(df['total_acc'].median(), inplace=True)"
   ]
  },
  {
   "cell_type": "code",
   "execution_count": 112,
   "id": "503b4ce3",
   "metadata": {},
   "outputs": [],
   "source": [
    "#pub_rec_bankruptcies\n",
    "df['pub_rec_bankruptcies'].fillna(df['pub_rec_bankruptcies'].median(), inplace=True)"
   ]
  },
  {
   "cell_type": "code",
   "execution_count": 113,
   "id": "91e7e893",
   "metadata": {},
   "outputs": [],
   "source": [
    "#earliest_cr_line\n",
    "df['earliest_cr_line'].fillna(df['earliest_cr_line'].median(), inplace=True)"
   ]
  },
  {
   "cell_type": "code",
   "execution_count": 114,
   "id": "0e285153",
   "metadata": {},
   "outputs": [],
   "source": [
    "#inq_last_6mths\n",
    "df['inq_last_6mths'].fillna(df['inq_last_6mths'].median(), inplace=True)"
   ]
  },
  {
   "cell_type": "code",
   "execution_count": null,
   "id": "36335d3a",
   "metadata": {},
   "outputs": [],
   "source": []
  },
  {
   "cell_type": "code",
   "execution_count": 115,
   "id": "f597c9e1",
   "metadata": {},
   "outputs": [
    {
     "data": {
      "text/plain": [
       "loan_amnt               0\n",
       "funded_amnt             0\n",
       "funded_amnt_inv         0\n",
       "term                    0\n",
       "int_rate                0\n",
       "installment             0\n",
       "grade                   0\n",
       "emp_length              0\n",
       "home_ownership          0\n",
       "annual_inc              0\n",
       "loan_status             0\n",
       "purpose                 0\n",
       "dti                     0\n",
       "earliest_cr_line        0\n",
       "fico_range_low          0\n",
       "fico_range_high         0\n",
       "inq_last_6mths          0\n",
       "open_acc                0\n",
       "pub_rec                 0\n",
       "revol_bal               0\n",
       "revol_util              0\n",
       "total_acc               0\n",
       "pub_rec_bankruptcies    0\n",
       "verification_status2    0\n",
       "dtype: int64"
      ]
     },
     "execution_count": 115,
     "metadata": {},
     "output_type": "execute_result"
    }
   ],
   "source": [
    "df.isna().sum()"
   ]
  },
  {
   "cell_type": "markdown",
   "id": "14e4f920",
   "metadata": {},
   "source": [
    "# EDA"
   ]
  },
  {
   "cell_type": "markdown",
   "id": "b60320fd",
   "metadata": {},
   "source": [
    "### Kolumna ze statusem pożyczki"
   ]
  },
  {
   "cell_type": "code",
   "execution_count": 116,
   "id": "3d36f635",
   "metadata": {},
   "outputs": [],
   "source": [
    "# Zmienną objaśnianą jest kolumna ze statusem pożyczki - 'loan_status. Zadaniem jest przewidzenie, \n",
    "# czy klient spłaci kredyt - 1, czy nie spłaci - 0"
   ]
  },
  {
   "cell_type": "code",
   "execution_count": 117,
   "id": "8b5dc0ca",
   "metadata": {},
   "outputs": [
    {
     "data": {
      "text/plain": [
       "Fully Paid                                             34117\n",
       "Charged Off                                             5670\n",
       "Does not meet the credit policy. Status:Fully Paid      1988\n",
       "Does not meet the credit policy. Status:Charged Off      761\n",
       "Name: loan_status, dtype: int64"
      ]
     },
     "execution_count": 117,
     "metadata": {},
     "output_type": "execute_result"
    }
   ],
   "source": [
    "df['loan_status'].value_counts()"
   ]
  },
  {
   "cell_type": "code",
   "execution_count": 118,
   "id": "10b60ec7",
   "metadata": {},
   "outputs": [],
   "source": [
    "#zamieniam wartości \"loan_status\" na dwie wartości 0 i 1. "
   ]
  },
  {
   "cell_type": "code",
   "execution_count": 119,
   "id": "47fe6833",
   "metadata": {},
   "outputs": [],
   "source": [
    "df['niesplacony_splacony'] = np.where(df['loan_status'].isin(\n",
    "    ['Charged Off','Does not meet the credit policy. Status:Charged Off']), 0, 1)"
   ]
  },
  {
   "cell_type": "code",
   "execution_count": 120,
   "id": "841c4765",
   "metadata": {},
   "outputs": [
    {
     "data": {
      "text/plain": [
       "1    36105\n",
       "0     6431\n",
       "Name: niesplacony_splacony, dtype: int64"
      ]
     },
     "execution_count": 120,
     "metadata": {},
     "output_type": "execute_result"
    }
   ],
   "source": [
    "df['niesplacony_splacony'].value_counts()"
   ]
  },
  {
   "cell_type": "code",
   "execution_count": 121,
   "id": "3420677f",
   "metadata": {},
   "outputs": [],
   "source": [
    "#usuwam pierwotną kolumnę loan_status\n",
    "df.drop(columns = ['loan_status'], inplace = True)"
   ]
  },
  {
   "cell_type": "code",
   "execution_count": 122,
   "id": "ebb8bb3b",
   "metadata": {},
   "outputs": [
    {
     "data": {
      "image/png": "[encoded data removed]",
      "text/plain": [
       "<Figure size 640x480 with 1 Axes>"
      ]
     },
     "metadata": {},
     "output_type": "display_data"
    }
   ],
   "source": [
    "#Chcę sprawdzić, jaki rozkład ma zmienna dotycząca spłaty pożyczki. \n",
    "\n",
    "plt.style.use('ggplot')\n",
    "\n",
    "data = df['niesplacony_splacony'].value_counts(normalize=True)\n",
    "plt.pie(data, labels=data.index, startangle = 90, shadow = True, radius=1, explode= [0,0.05],autopct='%0.2f%%')\n",
    "plt.title('niesplacony_splacony', fontsize=16, fontweight='bold')\n",
    "plt.show()"
   ]
  },
  {
   "cell_type": "code",
   "execution_count": 123,
   "id": "ae963325",
   "metadata": {},
   "outputs": [],
   "source": [
    "#Dane są niezbalansowane - prawie 85% stanowią spłacone pożyczki, niespłacone zaledwie 15%."
   ]
  },
  {
   "cell_type": "markdown",
   "id": "987bb782",
   "metadata": {},
   "source": [
    "### Rozkład zmiennych , korelacje"
   ]
  },
  {
   "cell_type": "code",
   "execution_count": 124,
   "id": "129f78e3",
   "metadata": {},
   "outputs": [
    {
     "name": "stdout",
     "output_type": "stream",
     "text": [
      "Liczba 20 zmiennych numerycznych : ['loan_amnt', 'funded_amnt', 'funded_amnt_inv', 'term', 'int_rate', 'installment', 'annual_inc', 'dti', 'earliest_cr_line', 'fico_range_low', 'fico_range_high', 'inq_last_6mths', 'open_acc', 'pub_rec', 'revol_bal', 'revol_util', 'total_acc', 'pub_rec_bankruptcies', 'verification_status2', 'niesplacony_splacony']\n",
      "\n",
      "Liczba 4 zmiennych kategorycznych : ['grade', 'emp_length', 'home_ownership', 'purpose']\n"
     ]
    }
   ],
   "source": [
    "numeric_features = [feature for feature in df.columns if df[feature].dtype != 'O']\n",
    "categorical_features = [feature for feature in df.columns if df[feature].dtype == 'O']\n",
    "\n",
    "print('Liczba {} zmiennych numerycznych : {}'.format(len(numeric_features), numeric_features))\n",
    "print('\\nLiczba {} zmiennych kategorycznych : {}'.format(len(categorical_features), categorical_features))"
   ]
  },
  {
   "cell_type": "code",
   "execution_count": 127,
   "id": "f69331c8",
   "metadata": {},
   "outputs": [
    {
     "data": {
      "image/png": "[encoded data removed]",
      "text/plain": [
       "<Figure size 1500x1500 with 20 Axes>"
      ]
     },
     "metadata": {},
     "output_type": "display_data"
    }
   ],
   "source": [
    "plt.figure(figsize=(15, 15))\n",
    "plt.suptitle('Rozkład zmiennych', fontsize=20, fontweight='bold', alpha=0.8, y=1.)\n",
    "\n",
    "for i in range(0, len(numeric_features)):\n",
    "    plt.subplot(5, 4, i+1)\n",
    "    sns.kdeplot(x=df[numeric_features[i]],shade=True, color='b')\n",
    "    plt.xlabel(numeric_features[i])\n",
    "    plt.tight_layout()"
   ]
  },
  {
   "cell_type": "code",
   "execution_count": null,
   "id": "104d49c6",
   "metadata": {},
   "outputs": [],
   "source": [
    "# Km_driven, max_power, selling_price, and engine are right skewed and postively skewed.\n",
    "# Outliers in km_driven, enginer, selling_price, and max power."
   ]
  },
  {
   "cell_type": "code",
   "execution_count": null,
   "id": "011facef",
   "metadata": {},
   "outputs": [],
   "source": []
  },
  {
   "cell_type": "code",
   "execution_count": null,
   "id": "da89cd27",
   "metadata": {},
   "outputs": [],
   "source": [
    "#Sprawdzam korelację między poszczególnymi wartościami"
   ]
  },
  {
   "cell_type": "code",
   "execution_count": null,
   "id": "5613fda0",
   "metadata": {
    "scrolled": true
   },
   "outputs": [],
   "source": [
    "cor=df.corr()\n",
    "cor"
   ]
  },
  {
   "cell_type": "markdown",
   "id": "5d7cae79",
   "metadata": {},
   "source": []
  },
  {
   "cell_type": "code",
   "execution_count": null,
   "id": "4078836a",
   "metadata": {
    "scrolled": false
   },
   "outputs": [],
   "source": [
    "plt.figure(figsize=(14, 14))\n",
    "sns.heatmap(df.corr(), annot=True, cmap='viridis')"
   ]
  },
  {
   "cell_type": "code",
   "execution_count": null,
   "id": "e171d035",
   "metadata": {},
   "outputs": [],
   "source": [
    "#Najlepiej skorelowane z daną wyjściową są: 'fico range high' oraz 'fico range low', \n",
    "#najbardziej odwrotnie skoelowane są 'int_rate', 'term'."
   ]
  },
  {
   "cell_type": "code",
   "execution_count": null,
   "id": "4772b139",
   "metadata": {},
   "outputs": [],
   "source": [
    "#Wartości 'funded_amnt' i 'funded_amnt_inv' są silnie skorelowane ze sobą oraz wartością 'loan_amnt'. \n",
    "#Przedstawiają tę samą informację w różny sposób, dlatego decyduję się je usunąć."
   ]
  },
  {
   "cell_type": "code",
   "execution_count": null,
   "id": "3b816df8",
   "metadata": {},
   "outputs": [],
   "source": [
    "df.drop(columns = ['funded_amnt', 'funded_amnt_inv'], inplace = True)"
   ]
  },
  {
   "cell_type": "code",
   "execution_count": null,
   "id": "03b3f812",
   "metadata": {},
   "outputs": [],
   "source": []
  },
  {
   "cell_type": "code",
   "execution_count": null,
   "id": "6850ca20",
   "metadata": {},
   "outputs": [],
   "source": [
    "\n",
    "# Z tabeli wynika, że osoby mające problemy ze spłatą kredytu mają niższy roczny dochód, wyższy wskaźnik dti (jaki procent zarobków stanowi rata kredytu)\n",
    "# mają niższe wskaźniki fico, wyższe oprocentowanie kredytu. Płacą też wyższe raty.\n",
    "\n",
    "pd.pivot_table(df, index='niesplacony_splacony', aggfunc='mean')"
   ]
  },
  {
   "cell_type": "code",
   "execution_count": null,
   "id": "f97eff9a",
   "metadata": {},
   "outputs": [],
   "source": []
  },
  {
   "cell_type": "code",
   "execution_count": null,
   "id": "a41d6e10",
   "metadata": {},
   "outputs": [],
   "source": [
    "#Do analizy wybrałam kolumny: 'int_rate', 'annual_inc', 'dti', \n",
    "#'loan_amnt', 'term', 'installment', 'home_ownership', 'grade', 'fico range high', 'fico range low', 'purpose'"
   ]
  },
  {
   "cell_type": "code",
   "execution_count": null,
   "id": "fdbd4c9f",
   "metadata": {},
   "outputs": [],
   "source": []
  },
  {
   "cell_type": "code",
   "execution_count": null,
   "id": "d5d3b490",
   "metadata": {},
   "outputs": [],
   "source": [
    "#Funkcje, których będę używała do obliczeń dla wybranych zmiennych"
   ]
  },
  {
   "cell_type": "code",
   "execution_count": null,
   "id": "01ad2791",
   "metadata": {},
   "outputs": [],
   "source": [
    "def statystyka (df, zmienna):\n",
    "    '''\n",
    "    Ta funkcja oblicza podstawowe statystyki dla poszczegolnych zmiennych ze zbioru df\n",
    "    '''\n",
    "    print('Minimum: ', df[zmienna].min())\n",
    "    print('Maximum: ',df[zmienna].max())\n",
    "    print('Mean value: ', df[zmienna].mean())\n",
    "    print('Median value: ',df[zmienna].median())\n",
    "    print('Standard deviation: ', df[zmienna].std())"
   ]
  },
  {
   "cell_type": "code",
   "execution_count": null,
   "id": "bc22ac99",
   "metadata": {},
   "outputs": [],
   "source": [
    "def kwartyle(df, zmienna):\n",
    "    Q1=df[zmienna].quantile(q=0.25)\n",
    "    Q3=df[zmienna].quantile(q=0.75)\n",
    "    print('1st Quartile (Q1) is: ', Q1)\n",
    "    print('3st Quartile (Q3) is: ', Q3)\n",
    "    print('Interquartile range (IQR) is ', stats.iqr(df[zmienna]))"
   ]
  },
  {
   "cell_type": "code",
   "execution_count": null,
   "id": "bac6a8e1",
   "metadata": {},
   "outputs": [],
   "source": [
    "def gorny_dolny_outlier(dr, zmienna, Q1, Q3):\n",
    "    '''\n",
    "    Ta funkcja wylicza zakres od 1. do 3. kwartyla. Powyżej 3. kwartyla wartości należą do outlierow\n",
    "    '''\n",
    "    L_outliers=Q1-1.5*(Q3-Q1)\n",
    "    U_outliers=Q3+1.5*(Q3-Q1)\n",
    "    print('Lower outliers: ', L_outliers)\n",
    "    print('Upper outliers: ', U_outliers)"
   ]
  },
  {
   "cell_type": "code",
   "execution_count": null,
   "id": "a73d1897",
   "metadata": {},
   "outputs": [],
   "source": [
    "def liczba_outlierow (df, wartosc, upper_out, lower_out):\n",
    "    '''\n",
    "    Ta funkcja będzie pokazywała liczbę outlierow oraz ich procentowy udział\n",
    "    '''\n",
    "    print('Liczba outlierow upper : ', df[df[wartosc]>upper_out][wartosc].count())\n",
    "    print('Liczba outlierow lower : ', df[df[wartosc]<lower_out][wartosc].count())\n",
    "    print('% outlierow upper: ',(df[df[wartosc]>upper_out][wartosc].count()*100/len(df)), '%')\n",
    "    print('% outlierow lower: ',(df[df[wartosc]<lower_out][wartosc].count()*100/len(df)), '%')"
   ]
  },
  {
   "cell_type": "markdown",
   "id": "6a4a948b",
   "metadata": {},
   "source": [
    "## Zmienne numeryczne"
   ]
  },
  {
   "cell_type": "markdown",
   "id": "78011b6b",
   "metadata": {},
   "source": [
    "### INTEREST RATE"
   ]
  },
  {
   "cell_type": "code",
   "execution_count": null,
   "id": "b288752e",
   "metadata": {},
   "outputs": [],
   "source": [
    "statystyka(df, 'int_rate')"
   ]
  },
  {
   "cell_type": "code",
   "execution_count": null,
   "id": "ddc5e55b",
   "metadata": {},
   "outputs": [],
   "source": [
    "kwartyle(df, 'int_rate')"
   ]
  },
  {
   "cell_type": "code",
   "execution_count": null,
   "id": "ec127f2c",
   "metadata": {},
   "outputs": [],
   "source": [
    "gorny_dolny_outlier(df,'int_rate', 0.097, 0.15)"
   ]
  },
  {
   "cell_type": "code",
   "execution_count": null,
   "id": "848c4b8d",
   "metadata": {},
   "outputs": [],
   "source": [
    "liczba_outlierow(df, 'int_rate', 0.224, 0.02)"
   ]
  },
  {
   "cell_type": "code",
   "execution_count": null,
   "id": "b12bfbff",
   "metadata": {
    "scrolled": true
   },
   "outputs": [],
   "source": [
    "fig, (ax1)=plt.subplots(figsize=(13,5))\n",
    "\n",
    "\n",
    "sns.boxplot(x='int_rate',data=df,orient='v',ax=ax1)\n",
    "ax1.set_ylabel('int_rate', fontsize=15)\n",
    "ax1.set_title(' boxplot zmiennej int_rate', fontsize=15)\n",
    "ax1.tick_params(labelsize=15)"
   ]
  },
  {
   "cell_type": "code",
   "execution_count": null,
   "id": "2c88ab53",
   "metadata": {},
   "outputs": [],
   "source": []
  },
  {
   "cell_type": "code",
   "execution_count": null,
   "id": "bba0be90",
   "metadata": {},
   "outputs": [],
   "source": [
    "#Z tych danych wynika, że osoby niespłacające kredytów otrzymują wyższe oprocentowanie (średnio)\n",
    "\n",
    "pd.pivot_table(df, index='niesplacony_splacony', values=\"int_rate\", aggfunc='mean')"
   ]
  },
  {
   "cell_type": "code",
   "execution_count": null,
   "id": "270181ae",
   "metadata": {},
   "outputs": [],
   "source": [
    "fig = plt.figure(figsize=(22,6))\n",
    "sns.kdeplot(df.loc[df['niesplacony_splacony'] == 1, 'int_rate'], label = 'target = 1')\n",
    "sns.kdeplot(df.loc[df['niesplacony_splacony'] == 0, 'int_rate'], label = 'target = 0');\n",
    "plt.xlabel('Interest Rate (%)',fontsize=15)\n",
    "plt.ylabel('Density',fontsize=15)\n",
    "plt.title('Distribution of Interest Rate',fontsize=20);"
   ]
  },
  {
   "cell_type": "code",
   "execution_count": null,
   "id": "e8960e68",
   "metadata": {},
   "outputs": [],
   "source": [
    "#Im niższa klasa, tym wyższe oprocentowanie kredytu. Różnice między nie- i spłacającymi są minimalne\n",
    "\n",
    "pd.pivot_table(df, index='niesplacony_splacony',columns=\"grade\", values='int_rate', aggfunc='mean')"
   ]
  },
  {
   "cell_type": "code",
   "execution_count": null,
   "id": "2fc5e60b",
   "metadata": {},
   "outputs": [],
   "source": []
  },
  {
   "cell_type": "markdown",
   "id": "03fc942b",
   "metadata": {},
   "source": [
    "### ANNUAL INCOME"
   ]
  },
  {
   "cell_type": "code",
   "execution_count": null,
   "id": "93c7544e",
   "metadata": {},
   "outputs": [],
   "source": [
    "statystyka(df, 'annual_inc')"
   ]
  },
  {
   "cell_type": "code",
   "execution_count": null,
   "id": "c93d1a3c",
   "metadata": {},
   "outputs": [],
   "source": [
    "kwartyle(df, 'annual_inc')"
   ]
  },
  {
   "cell_type": "code",
   "execution_count": null,
   "id": "c7718b2b",
   "metadata": {},
   "outputs": [],
   "source": [
    "gorny_dolny_outlier(df, 'annual_inc', 40000, 82500)"
   ]
  },
  {
   "cell_type": "code",
   "execution_count": null,
   "id": "2f07ccda",
   "metadata": {},
   "outputs": [],
   "source": [
    "liczba_outlierow(df, 'annual_inc', 146250, -23750)"
   ]
  },
  {
   "cell_type": "code",
   "execution_count": null,
   "id": "7b4a52e3",
   "metadata": {
    "scrolled": true
   },
   "outputs": [],
   "source": [
    "fig, (ax1)=plt.subplots(figsize=(13,5))\n",
    "\n",
    "\n",
    "sns.boxplot(x='annual_inc',data=df,orient='v',ax=ax1)\n",
    "ax1.set_ylabel('annual_inc', fontsize=15)\n",
    "ax1.set_title(' boxplot zmiennej annual_inc', fontsize=15)\n",
    "ax1.tick_params(labelsize=15)"
   ]
  },
  {
   "cell_type": "code",
   "execution_count": null,
   "id": "71e1af54",
   "metadata": {},
   "outputs": [],
   "source": []
  },
  {
   "cell_type": "code",
   "execution_count": null,
   "id": "a645132f",
   "metadata": {},
   "outputs": [],
   "source": [
    "df.corr()['annual_inc'].sort_values().tail(10)"
   ]
  },
  {
   "cell_type": "code",
   "execution_count": null,
   "id": "4da05708",
   "metadata": {},
   "outputs": [],
   "source": [
    "#Zmienna 'annual_inc' jest wysoko pozytywnie skorelowana ze zmiennymi 'loan_amnt' i 'installment'"
   ]
  },
  {
   "cell_type": "code",
   "execution_count": null,
   "id": "b6cf6401",
   "metadata": {},
   "outputs": [],
   "source": [
    "pd.pivot_table(df, index='niesplacony_splacony', values=\"annual_inc\", aggfunc='mean')"
   ]
  },
  {
   "cell_type": "code",
   "execution_count": null,
   "id": "3af78c57",
   "metadata": {},
   "outputs": [],
   "source": [
    "#Osoby niespłacające mają niższe roczne dochody"
   ]
  },
  {
   "cell_type": "markdown",
   "id": "f7f6f91e",
   "metadata": {},
   "source": [
    "### DTi"
   ]
  },
  {
   "cell_type": "code",
   "execution_count": null,
   "id": "0bd53ddf",
   "metadata": {},
   "outputs": [],
   "source": [
    "#Jest to wskaźnik pokazujący, jaką część miesięcznych zarobków kredytobiorcy stanowi rata kredytu. "
   ]
  },
  {
   "cell_type": "code",
   "execution_count": null,
   "id": "5dbf826a",
   "metadata": {
    "scrolled": true
   },
   "outputs": [],
   "source": [
    "statystyka(df, 'dti')"
   ]
  },
  {
   "cell_type": "code",
   "execution_count": null,
   "id": "c6864e00",
   "metadata": {},
   "outputs": [],
   "source": [
    "kwartyle(df, 'dti')"
   ]
  },
  {
   "cell_type": "code",
   "execution_count": null,
   "id": "844cbe46",
   "metadata": {},
   "outputs": [],
   "source": [
    "gorny_dolny_outlier(df, 'dti', 8.2, 10.48)"
   ]
  },
  {
   "cell_type": "code",
   "execution_count": null,
   "id": "f823c0b5",
   "metadata": {},
   "outputs": [],
   "source": [
    "liczba_outlierow(df, 'dti', 13.90, 4.78)"
   ]
  },
  {
   "cell_type": "code",
   "execution_count": null,
   "id": "86761613",
   "metadata": {},
   "outputs": [],
   "source": [
    "fig, (ax1)=plt.subplots(figsize=(13,5))\n",
    "\n",
    "#boxplot\n",
    "sns.boxplot(x='dti',data=df,orient='v',ax=ax1)\n",
    "ax1.set_ylabel('dti', fontsize=15)\n",
    "ax1.set_title('boxplot zmiennej dti', fontsize=15)\n",
    "ax1.tick_params(labelsize=15)"
   ]
  },
  {
   "cell_type": "code",
   "execution_count": null,
   "id": "44d78151",
   "metadata": {},
   "outputs": [],
   "source": []
  },
  {
   "cell_type": "code",
   "execution_count": null,
   "id": "ca6d0f0b",
   "metadata": {},
   "outputs": [],
   "source": [
    "dti = df['dti']\n",
    "plt.figure(figsize=(10,5))\n",
    "plt.xlim(0, 45)\n",
    "plt.title('Rozkład zmiennej dti')\n",
    "sns.kdeplot(dti , shade=True)\n",
    "plt.show()"
   ]
  },
  {
   "cell_type": "code",
   "execution_count": null,
   "id": "a1bb8a5e",
   "metadata": {},
   "outputs": [],
   "source": [
    "pd.pivot_table(df, index='niesplacony_splacony', values='dti', aggfunc='mean')"
   ]
  },
  {
   "cell_type": "code",
   "execution_count": null,
   "id": "46dc78de",
   "metadata": {},
   "outputs": [],
   "source": [
    "#Osoby niespłacające mają wyższy wskażnik dti - stosunek zobowiązań do dochodów"
   ]
  },
  {
   "cell_type": "code",
   "execution_count": null,
   "id": "982f478d",
   "metadata": {},
   "outputs": [],
   "source": []
  },
  {
   "cell_type": "markdown",
   "id": "b159f282",
   "metadata": {},
   "source": [
    "### LOAN AMOUNT"
   ]
  },
  {
   "cell_type": "code",
   "execution_count": null,
   "id": "812bb265",
   "metadata": {},
   "outputs": [],
   "source": [
    "statystyka(df, 'loan_amnt')"
   ]
  },
  {
   "cell_type": "code",
   "execution_count": null,
   "id": "db093ccb",
   "metadata": {},
   "outputs": [],
   "source": [
    "kwartyle(df, 'loan_amnt')"
   ]
  },
  {
   "cell_type": "code",
   "execution_count": null,
   "id": "632601e8",
   "metadata": {},
   "outputs": [],
   "source": [
    "gorny_dolny_outlier(df, 'loan_amnt', 5200, 15000)"
   ]
  },
  {
   "cell_type": "code",
   "execution_count": null,
   "id": "96234954",
   "metadata": {},
   "outputs": [],
   "source": [
    "liczba_outlierow(df, 'loan_amnt', 29700, -9500)"
   ]
  },
  {
   "cell_type": "code",
   "execution_count": null,
   "id": "3ec1fb46",
   "metadata": {},
   "outputs": [],
   "source": [
    "fig, (ax1)=plt.subplots(figsize=(13,5))\n",
    "\n",
    "#boxplot\n",
    "sns.boxplot(x='loan_amnt',data=df,orient='v',ax=ax1)\n",
    "ax1.set_ylabel('loan_amnt', fontsize=15)\n",
    "ax1.set_title(' boxplot zmiennej loan_amnt', fontsize=15)\n",
    "ax1.tick_params(labelsize=15)"
   ]
  },
  {
   "cell_type": "code",
   "execution_count": null,
   "id": "63f42ba9",
   "metadata": {},
   "outputs": [],
   "source": [
    "sns.countplot(x='loan_amnt',data=df)"
   ]
  },
  {
   "cell_type": "code",
   "execution_count": null,
   "id": "8875450f",
   "metadata": {},
   "outputs": [],
   "source": [
    "N = 5\n",
    "men_means = (20, 35, 30, 35, 27)\n",
    "men_std = (2, 3, 4, 1, 2)\n",
    "\n",
    "ind = np.arange(N)  # the x locations for the groups\n",
    "width = 0.35       # the width of the bars\n",
    "\n",
    "fig, ax = plt.subplots()\n",
    "rects1 = ax.bar(ind, men_means, width, color='r', yerr=men_std)\n",
    "\n",
    "women_means = (25, 32, 34, 20, 25)\n",
    "women_std = (3, 5, 2, 3, 3)\n",
    "rects2 = ax.bar(ind + width, women_means, width, color='y', yerr=women_std)\n",
    "\n",
    "# add some text for labels, title and axes ticks\n",
    "ax.set_ylabel('Scores')\n",
    "ax.set_title('Scores by group and gender')\n",
    "ax.set_xticks(ind + width / 2)\n",
    "ax.set_xticklabels(('G1', 'G2', 'G3', 'G4', 'G5'))\n",
    "\n",
    "ax.legend((rects1[0], rects2[0]), ('Men', 'Women'))\n",
    "\n",
    "\n",
    "def autolabel(rects):\n",
    "    \"\"\"\n",
    "    Attach a text label above each bar displaying its height\n",
    "    \"\"\"\n",
    "    for rect in rects:\n",
    "        height = rect.get_height()\n",
    "        ax.text(rect.get_x() + rect.get_width()/2., 1.05*height,\n",
    "                '%d' % int(height),\n",
    "                ha='center', va='bottom')\n",
    "\n",
    "autolabel(rects1)\n",
    "autolabel(rects2)\n",
    "\n",
    "plt.show()"
   ]
  },
  {
   "cell_type": "code",
   "execution_count": null,
   "id": "4d40e969",
   "metadata": {},
   "outputs": [],
   "source": [
    "fig = plt.figure(figsize=(12,6))\n",
    "sns.violinplot(x=\"niesplacony_splacony\",y=\"loan_amnt\",data=df, hue=\"term\", split=True,color='pink')\n",
    "plt.title(\"Term - Loan Amount\", fontsize=20)\n",
    "plt.xlabel(\"niesplacony_splacony\", fontsize=15)\n",
    "plt.ylabel(\"Loan Amount\", fontsize=15);"
   ]
  },
  {
   "cell_type": "code",
   "execution_count": null,
   "id": "3390aada",
   "metadata": {},
   "outputs": [],
   "source": [
    "#Widać, że osoby zaciągające kredyt na dłyższy okres (36mcy), zadłużają się na wyższe kwoty"
   ]
  },
  {
   "cell_type": "code",
   "execution_count": null,
   "id": "550fbc36",
   "metadata": {},
   "outputs": [],
   "source": []
  },
  {
   "cell_type": "code",
   "execution_count": null,
   "id": "84753b8c",
   "metadata": {},
   "outputs": [],
   "source": [
    "#Chcę sprawdzić, jak wyglądają kwoty kredytu dla poszczólnych grup (zmienna 'grade')\n",
    "\n",
    "group = df.groupby(\"grade\").mean()\n",
    "avg_loan = group['loan_amnt'].reset_index()\n",
    "plt.subplots(figsize=(15,9))\n",
    "sns.barplot(x='grade', y='loan_amnt', data=avg_loan, palette='Set2')"
   ]
  },
  {
   "cell_type": "code",
   "execution_count": null,
   "id": "a04bd85b",
   "metadata": {},
   "outputs": [],
   "source": [
    "#Osoby z grupy najwyższego ryzyka (G) zadłużają się na wyższe kwoty. Im wyższa grupa ryzyka, tym większe kwoty kredytu"
   ]
  },
  {
   "cell_type": "code",
   "execution_count": null,
   "id": "d08e9cd9",
   "metadata": {},
   "outputs": [],
   "source": []
  },
  {
   "cell_type": "markdown",
   "id": "837889c3",
   "metadata": {},
   "source": [
    "### INSTALLMENT"
   ]
  },
  {
   "cell_type": "code",
   "execution_count": null,
   "id": "7d6ffb8c",
   "metadata": {},
   "outputs": [],
   "source": [
    "statystyka(df, 'installment')"
   ]
  },
  {
   "cell_type": "code",
   "execution_count": null,
   "id": "d0374acc",
   "metadata": {},
   "outputs": [],
   "source": [
    "kwartyle(df, 'installment')"
   ]
  },
  {
   "cell_type": "code",
   "execution_count": null,
   "id": "d7e7945e",
   "metadata": {},
   "outputs": [],
   "source": [
    "gorny_dolny_outlier(df, 'installment', 165.54, 428.16)"
   ]
  },
  {
   "cell_type": "code",
   "execution_count": null,
   "id": "871d7610",
   "metadata": {},
   "outputs": [],
   "source": [
    "liczba_outlierow(df, 'installment', 822, -228.4)"
   ]
  },
  {
   "cell_type": "code",
   "execution_count": null,
   "id": "c0959863",
   "metadata": {
    "scrolled": true
   },
   "outputs": [],
   "source": [
    "fig, (ax1)=plt.subplots(figsize=(13,5))\n",
    "\n",
    "\n",
    "sns.boxplot(x='installment',data=df,orient='v',ax=ax1)\n",
    "ax1.set_ylabel('installment', fontsize=15)\n",
    "ax1.set_title(' boxplot zmiennej installment', fontsize=15)\n",
    "ax1.tick_params(labelsize=15)"
   ]
  },
  {
   "cell_type": "code",
   "execution_count": null,
   "id": "9d98f369",
   "metadata": {},
   "outputs": [],
   "source": [
    "#Kredytobiorcy, którzy niespłacają kredytów mają nieco wyższe raty kredytu.\n",
    "\n",
    "pd.pivot_table(df, index='niesplacony_splacony', values=\"installment\", aggfunc='mean')"
   ]
  },
  {
   "cell_type": "code",
   "execution_count": null,
   "id": "ffdbca3e",
   "metadata": {},
   "outputs": [],
   "source": []
  },
  {
   "cell_type": "markdown",
   "id": "2d692148",
   "metadata": {},
   "source": [
    "### INQUIERIES IN THE LAST 6 MONTHS"
   ]
  },
  {
   "cell_type": "code",
   "execution_count": null,
   "id": "5e30490c",
   "metadata": {},
   "outputs": [],
   "source": [
    "statystyka(df, 'inq_last_6mths')"
   ]
  },
  {
   "cell_type": "code",
   "execution_count": null,
   "id": "0599a805",
   "metadata": {},
   "outputs": [],
   "source": [
    "kwartyle(df, 'inq_last_6mths')"
   ]
  },
  {
   "cell_type": "code",
   "execution_count": null,
   "id": "ea1283ed",
   "metadata": {},
   "outputs": [],
   "source": [
    "gorny_dolny_outlier(df, 'inq_last_6mths', 0.0, 2.0)"
   ]
  },
  {
   "cell_type": "code",
   "execution_count": null,
   "id": "3f5a9bab",
   "metadata": {},
   "outputs": [],
   "source": [
    "liczba_outlierow(df, 'inq_last_6mths', 5.0, -3.0)"
   ]
  },
  {
   "cell_type": "code",
   "execution_count": null,
   "id": "49834299",
   "metadata": {
    "scrolled": true
   },
   "outputs": [],
   "source": [
    "fig, (ax1)=plt.subplots(figsize=(13,5))\n",
    "\n",
    "\n",
    "sns.boxplot(x='installment',data=df,orient='v',ax=ax1)\n",
    "ax1.set_ylabel('installment', fontsize=15)\n",
    "ax1.set_title(' boxplot zmiennej installment', fontsize=15)\n",
    "ax1.tick_params(labelsize=15)"
   ]
  },
  {
   "cell_type": "code",
   "execution_count": null,
   "id": "1e52d3c9",
   "metadata": {},
   "outputs": [],
   "source": []
  },
  {
   "cell_type": "code",
   "execution_count": null,
   "id": "5e0db4ea",
   "metadata": {},
   "outputs": [],
   "source": []
  },
  {
   "cell_type": "code",
   "execution_count": null,
   "id": "59057613",
   "metadata": {
    "scrolled": true
   },
   "outputs": [],
   "source": [
    "#Chcę sprawdzić, ile wniosków kredytowych składanych jest w poszcególnych grupach (zmienna 'grade')\n",
    "\n",
    "group = df.groupby(\"grade\").mean()\n",
    "avg_loan = group['inq_last_6mths'].reset_index()\n",
    "plt.subplots(figsize=(15,9))\n",
    "sns.barplot(x='grade', y='inq_last_6mths', data=avg_loan, palette='Set2')"
   ]
  },
  {
   "cell_type": "code",
   "execution_count": null,
   "id": "97335a55",
   "metadata": {},
   "outputs": [],
   "source": [
    "#Im wyższa grupa ryzyka, tym więcej wniosków kredytowych jest składanych"
   ]
  },
  {
   "cell_type": "code",
   "execution_count": null,
   "id": "6059a3f6",
   "metadata": {},
   "outputs": [],
   "source": [
    "#Osoby częściej składające wnioski o przyznanie kredytu, częściej mają problemy z jego spłatą\n",
    "\n",
    "pd.pivot_table(df, index='niesplacony_splacony', values='inq_last_6mths', aggfunc='mean')"
   ]
  },
  {
   "cell_type": "code",
   "execution_count": null,
   "id": "21f8ee7f",
   "metadata": {},
   "outputs": [],
   "source": []
  },
  {
   "cell_type": "markdown",
   "id": "d8675f0f",
   "metadata": {},
   "source": [
    "### FICO_RANGE_HIGH i FICO_RANGE_LOW"
   ]
  },
  {
   "cell_type": "code",
   "execution_count": null,
   "id": "62b9135e",
   "metadata": {},
   "outputs": [],
   "source": [
    "df[['fico_range_low','fico_range_high']].describe()"
   ]
  },
  {
   "cell_type": "code",
   "execution_count": null,
   "id": "c5de0b50",
   "metadata": {},
   "outputs": [],
   "source": [
    "#Wyniki dla obywdu zmiennych są bardzo podobne. \n",
    "#Sprawdzę korelację pomiędzy nimi"
   ]
  },
  {
   "cell_type": "code",
   "execution_count": null,
   "id": "200f5157",
   "metadata": {},
   "outputs": [],
   "source": [
    "df[['fico_range_low','fico_range_high']].corr()"
   ]
  },
  {
   "cell_type": "code",
   "execution_count": null,
   "id": "08ca1f5f",
   "metadata": {},
   "outputs": [],
   "source": [
    "#Zmienne są silnie skorelowane, więc do analizy potrzebuję tylko jednej. \n",
    "#Stworzę nową kolumnę 'fico', która będzie zawierała średnie wartości obydwu"
   ]
  },
  {
   "cell_type": "code",
   "execution_count": null,
   "id": "cfcee126",
   "metadata": {},
   "outputs": [],
   "source": [
    "df['fico'] = (df['fico_range_low'] + df['fico_range_high'])/2"
   ]
  },
  {
   "cell_type": "code",
   "execution_count": null,
   "id": "0965b722",
   "metadata": {},
   "outputs": [],
   "source": [
    "df.drop(['fico_range_high', 'fico_range_low'], axis=1, inplace=True)"
   ]
  },
  {
   "cell_type": "code",
   "execution_count": null,
   "id": "3c18d556",
   "metadata": {},
   "outputs": [],
   "source": []
  },
  {
   "cell_type": "code",
   "execution_count": null,
   "id": "8fb64cb4",
   "metadata": {},
   "outputs": [],
   "source": [
    "#Osoby niespłącające kredytów mają niższy wskaźnik FICO\n",
    "\n",
    "pd.pivot_table(df, index='niesplacony_splacony', values='fico', aggfunc='mean')"
   ]
  },
  {
   "cell_type": "code",
   "execution_count": null,
   "id": "91f46e89",
   "metadata": {},
   "outputs": [],
   "source": []
  },
  {
   "cell_type": "code",
   "execution_count": null,
   "id": "f285cc03",
   "metadata": {},
   "outputs": [],
   "source": [
    "statystyka(df, 'fico')"
   ]
  },
  {
   "cell_type": "code",
   "execution_count": null,
   "id": "65c6e533",
   "metadata": {},
   "outputs": [],
   "source": [
    "kwartyle(df, 'fico')"
   ]
  },
  {
   "cell_type": "code",
   "execution_count": null,
   "id": "14635b94",
   "metadata": {},
   "outputs": [],
   "source": [
    "gorny_dolny_outlier(df, 'fico',687, 742)"
   ]
  },
  {
   "cell_type": "code",
   "execution_count": null,
   "id": "2b77c588",
   "metadata": {},
   "outputs": [],
   "source": [
    "liczba_outlierow(df, 'fico', 824.5, 604.5)"
   ]
  },
  {
   "cell_type": "code",
   "execution_count": null,
   "id": "706473f9",
   "metadata": {},
   "outputs": [],
   "source": [
    "fig, (ax1)=plt.subplots(figsize=(13,5))\n",
    "\n",
    "\n",
    "sns.boxplot(x='fico',data=df,orient='v',ax=ax1)\n",
    "ax1.set_ylabel('fico', fontsize=15)\n",
    "ax1.set_title(' boxplot zmiennej fico', fontsize=15)\n",
    "ax1.tick_params(labelsize=15)"
   ]
  },
  {
   "cell_type": "code",
   "execution_count": null,
   "id": "8d1f58e1",
   "metadata": {},
   "outputs": [],
   "source": [
    "plt.figure(figsize=(10,5))\n",
    "plt.xlim(0, 1300)\n",
    "plt.title('Rozkład zmiennej fico')\n",
    "sns.kdeplot(df['fico'], shade=True)\n",
    "plt.show()"
   ]
  },
  {
   "cell_type": "code",
   "execution_count": null,
   "id": "d8cd9655",
   "metadata": {},
   "outputs": [],
   "source": [
    "#Najwyższa gęstość występuje w okolicach 700"
   ]
  },
  {
   "cell_type": "code",
   "execution_count": null,
   "id": "b3aa8827",
   "metadata": {},
   "outputs": [],
   "source": [
    "#Osoby niespłącające kredytów mają niższy wskaźnik FICO\n",
    "\n",
    "pd.pivot_table(df, index='niesplacony_splacony', values='fico', aggfunc='mean')"
   ]
  },
  {
   "cell_type": "code",
   "execution_count": null,
   "id": "cb84c692",
   "metadata": {},
   "outputs": [],
   "source": [
    "df[['fico','int_rate','term']].corr()"
   ]
  },
  {
   "cell_type": "code",
   "execution_count": null,
   "id": "6cf7261c",
   "metadata": {},
   "outputs": [],
   "source": [
    "#Wskaźnik FICO ma wysoką ujemną korelację z wysokością oprocentowania - im wyższy FICO tym niższe oprocentowanie."
   ]
  },
  {
   "cell_type": "code",
   "execution_count": null,
   "id": "c4310e41",
   "metadata": {},
   "outputs": [],
   "source": []
  },
  {
   "cell_type": "markdown",
   "id": "aed863db",
   "metadata": {},
   "source": [
    "## Zmienne kategoryczne"
   ]
  },
  {
   "cell_type": "markdown",
   "id": "be02bec2",
   "metadata": {},
   "source": [
    "## GRADE"
   ]
  },
  {
   "cell_type": "code",
   "execution_count": null,
   "id": "9eb41b5e",
   "metadata": {},
   "outputs": [],
   "source": [
    "df.groupby(['grade'])['int_rate'].mean()"
   ]
  },
  {
   "cell_type": "code",
   "execution_count": null,
   "id": "ff07f226",
   "metadata": {},
   "outputs": [],
   "source": [
    "#Wraz ze wzrostem grupy, wzrasta oprocentowanie kredytu."
   ]
  },
  {
   "cell_type": "code",
   "execution_count": null,
   "id": "d1f1c200",
   "metadata": {},
   "outputs": [],
   "source": []
  },
  {
   "cell_type": "code",
   "execution_count": null,
   "id": "657e825f",
   "metadata": {},
   "outputs": [],
   "source": [
    "pd.pivot_table(df, index=\"niesplacony_splacony\", columns=\"grade\", aggfunc=\"size\")"
   ]
  },
  {
   "cell_type": "code",
   "execution_count": null,
   "id": "87012ac5",
   "metadata": {},
   "outputs": [],
   "source": [
    "print(\"% osób spłacających pożyczki w poszczególnych grupach\")\n",
    "print(f\"A: {round((9573)/(610+9573) * 100, 2)}%\")\n",
    "print(f\"B: {round((10872)/(1518+10872) * 100, 2)}%\")\n",
    "print(f\"C: {round((7236)/(1504+7236) * 100, 2)}%\")\n",
    "print(f\"D: {round((4689)/(1327+4689) * 100, 2)}%\")\n",
    "print(f\"E: {round((2511)/(883+2511) * 100, 2)}%\")\n",
    "print(f\"F: {round((885)/(885+416)* 100, 2)}%\")\n",
    "print(f\"G: {round((339)/(173+339)* 100, 2)}%\")"
   ]
  },
  {
   "cell_type": "code",
   "execution_count": null,
   "id": "36c849e5",
   "metadata": {},
   "outputs": [],
   "source": [
    "#Wraz ze wzrostem grupy ryzyka, wzrasta również odsetek osób niespłacających kredytów"
   ]
  },
  {
   "cell_type": "code",
   "execution_count": null,
   "id": "f81aa5d1",
   "metadata": {},
   "outputs": [],
   "source": []
  },
  {
   "cell_type": "markdown",
   "id": "f28ee3ae",
   "metadata": {},
   "source": [
    "### HOME OWNERSHIP"
   ]
  },
  {
   "cell_type": "code",
   "execution_count": null,
   "id": "b705c3b4",
   "metadata": {},
   "outputs": [],
   "source": [
    "df['home_ownership'].value_counts()"
   ]
  },
  {
   "cell_type": "code",
   "execution_count": null,
   "id": "b13b498f",
   "metadata": {},
   "outputs": [],
   "source": [
    "#Kategorie 'NONE', 'OTHER' zawierają małe ilości kredytobiorców, \n",
    "#dlatego połączę je w jednej kolumnie\n",
    "\n",
    "\n",
    "df['home_ownership'].replace(['NONE', 'OTHER'], 'OTHERS', inplace=True)"
   ]
  },
  {
   "cell_type": "code",
   "execution_count": null,
   "id": "3f85df1a",
   "metadata": {},
   "outputs": [],
   "source": [
    "df['home_ownership'].value_counts()"
   ]
  },
  {
   "cell_type": "code",
   "execution_count": null,
   "id": "265cec2d",
   "metadata": {},
   "outputs": [],
   "source": [
    "A = df['home_ownership'].value_counts().sort_values(ascending=False)[:5]\n",
    "f, ax = plt.subplots(figsize=(12,5))\n",
    "plt.bar(A.index, A.values, color='green', alpha=0.5)\n",
    "plt.title('Własność domu', fontsize=14.0, fontweight='bold')\n",
    "plt.xlabel('Rodzaje własności', fontsize=13.0, fontweight='bold')\n",
    "plt.ylabel(\"Liczba pożyczkobiorców\", fontsize=13.0, fontweight='bold')\n",
    "plt.show()"
   ]
  },
  {
   "cell_type": "code",
   "execution_count": null,
   "id": "5dc778d5",
   "metadata": {},
   "outputs": [],
   "source": [
    "#Najwięcej osób biorących kredyty wynajmuje mieszkanie"
   ]
  },
  {
   "cell_type": "code",
   "execution_count": null,
   "id": "22c206f8",
   "metadata": {},
   "outputs": [],
   "source": [
    "pd.crosstab(df[\"home_ownership\"], df['niesplacony_splacony']).plot(kind=\"bar\")\n",
    "plt.title(\"Zmienna 'home_ownership' vs status kredytu\", fontsize=18.0, fontweight='bold')\n",
    "plt.xlabel(\"Rodzaje własności\")\n",
    "plt.ylabel(\"Liczba kredytobiorców\")\n",
    "plt.legend(loc=\"best\")\n",
    "plt.show()"
   ]
  },
  {
   "cell_type": "code",
   "execution_count": null,
   "id": "fcfb17db",
   "metadata": {},
   "outputs": [],
   "source": [
    "pd.crosstab(df['home_ownership'], df['niesplacony_splacony'])"
   ]
  },
  {
   "cell_type": "code",
   "execution_count": null,
   "id": "3b506e37",
   "metadata": {},
   "outputs": [],
   "source": [
    "print(\"% osób spłacających pożyczki w poszczególnych rodzajach własności\")\n",
    "print(f\"MORTGAGE: {round((16260)/(2699+16260) * 100, 2)}%\")\n",
    "print(f\"OTHERS: {round((114)/(30+114) * 100, 2)}%\")\n",
    "print(f\"OWN: {round((2756)/(495+2756) * 100, 2)}%\")\n",
    "print(f\"RENT: {round((16975)/(3207+16975) * 100, 2)}%\")"
   ]
  },
  {
   "cell_type": "code",
   "execution_count": null,
   "id": "d4d05d0a",
   "metadata": {},
   "outputs": [],
   "source": [
    "#Osoby spłacające kredyt hipoteczny radzą sobie nieco lepiej niż osoby wynajmujące i posiadające własne domy"
   ]
  },
  {
   "cell_type": "code",
   "execution_count": null,
   "id": "9aab0669",
   "metadata": {},
   "outputs": [],
   "source": []
  },
  {
   "cell_type": "code",
   "execution_count": null,
   "id": "9ad4ff83",
   "metadata": {},
   "outputs": [],
   "source": [
    "#Oprocentowanie z podziałem na poszczególne rodzaje z uwzględnieniem statusu kredytu\n",
    "\n",
    "pd.crosstab(df['home_ownership'], df['niesplacony_splacony'], values=df['int_rate'], aggfunc='mean')"
   ]
  },
  {
   "cell_type": "code",
   "execution_count": null,
   "id": "99b8c545",
   "metadata": {},
   "outputs": [],
   "source": [
    "#Osoby niespłacające mają wyższe oprocentowanie w każdym rodzaju własności\n",
    "#Samo oprocentowanie nie różni się zbytnio w poszczególnych rodzajach"
   ]
  },
  {
   "cell_type": "code",
   "execution_count": null,
   "id": "201a8e1a",
   "metadata": {},
   "outputs": [],
   "source": []
  },
  {
   "cell_type": "code",
   "execution_count": null,
   "id": "01f096f8",
   "metadata": {},
   "outputs": [],
   "source": [
    "#Tabela przedstawia wysokość oprocentowania kredytu z podziałem na grupy ('grade') i status pożyczki dla każdego rodzaju własności\n",
    "\n",
    "A = pd.crosstab(df['grade'],[df['home_ownership'], df['niesplacony_splacony']], values=df['int_rate'], aggfunc='mean')\n",
    "A"
   ]
  },
  {
   "cell_type": "code",
   "execution_count": null,
   "id": "6188ba41",
   "metadata": {},
   "outputs": [],
   "source": [
    "#Ta tabela potwierdza tezę, że osoby z wyższej grupy otrzymują wyższe oprocentowanie (rośnie ono wraz ze wzrostem grupy)\n",
    "#Wysokość oprocentowania nie różni się też mniędzy poszczególnymi rodzajami własności"
   ]
  },
  {
   "cell_type": "code",
   "execution_count": null,
   "id": "667aa391",
   "metadata": {},
   "outputs": [],
   "source": []
  },
  {
   "cell_type": "markdown",
   "id": "2aaa6cfc",
   "metadata": {},
   "source": [
    "### PURPOSE"
   ]
  },
  {
   "cell_type": "code",
   "execution_count": null,
   "id": "edcd945b",
   "metadata": {},
   "outputs": [],
   "source": [
    "df['purpose'].value_counts().sort_values(ascending=False)"
   ]
  },
  {
   "cell_type": "code",
   "execution_count": null,
   "id": "e37056b8",
   "metadata": {},
   "outputs": [],
   "source": [
    "A = df['purpose'].value_counts().sort_values(ascending=False)[:5]\n",
    "f, ax = plt.subplots(figsize=(12,5))\n",
    "plt.bar(A.index, A.values, color='green', alpha=0.5)\n",
    "plt.title('Cele kredytu', fontsize=14.0, fontweight='bold')\n",
    "plt.xlabel('Cele kredytu', fontsize=13.0, fontweight='bold')\n",
    "plt.ylabel('Liczba pożyczkobiorców', fontsize=13.0, fontweight='bold')\n",
    "plt.show()"
   ]
  },
  {
   "cell_type": "code",
   "execution_count": null,
   "id": "2d33a24d",
   "metadata": {},
   "outputs": [],
   "source": [
    "#Najwięcej osób decyduje się na kredyt konsolidacyjny"
   ]
  },
  {
   "cell_type": "code",
   "execution_count": null,
   "id": "3bfc8886",
   "metadata": {},
   "outputs": [],
   "source": [
    "#chcę sprawdzić, jaki odsetek kredytów jest spłacany w każdum celu kredytowym"
   ]
  },
  {
   "cell_type": "code",
   "execution_count": null,
   "id": "3406d6c6",
   "metadata": {},
   "outputs": [],
   "source": [
    "plt.figure(figsize=(15, 20))\n",
    "\n",
    "plt.subplot(4, 2, 4)\n",
    "g = sns.countplot(x='purpose', data=df, hue='niesplacony_splacony')\n",
    "g.set_xticklabels(g.get_xticklabels(), rotation=90);"
   ]
  },
  {
   "cell_type": "code",
   "execution_count": null,
   "id": "605ef1cc",
   "metadata": {},
   "outputs": [],
   "source": [
    "pd.crosstab(df['purpose'], df['niesplacony_splacony'].sort_values(ascending=False))"
   ]
  },
  {
   "cell_type": "code",
   "execution_count": null,
   "id": "1b39bcd6",
   "metadata": {},
   "outputs": [],
   "source": [
    "print(\"% osób spłacających pożyczki w poszczególnych grupach\")\n",
    "print(f\"car: {round((1442)/(173+1442) * 100, 2)}%\")\n",
    "print(f\"credit_card: {round((4860)/(617+4860) * 100, 2)}%\")\n",
    "print(f\"debt_consolidation: {round((16693)/(3084+16693) * 100, 2)}%\")\n",
    "print(f\"educational: {round((334)/(88+334) * 100, 2)}%\")\n",
    "print(f\"home_improvement: {round((2777)/(422+2777) * 100, 2)}%\")\n",
    "print(f\"house: {round((356)/(70+356)* 100, 2)}%\")\n",
    "print(f\"major_purchase: {round((339)/(173+339)* 100, 2)}%\")\n",
    "print(f\"medical: {round((625)/(128+625) * 100, 2)}%\")\n",
    "print(f\"moving: {round((522)/(522+107) * 100, 2)}%\")\n",
    "print(f\"other: {round((3667)/(758+3667) * 100, 2)}%\")\n",
    "print(f\"renewable_energy: {round((86)/(20+86) * 100, 2)}%\")\n",
    "print(f\"small_business: {round((1441)/(551+1441) * 100, 2)}%\")\n",
    "print(f\"vacation: {round((341)/(59+341)* 100, 2)}%\")\n",
    "print(f\"wedding: {round((895)/(109+895)* 100, 2)}%\")"
   ]
  },
  {
   "cell_type": "code",
   "execution_count": null,
   "id": "7d9d099b",
   "metadata": {},
   "outputs": [],
   "source": [
    "#Spłacalność kredytów jest podobna dla różnych celów kredytowych (z wyjątkiem 'major_purchase' i 'small_business')\n",
    "#Wydaje mi się, że ta zmnienna nie będzie miała dużego znaczenia w predykcji"
   ]
  },
  {
   "cell_type": "code",
   "execution_count": null,
   "id": "fa312172",
   "metadata": {},
   "outputs": [],
   "source": []
  },
  {
   "cell_type": "markdown",
   "id": "5484279f",
   "metadata": {},
   "source": [
    "### TERM"
   ]
  },
  {
   "cell_type": "code",
   "execution_count": null,
   "id": "e098b4f0",
   "metadata": {},
   "outputs": [],
   "source": [
    "pd.crosstab(df['term'], df['niesplacony_splacony'])"
   ]
  },
  {
   "cell_type": "code",
   "execution_count": null,
   "id": "75bff7e7",
   "metadata": {},
   "outputs": [],
   "source": [
    "pd.crosstab(df['term'], df['niesplacony_splacony']).plot(kind=\"bar\")\n",
    "plt.title(\"Status kredytu na podstawie zmiennej 'term'\", fontsize=18.0, fontweight='bold')\n",
    "plt.xlabel(\"Termin spłaty w miesiącach\")\n",
    "plt.ylabel(\"Liczba kredytobiorców\")\n",
    "plt.legend(loc=\"best\")\n",
    "plt.show()"
   ]
  },
  {
   "cell_type": "code",
   "execution_count": null,
   "id": "d5eed013",
   "metadata": {},
   "outputs": [],
   "source": [
    "#Chcę sprawdzić, jak wygląda spłacalność kredytu dla obu wartości"
   ]
  },
  {
   "cell_type": "code",
   "execution_count": null,
   "id": "1b3e4dbe",
   "metadata": {},
   "outputs": [],
   "source": [
    "print(\"% osób niespłacających pożyczki - 36mcy\")\n",
    "print(f\"car: {round((3876)/(3876+27659) * 100, 2)}%\")"
   ]
  },
  {
   "cell_type": "code",
   "execution_count": null,
   "id": "182b5187",
   "metadata": {},
   "outputs": [],
   "source": [
    "print(\"% osób niespłacających pożyczki - 60mcy\")\n",
    "print(f\"car: {round((2555)/(2555+8446) * 100, 2)}%\")"
   ]
  },
  {
   "cell_type": "code",
   "execution_count": null,
   "id": "bdaefa01",
   "metadata": {},
   "outputs": [],
   "source": [
    "#Osoby z dłuższym terminem płatności częściej nie spłacają pożyczek"
   ]
  },
  {
   "cell_type": "code",
   "execution_count": null,
   "id": "db325509",
   "metadata": {},
   "outputs": [],
   "source": []
  },
  {
   "cell_type": "markdown",
   "id": "ab5b6198",
   "metadata": {},
   "source": [
    "## Pytania do projektu "
   ]
  },
  {
   "cell_type": "markdown",
   "id": "50e000ab",
   "metadata": {},
   "source": [
    "### 1. W jaki sposób wynik FICO wiąże się z prawdopodobieństwem spłacenia pożyczki przez pożyczkobiorcę?"
   ]
  },
  {
   "cell_type": "code",
   "execution_count": null,
   "id": "b8940efa",
   "metadata": {},
   "outputs": [],
   "source": [
    "#Osoby niespłącające kredytów (0) mają niższy wskaźnik FICO"
   ]
  },
  {
   "cell_type": "code",
   "execution_count": null,
   "id": "562ee080",
   "metadata": {},
   "outputs": [],
   "source": [
    "pd.pivot_table(df, index='niesplacony_splacony', values='fico', aggfunc='mean')"
   ]
  },
  {
   "cell_type": "markdown",
   "id": "c23ab62a",
   "metadata": {},
   "source": [
    "### 2. W jaki sposób wiek kredytowy wiąże się z prawdopodobieństwem niewykonania zobowiązania i czy ryzyko to jest niezależne lub związane z wynikiem FICO?\n"
   ]
  },
  {
   "cell_type": "code",
   "execution_count": null,
   "id": "888fd85a",
   "metadata": {},
   "outputs": [],
   "source": [
    "pd.crosstab(df['earliest_cr_line'],[df['niesplacony_splacony']])"
   ]
  },
  {
   "cell_type": "code",
   "execution_count": null,
   "id": "08a557b2",
   "metadata": {},
   "outputs": [],
   "source": [
    "#Obliczam, jaki jest odsetek nie- i spłaconych pożyczek dla każdego roku\n",
    "\n",
    "df_percent = pd.crosstab(df['earliest_cr_line'],df['niesplacony_splacony'],\n",
    "                         normalize = 'index').rename_axis(None) \n",
    "\n",
    "df_percent *= 100"
   ]
  },
  {
   "cell_type": "code",
   "execution_count": null,
   "id": "f1fb2d34",
   "metadata": {},
   "outputs": [],
   "source": [
    "df_percent"
   ]
  },
  {
   "cell_type": "code",
   "execution_count": null,
   "id": "46f8f521",
   "metadata": {},
   "outputs": [],
   "source": [
    "#Najwcześniej otwarte historie kredytowe mają 100% spłacalność. Jest ich kilka, więc nie wyznaczają trendu, ponieważ \n",
    "#od ok 1965 spłacalność waha się między 80 a 90%"
   ]
  },
  {
   "cell_type": "code",
   "execution_count": null,
   "id": "e1166e60",
   "metadata": {},
   "outputs": [],
   "source": []
  },
  {
   "cell_type": "code",
   "execution_count": null,
   "id": "8339140c",
   "metadata": {},
   "outputs": [],
   "source": [
    "#Korelacja zmiennej'earliest_cr_line' ze zmiennymi FICO jest jedną z najlepszych korelacji zmiennej 'earliest_cr_line'.\n",
    "#Są one skorelowanie ujemnie - czyli im poźniejszy rok powstania historii kredytowej, tym wskaźniki FICO będą niższe.\n",
    "#Im niższy wskaźnik FICO, tym większe ryzyko kredytowe\n",
    "#Długość historii kredytowej nie wykazuje takiej zależności\n",
    "\n",
    "df.corr()['earliest_cr_line'].sort_values()"
   ]
  },
  {
   "cell_type": "code",
   "execution_count": null,
   "id": "9dfa602e",
   "metadata": {},
   "outputs": [],
   "source": []
  },
  {
   "cell_type": "markdown",
   "id": "280be1b1",
   "metadata": {},
   "source": [
    "### 3. W jaki sposób status kredytu hipotecznego na dom wiąże się z prawdopodobieństwem niewypłacalności?"
   ]
  },
  {
   "cell_type": "code",
   "execution_count": null,
   "id": "0b89dab2",
   "metadata": {},
   "outputs": [],
   "source": [
    "#Z analizy wynika, że osoby spłacające kredyt hipoteczny mają najwyższy odsetek spłaconych kredytów \n",
    "#dla wszystkich grup zmiennej 'home_ownership'"
   ]
  },
  {
   "cell_type": "code",
   "execution_count": null,
   "id": "1379f62d",
   "metadata": {},
   "outputs": [],
   "source": [
    "print(\"% osób spłacających pożyczki w poszczególnych rodzajach własności\")\n",
    "print(f\"MORTGAGE: {round((16260)/(2699+16260) * 100, 2)}%\")\n",
    "print(f\"OTHERS: {round((114)/(30+114) * 100, 2)}%\")\n",
    "print(f\"OWN: {round((2756)/(495+2756) * 100, 2)}%\")\n",
    "print(f\"RENT: {round((16975)/(3207+16975) * 100, 2)}%\")"
   ]
  },
  {
   "cell_type": "markdown",
   "id": "96d571a5",
   "metadata": {},
   "source": [
    "### 4. W jaki sposób roczny dochód wiąże się z prawdopodobieństwem niewykonania zobowiązania?"
   ]
  },
  {
   "cell_type": "code",
   "execution_count": null,
   "id": "397ba4b6",
   "metadata": {},
   "outputs": [],
   "source": [
    "#Osoby niespłącające kredytów mają średnio niższy roczny dochód"
   ]
  },
  {
   "cell_type": "code",
   "execution_count": null,
   "id": "d54d4e8f",
   "metadata": {},
   "outputs": [],
   "source": [
    "pd.pivot_table(df, index='niesplacony_splacony', values=\"annual_inc\", aggfunc='mean')"
   ]
  },
  {
   "cell_type": "markdown",
   "id": "6a9ea5dd",
   "metadata": {},
   "source": [
    "### 5. W jaki sposób historia zatrudnienia wiąże się z prawdopodobieństwem niewykonania zobowiązania?"
   ]
  },
  {
   "cell_type": "code",
   "execution_count": null,
   "id": "698ef9af",
   "metadata": {},
   "outputs": [],
   "source": [
    "#Chcę sprawdzić, czy długość zatrudnienia wpływa na spłatę kredytu."
   ]
  },
  {
   "cell_type": "code",
   "execution_count": null,
   "id": "bc660e2e",
   "metadata": {},
   "outputs": [],
   "source": [
    "for rok_pracy in df.emp_length.unique():\n",
    "    print(f\"{rok_pracy} lat pracy:\")\n",
    "    print(f\"{df[df.emp_length == rok_pracy].niesplacony_splacony.value_counts(normalize=True)}\")\n",
    "    print('==========================================')"
   ]
  },
  {
   "cell_type": "code",
   "execution_count": null,
   "id": "354723c2",
   "metadata": {},
   "outputs": [],
   "source": [
    "pd.crosstab(df['emp_length'],[df['niesplacony_splacony']])"
   ]
  },
  {
   "cell_type": "code",
   "execution_count": null,
   "id": "c141c85f",
   "metadata": {},
   "outputs": [],
   "source": [
    "print(\"% osób niespłacających pożyczek\")\n",
    "print(f\"0: {round((751)/(751+4311) * 100, 2)}%\")\n",
    "print(f\"1: {round((551)/(551+3044) * 100, 2)}%\")\n",
    "print(f\"2: {round((654)/(654+4089) * 100, 2)}%\")\n",
    "print(f\"3: {round((630)/(630+3734) * 100, 2)}%\")\n",
    "print(f\"4: {round((767)/(767+3995) * 100, 2)}%\")\n",
    "print(f\"5: {round((509)/(509+2949) * 100, 2)}%\")\n",
    "print(f\"6: {round((352)/(352+2023) * 100, 2)}%\")\n",
    "print(f\"7: {round((295)/(295+1580) * 100, 2)}%\")\n",
    "print(f\"8: {round((238)/(238+1354) * 100, 2)}%\")\n",
    "print(f\"9: {round((180)/(180+1161) * 100, 2)}%\")\n",
    "print(f\"10: {round((1504)/(1504+7865) * 100, 2)}%\")"
   ]
  },
  {
   "cell_type": "code",
   "execution_count": null,
   "id": "68a6dfc6",
   "metadata": {},
   "outputs": [],
   "source": [
    "#Wynika z tego, że lata pracy nie wpływają znacząco na spłatę kredytu.\n",
    "#Rozkład wartości jest bardzo podobny dla wszystkich lat pracy.\n",
    "\n",
    "#Z tego też względu usuwam tę kolumnę.\n",
    "df.drop('emp_length', axis=1, inplace=True)"
   ]
  },
  {
   "cell_type": "markdown",
   "id": "2d2ed4e0",
   "metadata": {},
   "source": [
    "### 6. Jak wielkość żądanej pożyczki jest powiązana z prawdopodobieństwem niewykonania zobowiązania?"
   ]
  },
  {
   "cell_type": "code",
   "execution_count": null,
   "id": "eb71ff54",
   "metadata": {},
   "outputs": [],
   "source": [
    "#Z poniższej tabeli, jak i z poprzedniej analizy zmiennej wynika, że osoby niespłacające kredytów zadłużają się na wyższe kwoty"
   ]
  },
  {
   "cell_type": "code",
   "execution_count": null,
   "id": "82bfcf66",
   "metadata": {},
   "outputs": [],
   "source": [
    "pd.pivot_table(df, index='niesplacony_splacony', values='loan_amnt', aggfunc='mean')"
   ]
  },
  {
   "cell_type": "code",
   "execution_count": null,
   "id": "10457a4b",
   "metadata": {},
   "outputs": [],
   "source": []
  },
  {
   "cell_type": "code",
   "execution_count": null,
   "id": "700841d2",
   "metadata": {},
   "outputs": [],
   "source": []
  },
  {
   "cell_type": "markdown",
   "id": "b7b32f55",
   "metadata": {},
   "source": [
    "### Zmienne kategoryczne zamieniam na numeryczne"
   ]
  },
  {
   "cell_type": "code",
   "execution_count": null,
   "id": "707ef256",
   "metadata": {},
   "outputs": [],
   "source": [
    "#Nie chcę powiększać zbioru danych, dlatego decyduję się na użycie metody get_dummies"
   ]
  },
  {
   "cell_type": "code",
   "execution_count": null,
   "id": "8945c479",
   "metadata": {},
   "outputs": [],
   "source": [
    "dummies = ['grade', 'home_ownership', 'purpose']\n",
    "df = pd.get_dummies(df, columns=dummies, drop_first=True)"
   ]
  },
  {
   "cell_type": "code",
   "execution_count": null,
   "id": "66ee30d8",
   "metadata": {},
   "outputs": [],
   "source": [
    "df.shape"
   ]
  },
  {
   "cell_type": "code",
   "execution_count": null,
   "id": "f3532dda",
   "metadata": {},
   "outputs": [],
   "source": [
    "df.head()"
   ]
  },
  {
   "cell_type": "code",
   "execution_count": null,
   "id": "7ef946fe",
   "metadata": {},
   "outputs": [],
   "source": [
    "df.columns #sprawdzam, czy w nazwach kolumn wysepuje leading space "
   ]
  },
  {
   "cell_type": "markdown",
   "id": "9a8756e0",
   "metadata": {},
   "source": [
    "### OUTLIERSY"
   ]
  },
  {
   "cell_type": "code",
   "execution_count": null,
   "id": "14defad3",
   "metadata": {},
   "outputs": [],
   "source": [
    "df1=df.copy()"
   ]
  },
  {
   "cell_type": "code",
   "execution_count": null,
   "id": "ae81aa48",
   "metadata": {},
   "outputs": [],
   "source": [
    "df1"
   ]
  },
  {
   "cell_type": "code",
   "execution_count": null,
   "id": "72575b34",
   "metadata": {},
   "outputs": [],
   "source": [
    "print(f'Liczba outlierow w loan_amnt: ',df1[((df1['loan_amnt'] - df1['loan_amnt'].mean()) / df1['loan_amnt'].std()).abs() >3]['loan_amnt'].count())\n",
    "print(f'Liczba outlierow w term: ',df1[((df1['term'] - df1['term'].mean()) / df1['term'].std()).abs() >3]['term'].count())\n",
    "print(f'Liczba outlierow w int_rate: ',df1[((df1['int_rate'] - df1['int_rate'].mean()) / df1['int_rate'].std()).abs() >3]['int_rate'].count())\n",
    "print(f'Liczba outlierow w installment: ',df1[((df1['installment'] - df1['installment'].mean()) / df1['installment'].std()).abs() >3]['installment'].count())\n",
    "print(f'Liczba outlierow w annual_inc: ',df1[((df1['annual_inc'] - df1['annual_inc'].mean()) / df1['annual_inc'].std()).abs() >3]['annual_inc'].count())\n",
    "print(f'Liczba outlierow w dti: ',df1[((df1['dti'] - df1['dti'].mean()) / df1['dti'].std()).abs() >3]['dti'].count())\n",
    "print(f'Liczba outlierow w inq_last_6mths: ',df1[((df1['inq_last_6mths'] - df1['inq_last_6mths'].mean()) / df1['inq_last_6mths'].std()).abs() >3]['inq_last_6mths'].count())\n",
    "print(f'Liczba outlierow w open_acc: ',df1[((df1['open_acc'] - df1['open_acc'].mean()) / df1['open_acc'].std()).abs() >3]['open_acc'].count())\n",
    "print(f'Liczba outlierow w revol_bal: ',df1[((df1['revol_bal'] - df1['revol_bal'].mean()) / df1['revol_bal'].std()).abs() >3]['revol_bal'].count())\n",
    "print(f'Liczba outlierow w revol_util: ',df1[((df1['revol_util'] - df1['revol_util'].mean()) / df1['revol_util'].std()).abs() >3]['revol_util'].count())\n",
    "print(f'Liczba outlierow w total_acc: ',df1[((df1['total_acc'] - df1['total_acc'].mean()) / df1['total_acc'].std()).abs() >3]['total_acc'].count())\n",
    "print(f'Liczba outlierow w fico: ',df1[((df1['fico'] - df1['fico'].mean()) / df1['fico'].std()).abs() >3]['fico'].count())"
   ]
  },
  {
   "cell_type": "code",
   "execution_count": null,
   "id": "af3e9015",
   "metadata": {},
   "outputs": [],
   "source": [
    "#Usuwam outliery zamieniając je medianą\n",
    "df1.loc[(df1['fico'] < 604.5) | (df1['fico'] > 824.5), 'fico'] = df1['fico'].median()\n",
    "df1.loc[(df1['installment'] < -228.4) | (df1['installment'] > 822), 'installment'] = df1['installment'].median()\n",
    "df1.loc[(df1['dti'] < 4.78) | (df1['dti'] > 13.90), 'dti'] = df1['dti'].median()\n",
    "df1.loc[(df1['annual_inc'] < -23750) | (df1['annual_inc'] > 146250), 'annual_inc'] = df1['annual_inc'].median()\n",
    "df1.loc[(df1['int_rate'] < 0.02) | (df1['int_rate'] > 0.224), 'int_rate'] = df1['int_rate'].median()\n",
    "df1.loc[(df1['loan_amnt'] < 5200) | (df1['loan_amnt'] > 15000), 'loan_amnt'] = df1['loan_amnt'].median()\n",
    "df1.loc[(df1['inq_last_6mths'] < -3) | (df1['inq_last_6mths'] > 5), 'inq_last_6mths'] = df1['inq_last_6mths'].median()\n",
    "df1.loc[(df1['open_acc'] < -3) | (df1['open_acc'] > 21), 'open_acc'] = df1['open_acc'].median()\n",
    "df1.loc[(df1['revol_bal'] < -16787) | (df1['revol_bal'] > 37673), 'revol_bal'] = df1['revol_bal'].median()\n",
    "df1.loc[(df1['total_acc'] < -11) | (df1['total_acc'] > 53), 'total_acc'] = df1['total_acc'].median()"
   ]
  },
  {
   "cell_type": "code",
   "execution_count": null,
   "id": "247919bf",
   "metadata": {},
   "outputs": [],
   "source": [
    "df1.head()"
   ]
  },
  {
   "cell_type": "markdown",
   "id": "8c1c7e95",
   "metadata": {},
   "source": [
    "## Train-test Split"
   ]
  },
  {
   "cell_type": "code",
   "execution_count": null,
   "id": "120464bb",
   "metadata": {},
   "outputs": [],
   "source": [
    "Y = df1['niesplacony_splacony']\n",
    "X = df1.drop(['niesplacony_splacony'], axis=1)\n",
    "\n",
    "from sklearn.model_selection import train_test_split\n",
    "X_train,X_test,Y_train,Y_test=train_test_split(X,Y,test_size=0.3,random_state=0)"
   ]
  },
  {
   "cell_type": "markdown",
   "id": "e740f1dc",
   "metadata": {},
   "source": [
    "## Standaryzacja"
   ]
  },
  {
   "cell_type": "code",
   "execution_count": null,
   "id": "f364aca5",
   "metadata": {},
   "outputs": [],
   "source": [
    "#Dzięki standaryzacji zmienne mogą być między sobą porównywane. \n",
    "#Standaryzowana zmienna ma średnią na równą 0 i odchylenie standardowe na równe 1"
   ]
  },
  {
   "cell_type": "code",
   "execution_count": null,
   "id": "74970c19",
   "metadata": {
    "scrolled": true
   },
   "outputs": [],
   "source": [
    "from sklearn.preprocessing import StandardScaler, normalize\n",
    "\n",
    "scaler = StandardScaler()\n",
    "X_scaled = scaler.fit_transform(X) \n",
    "\n",
    "X_normalized = normalize(X_scaled)\n",
    "X_normalized = pd.DataFrame(X_normalized)"
   ]
  },
  {
   "cell_type": "code",
   "execution_count": null,
   "id": "0c293773",
   "metadata": {},
   "outputs": [],
   "source": [
    "X_normalized.head()"
   ]
  },
  {
   "cell_type": "markdown",
   "id": "456656c5",
   "metadata": {},
   "source": [
    "### Klasteryzacja -   KMeans, Hierarchiczna i DBScan"
   ]
  },
  {
   "cell_type": "code",
   "execution_count": null,
   "id": "09401421",
   "metadata": {},
   "outputs": [],
   "source": [
    "from sklearn.cluster import KMeans\n",
    "from sklearn.metrics import silhouette_score\n",
    "\n",
    "from scipy.cluster.hierarchy import linkage\n",
    "from scipy.cluster.hierarchy import dendrogram\n",
    "from scipy.cluster.hierarchy import cut_tree\n",
    "\n",
    "from sklearn.cluster import DBSCAN\n",
    "from sklearn import metrics"
   ]
  },
  {
   "cell_type": "code",
   "execution_count": null,
   "id": "77a1e501",
   "metadata": {},
   "outputs": [],
   "source": [
    "df1"
   ]
  },
  {
   "cell_type": "markdown",
   "id": "0fd0787f",
   "metadata": {},
   "source": [
    "### KMeans"
   ]
  },
  {
   "cell_type": "code",
   "execution_count": null,
   "id": "ded0c132",
   "metadata": {},
   "outputs": [],
   "source": [
    "kmeans = KMeans(n_clusters=5, max_iter=1000)\n",
    "kmeans.fit(X_normalized)"
   ]
  },
  {
   "cell_type": "code",
   "execution_count": null,
   "id": "1072aea8",
   "metadata": {},
   "outputs": [],
   "source": [
    "kmeans.labels_"
   ]
  },
  {
   "cell_type": "code",
   "execution_count": null,
   "id": "672e820a",
   "metadata": {
    "scrolled": true
   },
   "outputs": [],
   "source": [
    "# elbow-curve - chcę sprawdzić optymalną liczbę klastrów\n",
    "\n",
    "ssd = [] \n",
    "range_n_clusters = [2, 3, 4, 5, 6, 7, 8, 9, 10, 11, 12, 13]\n",
    "for num_clusters in range_n_clusters:\n",
    "    kmeans = KMeans(n_clusters=num_clusters, max_iter=1000)\n",
    "    kmeans.fit(X_normalized)\n",
    "    \n",
    "    ssd.append(kmeans.inertia_) \n",
    "\n",
    "plt.plot(ssd)"
   ]
  },
  {
   "cell_type": "code",
   "execution_count": null,
   "id": "b0bbcd6b",
   "metadata": {},
   "outputs": [],
   "source": [
    "# Na podstawie wykresu ciężko określić, jaka jest optymalna liczba klastrów. \n",
    "# Inną metodą, aby to sprawdzić jest test Silhouette"
   ]
  },
  {
   "cell_type": "code",
   "execution_count": null,
   "id": "fb6e2e6a",
   "metadata": {},
   "outputs": [],
   "source": [
    "# Silhouette\n",
    "\n",
    "range_n_clusters = [4, 5, 6, 7, 8, 9, 10]\n",
    "\n",
    "for num_clusters in range_n_clusters:\n",
    "    \n",
    "    \n",
    "    kmeans = KMeans(n_clusters=num_clusters, max_iter=1000)\n",
    "    kmeans.fit(X_normalized)\n",
    "    \n",
    "    cluster_labels = kmeans.labels_\n",
    "    \n",
    "    \n",
    "    silhouette_avg = silhouette_score(X_normalized, cluster_labels)\n",
    "    print(\"For n_clusters={0}, the silhouette score is {1}\".format(num_clusters, silhouette_avg))"
   ]
  },
  {
   "cell_type": "code",
   "execution_count": null,
   "id": "663e7cb9",
   "metadata": {},
   "outputs": [],
   "source": [
    "# Wynik testu Silhouette rośnie wraz ze wzrostem liczby klastrów. \n",
    "# Z uwagi na fakt, że duża ilość klastrów uniemożliwia interpretację, za optymalną liczbę klastrów przyjmuję 6"
   ]
  },
  {
   "cell_type": "code",
   "execution_count": null,
   "id": "bae8db30",
   "metadata": {},
   "outputs": [],
   "source": [
    "df9"
   ]
  },
  {
   "cell_type": "code",
   "execution_count": null,
   "id": "ce865740",
   "metadata": {},
   "outputs": [],
   "source": [
    "kmeans = KMeans(n_clusters=6, max_iter=1000, random_state=42)\n",
    "kmeans.fit(X_normalized)"
   ]
  },
  {
   "cell_type": "code",
   "execution_count": null,
   "id": "eb11a3e2",
   "metadata": {},
   "outputs": [],
   "source": [
    "kmeans.labels_"
   ]
  },
  {
   "cell_type": "code",
   "execution_count": null,
   "id": "8e554a95",
   "metadata": {},
   "outputs": [],
   "source": [
    "X_normalized['KMeans_Cluster_ID'] = kmeans.labels_"
   ]
  },
  {
   "cell_type": "code",
   "execution_count": null,
   "id": "3b4543c8",
   "metadata": {
    "scrolled": true
   },
   "outputs": [],
   "source": [
    "centroids = kmeans.cluster_centers_\n",
    "print(centroids)"
   ]
  },
  {
   "cell_type": "code",
   "execution_count": null,
   "id": "e16b09db",
   "metadata": {},
   "outputs": [],
   "source": [
    "kmeans = KMeans(n_clusters = 6, init = 'k-means++', random_state = 42)\n",
    "y_kmeans = kmeans.fit_predict(X_normalized)"
   ]
  },
  {
   "cell_type": "code",
   "execution_count": null,
   "id": "db8cd43e",
   "metadata": {},
   "outputs": [],
   "source": []
  },
  {
   "cell_type": "code",
   "execution_count": null,
   "id": "f7d96946",
   "metadata": {},
   "outputs": [],
   "source": [
    "#X_normalized = np.array(X_normalized)\n",
    "plt.scatter(X_normalized[y_kmeans == 0, 0], X_normalized[y_kmeans == 0, 1], s = 100, c = 'red', label = 'Cluster 1')\n",
    "plt.scatter(X_normalized[y_kmeans == 1, 0], X_normalized[y_kmeans == 1, 1], s = 100, c = 'blue', label = 'Cluster 2')\n",
    "plt.scatter(X_normalized[y_kmeans == 2, 0], X_normalized[y_kmeans == 2, 1], s = 100, c = 'green', label = 'Cluster 3')\n",
    "plt.scatter(X_normalized[y_kmeans == 3, 0], X_normalized[y_kmeans == 3, 1], s = 100, c = 'cyan', label = 'Cluster 4')\n",
    "plt.scatter(X_normalized[y_kmeans == 4, 0], X_normalized[y_kmeans == 4, 1], s = 100, c = 'magenta', label = 'Cluster 5')\n",
    "plt.scatter(X_normalized[y_kmeans == 5, 0], X_normalized[y_kmeans == 5, 1], s = 100, c = 'magenta', label = 'Cluster 6')\n",
    "plt.scatter(kmeans.cluster_centers_[:, 0], kmeans.cluster_centers_[:, 1], s = 300, c = 'yellow', label = 'Centroids')\n",
    "plt.title('Clusters of customers')\n",
    "plt.xlabel('Annual Income (k$)')\n",
    "plt.ylabel('Spending Score (1-100)')\n",
    "plt.legend()\n",
    "plt.show()"
   ]
  },
  {
   "cell_type": "code",
   "execution_count": null,
   "id": "3e595913",
   "metadata": {},
   "outputs": [],
   "source": []
  },
  {
   "cell_type": "code",
   "execution_count": null,
   "id": "686e67b9",
   "metadata": {},
   "outputs": [],
   "source": [
    "# Analiza klastrów"
   ]
  },
  {
   "cell_type": "code",
   "execution_count": null,
   "id": "e04bc8fb",
   "metadata": {},
   "outputs": [],
   "source": []
  },
  {
   "cell_type": "code",
   "execution_count": null,
   "id": "04a6768d",
   "metadata": {},
   "outputs": [],
   "source": [
    "pip install data-science-utils"
   ]
  },
  {
   "cell_type": "code",
   "execution_count": null,
   "id": "771a437d",
   "metadata": {},
   "outputs": [],
   "source": [
    "from ds_utils.unsupervised import plot_cluster_cardinality, plot_cluster_magnitude, plot_magnitude_vs_cardinality\n",
    "from scipy.spatial.distance import euclidean\n",
    "import matplotlib.pyplot as plt"
   ]
  },
  {
   "cell_type": "code",
   "execution_count": null,
   "id": "5cf6c692",
   "metadata": {
    "scrolled": true
   },
   "outputs": [],
   "source": [
    "fig, (ax1, ax2, ax3) = plt.subplots(1,3,figsize=(12,4))\n",
    "\n",
    "plot_cluster_cardinality(kmeans.labels_,\n",
    "                         ax=ax1,\n",
    "                         title=\"Cardinality\")\n",
    "\n",
    "plot_cluster_magnitude(X_normalized,\n",
    "                       kmeans.labels_,\n",
    "                       kmeans.cluster_centers_,\n",
    "                       euclidean,\n",
    "                       ax=ax2,\n",
    "                       title=\"Magnitude\")\n",
    "\n",
    "plot_magnitude_vs_cardinality(X_normalized,\n",
    "                              kmeans.labels_,\n",
    "                              kmeans.cluster_centers_,\n",
    "                              euclidean,\n",
    "                              ax=ax3, \n",
    "                              title=\"Magnitude vs. Cardinality\")\n",
    "\n",
    "fig.autofmt_xdate(rotation=0)\n",
    "plt.tight_layout()\n",
    "plt.show()"
   ]
  },
  {
   "cell_type": "code",
   "execution_count": null,
   "id": "575a3634",
   "metadata": {},
   "outputs": [],
   "source": [
    "# Cardinality pokazuje, jak liczebne są poszczególne klastry - widać, że klaster 5 jest dużo mniej liczebny niż pozostałe.  \n",
    "# Nie są one zbalansowane\n",
    "\n",
    "# Magnitude pokazuje, jak duży jest rozrzut punktów od centroidów - wyniki pokrywają się z wykresem 'Cardinality'\n",
    "\n",
    "# Cardinality vs Magnitude pokazuje zależność wartości względem siebie. Najlepiej jakby klastry znajdowały się blisko\n",
    "# prostej 45 stopni - powyższe klastry znajdują się bardzo blisko prostej"
   ]
  },
  {
   "cell_type": "code",
   "execution_count": null,
   "id": "b2c4106c",
   "metadata": {},
   "outputs": [],
   "source": [
    "pd.pivot_table(X_mean, index='KMeans_Cluster_ID', aggfunc='mean')"
   ]
  },
  {
   "cell_type": "code",
   "execution_count": null,
   "id": "9ec47ab8",
   "metadata": {
    "scrolled": true
   },
   "outputs": [],
   "source": [
    "pd.crosstab(X_normalized['KMeans_Cluster_ID'],[df1['annual_inc', 'int_rate', 'fico']])"
   ]
  },
  {
   "cell_type": "code",
   "execution_count": null,
   "id": "2a278b63",
   "metadata": {},
   "outputs": [],
   "source": [
    "pd.crosstab(X_normalized['KMeans_Cluster_ID'],[df1['niesplacony_splacony'])"
   ]
  },
  {
   "cell_type": "code",
   "execution_count": null,
   "id": "5aa9e5c6",
   "metadata": {},
   "outputs": [],
   "source": [
    "print(\"% osób niespłacających pożyczek\")\n",
    "print(f\"0: {round((1191)/(1191+5588) * 100, 2)}%\")\n",
    "print(f\"1: {round((411)/(411+2733) * 100, 2)}%\")\n",
    "print(f\"2: {round((710)/(710+6520) * 100, 2)}%\")\n",
    "print(f\"3: {round((506)/(506+4530) * 100, 2)}%\")\n",
    "print(f\"4: {round((1114)/(1114+9578) * 100, 2)}%\")\n",
    "print(f\"5: {round((2499)/(2499+7156) * 100, 2)}%\")"
   ]
  },
  {
   "cell_type": "code",
   "execution_count": null,
   "id": "d96285cf",
   "metadata": {},
   "outputs": [],
   "source": [
    "# Odsetek osób niespłacających kredytów waha się w ok 10%. Klastry 0 i 5 mają znacznie wyższy odstetek niespłacających"
   ]
  },
  {
   "cell_type": "code",
   "execution_count": null,
   "id": "2966e4d9",
   "metadata": {},
   "outputs": [],
   "source": [
    "X_mean = pd.concat([pd.DataFrame(X_normalized.mean().drop(X_normalized['KMeans_Cluster_ID']), columns=['mean']), \n",
    "                   X_normalized.groupby('KMeans_Cluster_ID').mean().T], axis=1)\n",
    "\n",
    "X_dev_rel = X_mean.apply(lambda x: round((x-x['mean'])/x['mean'],2)*100, axis = 1)\n",
    "X_dev_rel.drop(columns=['mean'], inplace=True)\n",
    "X_mean.drop(columns=['mean'], inplace=True)"
   ]
  },
  {
   "cell_type": "code",
   "execution_count": null,
   "id": "03bcad19",
   "metadata": {},
   "outputs": [],
   "source": []
  },
  {
   "cell_type": "code",
   "execution_count": null,
   "id": "2c770bb2",
   "metadata": {},
   "outputs": [],
   "source": []
  },
  {
   "cell_type": "code",
   "execution_count": null,
   "id": "96554716",
   "metadata": {},
   "outputs": [],
   "source": [
    "#6 Visualising the clusters\n",
    "plt.scatter(X_normalized[kmeans==0, 0], X_normalized[kmeans==0, 1], s=100, c='red', label ='Cluster 1')\n",
    "plt.scatter(X_normalized[kmeans==1, 0], X_normalized[kmeans==1, 1], s=100, c='blue', label ='Cluster 2')"
   ]
  },
  {
   "cell_type": "code",
   "execution_count": null,
   "id": "a4991a35",
   "metadata": {},
   "outputs": [],
   "source": [
    "X_mean = pd.concat([pd.DataFrame(X_normalized.mean().drop('KMeans_Cluster_ID'), columns=['mean']),\n",
    "                    X_normalized.groupby((['KMeans_Cluster_ID']).mean().T, axis = 1)"
   ]
  },
  {
   "cell_type": "code",
   "execution_count": null,
   "id": "8acb86be",
   "metadata": {},
   "outputs": [],
   "source": [
    "X_dev_rel = X_mean.apply(lambda x: round((x-x['mean'])/x['mean'],2)*100, axis = 1)\n",
    "X_dev_rel.drop(columns=['mean'], inplace=True)\n",
    "X_mean.drop(columns=['mean'], inplace=True)"
   ]
  },
  {
   "cell_type": "markdown",
   "id": "bb30034e",
   "metadata": {},
   "source": [
    "## PCA"
   ]
  },
  {
   "cell_type": "code",
   "execution_count": null,
   "id": "33536b5f",
   "metadata": {},
   "outputs": [],
   "source": [
    "from sklearn.decomposition import PCA"
   ]
  },
  {
   "cell_type": "code",
   "execution_count": null,
   "id": "ad361036",
   "metadata": {},
   "outputs": [],
   "source": [
    "\n",
    "pca = PCA(n_components = 2)\n",
    "X_principal = pca.fit_transform(X_normalized)\n",
    "X_principal = pd.DataFrame(X_principal)\n",
    "X_principal.columns = ['P1', 'P2']\n"
   ]
  },
  {
   "cell_type": "code",
   "execution_count": null,
   "id": "27d3e152",
   "metadata": {},
   "outputs": [],
   "source": [
    "X_principal.head()"
   ]
  },
  {
   "cell_type": "code",
   "execution_count": null,
   "id": "468a0671",
   "metadata": {},
   "outputs": [],
   "source": [
    "X_principal.shape"
   ]
  },
  {
   "cell_type": "code",
   "execution_count": null,
   "id": "63add4bf",
   "metadata": {},
   "outputs": [],
   "source": []
  },
  {
   "cell_type": "code",
   "execution_count": null,
   "id": "da89469d",
   "metadata": {},
   "outputs": [],
   "source": [
    "# Klasteryzacji hierarchicznej i DBScan nie jest w stanie rozwinąć, ponieważ wyskakuje mi błąd - dead kernel"
   ]
  },
  {
   "cell_type": "markdown",
   "id": "d3e499fc",
   "metadata": {},
   "source": [
    "### Hierarchiczna"
   ]
  },
  {
   "cell_type": "code",
   "execution_count": null,
   "id": "dbd818b5",
   "metadata": {},
   "outputs": [],
   "source": [
    "from scipy.cluster.hierarchy import dendrogram, linkage"
   ]
  },
  {
   "cell_type": "code",
   "execution_count": null,
   "id": "5bda605f",
   "metadata": {},
   "outputs": [],
   "source": [
    "hierarchy_clust =linkage(X_principal, method = 'ward', metric = 'euclidean')"
   ]
  },
  {
   "cell_type": "code",
   "execution_count": null,
   "id": "bec88cbf",
   "metadata": {},
   "outputs": [],
   "source": [
    "P = dendrogram(hierarchy_clust)\n",
    "plt.show()"
   ]
  },
  {
   "cell_type": "markdown",
   "id": "c0949a8d",
   "metadata": {},
   "source": [
    "### DBSCAN"
   ]
  },
  {
   "cell_type": "code",
   "execution_count": null,
   "id": "9cd1e9a4",
   "metadata": {},
   "outputs": [],
   "source": [
    "from sklearn import datasets\n",
    "from sklearn.preprocessing import StandardScaler\n",
    "from sklearn.cluster import DBSCAN"
   ]
  },
  {
   "cell_type": "code",
   "execution_count": null,
   "id": "d341eea3",
   "metadata": {},
   "outputs": [],
   "source": [
    "dbscan=DBSCAN(eps=3,min_samples=4)"
   ]
  },
  {
   "cell_type": "code",
   "execution_count": null,
   "id": "62897ca5",
   "metadata": {},
   "outputs": [],
   "source": [
    "model=dbscan.fit(X)"
   ]
  },
  {
   "cell_type": "code",
   "execution_count": null,
   "id": "4df5668e",
   "metadata": {},
   "outputs": [],
   "source": [
    "labels=model.labels_"
   ]
  },
  {
   "cell_type": "code",
   "execution_count": null,
   "id": "a6266f15",
   "metadata": {},
   "outputs": [],
   "source": []
  },
  {
   "cell_type": "markdown",
   "id": "3b530e55",
   "metadata": {},
   "source": [
    "## Future importance"
   ]
  },
  {
   "cell_type": "code",
   "execution_count": null,
   "id": "0a613426",
   "metadata": {},
   "outputs": [],
   "source": [
    "# Chcę sprawdzić, które zmienne będą miały największy wpływ na wynik predykcji"
   ]
  },
  {
   "cell_type": "markdown",
   "id": "bd7bc202",
   "metadata": {},
   "source": [
    "### Drzewo decyzyjne"
   ]
  },
  {
   "cell_type": "code",
   "execution_count": null,
   "id": "dde25725",
   "metadata": {},
   "outputs": [],
   "source": [
    "X_train, X_test, Y_train, Y_test = train_test_split(X,Y, test_size = 0.25, random_state = 42)\n",
    "\n",
    "dt_model = DecisionTreeRegressor()\n",
    "dt_model.fit(X_train , Y_train)\n",
    "\n",
    "print('Feature importances: \\n',pd.DataFrame(dt_model.feature_importances_,columns=['Imp'],index=X_train.columns))"
   ]
  },
  {
   "cell_type": "code",
   "execution_count": null,
   "id": "1659db84",
   "metadata": {},
   "outputs": [],
   "source": [
    "def feature_importance(model, labels):\n",
    "    importances = model.feature_importances_\n",
    "    indices = np.argsort(importances)[::-1]\n",
    "    \n",
    "    temp = pd.DataFrame(importances[indices], X.columns[indices])\n",
    "    temp.columns = [\"Feature importance\"]\n",
    "    temp[\"Feature name\"] = temp.index\n",
    "    plt.subplots(figsize=(10, 8))\n",
    "    ax = sns.barplot(\n",
    "        y=\"Feature name\",\n",
    "        x=\"Feature importance\",\n",
    "        data=temp.iloc[:20, ]\n",
    "    )\n",
    "    plt.title(\"Feature Importance_\"+labels)\n",
    "    plt.savefig(labels+'_FI.png', dpi=150)\n",
    "    return"
   ]
  },
  {
   "cell_type": "code",
   "execution_count": null,
   "id": "ff2e4c9a",
   "metadata": {
    "scrolled": true
   },
   "outputs": [],
   "source": [
    "feature_importance(dt_model, 'Imp')"
   ]
  },
  {
   "cell_type": "code",
   "execution_count": null,
   "id": "1a05ffff",
   "metadata": {},
   "outputs": [],
   "source": [
    "# Wg powyższego wykresu największą moc predykcyjną będzie miała wartość 'int_rate' - wysokość oprocentowania kredytu"
   ]
  },
  {
   "cell_type": "markdown",
   "id": "e2759d98",
   "metadata": {},
   "source": [
    "# Modelowanie"
   ]
  },
  {
   "cell_type": "code",
   "execution_count": null,
   "id": "6ba05480",
   "metadata": {},
   "outputs": [],
   "source": [
    "X = df1.iloc[:,0:8]\n",
    "Y = df1.iloc[:,8]"
   ]
  },
  {
   "cell_type": "markdown",
   "id": "92730fc5",
   "metadata": {},
   "source": [
    "### Regresja logistyczna"
   ]
  },
  {
   "cell_type": "code",
   "execution_count": null,
   "id": "e752b644",
   "metadata": {},
   "outputs": [],
   "source": [
    "from sklearn.linear_model import LogisticRegression\n",
    "\n",
    "classifier=LogisticRegression()\n",
    "classifier.fit(X_train,y_train)\n",
    "\n",
    "y_pred=classifier.predict(X_test)\n",
    "y_pred1=classifier.predict_proba(X_test)\n",
    "\n",
    "from sklearn.metrics import accuracy_score,roc_auc_score\n",
    "print(\"Accuracy_score: {}\".format(accuracy_score(y_test,y_pred)))\n",
    "print(\"roc_auc_score: {}\".format(roc_auc_score(y_test,y_pred1[:,1])))"
   ]
  },
  {
   "cell_type": "code",
   "execution_count": null,
   "id": "6ba72c13",
   "metadata": {},
   "outputs": [],
   "source": [
    "from sklearn.metrics import roc_curve\n",
    "from sklearn.metrics import roc_auc_score\n",
    "\n",
    "lr_probs = model.predict_proba(X_test)\n",
    "\n",
    "lr_probs = lr_probs[:, 1]\n",
    "\n",
    "ns_auc = roc_auc_score(Y_test, ns_probs)\n",
    "lr_auc = roc_auc_score(Y_test, lr_probs)\n",
    "\n",
    "print('No Skill: ROC AUC=%.3f' % (ns_auc))\n",
    "print('Logistic Regression: ROC AUC=%.3f' % (lr_auc))\n",
    "\n",
    "ns_fpr, ns_tpr, _ = roc_curve(Y_test, ns_probs)\n",
    "lr_fpr, lr_tpr, _ = roc_curve(Y_test, lr_probs)\n",
    "\n",
    "plt.figure(figsize=(12,4))\n",
    "plt.plot(ns_fpr, ns_tpr, linestyle='--', label='No Skill')\n",
    "plt.plot(lr_fpr, lr_tpr, marker='.', label='Logistic Regression')\n",
    "plt.xlabel('False Positive Rate')\n",
    "plt.ylabel('True Positive Rate')\n",
    "plt.legend()\n",
    "plt.show()"
   ]
  },
  {
   "cell_type": "code",
   "execution_count": null,
   "id": "5787cfd7",
   "metadata": {},
   "outputs": [],
   "source": [
    "from sklearn.metrics import classification_report,confusion_matrix"
   ]
  },
  {
   "cell_type": "code",
   "execution_count": null,
   "id": "86a628a9",
   "metadata": {},
   "outputs": [],
   "source": [
    "Y_pred = model.predict(X_test)\n",
    "confusion_matrix(Y_test, Y_pred)"
   ]
  },
  {
   "cell_type": "code",
   "execution_count": null,
   "id": "6aa63f3f",
   "metadata": {},
   "outputs": [],
   "source": [
    "print(classification_report(Y_test, Y_pred))"
   ]
  },
  {
   "cell_type": "code",
   "execution_count": null,
   "id": "9d37def0",
   "metadata": {},
   "outputs": [],
   "source": [
    "def evaluate_performance(Y_test, Y_pred):\n",
    "    performance_report = classification_report(Y_test, Y_pred, output_dict=True)\n",
    "    accuracy = performance_report['accuracy']\n",
    "    precision = performance_report['1']['precision']\n",
    "    recall = performance_report['1']['recall']\n",
    "    \n",
    "    return {'accuracy': accuracy,\n",
    "            'precision': precision,\n",
    "            'recall': recall}"
   ]
  },
  {
   "cell_type": "markdown",
   "id": "bbd98627",
   "metadata": {},
   "source": [
    "### #"
   ]
  },
  {
   "cell_type": "code",
   "execution_count": null,
   "id": "f1429d38",
   "metadata": {},
   "outputs": [],
   "source": [
    "from sklearn.linear_model import LogisticRegression\n",
    "\n",
    "logit=LogisticRegression()\n",
    "logit.fit(X_train,Y_train)\n",
    "\n",
    "Y_pred=logit.predict(X_test)\n",
    "Y_pred1=logit.predict_proba(X_test)"
   ]
  },
  {
   "cell_type": "code",
   "execution_count": null,
   "id": "bb998442",
   "metadata": {},
   "outputs": [],
   "source": [
    "print('Regraesja logistyczna - dane treningowe:',logit.score(X_train,Y_train))\n",
    "print('Regraesja logistyczna - dane testowe:',logit.score(X_test,Y_test))\n",
    "\n",
    "acc_logit = accuracy_score(Y_test,Y_pred)\n",
    "print('Accuracy: ',acc_logit)\n",
    "print('MSE: ',metrics.mean_squared_error(Y_test, Y_pred))\n",
    "roc_logit = roc_auc_score(Y_test,Y_pred1[:,1])\n",
    "print('ROC_score: ',roc_logit)"
   ]
  },
  {
   "cell_type": "code",
   "execution_count": null,
   "id": "23e70f89",
   "metadata": {
    "scrolled": false
   },
   "outputs": [],
   "source": [
    "results = pd.DataFrame({'Method':['Regresja logistyczna'], 'Accuracy': acc_logit},index={'1'})\n",
    "results = results[['Method', 'Accuracy']]\n",
    "results"
   ]
  },
  {
   "cell_type": "markdown",
   "id": "317bc10d",
   "metadata": {},
   "source": [
    "### Regresja logistyczna K-Fold Cross-Validation"
   ]
  },
  {
   "cell_type": "code",
   "execution_count": null,
   "id": "d324b690",
   "metadata": {},
   "outputs": [],
   "source": [
    "kf=KFold(n_splits=10)\n",
    "score=cross_val_score(logit,X,Y,cv=kf)\n",
    "avg_logit = score.mean()\n",
    "print('Średnia k-fold:',avg_logit )"
   ]
  },
  {
   "cell_type": "code",
   "execution_count": null,
   "id": "e920913f",
   "metadata": {},
   "outputs": [],
   "source": [
    "results_kfold = pd.DataFrame({'Method':['Regresja logistyczna k fold'], 'Accuracy': [avg_logit]},index={'2'})\n",
    "results = pd.concat([results, results_kfold])\n",
    "results"
   ]
  },
  {
   "cell_type": "markdown",
   "id": "4c65bdbf",
   "metadata": {},
   "source": [
    "### Random Forest"
   ]
  },
  {
   "cell_type": "code",
   "execution_count": null,
   "id": "c9e7da0c",
   "metadata": {},
   "outputs": [],
   "source": [
    "\n",
    "\n",
    "rf_model = RandomForestClassifier()\n",
    "rf_model.fit(X_train, Y_train)\n",
    "\n",
    "Ytrain_pred = rf_model.predict_proba(X_train)\n",
    "print('RF train roc-auc: {}'.format(roc_auc_score(Y_train, Ytrain_pred[:,1])))\n",
    "\n",
    "Ytest_pred = rf_model.predict_proba(X_test)\n",
    "print('RF test roc-auc: {}'.format(roc_auc_score(Y_test, Ytest_pred[:,1])))"
   ]
  },
  {
   "cell_type": "code",
   "execution_count": null,
   "id": "60a28626",
   "metadata": {},
   "outputs": [],
   "source": [
    "from sklearn.ensemble import RandomForestClassifier\n",
    "random_forest=RandomForestClassifier()\n",
    "random_forest.fit(X_train,Y_train)\n",
    "\n",
    "Y_pred=random_forest.predict(X_test)\n",
    "Y_pred1=random_forest.predict_proba(X_test)"
   ]
  },
  {
   "cell_type": "code",
   "execution_count": null,
   "id": "a6d12cec",
   "metadata": {},
   "outputs": [],
   "source": [
    "print('RandomForest - dane treningowe:',random_forest.score(X_train,Y_train))\n",
    "print('RandomForest - dane testowe:',random_forest.score(X_test,Y_test))\n",
    "\n",
    "acc_random_forest = accuracy_score(Y_test,Y_pred)\n",
    "print('Accuracy: ',acc_random_forest)\n",
    "print('MSE: ',metrics.mean_squared_error(Y_test, Y_pred))\n",
    "roc_random_forest = roc_auc_score(Y_test,Y_pred1[:,1])\n",
    "print('ROC_score: ',roc_random_forest)"
   ]
  },
  {
   "cell_type": "code",
   "execution_count": null,
   "id": "f60cc503",
   "metadata": {
    "scrolled": false
   },
   "outputs": [],
   "source": [
    "results_rf = pd.DataFrame({'Method':['RandomForest'], 'Accuracy': acc_random_forest},index={'3'})\n",
    "results = pd.concat([results, results_rf])\n",
    "results = results[['Method', 'Accuracy']]\n",
    "results"
   ]
  },
  {
   "cell_type": "code",
   "execution_count": null,
   "id": "7c7d13ea",
   "metadata": {},
   "outputs": [],
   "source": [
    "pd.concat([results, tempResultsDf])"
   ]
  },
  {
   "cell_type": "markdown",
   "id": "6488a756",
   "metadata": {},
   "source": [
    "### Regresja logistyczna K-Fold Cross-Validation"
   ]
  },
  {
   "cell_type": "code",
   "execution_count": null,
   "id": "261dcac1",
   "metadata": {},
   "outputs": [],
   "source": [
    "kf=KFold(n_splits=10)\n",
    "score=cross_val_score(random_forest,X,Y,cv=kf)\n",
    "avg_random_forest = score.mean()\n",
    "print('Średnia k-fold:',avg_random_forest)"
   ]
  },
  {
   "cell_type": "code",
   "execution_count": null,
   "id": "5450a638",
   "metadata": {},
   "outputs": [],
   "source": [
    "results_kfold = pd.DataFrame({'Method':['RandomForest k fold'], 'Accuracy': [avg_random_forest]},index={'2'})\n",
    "results = pd.concat([results, results_kfold])\n",
    "results"
   ]
  },
  {
   "cell_type": "code",
   "execution_count": null,
   "id": "fb0146da",
   "metadata": {},
   "outputs": [],
   "source": []
  },
  {
   "cell_type": "code",
   "execution_count": null,
   "id": "21db230c",
   "metadata": {},
   "outputs": [],
   "source": []
  },
  {
   "cell_type": "code",
   "execution_count": null,
   "id": "ef4cacba",
   "metadata": {},
   "outputs": [],
   "source": []
  },
  {
   "cell_type": "code",
   "execution_count": null,
   "id": "e99c0624",
   "metadata": {},
   "outputs": [],
   "source": []
  },
  {
   "cell_type": "code",
   "execution_count": null,
   "id": "2f20b296",
   "metadata": {},
   "outputs": [],
   "source": []
  },
  {
   "cell_type": "code",
   "execution_count": null,
   "id": "c9611d4f",
   "metadata": {},
   "outputs": [],
   "source": []
  },
  {
   "cell_type": "code",
   "execution_count": null,
   "id": "41cca289",
   "metadata": {},
   "outputs": [],
   "source": []
  },
  {
   "cell_type": "code",
   "execution_count": null,
   "id": "5d924e47",
   "metadata": {},
   "outputs": [],
   "source": []
  },
  {
   "cell_type": "code",
   "execution_count": null,
   "id": "26ab22c6",
   "metadata": {},
   "outputs": [],
   "source": [
    "from sklearn.model_selection import GridSearchCV, RandomizedSearchCV\n",
    "from sklearn.ensemble import RandomForestClassifier\n",
    "from sklearn.model_selection import cross_val_score, cross_val_predict\n",
    "from sklearn.metrics import accuracy_score, classification_report, confusion_matrix"
   ]
  },
  {
   "cell_type": "code",
   "execution_count": null,
   "id": "52ba6dd6",
   "metadata": {},
   "outputs": [],
   "source": [
    "X_train, X_test, Y_train, Y_test = train_test_split(X,Y, test_size = 0.3, random_state = 1)"
   ]
  },
  {
   "cell_type": "code",
   "execution_count": null,
   "id": "d78d8611",
   "metadata": {},
   "outputs": [],
   "source": [
    "## Random Forest\n",
    "classifier_RF = RandomForestClassifier()\n",
    "model.fit(X_train, Y_train)"
   ]
  },
  {
   "cell_type": "code",
   "execution_count": null,
   "id": "a3854fcf",
   "metadata": {},
   "outputs": [],
   "source": [
    "parameters = {\n",
    "    'n_estimators' : [100,500,1000]\n",
    "}\n",
    "Grid_RF = GridSearchCV(RandomForestClassifier(),parameters, cv=5)\n",
    "Grid_RF.fit(X_train, Y_train)"
   ]
  },
  {
   "cell_type": "code",
   "execution_count": null,
   "id": "80260cd5",
   "metadata": {},
   "outputs": [],
   "source": [
    "y_pred = model.predict(X_test)\n",
    "\n",
    "print('Performance on training data using RFR:',model.score(X_train,Y_train))\n",
    "print('Performance on testing data using RFR:',model.score(X_test,Y_test))\n",
    "\n",
    "acc_RFR=metrics.r2_score(Y_test, Y_pred)\n",
    "print('Accuracy DT: ',acc_RFR)\n",
    "print('MSE: ',metrics.mean_squared_error(Y_test, Y_pred)) #ewidentny overfit"
   ]
  },
  {
   "cell_type": "code",
   "execution_count": null,
   "id": "e0260b18",
   "metadata": {},
   "outputs": [],
   "source": []
  },
  {
   "cell_type": "code",
   "execution_count": null,
   "id": "be910272",
   "metadata": {},
   "outputs": [],
   "source": []
  },
  {
   "cell_type": "code",
   "execution_count": null,
   "id": "9d00e270",
   "metadata": {},
   "outputs": [],
   "source": [
    "clf_rf = RandomForestClassifier(n_estimators=40, random_state=21)\n",
    "clf_rf.fit(x_train_r, y_train_r)"
   ]
  },
  {
   "cell_type": "code",
   "execution_count": null,
   "id": "2ef26c3f",
   "metadata": {},
   "outputs": [],
   "source": [
    "y_pred = model.predict(X_test)\n",
    "\n",
    "print('Performance on training data using RFR:',model.score(X_train,Y_train))\n",
    "\n",
    "print('Performance on testing data using RFR:',model.score(X_test,Y_test))\n",
    "\n",
    "acc_RFR=metrics.r2_score(Y_test, Y_pred)\n",
    "print('Accuracy DT: ',acc_RFR)\n",
    "print('MSE: ',metrics.mean_squared_error(Y_test, Y_pred)) #ewidentny overfit"
   ]
  },
  {
   "cell_type": "code",
   "execution_count": null,
   "id": "ae28fa75",
   "metadata": {},
   "outputs": [],
   "source": [
    "tempResultsDf = pd.DataFrame({'Method':['Random Forest Classifier'], 'accuracy': [acc_RFR]},index={'7'})\n",
    "results = pd.concat([results, tempResultsDf])\n",
    "results = results[['Method', 'accuracy']]\n",
    "results"
   ]
  },
  {
   "cell_type": "code",
   "execution_count": null,
   "id": "bc22998f",
   "metadata": {},
   "outputs": [],
   "source": [
    "num_folds = 20\n",
    "seed = 77\n",
    "kfold = KFold(n_splits=num_folds)\n",
    "results1 = cross_val_score(model,X, Y, cv=kfold)\n",
    "accuracy=np.mean(abs(results1))\n",
    "print('Average accuracy: ',accuracy)\n",
    "print('Standard Deviation: ',results1.std())"
   ]
  },
  {
   "cell_type": "code",
   "execution_count": null,
   "id": "8d8e456e",
   "metadata": {},
   "outputs": [],
   "source": [
    "tempResultsDf = pd.DataFrame({'Method':['Random Forest Classifier k fold'], 'accuracy': [accuracy]},index={'8'})\n",
    "results = pd.concat([results, tempResultsDf])\n",
    "results = results[['Method', 'accuracy']]\n",
    "results"
   ]
  },
  {
   "cell_type": "code",
   "execution_count": null,
   "id": "f89b94fd",
   "metadata": {},
   "outputs": [],
   "source": []
  },
  {
   "cell_type": "markdown",
   "id": "6f7fdd0b",
   "metadata": {},
   "source": [
    "### Support Vector Machine"
   ]
  },
  {
   "cell_type": "code",
   "execution_count": null,
   "id": "766b10df",
   "metadata": {},
   "outputs": [],
   "source": [
    "from sklearn.svm import SVC \n",
    "\n",
    "classifier_SVC = SVC(probability=True)\n",
    "classifier_SVC.fit(X_train, Y_train)"
   ]
  },
  {
   "cell_type": "code",
   "execution_count": null,
   "id": "4346da1f",
   "metadata": {},
   "outputs": [],
   "source": []
  },
  {
   "cell_type": "code",
   "execution_count": null,
   "id": "4bc7e7a6",
   "metadata": {},
   "outputs": [],
   "source": []
  },
  {
   "cell_type": "code",
   "execution_count": null,
   "id": "30dfa772",
   "metadata": {},
   "outputs": [],
   "source": []
  },
  {
   "cell_type": "code",
   "execution_count": null,
   "id": "efbe0732",
   "metadata": {},
   "outputs": [],
   "source": []
  },
  {
   "cell_type": "markdown",
   "id": "a8c8c160",
   "metadata": {},
   "source": [
    "### XGBoost"
   ]
  },
  {
   "cell_type": "code",
   "execution_count": null,
   "id": "4e09b15f",
   "metadata": {},
   "outputs": [],
   "source": [
    "from xgboost import XGBClassifier\n",
    "import time"
   ]
  },
  {
   "cell_type": "code",
   "execution_count": null,
   "id": "9b1ec5b3",
   "metadata": {},
   "outputs": [],
   "source": [
    "start = time.time()\n",
    "from xgboost import XGBClassifier\n",
    "\n",
    "# XGBoost\n",
    "classifier_xgb = XGBClassifier()\n",
    "\n",
    "# Randomly search the hyperparameter space\n",
    "parameters = {\n",
    "\n",
    "    'min_child_weight':(0,0.1,1,10,100,500),\n",
    "    'learning_rate':(0.01, 0.1,1),\n",
    "    'min_split_loss':(0,0.01,0.1,1),\n",
    "    'max_depth':(2,6,8,10,12),\n",
    "    'lambda':(0.1,1,2,5,10)\n",
    "}\n",
    "Random_XGB = RandomizedSearchCV(classifier_xgb,parameters, cv=5)\n",
    "Random_XGB.fit(X_train, Y_train)\n",
    "elapsed = time.time() - start\n",
    "print(elapsed)"
   ]
  },
  {
   "cell_type": "code",
   "execution_count": null,
   "id": "40a10d61",
   "metadata": {},
   "outputs": [],
   "source": [
    "Random_XGB.best_params_"
   ]
  },
  {
   "cell_type": "code",
   "execution_count": null,
   "id": "351df5ed",
   "metadata": {},
   "outputs": [],
   "source": [
    "start = time.time()\n",
    "parameters = {\n",
    "\n",
    "    'min_child_weight':(300,500,800),\n",
    "    'learning_rate':(0.05, 0.1,0.3),\n",
    "    'min_split_loss':(0,0.01,0.1),\n",
    "    'max_depth':(2,6,8,10),\n",
    "    'lambda':(0.1,0.5,1)\n",
    "}\n",
    "\n",
    "\n",
    "Grid_XGB = GridSearchCV(XGBClassifier(),parameters, cv=5)\n",
    "Grid_XGB.fit(X_train, Y_train)\n",
    "elapsed = time.time() - start\n",
    "print(elapsed)"
   ]
  },
  {
   "cell_type": "code",
   "execution_count": null,
   "id": "bed7eeb6",
   "metadata": {},
   "outputs": [],
   "source": [
    "Grid_XGB.best_params_"
   ]
  },
  {
   "cell_type": "code",
   "execution_count": null,
   "id": "684468e9",
   "metadata": {},
   "outputs": [],
   "source": []
  },
  {
   "cell_type": "code",
   "execution_count": null,
   "id": "b009c50a",
   "metadata": {},
   "outputs": [],
   "source": []
  },
  {
   "cell_type": "code",
   "execution_count": null,
   "id": "f9e0904f",
   "metadata": {},
   "outputs": [],
   "source": []
  },
  {
   "cell_type": "code",
   "execution_count": null,
   "id": "efbb66ae",
   "metadata": {},
   "outputs": [],
   "source": []
  },
  {
   "cell_type": "code",
   "execution_count": null,
   "id": "b895316b",
   "metadata": {},
   "outputs": [],
   "source": []
  },
  {
   "cell_type": "code",
   "execution_count": null,
   "id": "50e26b42",
   "metadata": {},
   "outputs": [],
   "source": [
    "from sklearn.metrics import classification_report, confusion_matrix\n",
    "from sklearn.ensemble import GradientBoostingClassifier"
   ]
  },
  {
   "cell_type": "code",
   "execution_count": null,
   "id": "9b5fc119",
   "metadata": {},
   "outputs": [],
   "source": [
    "model=GradientBoostingClassifier()\n",
    "model.fit(X_train, Y_train)"
   ]
  },
  {
   "cell_type": "code",
   "execution_count": null,
   "id": "19086647",
   "metadata": {},
   "outputs": [],
   "source": [
    "y_pred = model.predict(X_test)\n",
    "\n",
    "print('Performance on training data using GBR:',model.score(X_train,Y_train))\n",
    "\n",
    "print('Performance on testing data using GBR:',model.score(X_test,Y_test))\n",
    "\n",
    "acc_GBR=metrics.r2_score(Y_test, Y_pred)\n",
    "print('Accuracy DT: ',acc_GBR)\n",
    "print('MSE: ',metrics.mean_squared_error(Y_test, Y_pred))"
   ]
  },
  {
   "cell_type": "code",
   "execution_count": null,
   "id": "4cedfde8",
   "metadata": {},
   "outputs": [],
   "source": [
    "tempResultsDf = pd.DataFrame({'Method':['Gradient Boost Classifier'], 'accuracy': [acc_GBR]},index={'9'})\n",
    "results = pd.concat([results, tempResultsDf])\n",
    "results = results[['Method', 'accuracy']]\n",
    "results"
   ]
  },
  {
   "cell_type": "code",
   "execution_count": null,
   "id": "0fd1bd8e",
   "metadata": {},
   "outputs": [],
   "source": [
    "num_folds = 20\n",
    "seed = 77\n",
    "kfold = KFold(n_splits=num_folds)\n",
    "results1 = cross_val_score(model,X, Y, cv=kfold)\n",
    "accuracy=np.mean(abs(results1))\n",
    "print('Average accuracy: ',accuracy)\n",
    "print('Standard Deviation: ',results1.std())"
   ]
  },
  {
   "cell_type": "code",
   "execution_count": null,
   "id": "1f0f3393",
   "metadata": {
    "scrolled": true
   },
   "outputs": [],
   "source": [
    "tempResultsDf = pd.DataFrame({'Method':['Gradient Boost Classifier k fold'], 'accuracy': [accuracy]},index={'10'})\n",
    "results = pd.concat([results, tempResultsDf])\n",
    "results = results[['Method', 'accuracy']]\n",
    "results"
   ]
  },
  {
   "cell_type": "code",
   "execution_count": null,
   "id": "76078d08",
   "metadata": {},
   "outputs": [],
   "source": [
    "\n",
    "# create dataset\n",
    "X, y = make_classification(n_samples=100, n_features=20, n_informative=15, n_redundant=5, random_state=1)\n",
    "# prepare the cross-validation procedure\n",
    "cv = KFold(n_splits=10, random_state=1, shuffle=True)\n",
    "# create model\n",
    "model = LogisticRegression()\n",
    "# evaluate model\n",
    "scores = cross_val_score(model, X, Y, scoring='accuracy', cv=cv, n_jobs=-1)\n",
    "# report performance\n",
    "print('Accuracy: %.3f (%.3f)' % (mean(scores), std(scores)))"
   ]
  },
  {
   "cell_type": "markdown",
   "id": "3de1a456",
   "metadata": {},
   "source": [
    "### AdaBoost"
   ]
  },
  {
   "cell_type": "code",
   "execution_count": null,
   "id": "bfae4e8a",
   "metadata": {},
   "outputs": [],
   "source": [
    "from sklearn.ensemble import AdaBoostClassifier\n",
    "model=AdaBoostClassifier()\n",
    "model.fit(X_train, Y_train)"
   ]
  },
  {
   "cell_type": "code",
   "execution_count": null,
   "id": "9b69348f",
   "metadata": {},
   "outputs": [],
   "source": [
    "y_pred = model.predict(X_test)\n",
    "\n",
    "print('Performance on training data using GBR:',model.score(X_train,Y_train))\n",
    "print('Performance on testing data using GBR:',model.score(X_test,Y_test))\n",
    "\n",
    "acc_ABR=metrics.r2_score(Y_test, Y_pred)\n",
    "print('Accuracy DT: ',acc_ABR)\n",
    "print('MSE: ',metrics.mean_squared_error(Y_test, Y_pred))"
   ]
  },
  {
   "cell_type": "code",
   "execution_count": null,
   "id": "de7d475a",
   "metadata": {},
   "outputs": [],
   "source": [
    "tempResultsDf = pd.DataFrame({'Method':['Ada Boosting Classifier'], 'accuracy': [acc_ABR]},index={'11'})\n",
    "results = pd.concat([results, tempResultsDf])\n",
    "results = results[['Method', 'accuracy']]\n",
    "results"
   ]
  },
  {
   "cell_type": "code",
   "execution_count": null,
   "id": "e5591898",
   "metadata": {},
   "outputs": [],
   "source": [
    "num_folds = 18\n",
    "seed = 77\n",
    "kfold = KFold(n_splits=num_folds)\n",
    "results1 = cross_val_score(model,X, Y, cv=kfold)\n",
    "accuracy=np.mean(abs(results1))\n",
    "print('Average accuracy: ',accuracy)\n",
    "print('Standard Deviation: ',results1.std())"
   ]
  },
  {
   "cell_type": "code",
   "execution_count": null,
   "id": "b8747079",
   "metadata": {
    "scrolled": true
   },
   "outputs": [],
   "source": [
    "tempResultsDf = pd.DataFrame({'Method':['Ada Boosting Classifier k fold'], 'accuracy': [accuracy]},index={'12'})\n",
    "results = pd.concat([results, tempResultsDf])\n",
    "results = results[['Method', 'accuracy']]\n",
    "results"
   ]
  },
  {
   "cell_type": "code",
   "execution_count": null,
   "id": "1933bc1c",
   "metadata": {},
   "outputs": [],
   "source": []
  },
  {
   "cell_type": "code",
   "execution_count": null,
   "id": "50d0c2d6",
   "metadata": {},
   "outputs": [],
   "source": []
  },
  {
   "cell_type": "code",
   "execution_count": null,
   "id": "ab50434e",
   "metadata": {},
   "outputs": [],
   "source": [
    "from sklearn import model_selection\n",
    "from sklearn.ensemble import BaggingClassifier"
   ]
  },
  {
   "cell_type": "code",
   "execution_count": null,
   "id": "2306c6be",
   "metadata": {},
   "outputs": [],
   "source": [
    "model=BaggingClassifier()\n",
    "model.fit(X_train, Y_train)"
   ]
  },
  {
   "cell_type": "code",
   "execution_count": null,
   "id": "af845a20",
   "metadata": {},
   "outputs": [],
   "source": [
    "y_pred = model.predict(X_test)\n",
    "\n",
    "print('Performance on training data using GBR:',model.score(X_train,Y_train))\n",
    "print('Performance on testing data using GBR:',model.score(X_test,Y_test))\n",
    "\n",
    "acc_BR=metrics.r2_score(Y_test, Y_pred)\n",
    "print('Accuracy DT: ',acc_BR)\n",
    "print('MSE: ',metrics.mean_squared_error(Y_test, Y_pred))"
   ]
  },
  {
   "cell_type": "code",
   "execution_count": null,
   "id": "75b5f4cd",
   "metadata": {},
   "outputs": [],
   "source": [
    "tempResultsDf = pd.DataFrame({'Method':['Bagging Classifier'], 'accuracy': [acc_BR]},index={'13'})\n",
    "results = pd.concat([results, tempResultsDf])\n",
    "results = results[['Method', 'accuracy']]\n",
    "results"
   ]
  },
  {
   "cell_type": "code",
   "execution_count": null,
   "id": "ad6e22ad",
   "metadata": {},
   "outputs": [],
   "source": [
    "## K fold cross-validation\n",
    "num_folds = 20\n",
    "seed = 77\n",
    "kfold = KFold(n_splits=num_folds)\n",
    "results1 = cross_val_score(model,X, Y, cv=kfold)\n",
    "accuracy=np.mean(abs(results1))\n",
    "print('Average accuracy: ',accuracy)\n",
    "print('Standard Deviation: ',results1.std())"
   ]
  },
  {
   "cell_type": "code",
   "execution_count": null,
   "id": "07b1c4f7",
   "metadata": {
    "scrolled": true
   },
   "outputs": [],
   "source": [
    "tempResultsDf = pd.DataFrame({'Method':['Bagging Classifier k fold'], 'accuracy': [accuracy]},index={'14'})\n",
    "results = pd.concat([results, tempResultsDf])\n",
    "results = results[['Method', 'accuracy']]\n",
    "results"
   ]
  },
  {
   "cell_type": "code",
   "execution_count": null,
   "id": "7b56514d",
   "metadata": {},
   "outputs": [],
   "source": [
    "from sklearn import metrics"
   ]
  },
  {
   "cell_type": "code",
   "execution_count": null,
   "id": "e4042b65",
   "metadata": {},
   "outputs": [],
   "source": [
    "from sklearn.neighbors import KNeighborsClassifier\n",
    "error=[]\n",
    "for i in range(1,30):\n",
    "    knn = KNeighborsClassifier(n_neighbors=i)\n",
    "    knn.fit(X_train,Y_train)\n",
    "    pred_i = knn.predict(X_test)\n",
    "    error.append(np.mean(pred_i!=Y_test))"
   ]
  },
  {
   "cell_type": "code",
   "execution_count": null,
   "id": "96b6a5dc",
   "metadata": {},
   "outputs": [],
   "source": [
    "plt.figure(figsize=(12,6))\n",
    "plt.plot(range(1,30),error,color='red', linestyle='dashed',marker='o',markerfacecolor='blue',markersize=10)\n",
    "plt.title('Error Rate K Value')\n",
    "plt.xlabel('K Value')\n",
    "plt.ylabel('Mean error')"
   ]
  },
  {
   "cell_type": "code",
   "execution_count": null,
   "id": "b58009f8",
   "metadata": {},
   "outputs": [],
   "source": [
    "#k=6\n",
    "model = KNeighborsClassifier(n_neighbors=6)\n",
    "model.fit(X_train, Y_train)"
   ]
  },
  {
   "cell_type": "code",
   "execution_count": null,
   "id": "6f80c398",
   "metadata": {},
   "outputs": [],
   "source": [
    "Y_pred = model.predict(X_test)\n",
    "\n",
    "print('Performance on training data using KNNR:',model.score(X_train,Y_train))\n",
    "print('Performance on testing data using KNNR:',model.score(X_test,Y_test))\n",
    "\n",
    "acc_K=metrics.r2_score(Y_test, Y_pred)\n",
    "print('Accuracy KNNR: ',acc_K)\n",
    "print('MSE: ',metrics.mean_squared_error(Y_test, Y_pred))"
   ]
  },
  {
   "cell_type": "code",
   "execution_count": null,
   "id": "93a6e869",
   "metadata": {},
   "outputs": [],
   "source": [
    "tempResultsDf = pd.DataFrame({'Method':['KNN Classifier'], 'accuracy': [acc_K]},index={'15'})\n",
    "results = pd.concat([results, tempResultsDf])\n",
    "results = results[['Method', 'accuracy']]\n",
    "results"
   ]
  },
  {
   "cell_type": "code",
   "execution_count": null,
   "id": "c01ebd46",
   "metadata": {},
   "outputs": [],
   "source": [
    "num_folds = 30\n",
    "seed = 77\n",
    "kfold = KFold(n_splits=num_folds)\n",
    "results1 = cross_val_score(model,X, Y, cv=kfold)\n",
    "accuracy=np.mean(abs(results1))\n",
    "print('Average accuracy: ',accuracy)\n",
    "print('Standard Deviation: ',results1.std())"
   ]
  },
  {
   "cell_type": "code",
   "execution_count": null,
   "id": "7d655163",
   "metadata": {},
   "outputs": [],
   "source": [
    "tempResultsDf = pd.DataFrame({'Method':['KNN Classifier k fold'], 'accuracy': [accuracy]},index={'16'})\n",
    "results = pd.concat([results, tempResultsDf])\n",
    "results = results[['Method', 'accuracy']]\n",
    "results"
   ]
  },
  {
   "cell_type": "code",
   "execution_count": null,
   "id": "ba325b1b",
   "metadata": {},
   "outputs": [],
   "source": []
  },
  {
   "cell_type": "code",
   "execution_count": null,
   "id": "23c1b866",
   "metadata": {},
   "outputs": [],
   "source": []
  },
  {
   "cell_type": "code",
   "execution_count": null,
   "id": "3edebc09",
   "metadata": {},
   "outputs": [],
   "source": [
    "from sklearn.svm import SVC\n",
    "model = SVC(kernel='linear')\n",
    "model.fit(X_train, Y_train)"
   ]
  },
  {
   "cell_type": "code",
   "execution_count": null,
   "id": "9972f7b0",
   "metadata": {},
   "outputs": [],
   "source": [
    "y_pred = model.predict(X_test)\n",
    "\n",
    "print('Performance on training data using SVC:',model.score(X_train,Y_train))\n",
    "print('Performance on testing data using SVC:',model.score(X_test,Y_test))\n",
    "\n",
    "acc_S=metrics.r2_score(Y_test, Y_pred)\n",
    "print('Accuracy SVC: ',acc_S)\n",
    "print('MSE: ',metrics.mean_squared_error(Y_test, Y_pred))"
   ]
  },
  {
   "cell_type": "code",
   "execution_count": null,
   "id": "8ac36f4e",
   "metadata": {},
   "outputs": [],
   "source": [
    "tempResultsDf = pd.DataFrame({'Method':['Support Vector Classifier'], 'accuracy': [acc_S]},index={'17'})\n",
    "results = pd.concat([results, tempResultsDf])\n",
    "results = results[['Method', 'accuracy']]\n",
    "results"
   ]
  },
  {
   "cell_type": "code",
   "execution_count": null,
   "id": "67ad83b5",
   "metadata": {},
   "outputs": [],
   "source": [
    "num_folds = 10\n",
    "seed = 77\n",
    "kfold = KFold(n_splits=num_folds)\n",
    "results1 = cross_val_score(model,X, Y, cv=kfold)\n",
    "accuracy=np.mean(abs(results1))\n",
    "print('Average accuracy: ',accuracy)\n",
    "print('Standard Deviation: ',results1.std())"
   ]
  },
  {
   "cell_type": "code",
   "execution_count": null,
   "id": "7ca2e136",
   "metadata": {},
   "outputs": [],
   "source": [
    "tempResultsDf = pd.DataFrame({'Method':['SVC k fold'], 'accuracy': [accuracy]},index={'18'})\n",
    "results = pd.concat([results, tempResultsDf])\n",
    "results = results[['Method', 'accuracy']]\n",
    "results"
   ]
  },
  {
   "cell_type": "code",
   "execution_count": null,
   "id": "59598d7e",
   "metadata": {},
   "outputs": [],
   "source": []
  },
  {
   "cell_type": "code",
   "execution_count": null,
   "id": "0cd8d5ad",
   "metadata": {},
   "outputs": [],
   "source": []
  },
  {
   "cell_type": "code",
   "execution_count": null,
   "id": "2a39fd00",
   "metadata": {},
   "outputs": [],
   "source": [
    "#Multiple model Ensemble\n",
    "from sklearn import svm\n",
    "LR=LinearClassifier()\n",
    "KN=KNeighborsClassifier(n_neighbors=3)\n",
    "SVM=svm.SVR(kernel='linear')"
   ]
  },
  {
   "cell_type": "code",
   "execution_count": null,
   "id": "7f2d6b62",
   "metadata": {},
   "outputs": [],
   "source": [
    "evc=VotingRegressor(estimators=[('LR',LR),('KN',KN),('SVM',SVM)])\n",
    "evc.fit(X_train, Y_train)"
   ]
  },
  {
   "cell_type": "code",
   "execution_count": null,
   "id": "ea7764a7",
   "metadata": {},
   "outputs": [],
   "source": [
    "y_pred = evc.predict(X_test)\n",
    "\n",
    "print('Performance on training data using ensemble:',evc.score(X_train,Y_train))\n",
    "print('Performance on testing data using ensemble:',evc.score(X_test,Y_test))\n",
    "\n",
    "acc_E=metrics.r2_score(Y_test, Y_pred)\n",
    "print('Accuracy ensemble: ',acc_E)\n",
    "print('MSE: ',metrics.mean_squared_error(Y_test, Y_pred))"
   ]
  },
  {
   "cell_type": "code",
   "execution_count": null,
   "id": "dc792031",
   "metadata": {},
   "outputs": [],
   "source": [
    "tempResultsDf = pd.DataFrame({'Method':['Ensemble'], 'accuracy': [acc_E]},index={'19'})\n",
    "results = pd.concat([results, tempResultsDf])\n",
    "results = results[['Method', 'accuracy']]\n",
    "results"
   ]
  },
  {
   "cell_type": "code",
   "execution_count": null,
   "id": "2b401d0a",
   "metadata": {},
   "outputs": [],
   "source": [
    "num_folds = 10\n",
    "seed = 77\n",
    "kfold = KFold(n_splits=num_folds)\n",
    "results1 = cross_val_score(evc,X, Y, cv=kfold)\n",
    "accuracy=np.mean(abs(results1))\n",
    "print('Average accuracy: ',accuracy)\n",
    "print('Standard Deviation: ',results1.std())"
   ]
  },
  {
   "cell_type": "code",
   "execution_count": null,
   "id": "fa0dd050",
   "metadata": {},
   "outputs": [],
   "source": [
    "tempResultsDf = pd.DataFrame({'Method':['Ensemble k fold'], 'accuracy': [accuracy]},index={'20'})\n",
    "results = pd.concat([results, tempResultsDf])\n",
    "results = results[['Method', 'accuracy']]\n",
    "results"
   ]
  },
  {
   "cell_type": "code",
   "execution_count": null,
   "id": "52150088",
   "metadata": {},
   "outputs": [],
   "source": []
  },
  {
   "cell_type": "code",
   "execution_count": null,
   "id": "9236a8eb",
   "metadata": {},
   "outputs": [],
   "source": []
  },
  {
   "cell_type": "code",
   "execution_count": null,
   "id": "ffa92d37",
   "metadata": {},
   "outputs": [],
   "source": []
  },
  {
   "cell_type": "code",
   "execution_count": null,
   "id": "edeef209",
   "metadata": {},
   "outputs": [],
   "source": []
  },
  {
   "cell_type": "code",
   "execution_count": null,
   "id": "e7856b8a",
   "metadata": {},
   "outputs": [],
   "source": []
  },
  {
   "cell_type": "code",
   "execution_count": null,
   "id": "3b207fb1",
   "metadata": {},
   "outputs": [],
   "source": []
  },
  {
   "cell_type": "code",
   "execution_count": null,
   "id": "79bf8408",
   "metadata": {},
   "outputs": [],
   "source": []
  },
  {
   "cell_type": "code",
   "execution_count": null,
   "id": "1409a65b",
   "metadata": {},
   "outputs": [],
   "source": [
    "'''4. Wytrenowanie 5 różnych modeli - 5 klasyfikatorów, fajnie jakby fundamentalnie się różniły, \n",
    "tzn część bazowała na odległościach (np. regresja logistyczna), \n",
    "a część na decyzjach (np. drzewo decyzyjne/las losowy)'''"
   ]
  },
  {
   "cell_type": "code",
   "execution_count": null,
   "id": "e614446f",
   "metadata": {},
   "outputs": [],
   "source": [
    "## Hyper Parameter Optimization\n",
    "\n",
    "params={\n",
    " \"learning_rate\"    : [0.05, 0.10, 0.15, 0.20, 0.25, 0.30 ] ,\n",
    " \"max_depth\"        : [ 3, 4, 5, 6, 8, 10, 12, 15],\n",
    " \"min_child_weight\" : [ 1, 3, 5, 7 ],\n",
    " \"gamma\"            : [ 0.0, 0.1, 0.2 , 0.3, 0.4 ],\n",
    " \"colsample_bytree\" : [ 0.3, 0.4, 0.5 , 0.7 ]\n",
    "    \n",
    "}"
   ]
  },
  {
   "cell_type": "code",
   "execution_count": null,
   "id": "69af6a32",
   "metadata": {},
   "outputs": [],
   "source": [
    "## Hyperparameter optimization using RandomizedSearchCV\n",
    "from sklearn.model_selection import RandomizedSearchCV, GridSearchCV\n",
    "import xgboost"
   ]
  },
  {
   "cell_type": "code",
   "execution_count": null,
   "id": "eed0e7d9",
   "metadata": {},
   "outputs": [],
   "source": [
    "classifier=xgboost.XGBClassifier()"
   ]
  },
  {
   "cell_type": "code",
   "execution_count": null,
   "id": "b493e9a9",
   "metadata": {},
   "outputs": [],
   "source": [
    "random_search=RandomizedSearchCV(classifier,param_distributions=params,n_iter=5,scoring='roc_auc',n_jobs=-1,cv=5,verbose=3)"
   ]
  },
  {
   "cell_type": "code",
   "execution_count": null,
   "id": "4c72e01e",
   "metadata": {},
   "outputs": [],
   "source": [
    "random_search.best_estimator_"
   ]
  },
  {
   "cell_type": "code",
   "execution_count": null,
   "id": "613aaae8",
   "metadata": {},
   "outputs": [],
   "source": [
    "random_search.best_params_"
   ]
  },
  {
   "cell_type": "code",
   "execution_count": null,
   "id": "6f34d37c",
   "metadata": {},
   "outputs": [],
   "source": [
    "classifier=xgboost.XGBClassifier(base_score=0.5, booster='gbtree', colsample_bylevel=1,\n",
    "       colsample_bytree=0.4, gamma=0.1, learning_rate=0.25,\n",
    "       max_delta_step=0, max_depth=3, min_child_weight=7, missing=None,\n",
    "       n_estimators=100, n_jobs=1, nthread=None,\n",
    "       objective='binary:logistic', random_state=0, reg_alpha=0,\n",
    "       reg_lambda=1, scale_pos_weight=1, seed=None, silent=True,\n",
    "       subsample=1)"
   ]
  },
  {
   "cell_type": "code",
   "execution_count": null,
   "id": "60f1c7b0",
   "metadata": {},
   "outputs": [],
   "source": [
    "score"
   ]
  },
  {
   "cell_type": "code",
   "execution_count": null,
   "id": "ca3febff",
   "metadata": {},
   "outputs": [],
   "source": [
    "score.mean()"
   ]
  },
  {
   "cell_type": "code",
   "execution_count": null,
   "id": "0f780c8f",
   "metadata": {},
   "outputs": [],
   "source": []
  },
  {
   "cell_type": "code",
   "execution_count": null,
   "id": "eab5ecbf",
   "metadata": {},
   "outputs": [],
   "source": []
  },
  {
   "cell_type": "code",
   "execution_count": null,
   "id": "43082b8a",
   "metadata": {},
   "outputs": [],
   "source": []
  },
  {
   "cell_type": "code",
   "execution_count": null,
   "id": "678c3ce6",
   "metadata": {},
   "outputs": [],
   "source": [
    "'''\n",
    "5. Skompresowanie danych metodą PCA (albo tak żeby zachować xx% zmienności, \n",
    "albo do wybranej liczby komponentów - np. redukcja liczby kolumn ze 100 do 20)'''"
   ]
  },
  {
   "cell_type": "markdown",
   "id": "2ee02585",
   "metadata": {},
   "source": [
    "## PCA"
   ]
  },
  {
   "cell_type": "code",
   "execution_count": null,
   "id": "a26a1abd",
   "metadata": {},
   "outputs": [],
   "source": [
    "from sklearn.decomposition import PCA"
   ]
  },
  {
   "cell_type": "code",
   "execution_count": null,
   "id": "dc41c38f",
   "metadata": {},
   "outputs": [],
   "source": [
    "\n",
    "pca = PCA(n_components = 2)\n",
    "X_principal = pca.fit_transform(X_normalized)\n",
    "X_principal = pd.DataFrame(X_principal)\n",
    "X_principal.columns = ['P1', 'P2']\n"
   ]
  },
  {
   "cell_type": "code",
   "execution_count": null,
   "id": "f33aaf9c",
   "metadata": {},
   "outputs": [],
   "source": []
  },
  {
   "cell_type": "code",
   "execution_count": null,
   "id": "ee4e13fb",
   "metadata": {},
   "outputs": [],
   "source": [
    "from sklearn.decomposition import PCA\n",
    "pca = PCA(n_components=2)\n",
    "X_train_pca = pca.fit_transform(X_train)\n",
    "X_test_pca = pca.transform(X_test)"
   ]
  },
  {
   "cell_type": "code",
   "execution_count": null,
   "id": "70f1053d",
   "metadata": {},
   "outputs": [],
   "source": [
    "fig, ax = plt.subplots(figsize=(10, 7))\n",
    "for label, color in zip(set(y_train), ('orange', 'blue', 'brown')):\n",
    "    ax.scatter(\n",
    "        X_train_pca[Y_train == label, 0],\n",
    "        X_train_pca[Y_train == label, 1],\n",
    "        color=color, label=f'Class {label}'\n",
    "    )\n",
    "\n",
    "ax.set_title('Dataset after Principal Component Analysis ')\n",
    "ax.set_xlabel('PC1')\n",
    "ax.set_ylabel('PC2')\n",
    "ax.legend(loc='upper right')"
   ]
  },
  {
   "cell_type": "code",
   "execution_count": null,
   "id": "6a3da048",
   "metadata": {},
   "outputs": [],
   "source": []
  },
  {
   "cell_type": "code",
   "execution_count": null,
   "id": "afa6c38c",
   "metadata": {},
   "outputs": [],
   "source": []
  },
  {
   "cell_type": "markdown",
   "id": "10b42113",
   "metadata": {},
   "source": [
    "### SMOTE "
   ]
  },
  {
   "cell_type": "code",
   "execution_count": null,
   "id": "e90285b8",
   "metadata": {},
   "outputs": [],
   "source": [
    "#Zmienna objaśniana (target) jest niezbalansowana - 85% stanowią spłacone kredyty. \n",
    "#Żeby zbalansować dane użyję metody SMOTE (zduplikuje obserwacje z klasy mniejszościowej w zbiorze treningowym)\n",
    "\n",
    "\n",
    "# na zbiorze treningowym, inne zbiory do sprawdzenia przed i po smote"
   ]
  },
  {
   "cell_type": "code",
   "execution_count": null,
   "id": "7b5fa191",
   "metadata": {
    "scrolled": true
   },
   "outputs": [],
   "source": [
    "from collections import Counter\n",
    "from sklearn.datasets import make_classification\n",
    "from matplotlib import pyplot\n",
    "from numpy import where\n",
    "\n",
    "X, y = make_classification(n_samples=10000, n_features=2, n_redundant=0,\n",
    "    n_clusters_per_class=1, weights=[0.99], flip_y=0, random_state=1)\n",
    "\n",
    "counter = Counter(y)\n",
    "print(counter)\n",
    "\n",
    "for label, _ in counter.items():\n",
    "    row_ix = where(y == label)[0]\n",
    "    pyplot.scatter(X[row_ix, 0], X[row_ix, 1], label=str(label))\n",
    "pyplot.legend()\n",
    "pyplot.show()"
   ]
  },
  {
   "cell_type": "code",
   "execution_count": null,
   "id": "5a13946e",
   "metadata": {},
   "outputs": [],
   "source": [
    "#Ten scatter plot przedstawia klasę większościową (czerwoną) oraz rozproszoną klasę mniejszościową (niebieską) "
   ]
  },
  {
   "cell_type": "code",
   "execution_count": null,
   "id": "f3351f9e",
   "metadata": {},
   "outputs": [],
   "source": [
    "!pip3 install imblearn"
   ]
  },
  {
   "cell_type": "code",
   "execution_count": null,
   "id": "12afa8b1",
   "metadata": {},
   "outputs": [],
   "source": [
    "# Oversampluję dane metodą SMOTE\n",
    "\n",
    "from imblearn.over_sampling import SMOTE\n",
    "\n",
    "X, y = make_classification(n_samples=10000, n_features=2, n_redundant=0,\n",
    "    n_clusters_per_class=1, weights=[0.99], flip_y=0, random_state=1)\n",
    "\n",
    "counter = Counter(y)\n",
    "print(counter)\n",
    "\n",
    "oversample = SMOTE()\n",
    "X, y = oversample.fit_resample(X, y)\n",
    "\n",
    "counter = Counter(y)\n",
    "print(counter)\n",
    "\n",
    "for label, _ in counter.items():\n",
    "    row_ix = where(y == label)[0]\n",
    "    pyplot.scatter(X[row_ix, 0], X[row_ix, 1], label=str(label))\n",
    "pyplot.legend()\n",
    "pyplot.show()"
   ]
  },
  {
   "cell_type": "code",
   "execution_count": null,
   "id": "1924a064",
   "metadata": {},
   "outputs": [],
   "source": [
    "# Widać dużo większy udział klasy mniejszościowej"
   ]
  },
  {
   "cell_type": "code",
   "execution_count": null,
   "id": "a70c849e",
   "metadata": {},
   "outputs": [],
   "source": []
  },
  {
   "cell_type": "code",
   "execution_count": null,
   "id": "a4218209",
   "metadata": {},
   "outputs": [],
   "source": [
    "# Sprawdzam, jak dane zachowują się po implementacji SMOTE"
   ]
  },
  {
   "cell_type": "code",
   "execution_count": null,
   "id": "33392dfe",
   "metadata": {},
   "outputs": [],
   "source": [
    "# drzewo decyzyjne - niezbilansowane dane\n",
    "from numpy import mean\n",
    "from sklearn.datasets import make_classification\n",
    "from sklearn.model_selection import cross_val_score\n",
    "from sklearn.model_selection import RepeatedStratifiedKFold\n",
    "from sklearn.tree import DecisionTreeClassifier\n",
    "\n",
    "X, y = make_classification(n_samples=10000, n_features=2, n_redundant=0,\n",
    "    n_clusters_per_class=1, weights=[0.99], flip_y=0, random_state=1)\n",
    "\n",
    "model = DecisionTreeClassifier()\n",
    "\n",
    "cv = RepeatedStratifiedKFold(n_splits=10, n_repeats=3, random_state=1)\n",
    "scores = cross_val_score(model, X, y, scoring='roc_auc', cv=cv, n_jobs=-1)\n",
    "print('Mean ROC AUC: %.3f' % mean(scores))"
   ]
  },
  {
   "cell_type": "code",
   "execution_count": null,
   "id": "be78577d",
   "metadata": {},
   "outputs": [],
   "source": [
    "# drzewo decyzyjne - SMOTE\n",
    "from numpy import mean\n",
    "from sklearn.datasets import make_classification\n",
    "from sklearn.model_selection import cross_val_score\n",
    "from sklearn.model_selection import RepeatedStratifiedKFold\n",
    "from sklearn.tree import DecisionTreeClassifier\n",
    "from imblearn.pipeline import Pipeline\n",
    "from imblearn.over_sampling import SMOTE\n",
    "\n",
    "X, y = make_classification(n_samples=10000, n_features=2, n_redundant=0,\n",
    "    n_clusters_per_class=1, weights=[0.99], flip_y=0, random_state=1)\n",
    "\n",
    "steps = [('over', SMOTE()), ('model', DecisionTreeClassifier())]\n",
    "pipeline = Pipeline(steps=steps)\n",
    "\n",
    "cv = RepeatedStratifiedKFold(n_splits=10, n_repeats=3, random_state=1)\n",
    "scores = cross_val_score(pipeline, X, y, scoring='roc_auc', cv=cv, n_jobs=-1)\n",
    "print('Mean ROC AUC: %.3f' % mean(scores))"
   ]
  },
  {
   "cell_type": "code",
   "execution_count": null,
   "id": "85737fd4",
   "metadata": {},
   "outputs": [],
   "source": []
  },
  {
   "cell_type": "code",
   "execution_count": null,
   "id": "a470bf7c",
   "metadata": {},
   "outputs": [],
   "source": []
  },
  {
   "cell_type": "code",
   "execution_count": null,
   "id": "b92fb95b",
   "metadata": {},
   "outputs": [],
   "source": []
  },
  {
   "cell_type": "code",
   "execution_count": null,
   "id": "a8886b02",
   "metadata": {},
   "outputs": [],
   "source": [
    "#6. Wytrenowanie tych samych modeli co wcześniej, ale na danych skompresowanych i porównanie otrzymanych wyników.\n",
    "#Zbuduj finalny model, którego AUROC score będzie >= 80%, \n",
    "#pamiętaj o doborze istotnych zmiennych, kroswalidacji oraz \n",
    "#dostrojeniu parametrów modelu, pomyśl również o zbalansowaniu klas. (40pkt)"
   ]
  },
  {
   "cell_type": "code",
   "execution_count": null,
   "id": "c95cb49e",
   "metadata": {},
   "outputs": [],
   "source": []
  },
  {
   "cell_type": "code",
   "execution_count": null,
   "id": "13cfcffc",
   "metadata": {},
   "outputs": [],
   "source": []
  },
  {
   "cell_type": "code",
   "execution_count": null,
   "id": "49cd28a1",
   "metadata": {},
   "outputs": [],
   "source": []
  },
  {
   "cell_type": "code",
   "execution_count": null,
   "id": "a5553634",
   "metadata": {},
   "outputs": [],
   "source": []
  },
  {
   "cell_type": "code",
   "execution_count": null,
   "id": "4859a086",
   "metadata": {},
   "outputs": [],
   "source": []
  },
  {
   "cell_type": "code",
   "execution_count": null,
   "id": "dab429a8",
   "metadata": {},
   "outputs": [],
   "source": []
  },
  {
   "cell_type": "code",
   "execution_count": null,
   "id": "d306910f",
   "metadata": {},
   "outputs": [],
   "source": []
  },
  {
   "cell_type": "code",
   "execution_count": null,
   "id": "1fc0a587",
   "metadata": {},
   "outputs": [],
   "source": []
  },
  {
   "cell_type": "code",
   "execution_count": null,
   "id": "6b2271eb",
   "metadata": {},
   "outputs": [],
   "source": [
    "#with classification problems where False Negatives are a lot more expensive than False Positives, \n",
    "#we may want to have a model with a high recall rather than high precision. "
   ]
  },
  {
   "cell_type": "code",
   "execution_count": null,
   "id": "365b4ecf",
   "metadata": {},
   "outputs": [],
   "source": []
  },
  {
   "cell_type": "code",
   "execution_count": null,
   "id": "2a100d0f",
   "metadata": {},
   "outputs": [],
   "source": []
  },
  {
   "cell_type": "code",
   "execution_count": null,
   "id": "27c861c3",
   "metadata": {},
   "outputs": [],
   "source": []
  },
  {
   "cell_type": "code",
   "execution_count": null,
   "id": "292fd2ce",
   "metadata": {},
   "outputs": [],
   "source": []
  },
  {
   "cell_type": "code",
   "execution_count": null,
   "id": "dbe401e1",
   "metadata": {},
   "outputs": [],
   "source": []
  },
  {
   "cell_type": "code",
   "execution_count": null,
   "id": "5320d1e3",
   "metadata": {},
   "outputs": [],
   "source": []
  },
  {
   "cell_type": "code",
   "execution_count": null,
   "id": "285230b0",
   "metadata": {},
   "outputs": [],
   "source": []
  },
  {
   "cell_type": "code",
   "execution_count": null,
   "id": "46300b80",
   "metadata": {},
   "outputs": [],
   "source": []
  },
  {
   "cell_type": "code",
   "execution_count": null,
   "id": "f7f15cae",
   "metadata": {},
   "outputs": [],
   "source": []
  }
 ],
 "metadata": {
  "kernelspec": {
   "display_name": "Python 3 (ipykernel)",
   "language": "python",
   "name": "python3"
  },
  "language_info": {
   "codemirror_mode": {
    "name": "ipython",
    "version": 3
   },
   "file_extension": ".py",
   "mimetype": "text/x-python",
   "name": "python",
   "nbconvert_exporter": "python",
   "pygments_lexer": "ipython3",
   "version": "3.9.13"
  }
 },
 "nbformat": 4,
 "nbformat_minor": 5
}
