{
 "cells": [
  {
   "cell_type": "code",
   "execution_count": null,
   "id": "cae8b24e",
   "metadata": {},
   "outputs": [],
   "source": [
    "#loan_status\n",
    "df['loan_status'].value_counts()"
   ]
  },
  {
   "cell_type": "code",
   "execution_count": null,
   "id": "181289ed",
   "metadata": {},
   "outputs": [],
   "source": [
    "# wyliczyc procent osob ktore nie spelnialy kryteriow a splacily kredyt\n",
    "# i procent ktore nie spelnily i nie splacily"
   ]
  },
  {
   "cell_type": "code",
   "execution_count": null,
   "id": "3c155139",
   "metadata": {},
   "outputs": [],
   "source": [
    "Fully Paid                                             34117\n",
    "Charged Off                                             5670\n",
    "Does not meet the credit policy. Status:Fully Paid      1988\n",
    "Does not meet the credit policy. Status:Charged Off      761"
   ]
  },
  {
   "cell_type": "code",
   "execution_count": null,
   "id": "94b78a90",
   "metadata": {},
   "outputs": [],
   "source": []
  },
  {
   "cell_type": "code",
   "execution_count": null,
   "id": "67c4a3fc",
   "metadata": {},
   "outputs": [],
   "source": []
  },
  {
   "cell_type": "code",
   "execution_count": null,
   "id": "f798791d",
   "metadata": {},
   "outputs": [],
   "source": [
    "# Wartości 'funded_amnt' i 'funded_amnt_inv'  kwoty jakie przyznano"
   ]
  },
  {
   "cell_type": "code",
   "execution_count": null,
   "id": "f4ddc047",
   "metadata": {},
   "outputs": [],
   "source": [
    "# 'loan_amnt' - kwota o jaka wnioskowal"
   ]
  },
  {
   "cell_type": "code",
   "execution_count": null,
   "id": "5b379627",
   "metadata": {},
   "outputs": [],
   "source": []
  },
  {
   "cell_type": "code",
   "execution_count": null,
   "id": "ea709dcd",
   "metadata": {},
   "outputs": [],
   "source": [
    "# Feature engineering, przykład\n",
    "# Możemy tworzyć nowe kolumny wykorzystując dotychczasowe (dzieląc jedną przez drugą, mnożąc, podnosząc do potęgi, itd)\n",
    "# all_data['my_feature'] = all_data['LotArea']/all_data['LotFrontage']"
   ]
  },
  {
   "cell_type": "code",
   "execution_count": null,
   "id": "9e1920ed",
   "metadata": {},
   "outputs": [],
   "source": [
    "# Feature engineering, przykład\n",
    "# Możemy wyciągać informacje które uznajemy za cenne z łańcuchów znaków\n",
    "# data['full_name'][0] -> 'Mr Adam Smith'\n",
    "# data['full_name'][1] -> 'Mrs Anna Hertz'\n",
    "# Tworzymy nową kolumnę 'personal_title'\n",
    "# data['personal_title'].unique() -> ['Mr', 'Mrs', 'Ms', '']\n",
    "# data['personal_title'][0] -> 'Mr'\n",
    "# data['personal_title'][1] -> 'Mrs'"
   ]
  },
  {
   "cell_type": "code",
   "execution_count": null,
   "id": "c036ee98",
   "metadata": {},
   "outputs": [],
   "source": [
    "# Feature enginnering, przykład\n",
    "# 'bining', podzielenie zmiennej ciągłej na zakresy i przypisanie każdej etykiety\n",
    "# Zmieńmy kontekst na projekt końcowy, zauważamy, że odsetek spłacanych pożyczek powyżej 400000 jest bardzo duży\n",
    "# Możemy stworzyć nową kolumnę z 'flagą' mówiącą o tym czy pożyczka jest wysoka czy nie, model sprawdzi czy jest korzyść\n",
    "# z traktowania tej grupy pożyczkobiorców osobno\n",
    "# data['is_loan_high']: wartości -> 0,1"
   ]
  },
  {
   "cell_type": "code",
   "execution_count": null,
   "id": "1c7e81a1",
   "metadata": {},
   "outputs": [],
   "source": []
  },
  {
   "cell_type": "code",
   "execution_count": null,
   "id": "8387412a",
   "metadata": {},
   "outputs": [],
   "source": []
  },
  {
   "cell_type": "code",
   "execution_count": null,
   "id": "441c086d",
   "metadata": {},
   "outputs": [],
   "source": [
    "## definicja do procentow"
   ]
  },
  {
   "cell_type": "code",
   "execution_count": null,
   "id": "a1e17f5e",
   "metadata": {},
   "outputs": [],
   "source": [
    "pd.pivot_table(df, index=\"niesplacony_splacony\", columns=\"grade\", aggfunc=\"size\")"
   ]
  },
  {
   "cell_type": "code",
   "execution_count": null,
   "id": "89ad74cf",
   "metadata": {},
   "outputs": [],
   "source": [
    "print(\"% osób spłacających pożyczki w poszczególnych grupach\")\n",
    "print(f\"A: {round((9573)/(610+9573) * 100, 2)}%\")\n",
    "print(f\"B: {round((10872)/(1518+10872) * 100, 2)}%\")\n",
    "print(f\"C: {round((7236)/(1504+7236) * 100, 2)}%\")\n",
    "print(f\"D: {round((4689)/(1327+4689) * 100, 2)}%\")\n",
    "print(f\"E: {round((2511)/(883+2511) * 100, 2)}%\")\n",
    "print(f\"F: {round((885)/(885+416)* 100, 2)}%\")\n",
    "print(f\"G: {round((339)/(173+339)* 100, 2)}%\")"
   ]
  },
  {
   "cell_type": "code",
   "execution_count": null,
   "id": "d99c7b38",
   "metadata": {},
   "outputs": [],
   "source": []
  },
  {
   "cell_type": "code",
   "execution_count": null,
   "id": "81049f87",
   "metadata": {},
   "outputs": [],
   "source": []
  },
  {
   "cell_type": "code",
   "execution_count": null,
   "id": "914868da",
   "metadata": {},
   "outputs": [],
   "source": [
    "pd.crosstab(df['home_ownership'], df['niesplacony_splacony'])"
   ]
  },
  {
   "cell_type": "code",
   "execution_count": null,
   "id": "18d5dddc",
   "metadata": {},
   "outputs": [],
   "source": [
    "print(\"% osób spłacających pożyczki w poszczególnych rodzajach własności\")\n",
    "print(f\"MORTGAGE: {round((16260)/(2699+16260) * 100, 2)}%\")\n",
    "print(f\"OTHERS: {round((114)/(30+114) * 100, 2)}%\")\n",
    "print(f\"OWN: {round((2756)/(495+2756) * 100, 2)}%\")\n",
    "print(f\"RENT: {round((16975)/(3207+16975) * 100, 2)}%\")"
   ]
  },
  {
   "cell_type": "code",
   "execution_count": null,
   "id": "22d22d43",
   "metadata": {},
   "outputs": [],
   "source": []
  },
  {
   "cell_type": "code",
   "execution_count": null,
   "id": "d1799e07",
   "metadata": {},
   "outputs": [],
   "source": [
    "# Chcę sprawdzić, jaki odsetek kredytów jest spłacany w każdum celu kredytowym\n",
    "\n",
    "pd.crosstab(df['purpose'], df['niesplacony_splacony'].sort_values(ascending=False))"
   ]
  },
  {
   "cell_type": "code",
   "execution_count": null,
   "id": "4baa856b",
   "metadata": {},
   "outputs": [],
   "source": [
    "print(\"% osób spłacających pożyczki w poszczególnych grupach\")\n",
    "print(f\"car: {round((1442)/(173+1442) * 100, 2)}%\")\n",
    "print(f\"credit_card: {round((4860)/(617+4860) * 100, 2)}%\")\n",
    "print(f\"debt_consolidation: {round((16693)/(3084+16693) * 100, 2)}%\")\n",
    "print(f\"educational: {round((334)/(88+334) * 100, 2)}%\")\n",
    "print(f\"home_improvement: {round((2777)/(422+2777) * 100, 2)}%\")\n",
    "print(f\"house: {round((356)/(70+356)* 100, 2)}%\")\n",
    "print(f\"major_purchase: {round((339)/(173+339)* 100, 2)}%\")\n",
    "print(f\"medical: {round((625)/(128+625) * 100, 2)}%\")\n",
    "print(f\"moving: {round((522)/(522+107) * 100, 2)}%\")\n",
    "print(f\"other: {round((3667)/(758+3667) * 100, 2)}%\")\n",
    "print(f\"renewable_energy: {round((86)/(20+86) * 100, 2)}%\")\n",
    "print(f\"small_business: {round((1441)/(551+1441) * 100, 2)}%\")\n",
    "print(f\"vacation: {round((341)/(59+341)* 100, 2)}%\")\n",
    "print(f\"wedding: {round((895)/(109+895)* 100, 2)}%\")"
   ]
  },
  {
   "cell_type": "code",
   "execution_count": null,
   "id": "7b9a5b0a",
   "metadata": {},
   "outputs": [],
   "source": []
  },
  {
   "cell_type": "code",
   "execution_count": 242,
   "id": "d5eed013",
   "metadata": {},
   "outputs": [],
   "source": [
    "#Chcę sprawdzić, jak wygląda spłacalność kredytu dla obu wartości"
   ]
  },
  {
   "cell_type": "code",
   "execution_count": 243,
   "id": "1b3e4dbe",
   "metadata": {},
   "outputs": [
    {
     "name": "stdout",
     "output_type": "stream",
     "text": [
      "% osób niespłacających pożyczki - 36mcy\n",
      "car: 12.29%\n"
     ]
    }
   ],
   "source": [
    "print(\"% osób niespłacających pożyczki - 36mcy\")\n",
    "print(f\"car: {round((3876)/(3876+27659) * 100, 2)}%\")"
   ]
  },
  {
   "cell_type": "code",
   "execution_count": 244,
   "id": "182b5187",
   "metadata": {},
   "outputs": [
    {
     "name": "stdout",
     "output_type": "stream",
     "text": [
      "% osób niespłacających pożyczki - 60mcy\n",
      "car: 23.23%\n"
     ]
    }
   ],
   "source": [
    "print(\"% osób niespłacających pożyczki - 60mcy\")\n",
    "print(f\"car: {round((2555)/(2555+8446) * 100, 2)}%\")"
   ]
  },
  {
   "cell_type": "code",
   "execution_count": null,
   "id": "bef2ea1d",
   "metadata": {},
   "outputs": [],
   "source": []
  },
  {
   "cell_type": "code",
   "execution_count": null,
   "id": "4087a8a8",
   "metadata": {},
   "outputs": [],
   "source": [
    "pd.crosstab(df['emp_length'],[df['niesplacony_splacony']])"
   ]
  },
  {
   "cell_type": "code",
   "execution_count": null,
   "id": "c6319ee8",
   "metadata": {},
   "outputs": [],
   "source": [
    "print(\"% osób niespłacających pożyczek\")\n",
    "print(f\"0: {round((751)/(751+4311) * 100, 2)}%\")\n",
    "print(f\"1: {round((551)/(551+3044) * 100, 2)}%\")\n",
    "print(f\"2: {round((654)/(654+4089) * 100, 2)}%\")\n",
    "print(f\"3: {round((630)/(630+3734) * 100, 2)}%\")\n",
    "print(f\"4: {round((767)/(767+3995) * 100, 2)}%\")\n",
    "print(f\"5: {round((509)/(509+2949) * 100, 2)}%\")\n",
    "print(f\"6: {round((352)/(352+2023) * 100, 2)}%\")\n",
    "print(f\"7: {round((295)/(295+1580) * 100, 2)}%\")\n",
    "print(f\"8: {round((238)/(238+1354) * 100, 2)}%\")\n",
    "print(f\"9: {round((180)/(180+1161) * 100, 2)}%\")\n",
    "print(f\"10: {round((1504)/(1504+7865) * 100, 2)}%\")"
   ]
  },
  {
   "cell_type": "code",
   "execution_count": null,
   "id": "c98d7b0b",
   "metadata": {},
   "outputs": [],
   "source": []
  },
  {
   "cell_type": "code",
   "execution_count": null,
   "id": "a6b153d0",
   "metadata": {},
   "outputs": [],
   "source": [
    "#Usuwam outliery zamieniając je medianą\n",
    "df1.loc[(df1['fico'] < 604.5) | (df1['fico'] > 824.5), 'fico'] = df1['fico'].median()\n",
    "df1.loc[(df1['installment'] < -228.4) | (df1['installment'] > 822), 'installment'] = df1['installment'].median()\n",
    "df1.loc[(df1['dti'] < 4.78) | (df1['dti'] > 13.90), 'dti'] = df1['dti'].median()\n",
    "df1.loc[(df1['annual_inc'] < -23750) | (df1['annual_inc'] > 146250), 'annual_inc'] = df1['annual_inc'].median()\n",
    "df1.loc[(df1['int_rate'] < 0.02) | (df1['int_rate'] > 0.224), 'int_rate'] = df1['int_rate'].median()\n",
    "df1.loc[(df1['loan_amnt'] < 5200) | (df1['loan_amnt'] > 15000), 'loan_amnt'] = df1['loan_amnt'].median()\n",
    "df1.loc[(df1['inq_last_6mths'] < -3) | (df1['inq_last_6mths'] > 5), 'inq_last_6mths'] = df1['inq_last_6mths'].median()\n",
    "df1.loc[(df1['open_acc'] < -3) | (df1['open_acc'] > 21), 'open_acc'] = df1['open_acc'].median()\n",
    "df1.loc[(df1['revol_bal'] < -16787) | (df1['revol_bal'] > 37673), 'revol_bal'] = df1['revol_bal'].median()\n",
    "df1.loc[(df1['total_acc'] < -11) | (df1['total_acc'] > 53), 'total_acc'] = df1['total_acc'].median()"
   ]
  },
  {
   "cell_type": "code",
   "execution_count": null,
   "id": "92971e44",
   "metadata": {},
   "outputs": [],
   "source": []
  },
  {
   "cell_type": "code",
   "execution_count": null,
   "id": "05efd0bd",
   "metadata": {},
   "outputs": [],
   "source": [
    "testy"
   ]
  },
  {
   "cell_type": "code",
   "execution_count": null,
   "id": "0df92c65",
   "metadata": {},
   "outputs": [],
   "source": [
    "chi test - dwie zmienne kategoryczne"
   ]
  },
  {
   "cell_type": "code",
   "execution_count": null,
   "id": "8b04c097",
   "metadata": {},
   "outputs": [],
   "source": [
    "from scipy.stats import chi2_contingency\n",
    "table = [[10, 20, 30],[6,  9,  17]]\n",
    "stat, p, dof, expected = chi2_contingency(table)\n",
    "print('stat=%.3f, p=%.3f' % (stat, p))\n",
    "if p > 0.05:\n",
    "\tprint('Probably independent')\n",
    "else:\n",
    "\tprint('Probably dependent')"
   ]
  },
  {
   "cell_type": "code",
   "execution_count": null,
   "id": "ba60ef96",
   "metadata": {},
   "outputs": [],
   "source": []
  },
  {
   "cell_type": "code",
   "execution_count": null,
   "id": "22a551b9",
   "metadata": {},
   "outputs": [],
   "source": []
  },
  {
   "cell_type": "code",
   "execution_count": null,
   "id": "429bada2",
   "metadata": {},
   "outputs": [],
   "source": []
  },
  {
   "cell_type": "code",
   "execution_count": null,
   "id": "1df2c8fd",
   "metadata": {},
   "outputs": [],
   "source": []
  },
  {
   "cell_type": "code",
   "execution_count": null,
   "id": "7c4bc4a4",
   "metadata": {},
   "outputs": [],
   "source": []
  },
  {
   "cell_type": "code",
   "execution_count": null,
   "id": "c9bb60b3",
   "metadata": {},
   "outputs": [],
   "source": []
  },
  {
   "cell_type": "code",
   "execution_count": null,
   "id": "fdf1e188",
   "metadata": {},
   "outputs": [],
   "source": []
  }
 ],
 "metadata": {
  "kernelspec": {
   "display_name": "Python 3 (ipykernel)",
   "language": "python",
   "name": "python3"
  },
  "language_info": {
   "codemirror_mode": {
    "name": "ipython",
    "version": 3
   },
   "file_extension": ".py",
   "mimetype": "text/x-python",
   "name": "python",
   "nbconvert_exporter": "python",
   "pygments_lexer": "ipython3",
   "version": "3.9.13"
  }
 },
 "nbformat": 4,
 "nbformat_minor": 5
}
