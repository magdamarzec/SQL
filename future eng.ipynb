{
 "cells": [
  {
   "cell_type": "code",
   "execution_count": 1,
   "id": "6c4bb35a",
   "metadata": {},
   "outputs": [],
   "source": [
    "import numpy as np \n",
    "import pandas as pd \n",
    "import seaborn as sns\n",
    "import seaborn as sns\n",
    "import matplotlib.pyplot as plt\n",
    "import matplotlib.pyplot as plt\n",
    "%matplotlib inline\n",
    "from scipy import stats\n",
    "from scipy.stats import zscore\n",
    "from sklearn.preprocessing import StandardScaler\n",
    "from sklearn.model_selection import train_test_split\n",
    "from sklearn.linear_model import LinearRegression, Ridge, Lasso\n",
    "from sklearn.linear_model import LogisticRegression\n",
    "from sklearn.tree import DecisionTreeRegressor\n",
    "from sklearn.ensemble import (RandomForestRegressor, GradientBoostingRegressor,AdaBoostRegressor,BaggingRegressor)\n",
    "from sklearn.svm import SVR\n",
    "from sklearn.svm import SVC\n",
    "from sklearn import metrics\n",
    "from sklearn.metrics import accuracy_score,roc_auc_score\n",
    "from sklearn.metrics import accuracy_score\n",
    "from sklearn.metrics import classification_report,confusion_matrix\n",
    "from sklearn.metrics import mean_squared_error,mean_absolute_error,r2_score\n",
    "from sklearn.model_selection import KFold\n",
    "from sklearn.model_selection import cross_val_score\n",
    "from sklearn import preprocessing\n",
    "from sklearn.preprocessing import PolynomialFeatures\n",
    "from sklearn.cluster import KMeans\n",
    "from sklearn.utils import resample\n",
    "from sklearn.ensemble import AdaBoostClassifier\n",
    "from ds_utils.unsupervised import plot_cluster_cardinality, plot_cluster_magnitude, plot_magnitude_vs_cardinality\n",
    "from scipy.spatial.distance import euclidean\n",
    "import matplotlib.pyplot as plt\n",
    "from sklearn.metrics import silhouette_score\n",
    "from sklearn.preprocessing import LabelEncoder\n",
    "from catboost import CatBoostClassifier\n",
    "from sklearn import model_selection\n",
    "from sklearn.ensemble import BaggingClassifier\n",
    "from sklearn.decomposition import PCA\n",
    "from collections import Counter\n",
    "from sklearn.datasets import make_classification\n",
    "from matplotlib import pyplot\n",
    "from numpy import where\n",
    "from imblearn.over_sampling import SMOTE\n",
    "from numpy import mean\n",
    "from sklearn.datasets import make_classification\n",
    "from sklearn.model_selection import cross_val_score\n",
    "from sklearn.model_selection import RepeatedStratifiedKFold\n",
    "from sklearn.tree import DecisionTreeClassifier\n",
    "from numpy import mean\n",
    "from matplotlib import pyplot\n",
    "from scipy.spatial.distance import euclidean\n",
    "from sklearn.ensemble import RandomForestClassifier\n",
    "from ds_utils.unsupervised import plot_loss_vs_cluster_number\n",
    "from imblearn.pipeline import Pipeline\n",
    "import matplotlib as mpl\n",
    "from cycler import cycler\n",
    "from sklearn.model_selection import ShuffleSplit\n",
    "from sklearn import model_selection\n",
    "from sklearn.model_selection import train_test_split\n",
    "from sklearn.model_selection import learning_curve \n",
    "from sklearn.naive_bayes import GaussianNB\n",
    "from sklearn.naive_bayes import MultinomialNB\n",
    "from sklearn.neural_network import MLPClassifier\n",
    "from numpy import loadtxt\n",
    "from xgboost import XGBClassifier\n",
    "from xgboost import XGBRegressor\n",
    "from sklearn.metrics import roc_curve\n",
    "from sklearn.model_selection import GridSearchCV"
   ]
  },
  {
   "cell_type": "code",
   "execution_count": null,
   "id": "bd1e8742",
   "metadata": {},
   "outputs": [],
   "source": []
  },
  {
   "cell_type": "code",
   "execution_count": 2,
   "id": "55784d88",
   "metadata": {
    "scrolled": true
   },
   "outputs": [
    {
     "name": "stderr",
     "output_type": "stream",
     "text": [
      "C:\\Users\\asus\\AppData\\Local\\Temp\\ipykernel_10172\\140937924.py:1: DtypeWarning: Columns (0,49) have mixed types. Specify dtype option on import or set low_memory=False.\n",
      "  df=pd.read_csv('Loan_data.csv')\n"
     ]
    }
   ],
   "source": [
    "df=pd.read_csv('Loan_data.csv')"
   ]
  },
  {
   "cell_type": "code",
   "execution_count": 3,
   "id": "dbc2439f",
   "metadata": {
    "scrolled": true
   },
   "outputs": [
    {
     "data": {
      "text/html": [
       "<div>\n",
       "<style scoped>\n",
       "    .dataframe tbody tr th:only-of-type {\n",
       "        vertical-align: middle;\n",
       "    }\n",
       "\n",
       "    .dataframe tbody tr th {\n",
       "        vertical-align: top;\n",
       "    }\n",
       "\n",
       "    .dataframe thead th {\n",
       "        text-align: right;\n",
       "    }\n",
       "</style>\n",
       "<table border=\"1\" class=\"dataframe\">\n",
       "  <thead>\n",
       "    <tr style=\"text-align: right;\">\n",
       "      <th></th>\n",
       "      <th>id</th>\n",
       "      <th>member_id</th>\n",
       "      <th>loan_amnt</th>\n",
       "      <th>funded_amnt</th>\n",
       "      <th>funded_amnt_inv</th>\n",
       "      <th>term</th>\n",
       "      <th>int_rate</th>\n",
       "      <th>installment</th>\n",
       "      <th>grade</th>\n",
       "      <th>sub_grade</th>\n",
       "      <th>...</th>\n",
       "      <th>hardship_payoff_balance_amount</th>\n",
       "      <th>hardship_last_payment_amount</th>\n",
       "      <th>disbursement_method</th>\n",
       "      <th>debt_settlement_flag</th>\n",
       "      <th>debt_settlement_flag_date</th>\n",
       "      <th>settlement_status</th>\n",
       "      <th>settlement_date</th>\n",
       "      <th>settlement_amount</th>\n",
       "      <th>settlement_percentage</th>\n",
       "      <th>settlement_term</th>\n",
       "    </tr>\n",
       "  </thead>\n",
       "  <tbody>\n",
       "    <tr>\n",
       "      <th>0</th>\n",
       "      <td>1077501</td>\n",
       "      <td>NaN</td>\n",
       "      <td>5000.0</td>\n",
       "      <td>5000.0</td>\n",
       "      <td>4975.0</td>\n",
       "      <td>36 months</td>\n",
       "      <td>10.65%</td>\n",
       "      <td>162.87</td>\n",
       "      <td>B</td>\n",
       "      <td>B2</td>\n",
       "      <td>...</td>\n",
       "      <td>NaN</td>\n",
       "      <td>NaN</td>\n",
       "      <td>Cash</td>\n",
       "      <td>N</td>\n",
       "      <td>NaN</td>\n",
       "      <td>NaN</td>\n",
       "      <td>NaN</td>\n",
       "      <td>NaN</td>\n",
       "      <td>NaN</td>\n",
       "      <td>NaN</td>\n",
       "    </tr>\n",
       "    <tr>\n",
       "      <th>1</th>\n",
       "      <td>1077430</td>\n",
       "      <td>NaN</td>\n",
       "      <td>2500.0</td>\n",
       "      <td>2500.0</td>\n",
       "      <td>2500.0</td>\n",
       "      <td>60 months</td>\n",
       "      <td>15.27%</td>\n",
       "      <td>59.83</td>\n",
       "      <td>C</td>\n",
       "      <td>C4</td>\n",
       "      <td>...</td>\n",
       "      <td>NaN</td>\n",
       "      <td>NaN</td>\n",
       "      <td>Cash</td>\n",
       "      <td>N</td>\n",
       "      <td>NaN</td>\n",
       "      <td>NaN</td>\n",
       "      <td>NaN</td>\n",
       "      <td>NaN</td>\n",
       "      <td>NaN</td>\n",
       "      <td>NaN</td>\n",
       "    </tr>\n",
       "    <tr>\n",
       "      <th>2</th>\n",
       "      <td>1077175</td>\n",
       "      <td>NaN</td>\n",
       "      <td>2400.0</td>\n",
       "      <td>2400.0</td>\n",
       "      <td>2400.0</td>\n",
       "      <td>36 months</td>\n",
       "      <td>15.96%</td>\n",
       "      <td>84.33</td>\n",
       "      <td>C</td>\n",
       "      <td>C5</td>\n",
       "      <td>...</td>\n",
       "      <td>NaN</td>\n",
       "      <td>NaN</td>\n",
       "      <td>Cash</td>\n",
       "      <td>N</td>\n",
       "      <td>NaN</td>\n",
       "      <td>NaN</td>\n",
       "      <td>NaN</td>\n",
       "      <td>NaN</td>\n",
       "      <td>NaN</td>\n",
       "      <td>NaN</td>\n",
       "    </tr>\n",
       "    <tr>\n",
       "      <th>3</th>\n",
       "      <td>1076863</td>\n",
       "      <td>NaN</td>\n",
       "      <td>10000.0</td>\n",
       "      <td>10000.0</td>\n",
       "      <td>10000.0</td>\n",
       "      <td>36 months</td>\n",
       "      <td>13.49%</td>\n",
       "      <td>339.31</td>\n",
       "      <td>C</td>\n",
       "      <td>C1</td>\n",
       "      <td>...</td>\n",
       "      <td>NaN</td>\n",
       "      <td>NaN</td>\n",
       "      <td>Cash</td>\n",
       "      <td>N</td>\n",
       "      <td>NaN</td>\n",
       "      <td>NaN</td>\n",
       "      <td>NaN</td>\n",
       "      <td>NaN</td>\n",
       "      <td>NaN</td>\n",
       "      <td>NaN</td>\n",
       "    </tr>\n",
       "    <tr>\n",
       "      <th>4</th>\n",
       "      <td>1075358</td>\n",
       "      <td>NaN</td>\n",
       "      <td>3000.0</td>\n",
       "      <td>3000.0</td>\n",
       "      <td>3000.0</td>\n",
       "      <td>60 months</td>\n",
       "      <td>12.69%</td>\n",
       "      <td>67.79</td>\n",
       "      <td>B</td>\n",
       "      <td>B5</td>\n",
       "      <td>...</td>\n",
       "      <td>NaN</td>\n",
       "      <td>NaN</td>\n",
       "      <td>Cash</td>\n",
       "      <td>N</td>\n",
       "      <td>NaN</td>\n",
       "      <td>NaN</td>\n",
       "      <td>NaN</td>\n",
       "      <td>NaN</td>\n",
       "      <td>NaN</td>\n",
       "      <td>NaN</td>\n",
       "    </tr>\n",
       "  </tbody>\n",
       "</table>\n",
       "<p>5 rows × 151 columns</p>\n",
       "</div>"
      ],
      "text/plain": [
       "        id  member_id  loan_amnt  funded_amnt  funded_amnt_inv        term  \\\n",
       "0  1077501        NaN     5000.0       5000.0           4975.0   36 months   \n",
       "1  1077430        NaN     2500.0       2500.0           2500.0   60 months   \n",
       "2  1077175        NaN     2400.0       2400.0           2400.0   36 months   \n",
       "3  1076863        NaN    10000.0      10000.0          10000.0   36 months   \n",
       "4  1075358        NaN     3000.0       3000.0           3000.0   60 months   \n",
       "\n",
       "  int_rate  installment grade sub_grade  ... hardship_payoff_balance_amount  \\\n",
       "0   10.65%       162.87     B        B2  ...                            NaN   \n",
       "1   15.27%        59.83     C        C4  ...                            NaN   \n",
       "2   15.96%        84.33     C        C5  ...                            NaN   \n",
       "3   13.49%       339.31     C        C1  ...                            NaN   \n",
       "4   12.69%        67.79     B        B5  ...                            NaN   \n",
       "\n",
       "  hardship_last_payment_amount disbursement_method  debt_settlement_flag  \\\n",
       "0                          NaN                Cash                     N   \n",
       "1                          NaN                Cash                     N   \n",
       "2                          NaN                Cash                     N   \n",
       "3                          NaN                Cash                     N   \n",
       "4                          NaN                Cash                     N   \n",
       "\n",
       "  debt_settlement_flag_date settlement_status settlement_date  \\\n",
       "0                       NaN               NaN             NaN   \n",
       "1                       NaN               NaN             NaN   \n",
       "2                       NaN               NaN             NaN   \n",
       "3                       NaN               NaN             NaN   \n",
       "4                       NaN               NaN             NaN   \n",
       "\n",
       "  settlement_amount settlement_percentage settlement_term  \n",
       "0               NaN                   NaN             NaN  \n",
       "1               NaN                   NaN             NaN  \n",
       "2               NaN                   NaN             NaN  \n",
       "3               NaN                   NaN             NaN  \n",
       "4               NaN                   NaN             NaN  \n",
       "\n",
       "[5 rows x 151 columns]"
      ]
     },
     "execution_count": 3,
     "metadata": {},
     "output_type": "execute_result"
    }
   ],
   "source": [
    "df.head()"
   ]
  },
  {
   "cell_type": "code",
   "execution_count": 4,
   "id": "cba7f803",
   "metadata": {},
   "outputs": [
    {
     "data": {
      "text/plain": [
       "(42536, 151)"
      ]
     },
     "execution_count": 4,
     "metadata": {},
     "output_type": "execute_result"
    }
   ],
   "source": [
    "df.shape"
   ]
  },
  {
   "cell_type": "code",
   "execution_count": 5,
   "id": "fb820422",
   "metadata": {},
   "outputs": [],
   "source": [
    "#Dane zawierają 42536 obserwacji i 151 kolumn - łącznie z kolumną ze statusem pożyczki (zmienna objaśniana)"
   ]
  },
  {
   "cell_type": "code",
   "execution_count": 6,
   "id": "de46d9d7",
   "metadata": {},
   "outputs": [
    {
     "data": {
      "text/plain": [
       "id                        object\n",
       "member_id                float64\n",
       "loan_amnt                float64\n",
       "funded_amnt              float64\n",
       "funded_amnt_inv          float64\n",
       "                          ...   \n",
       "settlement_status         object\n",
       "settlement_date           object\n",
       "settlement_amount        float64\n",
       "settlement_percentage    float64\n",
       "settlement_term          float64\n",
       "Length: 151, dtype: object"
      ]
     },
     "execution_count": 6,
     "metadata": {},
     "output_type": "execute_result"
    }
   ],
   "source": [
    "df.dtypes"
   ]
  },
  {
   "cell_type": "code",
   "execution_count": 7,
   "id": "9caf400c",
   "metadata": {},
   "outputs": [
    {
     "name": "stdout",
     "output_type": "stream",
     "text": [
      "<class 'pandas.core.frame.DataFrame'>\n",
      "RangeIndex: 42536 entries, 0 to 42535\n",
      "Columns: 151 entries, id to settlement_term\n",
      "dtypes: float64(120), object(31)\n",
      "memory usage: 49.0+ MB\n"
     ]
    }
   ],
   "source": [
    "df.info()"
   ]
  },
  {
   "cell_type": "code",
   "execution_count": 8,
   "id": "9eba0d1f",
   "metadata": {},
   "outputs": [
    {
     "data": {
      "text/plain": [
       "Index(['id', 'member_id', 'loan_amnt', 'funded_amnt', 'funded_amnt_inv',\n",
       "       'term', 'int_rate', 'installment', 'grade', 'sub_grade',\n",
       "       ...\n",
       "       'hardship_payoff_balance_amount', 'hardship_last_payment_amount',\n",
       "       'disbursement_method', 'debt_settlement_flag',\n",
       "       'debt_settlement_flag_date', 'settlement_status', 'settlement_date',\n",
       "       'settlement_amount', 'settlement_percentage', 'settlement_term'],\n",
       "      dtype='object', length=151)"
      ]
     },
     "execution_count": 8,
     "metadata": {},
     "output_type": "execute_result"
    }
   ],
   "source": [
    "df.keys()"
   ]
  },
  {
   "cell_type": "code",
   "execution_count": 9,
   "id": "0034553a",
   "metadata": {},
   "outputs": [
    {
     "data": {
      "text/html": [
       "<div>\n",
       "<style scoped>\n",
       "    .dataframe tbody tr th:only-of-type {\n",
       "        vertical-align: middle;\n",
       "    }\n",
       "\n",
       "    .dataframe tbody tr th {\n",
       "        vertical-align: top;\n",
       "    }\n",
       "\n",
       "    .dataframe thead th {\n",
       "        text-align: right;\n",
       "    }\n",
       "</style>\n",
       "<table border=\"1\" class=\"dataframe\">\n",
       "  <thead>\n",
       "    <tr style=\"text-align: right;\">\n",
       "      <th></th>\n",
       "      <th>member_id</th>\n",
       "      <th>loan_amnt</th>\n",
       "      <th>funded_amnt</th>\n",
       "      <th>funded_amnt_inv</th>\n",
       "      <th>installment</th>\n",
       "      <th>annual_inc</th>\n",
       "      <th>dti</th>\n",
       "      <th>delinq_2yrs</th>\n",
       "      <th>fico_range_low</th>\n",
       "      <th>fico_range_high</th>\n",
       "      <th>...</th>\n",
       "      <th>payment_plan_start_date</th>\n",
       "      <th>hardship_length</th>\n",
       "      <th>hardship_dpd</th>\n",
       "      <th>hardship_loan_status</th>\n",
       "      <th>orig_projected_additional_accrued_interest</th>\n",
       "      <th>hardship_payoff_balance_amount</th>\n",
       "      <th>hardship_last_payment_amount</th>\n",
       "      <th>settlement_amount</th>\n",
       "      <th>settlement_percentage</th>\n",
       "      <th>settlement_term</th>\n",
       "    </tr>\n",
       "  </thead>\n",
       "  <tbody>\n",
       "    <tr>\n",
       "      <th>count</th>\n",
       "      <td>0.0</td>\n",
       "      <td>42535.000000</td>\n",
       "      <td>42535.000000</td>\n",
       "      <td>42535.000000</td>\n",
       "      <td>42535.000000</td>\n",
       "      <td>4.253100e+04</td>\n",
       "      <td>42535.000000</td>\n",
       "      <td>42506.000000</td>\n",
       "      <td>42535.000000</td>\n",
       "      <td>42535.000000</td>\n",
       "      <td>...</td>\n",
       "      <td>0.0</td>\n",
       "      <td>0.0</td>\n",
       "      <td>0.0</td>\n",
       "      <td>0.0</td>\n",
       "      <td>0.0</td>\n",
       "      <td>0.0</td>\n",
       "      <td>0.0</td>\n",
       "      <td>160.000000</td>\n",
       "      <td>160.000000</td>\n",
       "      <td>160.000000</td>\n",
       "    </tr>\n",
       "    <tr>\n",
       "      <th>mean</th>\n",
       "      <td>NaN</td>\n",
       "      <td>11089.722581</td>\n",
       "      <td>10821.585753</td>\n",
       "      <td>10139.938785</td>\n",
       "      <td>322.623063</td>\n",
       "      <td>6.913656e+04</td>\n",
       "      <td>13.373043</td>\n",
       "      <td>0.152449</td>\n",
       "      <td>713.052545</td>\n",
       "      <td>717.052545</td>\n",
       "      <td>...</td>\n",
       "      <td>NaN</td>\n",
       "      <td>NaN</td>\n",
       "      <td>NaN</td>\n",
       "      <td>NaN</td>\n",
       "      <td>NaN</td>\n",
       "      <td>NaN</td>\n",
       "      <td>NaN</td>\n",
       "      <td>4272.137875</td>\n",
       "      <td>49.905875</td>\n",
       "      <td>1.200000</td>\n",
       "    </tr>\n",
       "    <tr>\n",
       "      <th>std</th>\n",
       "      <td>NaN</td>\n",
       "      <td>7410.938391</td>\n",
       "      <td>7146.914675</td>\n",
       "      <td>7131.598014</td>\n",
       "      <td>208.927216</td>\n",
       "      <td>6.409635e+04</td>\n",
       "      <td>6.726315</td>\n",
       "      <td>0.512406</td>\n",
       "      <td>36.188439</td>\n",
       "      <td>36.188439</td>\n",
       "      <td>...</td>\n",
       "      <td>NaN</td>\n",
       "      <td>NaN</td>\n",
       "      <td>NaN</td>\n",
       "      <td>NaN</td>\n",
       "      <td>NaN</td>\n",
       "      <td>NaN</td>\n",
       "      <td>NaN</td>\n",
       "      <td>3119.373774</td>\n",
       "      <td>15.563690</td>\n",
       "      <td>4.085255</td>\n",
       "    </tr>\n",
       "    <tr>\n",
       "      <th>min</th>\n",
       "      <td>NaN</td>\n",
       "      <td>500.000000</td>\n",
       "      <td>500.000000</td>\n",
       "      <td>0.000000</td>\n",
       "      <td>15.670000</td>\n",
       "      <td>1.896000e+03</td>\n",
       "      <td>0.000000</td>\n",
       "      <td>0.000000</td>\n",
       "      <td>610.000000</td>\n",
       "      <td>614.000000</td>\n",
       "      <td>...</td>\n",
       "      <td>NaN</td>\n",
       "      <td>NaN</td>\n",
       "      <td>NaN</td>\n",
       "      <td>NaN</td>\n",
       "      <td>NaN</td>\n",
       "      <td>NaN</td>\n",
       "      <td>NaN</td>\n",
       "      <td>193.290000</td>\n",
       "      <td>10.690000</td>\n",
       "      <td>0.000000</td>\n",
       "    </tr>\n",
       "    <tr>\n",
       "      <th>25%</th>\n",
       "      <td>NaN</td>\n",
       "      <td>5200.000000</td>\n",
       "      <td>5000.000000</td>\n",
       "      <td>4950.000000</td>\n",
       "      <td>165.520000</td>\n",
       "      <td>4.000000e+04</td>\n",
       "      <td>8.200000</td>\n",
       "      <td>0.000000</td>\n",
       "      <td>685.000000</td>\n",
       "      <td>689.000000</td>\n",
       "      <td>...</td>\n",
       "      <td>NaN</td>\n",
       "      <td>NaN</td>\n",
       "      <td>NaN</td>\n",
       "      <td>NaN</td>\n",
       "      <td>NaN</td>\n",
       "      <td>NaN</td>\n",
       "      <td>NaN</td>\n",
       "      <td>1842.750000</td>\n",
       "      <td>40.000000</td>\n",
       "      <td>0.000000</td>\n",
       "    </tr>\n",
       "    <tr>\n",
       "      <th>50%</th>\n",
       "      <td>NaN</td>\n",
       "      <td>9700.000000</td>\n",
       "      <td>9600.000000</td>\n",
       "      <td>8500.000000</td>\n",
       "      <td>277.690000</td>\n",
       "      <td>5.900000e+04</td>\n",
       "      <td>13.470000</td>\n",
       "      <td>0.000000</td>\n",
       "      <td>710.000000</td>\n",
       "      <td>714.000000</td>\n",
       "      <td>...</td>\n",
       "      <td>NaN</td>\n",
       "      <td>NaN</td>\n",
       "      <td>NaN</td>\n",
       "      <td>NaN</td>\n",
       "      <td>NaN</td>\n",
       "      <td>NaN</td>\n",
       "      <td>NaN</td>\n",
       "      <td>3499.350000</td>\n",
       "      <td>49.970000</td>\n",
       "      <td>0.000000</td>\n",
       "    </tr>\n",
       "    <tr>\n",
       "      <th>75%</th>\n",
       "      <td>NaN</td>\n",
       "      <td>15000.000000</td>\n",
       "      <td>15000.000000</td>\n",
       "      <td>14000.000000</td>\n",
       "      <td>428.180000</td>\n",
       "      <td>8.250000e+04</td>\n",
       "      <td>18.680000</td>\n",
       "      <td>0.000000</td>\n",
       "      <td>740.000000</td>\n",
       "      <td>744.000000</td>\n",
       "      <td>...</td>\n",
       "      <td>NaN</td>\n",
       "      <td>NaN</td>\n",
       "      <td>NaN</td>\n",
       "      <td>NaN</td>\n",
       "      <td>NaN</td>\n",
       "      <td>NaN</td>\n",
       "      <td>NaN</td>\n",
       "      <td>5701.100000</td>\n",
       "      <td>60.652500</td>\n",
       "      <td>0.000000</td>\n",
       "    </tr>\n",
       "    <tr>\n",
       "      <th>max</th>\n",
       "      <td>NaN</td>\n",
       "      <td>35000.000000</td>\n",
       "      <td>35000.000000</td>\n",
       "      <td>35000.000000</td>\n",
       "      <td>1305.190000</td>\n",
       "      <td>6.000000e+06</td>\n",
       "      <td>29.990000</td>\n",
       "      <td>13.000000</td>\n",
       "      <td>825.000000</td>\n",
       "      <td>829.000000</td>\n",
       "      <td>...</td>\n",
       "      <td>NaN</td>\n",
       "      <td>NaN</td>\n",
       "      <td>NaN</td>\n",
       "      <td>NaN</td>\n",
       "      <td>NaN</td>\n",
       "      <td>NaN</td>\n",
       "      <td>NaN</td>\n",
       "      <td>14798.200000</td>\n",
       "      <td>92.740000</td>\n",
       "      <td>24.000000</td>\n",
       "    </tr>\n",
       "  </tbody>\n",
       "</table>\n",
       "<p>8 rows × 120 columns</p>\n",
       "</div>"
      ],
      "text/plain": [
       "       member_id     loan_amnt   funded_amnt  funded_amnt_inv   installment  \\\n",
       "count        0.0  42535.000000  42535.000000     42535.000000  42535.000000   \n",
       "mean         NaN  11089.722581  10821.585753     10139.938785    322.623063   \n",
       "std          NaN   7410.938391   7146.914675      7131.598014    208.927216   \n",
       "min          NaN    500.000000    500.000000         0.000000     15.670000   \n",
       "25%          NaN   5200.000000   5000.000000      4950.000000    165.520000   \n",
       "50%          NaN   9700.000000   9600.000000      8500.000000    277.690000   \n",
       "75%          NaN  15000.000000  15000.000000     14000.000000    428.180000   \n",
       "max          NaN  35000.000000  35000.000000     35000.000000   1305.190000   \n",
       "\n",
       "         annual_inc           dti   delinq_2yrs  fico_range_low  \\\n",
       "count  4.253100e+04  42535.000000  42506.000000    42535.000000   \n",
       "mean   6.913656e+04     13.373043      0.152449      713.052545   \n",
       "std    6.409635e+04      6.726315      0.512406       36.188439   \n",
       "min    1.896000e+03      0.000000      0.000000      610.000000   \n",
       "25%    4.000000e+04      8.200000      0.000000      685.000000   \n",
       "50%    5.900000e+04     13.470000      0.000000      710.000000   \n",
       "75%    8.250000e+04     18.680000      0.000000      740.000000   \n",
       "max    6.000000e+06     29.990000     13.000000      825.000000   \n",
       "\n",
       "       fico_range_high  ...  payment_plan_start_date  hardship_length  \\\n",
       "count     42535.000000  ...                      0.0              0.0   \n",
       "mean        717.052545  ...                      NaN              NaN   \n",
       "std          36.188439  ...                      NaN              NaN   \n",
       "min         614.000000  ...                      NaN              NaN   \n",
       "25%         689.000000  ...                      NaN              NaN   \n",
       "50%         714.000000  ...                      NaN              NaN   \n",
       "75%         744.000000  ...                      NaN              NaN   \n",
       "max         829.000000  ...                      NaN              NaN   \n",
       "\n",
       "       hardship_dpd  hardship_loan_status  \\\n",
       "count           0.0                   0.0   \n",
       "mean            NaN                   NaN   \n",
       "std             NaN                   NaN   \n",
       "min             NaN                   NaN   \n",
       "25%             NaN                   NaN   \n",
       "50%             NaN                   NaN   \n",
       "75%             NaN                   NaN   \n",
       "max             NaN                   NaN   \n",
       "\n",
       "       orig_projected_additional_accrued_interest  \\\n",
       "count                                         0.0   \n",
       "mean                                          NaN   \n",
       "std                                           NaN   \n",
       "min                                           NaN   \n",
       "25%                                           NaN   \n",
       "50%                                           NaN   \n",
       "75%                                           NaN   \n",
       "max                                           NaN   \n",
       "\n",
       "       hardship_payoff_balance_amount  hardship_last_payment_amount  \\\n",
       "count                             0.0                           0.0   \n",
       "mean                              NaN                           NaN   \n",
       "std                               NaN                           NaN   \n",
       "min                               NaN                           NaN   \n",
       "25%                               NaN                           NaN   \n",
       "50%                               NaN                           NaN   \n",
       "75%                               NaN                           NaN   \n",
       "max                               NaN                           NaN   \n",
       "\n",
       "       settlement_amount  settlement_percentage  settlement_term  \n",
       "count         160.000000             160.000000       160.000000  \n",
       "mean         4272.137875              49.905875         1.200000  \n",
       "std          3119.373774              15.563690         4.085255  \n",
       "min           193.290000              10.690000         0.000000  \n",
       "25%          1842.750000              40.000000         0.000000  \n",
       "50%          3499.350000              49.970000         0.000000  \n",
       "75%          5701.100000              60.652500         0.000000  \n",
       "max         14798.200000              92.740000        24.000000  \n",
       "\n",
       "[8 rows x 120 columns]"
      ]
     },
     "execution_count": 9,
     "metadata": {},
     "output_type": "execute_result"
    }
   ],
   "source": [
    "df.describe()"
   ]
  },
  {
   "cell_type": "code",
   "execution_count": 10,
   "id": "7aa49e48",
   "metadata": {},
   "outputs": [],
   "source": [
    "#Importuję opis zmiennych \n",
    "df_description = pd.read_csv('LCDataDictionary.csv')"
   ]
  },
  {
   "cell_type": "code",
   "execution_count": 11,
   "id": "eb85bd1a",
   "metadata": {},
   "outputs": [],
   "source": [
    "pd.set_option('display.max_rows', 200)\n",
    "pd.set_option('display.max_columns', 151)\n",
    "pd.set_option('display.max_colwidth', 2000)\n",
    "pd.set_option('max_colwidth', 2000)\n",
    "pd.options.display.float_format = '{:.3f}'.format"
   ]
  },
  {
   "cell_type": "code",
   "execution_count": null,
   "id": "16e7a94b",
   "metadata": {},
   "outputs": [],
   "source": []
  },
  {
   "cell_type": "code",
   "execution_count": 12,
   "id": "89da83da",
   "metadata": {},
   "outputs": [
    {
     "data": {
      "text/html": [
       "<div>\n",
       "<style scoped>\n",
       "    .dataframe tbody tr th:only-of-type {\n",
       "        vertical-align: middle;\n",
       "    }\n",
       "\n",
       "    .dataframe tbody tr th {\n",
       "        vertical-align: top;\n",
       "    }\n",
       "\n",
       "    .dataframe thead th {\n",
       "        text-align: right;\n",
       "    }\n",
       "</style>\n",
       "<table border=\"1\" class=\"dataframe\">\n",
       "  <thead>\n",
       "    <tr style=\"text-align: right;\">\n",
       "      <th></th>\n",
       "      <th>LoanStatNew</th>\n",
       "      <th>Description</th>\n",
       "    </tr>\n",
       "  </thead>\n",
       "  <tbody>\n",
       "    <tr>\n",
       "      <th>0</th>\n",
       "      <td>acc_now_delinq</td>\n",
       "      <td>The number of accounts on which the borrower is now delinquent.</td>\n",
       "    </tr>\n",
       "    <tr>\n",
       "      <th>1</th>\n",
       "      <td>acc_open_past_24mths</td>\n",
       "      <td>Number of trades opened in past 24 months.</td>\n",
       "    </tr>\n",
       "    <tr>\n",
       "      <th>2</th>\n",
       "      <td>addr_state</td>\n",
       "      <td>The state provided by the borrower in the loan application</td>\n",
       "    </tr>\n",
       "    <tr>\n",
       "      <th>3</th>\n",
       "      <td>all_util</td>\n",
       "      <td>Balance to credit limit on all trades</td>\n",
       "    </tr>\n",
       "    <tr>\n",
       "      <th>4</th>\n",
       "      <td>annual_inc</td>\n",
       "      <td>The self-reported annual income provided by the borrower during registration.</td>\n",
       "    </tr>\n",
       "    <tr>\n",
       "      <th>5</th>\n",
       "      <td>annual_inc_joint</td>\n",
       "      <td>The combined self-reported annual income provided by the co-borrowers during registration</td>\n",
       "    </tr>\n",
       "    <tr>\n",
       "      <th>6</th>\n",
       "      <td>application_type</td>\n",
       "      <td>Indicates whether the loan is an individual application or a joint application with two co-borrowers</td>\n",
       "    </tr>\n",
       "    <tr>\n",
       "      <th>7</th>\n",
       "      <td>avg_cur_bal</td>\n",
       "      <td>Average current balance of all accounts</td>\n",
       "    </tr>\n",
       "    <tr>\n",
       "      <th>8</th>\n",
       "      <td>bc_open_to_buy</td>\n",
       "      <td>Total open to buy on revolving bankcards.</td>\n",
       "    </tr>\n",
       "    <tr>\n",
       "      <th>9</th>\n",
       "      <td>bc_util</td>\n",
       "      <td>Ratio of total current balance to high credit/credit limit for all bankcard accounts.</td>\n",
       "    </tr>\n",
       "    <tr>\n",
       "      <th>10</th>\n",
       "      <td>chargeoff_within_12_mths</td>\n",
       "      <td>Number of charge-offs within 12 months</td>\n",
       "    </tr>\n",
       "    <tr>\n",
       "      <th>11</th>\n",
       "      <td>collection_recovery_fee</td>\n",
       "      <td>post charge off collection fee</td>\n",
       "    </tr>\n",
       "    <tr>\n",
       "      <th>12</th>\n",
       "      <td>collections_12_mths_ex_med</td>\n",
       "      <td>Number of collections in 12 months excluding medical collections</td>\n",
       "    </tr>\n",
       "    <tr>\n",
       "      <th>13</th>\n",
       "      <td>delinq_2yrs</td>\n",
       "      <td>The number of 30+ days past-due incidences of delinquency in the borrower's credit file for the past 2 years</td>\n",
       "    </tr>\n",
       "    <tr>\n",
       "      <th>14</th>\n",
       "      <td>delinq_amnt</td>\n",
       "      <td>The past-due amount owed for the accounts on which the borrower is now delinquent.</td>\n",
       "    </tr>\n",
       "    <tr>\n",
       "      <th>15</th>\n",
       "      <td>desc</td>\n",
       "      <td>Loan description provided by the borrower</td>\n",
       "    </tr>\n",
       "    <tr>\n",
       "      <th>16</th>\n",
       "      <td>dti</td>\n",
       "      <td>A ratio calculated using the borrower’s total monthly debt payments on the total debt obligations, excluding mortgage and the requested LC loan, divided by the borrower’s self-reported monthly income.</td>\n",
       "    </tr>\n",
       "    <tr>\n",
       "      <th>17</th>\n",
       "      <td>dti_joint</td>\n",
       "      <td>A ratio calculated using the co-borrowers' total monthly payments on the total debt obligations, excluding mortgages and the requested LC loan, divided by the co-borrowers' combined self-reported monthly income</td>\n",
       "    </tr>\n",
       "    <tr>\n",
       "      <th>18</th>\n",
       "      <td>earliest_cr_line</td>\n",
       "      <td>The month the borrower's earliest reported credit line was opened</td>\n",
       "    </tr>\n",
       "    <tr>\n",
       "      <th>19</th>\n",
       "      <td>emp_length</td>\n",
       "      <td>Employment length in years. Possible values are between 0 and 10 where 0 means less than one year and 10 means ten or more years.</td>\n",
       "    </tr>\n",
       "    <tr>\n",
       "      <th>20</th>\n",
       "      <td>emp_title</td>\n",
       "      <td>The job title supplied by the Borrower when applying for the loan.*</td>\n",
       "    </tr>\n",
       "    <tr>\n",
       "      <th>21</th>\n",
       "      <td>fico_range_high</td>\n",
       "      <td>The upper boundary range the borrower’s FICO at loan origination belongs to.</td>\n",
       "    </tr>\n",
       "    <tr>\n",
       "      <th>22</th>\n",
       "      <td>fico_range_low</td>\n",
       "      <td>The lower boundary range the borrower’s FICO at loan origination belongs to.</td>\n",
       "    </tr>\n",
       "    <tr>\n",
       "      <th>23</th>\n",
       "      <td>funded_amnt</td>\n",
       "      <td>The total amount committed to that loan at that point in time.</td>\n",
       "    </tr>\n",
       "    <tr>\n",
       "      <th>24</th>\n",
       "      <td>funded_amnt_inv</td>\n",
       "      <td>The total amount committed by investors for that loan at that point in time.</td>\n",
       "    </tr>\n",
       "    <tr>\n",
       "      <th>25</th>\n",
       "      <td>grade</td>\n",
       "      <td>LC assigned loan grade</td>\n",
       "    </tr>\n",
       "    <tr>\n",
       "      <th>26</th>\n",
       "      <td>home_ownership</td>\n",
       "      <td>The home ownership status provided by the borrower during registration or obtained from the credit report. Our values are: RENT, OWN, MORTGAGE, OTHER</td>\n",
       "    </tr>\n",
       "    <tr>\n",
       "      <th>27</th>\n",
       "      <td>id</td>\n",
       "      <td>A unique LC assigned ID for the loan listing.</td>\n",
       "    </tr>\n",
       "    <tr>\n",
       "      <th>28</th>\n",
       "      <td>il_util</td>\n",
       "      <td>Ratio of total current balance to high credit/credit limit on all install acct</td>\n",
       "    </tr>\n",
       "    <tr>\n",
       "      <th>29</th>\n",
       "      <td>initial_list_status</td>\n",
       "      <td>The initial listing status of the loan. Possible values are – W, F</td>\n",
       "    </tr>\n",
       "    <tr>\n",
       "      <th>30</th>\n",
       "      <td>inq_fi</td>\n",
       "      <td>Number of personal finance inquiries</td>\n",
       "    </tr>\n",
       "    <tr>\n",
       "      <th>31</th>\n",
       "      <td>inq_last_12m</td>\n",
       "      <td>Number of credit inquiries in past 12 months</td>\n",
       "    </tr>\n",
       "    <tr>\n",
       "      <th>32</th>\n",
       "      <td>inq_last_6mths</td>\n",
       "      <td>The number of inquiries in past 6 months (excluding auto and mortgage inquiries)</td>\n",
       "    </tr>\n",
       "    <tr>\n",
       "      <th>33</th>\n",
       "      <td>installment</td>\n",
       "      <td>The monthly payment owed by the borrower if the loan originates.</td>\n",
       "    </tr>\n",
       "    <tr>\n",
       "      <th>34</th>\n",
       "      <td>int_rate</td>\n",
       "      <td>Interest Rate on the loan</td>\n",
       "    </tr>\n",
       "    <tr>\n",
       "      <th>35</th>\n",
       "      <td>issue_d</td>\n",
       "      <td>The month which the loan was funded</td>\n",
       "    </tr>\n",
       "    <tr>\n",
       "      <th>36</th>\n",
       "      <td>last_credit_pull_d</td>\n",
       "      <td>The most recent month LC pulled credit for this loan</td>\n",
       "    </tr>\n",
       "    <tr>\n",
       "      <th>37</th>\n",
       "      <td>last_fico_range_high</td>\n",
       "      <td>The upper boundary range the borrower’s last FICO pulled belongs to.</td>\n",
       "    </tr>\n",
       "    <tr>\n",
       "      <th>38</th>\n",
       "      <td>last_fico_range_low</td>\n",
       "      <td>The lower boundary range the borrower’s last FICO pulled belongs to.</td>\n",
       "    </tr>\n",
       "    <tr>\n",
       "      <th>39</th>\n",
       "      <td>last_pymnt_amnt</td>\n",
       "      <td>Last total payment amount received</td>\n",
       "    </tr>\n",
       "    <tr>\n",
       "      <th>40</th>\n",
       "      <td>last_pymnt_d</td>\n",
       "      <td>Last month payment was received</td>\n",
       "    </tr>\n",
       "    <tr>\n",
       "      <th>41</th>\n",
       "      <td>loan_amnt</td>\n",
       "      <td>The listed amount of the loan applied for by the borrower. If at some point in time, the credit department reduces the loan amount, then it will be reflected in this value.</td>\n",
       "    </tr>\n",
       "    <tr>\n",
       "      <th>42</th>\n",
       "      <td>loan_status</td>\n",
       "      <td>Current status of the loan</td>\n",
       "    </tr>\n",
       "    <tr>\n",
       "      <th>43</th>\n",
       "      <td>max_bal_bc</td>\n",
       "      <td>Maximum current balance owed on all revolving accounts</td>\n",
       "    </tr>\n",
       "    <tr>\n",
       "      <th>44</th>\n",
       "      <td>member_id</td>\n",
       "      <td>A unique LC assigned Id for the borrower member.</td>\n",
       "    </tr>\n",
       "    <tr>\n",
       "      <th>45</th>\n",
       "      <td>mo_sin_old_il_acct</td>\n",
       "      <td>Months since oldest bank installment account opened</td>\n",
       "    </tr>\n",
       "    <tr>\n",
       "      <th>46</th>\n",
       "      <td>mo_sin_old_rev_tl_op</td>\n",
       "      <td>Months since oldest revolving account opened</td>\n",
       "    </tr>\n",
       "    <tr>\n",
       "      <th>47</th>\n",
       "      <td>mo_sin_rcnt_rev_tl_op</td>\n",
       "      <td>Months since most recent revolving account opened</td>\n",
       "    </tr>\n",
       "    <tr>\n",
       "      <th>48</th>\n",
       "      <td>mo_sin_rcnt_tl</td>\n",
       "      <td>Months since most recent account opened</td>\n",
       "    </tr>\n",
       "    <tr>\n",
       "      <th>49</th>\n",
       "      <td>mort_acc</td>\n",
       "      <td>Number of mortgage accounts.</td>\n",
       "    </tr>\n",
       "    <tr>\n",
       "      <th>50</th>\n",
       "      <td>mths_since_last_delinq</td>\n",
       "      <td>The number of months since the borrower's last delinquency.</td>\n",
       "    </tr>\n",
       "    <tr>\n",
       "      <th>51</th>\n",
       "      <td>mths_since_last_major_derog</td>\n",
       "      <td>Months since most recent 90-day or worse rating</td>\n",
       "    </tr>\n",
       "    <tr>\n",
       "      <th>52</th>\n",
       "      <td>mths_since_last_record</td>\n",
       "      <td>The number of months since the last public record.</td>\n",
       "    </tr>\n",
       "    <tr>\n",
       "      <th>53</th>\n",
       "      <td>mths_since_rcnt_il</td>\n",
       "      <td>Months since most recent installment accounts opened</td>\n",
       "    </tr>\n",
       "    <tr>\n",
       "      <th>54</th>\n",
       "      <td>mths_since_recent_bc</td>\n",
       "      <td>Months since most recent bankcard account opened.</td>\n",
       "    </tr>\n",
       "    <tr>\n",
       "      <th>55</th>\n",
       "      <td>mths_since_recent_bc_dlq</td>\n",
       "      <td>Months since most recent bankcard delinquency</td>\n",
       "    </tr>\n",
       "    <tr>\n",
       "      <th>56</th>\n",
       "      <td>mths_since_recent_inq</td>\n",
       "      <td>Months since most recent inquiry.</td>\n",
       "    </tr>\n",
       "    <tr>\n",
       "      <th>57</th>\n",
       "      <td>mths_since_recent_revol_delinq</td>\n",
       "      <td>Months since most recent revolving delinquency.</td>\n",
       "    </tr>\n",
       "    <tr>\n",
       "      <th>58</th>\n",
       "      <td>next_pymnt_d</td>\n",
       "      <td>Next scheduled payment date</td>\n",
       "    </tr>\n",
       "    <tr>\n",
       "      <th>59</th>\n",
       "      <td>num_accts_ever_120_pd</td>\n",
       "      <td>Number of accounts ever 120 or more days past due</td>\n",
       "    </tr>\n",
       "    <tr>\n",
       "      <th>60</th>\n",
       "      <td>num_actv_bc_tl</td>\n",
       "      <td>Number of currently active bankcard accounts</td>\n",
       "    </tr>\n",
       "    <tr>\n",
       "      <th>61</th>\n",
       "      <td>num_actv_rev_tl</td>\n",
       "      <td>Number of currently active revolving trades</td>\n",
       "    </tr>\n",
       "    <tr>\n",
       "      <th>62</th>\n",
       "      <td>num_bc_sats</td>\n",
       "      <td>Number of satisfactory bankcard accounts</td>\n",
       "    </tr>\n",
       "    <tr>\n",
       "      <th>63</th>\n",
       "      <td>num_bc_tl</td>\n",
       "      <td>Number of bankcard accounts</td>\n",
       "    </tr>\n",
       "    <tr>\n",
       "      <th>64</th>\n",
       "      <td>num_il_tl</td>\n",
       "      <td>Number of installment accounts</td>\n",
       "    </tr>\n",
       "    <tr>\n",
       "      <th>65</th>\n",
       "      <td>num_op_rev_tl</td>\n",
       "      <td>Number of open revolving accounts</td>\n",
       "    </tr>\n",
       "    <tr>\n",
       "      <th>66</th>\n",
       "      <td>num_rev_accts</td>\n",
       "      <td>Number of revolving accounts</td>\n",
       "    </tr>\n",
       "    <tr>\n",
       "      <th>67</th>\n",
       "      <td>num_rev_tl_bal_gt_0</td>\n",
       "      <td>Number of revolving trades with balance &gt;0</td>\n",
       "    </tr>\n",
       "    <tr>\n",
       "      <th>68</th>\n",
       "      <td>num_sats</td>\n",
       "      <td>Number of satisfactory accounts</td>\n",
       "    </tr>\n",
       "    <tr>\n",
       "      <th>69</th>\n",
       "      <td>num_tl_120dpd_2m</td>\n",
       "      <td>Number of accounts currently 120 days past due (updated in past 2 months)</td>\n",
       "    </tr>\n",
       "    <tr>\n",
       "      <th>70</th>\n",
       "      <td>num_tl_30dpd</td>\n",
       "      <td>Number of accounts currently 30 days past due (updated in past 2 months)</td>\n",
       "    </tr>\n",
       "    <tr>\n",
       "      <th>71</th>\n",
       "      <td>num_tl_90g_dpd_24m</td>\n",
       "      <td>Number of accounts 90 or more days past due in last 24 months</td>\n",
       "    </tr>\n",
       "    <tr>\n",
       "      <th>72</th>\n",
       "      <td>num_tl_op_past_12m</td>\n",
       "      <td>Number of accounts opened in past 12 months</td>\n",
       "    </tr>\n",
       "    <tr>\n",
       "      <th>73</th>\n",
       "      <td>open_acc</td>\n",
       "      <td>The number of open credit lines in the borrower's credit file.</td>\n",
       "    </tr>\n",
       "    <tr>\n",
       "      <th>74</th>\n",
       "      <td>open_acc_6m</td>\n",
       "      <td>Number of open trades in last 6 months</td>\n",
       "    </tr>\n",
       "    <tr>\n",
       "      <th>75</th>\n",
       "      <td>open_il_12m</td>\n",
       "      <td>Number of installment accounts opened in past 12 months</td>\n",
       "    </tr>\n",
       "    <tr>\n",
       "      <th>76</th>\n",
       "      <td>open_il_24m</td>\n",
       "      <td>Number of installment accounts opened in past 24 months</td>\n",
       "    </tr>\n",
       "    <tr>\n",
       "      <th>77</th>\n",
       "      <td>open_act_il</td>\n",
       "      <td>Number of currently active installment trades</td>\n",
       "    </tr>\n",
       "    <tr>\n",
       "      <th>78</th>\n",
       "      <td>open_rv_12m</td>\n",
       "      <td>Number of revolving trades opened in past 12 months</td>\n",
       "    </tr>\n",
       "    <tr>\n",
       "      <th>79</th>\n",
       "      <td>open_rv_24m</td>\n",
       "      <td>Number of revolving trades opened in past 24 months</td>\n",
       "    </tr>\n",
       "    <tr>\n",
       "      <th>80</th>\n",
       "      <td>out_prncp</td>\n",
       "      <td>Remaining outstanding principal for total amount funded</td>\n",
       "    </tr>\n",
       "    <tr>\n",
       "      <th>81</th>\n",
       "      <td>out_prncp_inv</td>\n",
       "      <td>Remaining outstanding principal for portion of total amount funded by investors</td>\n",
       "    </tr>\n",
       "    <tr>\n",
       "      <th>82</th>\n",
       "      <td>pct_tl_nvr_dlq</td>\n",
       "      <td>Percent of trades never delinquent</td>\n",
       "    </tr>\n",
       "    <tr>\n",
       "      <th>83</th>\n",
       "      <td>percent_bc_gt_75</td>\n",
       "      <td>Percentage of all bankcard accounts &gt; 75% of limit.</td>\n",
       "    </tr>\n",
       "    <tr>\n",
       "      <th>84</th>\n",
       "      <td>policy_code</td>\n",
       "      <td>publicly available policy_code=1\\nnew products not publicly available policy_code=2</td>\n",
       "    </tr>\n",
       "    <tr>\n",
       "      <th>85</th>\n",
       "      <td>pub_rec</td>\n",
       "      <td>Number of derogatory public records</td>\n",
       "    </tr>\n",
       "    <tr>\n",
       "      <th>86</th>\n",
       "      <td>pub_rec_bankruptcies</td>\n",
       "      <td>Number of public record bankruptcies</td>\n",
       "    </tr>\n",
       "    <tr>\n",
       "      <th>87</th>\n",
       "      <td>purpose</td>\n",
       "      <td>A category provided by the borrower for the loan request.</td>\n",
       "    </tr>\n",
       "    <tr>\n",
       "      <th>88</th>\n",
       "      <td>pymnt_plan</td>\n",
       "      <td>Indicates if a payment plan has been put in place for the loan</td>\n",
       "    </tr>\n",
       "    <tr>\n",
       "      <th>89</th>\n",
       "      <td>recoveries</td>\n",
       "      <td>post charge off gross recovery</td>\n",
       "    </tr>\n",
       "    <tr>\n",
       "      <th>90</th>\n",
       "      <td>revol_bal</td>\n",
       "      <td>Total credit revolving balance</td>\n",
       "    </tr>\n",
       "    <tr>\n",
       "      <th>91</th>\n",
       "      <td>revol_util</td>\n",
       "      <td>Revolving line utilization rate, or the amount of credit the borrower is using relative to all available revolving credit.</td>\n",
       "    </tr>\n",
       "    <tr>\n",
       "      <th>92</th>\n",
       "      <td>sub_grade</td>\n",
       "      <td>LC assigned loan subgrade</td>\n",
       "    </tr>\n",
       "    <tr>\n",
       "      <th>93</th>\n",
       "      <td>tax_liens</td>\n",
       "      <td>Number of tax liens</td>\n",
       "    </tr>\n",
       "    <tr>\n",
       "      <th>94</th>\n",
       "      <td>term</td>\n",
       "      <td>The number of payments on the loan. Values are in months and can be either 36 or 60.</td>\n",
       "    </tr>\n",
       "    <tr>\n",
       "      <th>95</th>\n",
       "      <td>title</td>\n",
       "      <td>The loan title provided by the borrower</td>\n",
       "    </tr>\n",
       "    <tr>\n",
       "      <th>96</th>\n",
       "      <td>tot_coll_amt</td>\n",
       "      <td>Total collection amounts ever owed</td>\n",
       "    </tr>\n",
       "    <tr>\n",
       "      <th>97</th>\n",
       "      <td>tot_cur_bal</td>\n",
       "      <td>Total current balance of all accounts</td>\n",
       "    </tr>\n",
       "    <tr>\n",
       "      <th>98</th>\n",
       "      <td>tot_hi_cred_lim</td>\n",
       "      <td>Total high credit/credit limit</td>\n",
       "    </tr>\n",
       "    <tr>\n",
       "      <th>99</th>\n",
       "      <td>total_acc</td>\n",
       "      <td>The total number of credit lines currently in the borrower's credit file</td>\n",
       "    </tr>\n",
       "    <tr>\n",
       "      <th>100</th>\n",
       "      <td>total_bal_ex_mort</td>\n",
       "      <td>Total credit balance excluding mortgage</td>\n",
       "    </tr>\n",
       "    <tr>\n",
       "      <th>101</th>\n",
       "      <td>total_bal_il</td>\n",
       "      <td>Total current balance of all installment accounts</td>\n",
       "    </tr>\n",
       "    <tr>\n",
       "      <th>102</th>\n",
       "      <td>total_bc_limit</td>\n",
       "      <td>Total bankcard high credit/credit limit</td>\n",
       "    </tr>\n",
       "    <tr>\n",
       "      <th>103</th>\n",
       "      <td>total_cu_tl</td>\n",
       "      <td>Number of finance trades</td>\n",
       "    </tr>\n",
       "    <tr>\n",
       "      <th>104</th>\n",
       "      <td>total_il_high_credit_limit</td>\n",
       "      <td>Total installment high credit/credit limit</td>\n",
       "    </tr>\n",
       "    <tr>\n",
       "      <th>105</th>\n",
       "      <td>total_pymnt</td>\n",
       "      <td>Payments received to date for total amount funded</td>\n",
       "    </tr>\n",
       "    <tr>\n",
       "      <th>106</th>\n",
       "      <td>total_pymnt_inv</td>\n",
       "      <td>Payments received to date for portion of total amount funded by investors</td>\n",
       "    </tr>\n",
       "    <tr>\n",
       "      <th>107</th>\n",
       "      <td>total_rec_int</td>\n",
       "      <td>Interest received to date</td>\n",
       "    </tr>\n",
       "    <tr>\n",
       "      <th>108</th>\n",
       "      <td>total_rec_late_fee</td>\n",
       "      <td>Late fees received to date</td>\n",
       "    </tr>\n",
       "    <tr>\n",
       "      <th>109</th>\n",
       "      <td>total_rec_prncp</td>\n",
       "      <td>Principal received to date</td>\n",
       "    </tr>\n",
       "    <tr>\n",
       "      <th>110</th>\n",
       "      <td>total_rev_hi_lim</td>\n",
       "      <td>Total revolving high credit/credit limit</td>\n",
       "    </tr>\n",
       "    <tr>\n",
       "      <th>111</th>\n",
       "      <td>url</td>\n",
       "      <td>URL for the LC page with listing data.</td>\n",
       "    </tr>\n",
       "    <tr>\n",
       "      <th>112</th>\n",
       "      <td>verification_status</td>\n",
       "      <td>Indicates if income was verified by LC, not verified, or if the income source was verified</td>\n",
       "    </tr>\n",
       "    <tr>\n",
       "      <th>113</th>\n",
       "      <td>verified_status_joint</td>\n",
       "      <td>Indicates if the co-borrowers' joint income was verified by LC, not verified, or if the income source was verified</td>\n",
       "    </tr>\n",
       "    <tr>\n",
       "      <th>114</th>\n",
       "      <td>zip_code</td>\n",
       "      <td>The first 3 numbers of the zip code provided by the borrower in the loan application.</td>\n",
       "    </tr>\n",
       "    <tr>\n",
       "      <th>115</th>\n",
       "      <td>revol_bal_joint</td>\n",
       "      <td>Sum of revolving credit balance of the co-borrowers, net of duplicate balances</td>\n",
       "    </tr>\n",
       "    <tr>\n",
       "      <th>116</th>\n",
       "      <td>sec_app_fico_range_low</td>\n",
       "      <td>FICO range (high) for the secondary applicant</td>\n",
       "    </tr>\n",
       "    <tr>\n",
       "      <th>117</th>\n",
       "      <td>sec_app_fico_range_high</td>\n",
       "      <td>FICO range (low) for the secondary applicant</td>\n",
       "    </tr>\n",
       "    <tr>\n",
       "      <th>118</th>\n",
       "      <td>sec_app_earliest_cr_line</td>\n",
       "      <td>Earliest credit line at time of application for the secondary applicant</td>\n",
       "    </tr>\n",
       "    <tr>\n",
       "      <th>119</th>\n",
       "      <td>sec_app_inq_last_6mths</td>\n",
       "      <td>Credit inquiries in the last 6 months at time of application for the secondary applicant</td>\n",
       "    </tr>\n",
       "    <tr>\n",
       "      <th>120</th>\n",
       "      <td>sec_app_mort_acc</td>\n",
       "      <td>Number of mortgage accounts at time of application for the secondary applicant</td>\n",
       "    </tr>\n",
       "    <tr>\n",
       "      <th>121</th>\n",
       "      <td>sec_app_open_acc</td>\n",
       "      <td>Number of open trades at time of application for the secondary applicant</td>\n",
       "    </tr>\n",
       "    <tr>\n",
       "      <th>122</th>\n",
       "      <td>sec_app_revol_util</td>\n",
       "      <td>Ratio of total current balance to high credit/credit limit for all revolving accounts</td>\n",
       "    </tr>\n",
       "    <tr>\n",
       "      <th>123</th>\n",
       "      <td>sec_app_open_act_il</td>\n",
       "      <td>Number of currently active installment trades at time of application for the secondary applicant</td>\n",
       "    </tr>\n",
       "    <tr>\n",
       "      <th>124</th>\n",
       "      <td>sec_app_num_rev_accts</td>\n",
       "      <td>Number of revolving accounts at time of application for the secondary applicant</td>\n",
       "    </tr>\n",
       "    <tr>\n",
       "      <th>125</th>\n",
       "      <td>sec_app_chargeoff_within_12_mths</td>\n",
       "      <td>Number of charge-offs within last 12 months at time of application for the secondary applicant</td>\n",
       "    </tr>\n",
       "    <tr>\n",
       "      <th>126</th>\n",
       "      <td>sec_app_collections_12_mths_ex_med</td>\n",
       "      <td>Number of collections within last 12 months excluding medical collections at time of application for the secondary applicant</td>\n",
       "    </tr>\n",
       "    <tr>\n",
       "      <th>127</th>\n",
       "      <td>sec_app_mths_since_last_major_derog</td>\n",
       "      <td>Months since most recent 90-day or worse rating at time of application for the secondary applicant</td>\n",
       "    </tr>\n",
       "    <tr>\n",
       "      <th>128</th>\n",
       "      <td>hardship_flag</td>\n",
       "      <td>Flags whether or not the borrower is on a hardship plan</td>\n",
       "    </tr>\n",
       "    <tr>\n",
       "      <th>129</th>\n",
       "      <td>hardship_type</td>\n",
       "      <td>Describes the hardship plan offering</td>\n",
       "    </tr>\n",
       "    <tr>\n",
       "      <th>130</th>\n",
       "      <td>hardship_reason</td>\n",
       "      <td>Describes the reason the hardship plan was offered</td>\n",
       "    </tr>\n",
       "    <tr>\n",
       "      <th>131</th>\n",
       "      <td>hardship_status</td>\n",
       "      <td>Describes if the hardship plan is active, pending, canceled, completed, or broken</td>\n",
       "    </tr>\n",
       "    <tr>\n",
       "      <th>132</th>\n",
       "      <td>deferral_term</td>\n",
       "      <td>Amount of months that the borrower is expected to pay less than the contractual monthly payment amount due to a hardship plan</td>\n",
       "    </tr>\n",
       "    <tr>\n",
       "      <th>133</th>\n",
       "      <td>hardship_amount</td>\n",
       "      <td>The interest payment that the borrower has committed to make each month while they are on a hardship plan</td>\n",
       "    </tr>\n",
       "    <tr>\n",
       "      <th>134</th>\n",
       "      <td>hardship_start_date</td>\n",
       "      <td>The start date of the hardship plan period</td>\n",
       "    </tr>\n",
       "    <tr>\n",
       "      <th>135</th>\n",
       "      <td>hardship_end_date</td>\n",
       "      <td>The end date of the hardship plan period</td>\n",
       "    </tr>\n",
       "    <tr>\n",
       "      <th>136</th>\n",
       "      <td>payment_plan_start_date</td>\n",
       "      <td>The day the first hardship plan payment is due. For example, if a borrower has a hardship plan period of 3 months, the start date is the start of the three-month period in which the borrower is allowed to make interest-only payments.</td>\n",
       "    </tr>\n",
       "    <tr>\n",
       "      <th>137</th>\n",
       "      <td>hardship_length</td>\n",
       "      <td>The number of months the borrower will make smaller payments than normally obligated due to a hardship plan</td>\n",
       "    </tr>\n",
       "    <tr>\n",
       "      <th>138</th>\n",
       "      <td>hardship_dpd</td>\n",
       "      <td>Account days past due as of the hardship plan start date</td>\n",
       "    </tr>\n",
       "    <tr>\n",
       "      <th>139</th>\n",
       "      <td>hardship_loan_status</td>\n",
       "      <td>Loan Status as of the hardship plan start date</td>\n",
       "    </tr>\n",
       "    <tr>\n",
       "      <th>140</th>\n",
       "      <td>orig_projected_additional_accrued_interest</td>\n",
       "      <td>The original projected additional interest amount that will accrue for the given hardship payment plan as of the Hardship Start Date. This field will be null if the borrower has broken their hardship payment plan.</td>\n",
       "    </tr>\n",
       "    <tr>\n",
       "      <th>141</th>\n",
       "      <td>hardship_payoff_balance_amount</td>\n",
       "      <td>The payoff balance amount as of the hardship plan start date</td>\n",
       "    </tr>\n",
       "    <tr>\n",
       "      <th>142</th>\n",
       "      <td>hardship_last_payment_amount</td>\n",
       "      <td>The last payment amount as of the hardship plan start date</td>\n",
       "    </tr>\n",
       "    <tr>\n",
       "      <th>143</th>\n",
       "      <td>disbursement_method</td>\n",
       "      <td>The method by which the borrower receives their loan. Possible values are: CASH, DIRECT_PAY</td>\n",
       "    </tr>\n",
       "    <tr>\n",
       "      <th>144</th>\n",
       "      <td>debt_settlement_flag</td>\n",
       "      <td>Flags whether or not the borrower, who has charged-off, is working with a debt-settlement company.</td>\n",
       "    </tr>\n",
       "    <tr>\n",
       "      <th>145</th>\n",
       "      <td>debt_settlement_flag_date</td>\n",
       "      <td>The most recent date that the Debt_Settlement_Flag has been set</td>\n",
       "    </tr>\n",
       "    <tr>\n",
       "      <th>146</th>\n",
       "      <td>settlement_status</td>\n",
       "      <td>The status of the borrower’s settlement plan. Possible values are: COMPLETE, ACTIVE, BROKEN, CANCELLED, DENIED, DRAFT</td>\n",
       "    </tr>\n",
       "    <tr>\n",
       "      <th>147</th>\n",
       "      <td>settlement_date</td>\n",
       "      <td>The date that the borrower agrees to the settlement plan</td>\n",
       "    </tr>\n",
       "    <tr>\n",
       "      <th>148</th>\n",
       "      <td>settlement_amount</td>\n",
       "      <td>The loan amount that the borrower has agreed to settle for</td>\n",
       "    </tr>\n",
       "    <tr>\n",
       "      <th>149</th>\n",
       "      <td>settlement_percentage</td>\n",
       "      <td>The settlement amount as a percentage of the payoff balance amount on the loan</td>\n",
       "    </tr>\n",
       "    <tr>\n",
       "      <th>150</th>\n",
       "      <td>settlement_term</td>\n",
       "      <td>The number of months that the borrower will be on the settlement plan</td>\n",
       "    </tr>\n",
       "    <tr>\n",
       "      <th>151</th>\n",
       "      <td>NaN</td>\n",
       "      <td>NaN</td>\n",
       "    </tr>\n",
       "    <tr>\n",
       "      <th>152</th>\n",
       "      <td>NaN</td>\n",
       "      <td>* Employer Title replaces Employer Name for all loans listed after 9/23/2013</td>\n",
       "    </tr>\n",
       "  </tbody>\n",
       "</table>\n",
       "</div>"
      ],
      "text/plain": [
       "                                    LoanStatNew  \\\n",
       "0                                acc_now_delinq   \n",
       "1                          acc_open_past_24mths   \n",
       "2                                    addr_state   \n",
       "3                                      all_util   \n",
       "4                                    annual_inc   \n",
       "5                              annual_inc_joint   \n",
       "6                              application_type   \n",
       "7                                   avg_cur_bal   \n",
       "8                                bc_open_to_buy   \n",
       "9                                       bc_util   \n",
       "10                     chargeoff_within_12_mths   \n",
       "11                      collection_recovery_fee   \n",
       "12                   collections_12_mths_ex_med   \n",
       "13                                  delinq_2yrs   \n",
       "14                                  delinq_amnt   \n",
       "15                                         desc   \n",
       "16                                          dti   \n",
       "17                                    dti_joint   \n",
       "18                             earliest_cr_line   \n",
       "19                                   emp_length   \n",
       "20                                    emp_title   \n",
       "21                              fico_range_high   \n",
       "22                               fico_range_low   \n",
       "23                                  funded_amnt   \n",
       "24                              funded_amnt_inv   \n",
       "25                                        grade   \n",
       "26                               home_ownership   \n",
       "27                                           id   \n",
       "28                                      il_util   \n",
       "29                          initial_list_status   \n",
       "30                                       inq_fi   \n",
       "31                                 inq_last_12m   \n",
       "32                               inq_last_6mths   \n",
       "33                                  installment   \n",
       "34                                     int_rate   \n",
       "35                                      issue_d   \n",
       "36                           last_credit_pull_d   \n",
       "37                         last_fico_range_high   \n",
       "38                          last_fico_range_low   \n",
       "39                              last_pymnt_amnt   \n",
       "40                                 last_pymnt_d   \n",
       "41                                    loan_amnt   \n",
       "42                                  loan_status   \n",
       "43                                   max_bal_bc   \n",
       "44                                    member_id   \n",
       "45                           mo_sin_old_il_acct   \n",
       "46                         mo_sin_old_rev_tl_op   \n",
       "47                        mo_sin_rcnt_rev_tl_op   \n",
       "48                               mo_sin_rcnt_tl   \n",
       "49                                     mort_acc   \n",
       "50                       mths_since_last_delinq   \n",
       "51                  mths_since_last_major_derog   \n",
       "52                       mths_since_last_record   \n",
       "53                           mths_since_rcnt_il   \n",
       "54                         mths_since_recent_bc   \n",
       "55                     mths_since_recent_bc_dlq   \n",
       "56                        mths_since_recent_inq   \n",
       "57               mths_since_recent_revol_delinq   \n",
       "58                                 next_pymnt_d   \n",
       "59                        num_accts_ever_120_pd   \n",
       "60                               num_actv_bc_tl   \n",
       "61                              num_actv_rev_tl   \n",
       "62                                  num_bc_sats   \n",
       "63                                    num_bc_tl   \n",
       "64                                    num_il_tl   \n",
       "65                                num_op_rev_tl   \n",
       "66                                num_rev_accts   \n",
       "67                          num_rev_tl_bal_gt_0   \n",
       "68                                     num_sats   \n",
       "69                             num_tl_120dpd_2m   \n",
       "70                                 num_tl_30dpd   \n",
       "71                           num_tl_90g_dpd_24m   \n",
       "72                           num_tl_op_past_12m   \n",
       "73                                     open_acc   \n",
       "74                                  open_acc_6m   \n",
       "75                                  open_il_12m   \n",
       "76                                  open_il_24m   \n",
       "77                                  open_act_il   \n",
       "78                                  open_rv_12m   \n",
       "79                                  open_rv_24m   \n",
       "80                                    out_prncp   \n",
       "81                                out_prncp_inv   \n",
       "82                               pct_tl_nvr_dlq   \n",
       "83                             percent_bc_gt_75   \n",
       "84                                  policy_code   \n",
       "85                                      pub_rec   \n",
       "86                         pub_rec_bankruptcies   \n",
       "87                                      purpose   \n",
       "88                                   pymnt_plan   \n",
       "89                                   recoveries   \n",
       "90                                    revol_bal   \n",
       "91                                   revol_util   \n",
       "92                                    sub_grade   \n",
       "93                                    tax_liens   \n",
       "94                                         term   \n",
       "95                                        title   \n",
       "96                                 tot_coll_amt   \n",
       "97                                  tot_cur_bal   \n",
       "98                              tot_hi_cred_lim   \n",
       "99                                    total_acc   \n",
       "100                           total_bal_ex_mort   \n",
       "101                                total_bal_il   \n",
       "102                              total_bc_limit   \n",
       "103                                 total_cu_tl   \n",
       "104                  total_il_high_credit_limit   \n",
       "105                                 total_pymnt   \n",
       "106                             total_pymnt_inv   \n",
       "107                               total_rec_int   \n",
       "108                          total_rec_late_fee   \n",
       "109                             total_rec_prncp   \n",
       "110                          total_rev_hi_lim     \n",
       "111                                         url   \n",
       "112                         verification_status   \n",
       "113                       verified_status_joint   \n",
       "114                                    zip_code   \n",
       "115                            revol_bal_joint    \n",
       "116                     sec_app_fico_range_low    \n",
       "117                    sec_app_fico_range_high    \n",
       "118                   sec_app_earliest_cr_line    \n",
       "119                     sec_app_inq_last_6mths    \n",
       "120                           sec_app_mort_acc    \n",
       "121                           sec_app_open_acc    \n",
       "122                         sec_app_revol_util    \n",
       "123                         sec_app_open_act_il   \n",
       "124                      sec_app_num_rev_accts    \n",
       "125           sec_app_chargeoff_within_12_mths    \n",
       "126         sec_app_collections_12_mths_ex_med    \n",
       "127        sec_app_mths_since_last_major_derog    \n",
       "128                               hardship_flag   \n",
       "129                               hardship_type   \n",
       "130                             hardship_reason   \n",
       "131                             hardship_status   \n",
       "132                               deferral_term   \n",
       "133                             hardship_amount   \n",
       "134                         hardship_start_date   \n",
       "135                           hardship_end_date   \n",
       "136                     payment_plan_start_date   \n",
       "137                             hardship_length   \n",
       "138                                hardship_dpd   \n",
       "139                        hardship_loan_status   \n",
       "140  orig_projected_additional_accrued_interest   \n",
       "141              hardship_payoff_balance_amount   \n",
       "142                hardship_last_payment_amount   \n",
       "143                         disbursement_method   \n",
       "144                        debt_settlement_flag   \n",
       "145                   debt_settlement_flag_date   \n",
       "146                           settlement_status   \n",
       "147                             settlement_date   \n",
       "148                           settlement_amount   \n",
       "149                       settlement_percentage   \n",
       "150                             settlement_term   \n",
       "151                                         NaN   \n",
       "152                                         NaN   \n",
       "\n",
       "                                                                                                                                                                                                                                   Description  \n",
       "0                                                                                                                                                                              The number of accounts on which the borrower is now delinquent.  \n",
       "1                                                                                                                                                                                                   Number of trades opened in past 24 months.  \n",
       "2                                                                                                                                                                                   The state provided by the borrower in the loan application  \n",
       "3                                                                                                                                                                                                        Balance to credit limit on all trades  \n",
       "4                                                                                                                                                                The self-reported annual income provided by the borrower during registration.  \n",
       "5                                                                                                                                                    The combined self-reported annual income provided by the co-borrowers during registration  \n",
       "6                                                                                                                                         Indicates whether the loan is an individual application or a joint application with two co-borrowers  \n",
       "7                                                                                                                                                                                                      Average current balance of all accounts  \n",
       "8                                                                                                                                                                                                    Total open to buy on revolving bankcards.  \n",
       "9                                                                                                                                                        Ratio of total current balance to high credit/credit limit for all bankcard accounts.  \n",
       "10                                                                                                                                                                                                      Number of charge-offs within 12 months  \n",
       "11                                                                                                                                                                                                              post charge off collection fee  \n",
       "12                                                                                                                                                                            Number of collections in 12 months excluding medical collections  \n",
       "13                                                                                                                                The number of 30+ days past-due incidences of delinquency in the borrower's credit file for the past 2 years  \n",
       "14                                                                                                                                                          The past-due amount owed for the accounts on which the borrower is now delinquent.  \n",
       "15                                                                                                                                                                                                   Loan description provided by the borrower  \n",
       "16                                    A ratio calculated using the borrower’s total monthly debt payments on the total debt obligations, excluding mortgage and the requested LC loan, divided by the borrower’s self-reported monthly income.  \n",
       "17                          A ratio calculated using the co-borrowers' total monthly payments on the total debt obligations, excluding mortgages and the requested LC loan, divided by the co-borrowers' combined self-reported monthly income  \n",
       "18                                                                                                                                                                           The month the borrower's earliest reported credit line was opened  \n",
       "19                                                                                                          Employment length in years. Possible values are between 0 and 10 where 0 means less than one year and 10 means ten or more years.   \n",
       "20                                                                                                                                                                         The job title supplied by the Borrower when applying for the loan.*  \n",
       "21                                                                                                                                                                The upper boundary range the borrower’s FICO at loan origination belongs to.  \n",
       "22                                                                                                                                                                The lower boundary range the borrower’s FICO at loan origination belongs to.  \n",
       "23                                                                                                                                                                              The total amount committed to that loan at that point in time.  \n",
       "24                                                                                                                                                                The total amount committed by investors for that loan at that point in time.  \n",
       "25                                                                                                                                                                                                                      LC assigned loan grade  \n",
       "26                                                                                       The home ownership status provided by the borrower during registration or obtained from the credit report. Our values are: RENT, OWN, MORTGAGE, OTHER  \n",
       "27                                                                                                                                                                                               A unique LC assigned ID for the loan listing.  \n",
       "28                                                                                                                                                              Ratio of total current balance to high credit/credit limit on all install acct  \n",
       "29                                                                                                                                                                          The initial listing status of the loan. Possible values are – W, F  \n",
       "30                                                                                                                                                                                                        Number of personal finance inquiries  \n",
       "31                                                                                                                                                                                                Number of credit inquiries in past 12 months  \n",
       "32                                                                                                                                                            The number of inquiries in past 6 months (excluding auto and mortgage inquiries)  \n",
       "33                                                                                                                                                                            The monthly payment owed by the borrower if the loan originates.  \n",
       "34                                                                                                                                                                                                                   Interest Rate on the loan  \n",
       "35                                                                                                                                                                                                         The month which the loan was funded  \n",
       "36                                                                                                                                                                                        The most recent month LC pulled credit for this loan  \n",
       "37                                                                                                                                                                        The upper boundary range the borrower’s last FICO pulled belongs to.  \n",
       "38                                                                                                                                                                        The lower boundary range the borrower’s last FICO pulled belongs to.  \n",
       "39                                                                                                                                                                                                          Last total payment amount received  \n",
       "40                                                                                                                                                                                                             Last month payment was received  \n",
       "41                                                                The listed amount of the loan applied for by the borrower. If at some point in time, the credit department reduces the loan amount, then it will be reflected in this value.  \n",
       "42                                                                                                                                                                                                                  Current status of the loan  \n",
       "43                                                                                                                                                                                      Maximum current balance owed on all revolving accounts  \n",
       "44                                                                                                                                                                                            A unique LC assigned Id for the borrower member.  \n",
       "45                                                                                                                                                                                         Months since oldest bank installment account opened  \n",
       "46                                                                                                                                                                                                Months since oldest revolving account opened  \n",
       "47                                                                                                                                                                                           Months since most recent revolving account opened  \n",
       "48                                                                                                                                                                                                     Months since most recent account opened  \n",
       "49                                                                                                                                                                                                                Number of mortgage accounts.  \n",
       "50                                                                                                                                                                                 The number of months since the borrower's last delinquency.  \n",
       "51                                                                                                                                                                                             Months since most recent 90-day or worse rating  \n",
       "52                                                                                                                                                                                          The number of months since the last public record.  \n",
       "53                                                                                                                                                                                        Months since most recent installment accounts opened  \n",
       "54                                                                                                                                                                                           Months since most recent bankcard account opened.  \n",
       "55                                                                                                                                                                                               Months since most recent bankcard delinquency  \n",
       "56                                                                                                                                                                                                           Months since most recent inquiry.  \n",
       "57                                                                                                                                                                                             Months since most recent revolving delinquency.  \n",
       "58                                                                                                                                                                                                                 Next scheduled payment date  \n",
       "59                                                                                                                                                                                           Number of accounts ever 120 or more days past due  \n",
       "60                                                                                                                                                                                                Number of currently active bankcard accounts  \n",
       "61                                                                                                                                                                                                 Number of currently active revolving trades  \n",
       "62                                                                                                                                                                                                    Number of satisfactory bankcard accounts  \n",
       "63                                                                                                                                                                                                                 Number of bankcard accounts  \n",
       "64                                                                                                                                                                                                              Number of installment accounts  \n",
       "65                                                                                                                                                                                                           Number of open revolving accounts  \n",
       "66                                                                                                                                                                                                                Number of revolving accounts  \n",
       "67                                                                                                                                                                                                  Number of revolving trades with balance >0  \n",
       "68                                                                                                                                                                                                             Number of satisfactory accounts  \n",
       "69                                                                                                                                                                   Number of accounts currently 120 days past due (updated in past 2 months)  \n",
       "70                                                                                                                                                                    Number of accounts currently 30 days past due (updated in past 2 months)  \n",
       "71                                                                                                                                                                               Number of accounts 90 or more days past due in last 24 months  \n",
       "72                                                                                                                                                                                                 Number of accounts opened in past 12 months  \n",
       "73                                                                                                                                                                              The number of open credit lines in the borrower's credit file.  \n",
       "74                                                                                                                                                                                                      Number of open trades in last 6 months  \n",
       "75                                                                                                                                                                                     Number of installment accounts opened in past 12 months  \n",
       "76                                                                                                                                                                                     Number of installment accounts opened in past 24 months  \n",
       "77                                                                                                                                                                                               Number of currently active installment trades  \n",
       "78                                                                                                                                                                                         Number of revolving trades opened in past 12 months  \n",
       "79                                                                                                                                                                                         Number of revolving trades opened in past 24 months  \n",
       "80                                                                                                                                                                                     Remaining outstanding principal for total amount funded  \n",
       "81                                                                                                                                                             Remaining outstanding principal for portion of total amount funded by investors  \n",
       "82                                                                                                                                                                                                          Percent of trades never delinquent  \n",
       "83                                                                                                                                                                                         Percentage of all bankcard accounts > 75% of limit.  \n",
       "84                                                                                                                                                         publicly available policy_code=1\\nnew products not publicly available policy_code=2  \n",
       "85                                                                                                                                                                                                         Number of derogatory public records  \n",
       "86                                                                                                                                                                                                        Number of public record bankruptcies  \n",
       "87                                                                                                                                                                                  A category provided by the borrower for the loan request.   \n",
       "88                                                                                                                                                                              Indicates if a payment plan has been put in place for the loan  \n",
       "89                                                                                                                                                                                                              post charge off gross recovery  \n",
       "90                                                                                                                                                                                                              Total credit revolving balance  \n",
       "91                                                                                                                  Revolving line utilization rate, or the amount of credit the borrower is using relative to all available revolving credit.  \n",
       "92                                                                                                                                                                                                                   LC assigned loan subgrade  \n",
       "93                                                                                                                                                                                                                         Number of tax liens  \n",
       "94                                                                                                                                                        The number of payments on the loan. Values are in months and can be either 36 or 60.  \n",
       "95                                                                                                                                                                                                     The loan title provided by the borrower  \n",
       "96                                                                                                                                                                                                          Total collection amounts ever owed  \n",
       "97                                                                                                                                                                                                       Total current balance of all accounts  \n",
       "98                                                                                                                                                                                                              Total high credit/credit limit  \n",
       "99                                                                                                                                                                    The total number of credit lines currently in the borrower's credit file  \n",
       "100                                                                                                                                                                                                    Total credit balance excluding mortgage  \n",
       "101                                                                                                                                                                                          Total current balance of all installment accounts  \n",
       "102                                                                                                                                                                                                    Total bankcard high credit/credit limit  \n",
       "103                                                                                                                                                                                                                   Number of finance trades  \n",
       "104                                                                                                                                                                                                 Total installment high credit/credit limit  \n",
       "105                                                                                                                                                                                          Payments received to date for total amount funded  \n",
       "106                                                                                                                                                                  Payments received to date for portion of total amount funded by investors  \n",
       "107                                                                                                                                                                                                                  Interest received to date  \n",
       "108                                                                                                                                                                                                                 Late fees received to date  \n",
       "109                                                                                                                                                                                                                 Principal received to date  \n",
       "110                                                                                                                                                                                                   Total revolving high credit/credit limit  \n",
       "111                                                                                                                                                                                                     URL for the LC page with listing data.  \n",
       "112                                                                                                                                                 Indicates if income was verified by LC, not verified, or if the income source was verified  \n",
       "113                                                                                                                         Indicates if the co-borrowers' joint income was verified by LC, not verified, or if the income source was verified  \n",
       "114                                                                                                                                                      The first 3 numbers of the zip code provided by the borrower in the loan application.  \n",
       "115                                                                                                                                                             Sum of revolving credit balance of the co-borrowers, net of duplicate balances  \n",
       "116                                                                                                                                                                                              FICO range (high) for the secondary applicant  \n",
       "117                                                                                                                                                                                               FICO range (low) for the secondary applicant  \n",
       "118                                                                                                                                                                    Earliest credit line at time of application for the secondary applicant  \n",
       "119                                                                                                                                                   Credit inquiries in the last 6 months at time of application for the secondary applicant  \n",
       "120                                                                                                                                                             Number of mortgage accounts at time of application for the secondary applicant  \n",
       "121                                                                                                                                                                   Number of open trades at time of application for the secondary applicant  \n",
       "122                                                                                                                                                      Ratio of total current balance to high credit/credit limit for all revolving accounts  \n",
       "123                                                                                                                                           Number of currently active installment trades at time of application for the secondary applicant  \n",
       "124                                                                                                                                                            Number of revolving accounts at time of application for the secondary applicant  \n",
       "125                                                                                                                                             Number of charge-offs within last 12 months at time of application for the secondary applicant  \n",
       "126                                                                                                               Number of collections within last 12 months excluding medical collections at time of application for the secondary applicant  \n",
       "127                                                                                                                                         Months since most recent 90-day or worse rating at time of application for the secondary applicant  \n",
       "128                                                                                                                                                                                    Flags whether or not the borrower is on a hardship plan  \n",
       "129                                                                                                                                                                                                       Describes the hardship plan offering  \n",
       "130                                                                                                                                                                                         Describes the reason the hardship plan was offered  \n",
       "131                                                                                                                                                          Describes if the hardship plan is active, pending, canceled, completed, or broken  \n",
       "132                                                                                                              Amount of months that the borrower is expected to pay less than the contractual monthly payment amount due to a hardship plan  \n",
       "133                                                                                                                                  The interest payment that the borrower has committed to make each month while they are on a hardship plan  \n",
       "134                                                                                                                                                                                                 The start date of the hardship plan period  \n",
       "135                                                                                                                                                                                                   The end date of the hardship plan period  \n",
       "136  The day the first hardship plan payment is due. For example, if a borrower has a hardship plan period of 3 months, the start date is the start of the three-month period in which the borrower is allowed to make interest-only payments.  \n",
       "137                                                                                                                                The number of months the borrower will make smaller payments than normally obligated due to a hardship plan  \n",
       "138                                                                                                                                                                                   Account days past due as of the hardship plan start date  \n",
       "139                                                                                                                                                                                             Loan Status as of the hardship plan start date  \n",
       "140                      The original projected additional interest amount that will accrue for the given hardship payment plan as of the Hardship Start Date. This field will be null if the borrower has broken their hardship payment plan.  \n",
       "141                                                                                                                                                                               The payoff balance amount as of the hardship plan start date  \n",
       "142                                                                                                                                                                                 The last payment amount as of the hardship plan start date  \n",
       "143                                                                                                                                                The method by which the borrower receives their loan. Possible values are: CASH, DIRECT_PAY  \n",
       "144                                                                                                                                         Flags whether or not the borrower, who has charged-off, is working with a debt-settlement company.  \n",
       "145                                                                                                                                                                          The most recent date that the Debt_Settlement_Flag has been set    \n",
       "146                                                                                                                      The status of the borrower’s settlement plan. Possible values are: COMPLETE, ACTIVE, BROKEN, CANCELLED, DENIED, DRAFT  \n",
       "147                                                                                                                                                                                   The date that the borrower agrees to the settlement plan  \n",
       "148                                                                                                                                                                                 The loan amount that the borrower has agreed to settle for  \n",
       "149                                                                                                                                                             The settlement amount as a percentage of the payoff balance amount on the loan  \n",
       "150                                                                                                                                                                      The number of months that the borrower will be on the settlement plan  \n",
       "151                                                                                                                                                                                                                                        NaN  \n",
       "152                                                                                                                                                               * Employer Title replaces Employer Name for all loans listed after 9/23/2013  "
      ]
     },
     "execution_count": 12,
     "metadata": {},
     "output_type": "execute_result"
    }
   ],
   "source": [
    "df_description[['LoanStatNew', 'Description']]"
   ]
  },
  {
   "cell_type": "markdown",
   "id": "eb120ba0",
   "metadata": {},
   "source": [
    "### Sprawdzam brakujące wartości"
   ]
  },
  {
   "cell_type": "code",
   "execution_count": 13,
   "id": "50d9d9fd",
   "metadata": {
    "scrolled": true
   },
   "outputs": [
    {
     "data": {
      "text/plain": [
       "id                                                0\n",
       "member_id                                     42536\n",
       "loan_amnt                                         1\n",
       "funded_amnt                                       1\n",
       "funded_amnt_inv                                   1\n",
       "term                                              1\n",
       "int_rate                                          1\n",
       "installment                                       1\n",
       "grade                                             1\n",
       "sub_grade                                         1\n",
       "emp_title                                      2627\n",
       "emp_length                                     1113\n",
       "home_ownership                                    1\n",
       "annual_inc                                        5\n",
       "verification_status                               1\n",
       "issue_d                                           1\n",
       "loan_status                                       1\n",
       "pymnt_plan                                        1\n",
       "url                                               1\n",
       "desc                                          13294\n",
       "purpose                                           1\n",
       "title                                            14\n",
       "zip_code                                          1\n",
       "addr_state                                        1\n",
       "dti                                               1\n",
       "delinq_2yrs                                      30\n",
       "earliest_cr_line                                 30\n",
       "fico_range_low                                    1\n",
       "fico_range_high                                   1\n",
       "inq_last_6mths                                   30\n",
       "mths_since_last_delinq                        26927\n",
       "mths_since_last_record                        38885\n",
       "open_acc                                         30\n",
       "pub_rec                                          30\n",
       "revol_bal                                         1\n",
       "revol_util                                       91\n",
       "total_acc                                        30\n",
       "initial_list_status                               1\n",
       "out_prncp                                         1\n",
       "out_prncp_inv                                     1\n",
       "total_pymnt                                       1\n",
       "total_pymnt_inv                                   1\n",
       "total_rec_prncp                                   1\n",
       "total_rec_int                                     1\n",
       "total_rec_late_fee                                1\n",
       "recoveries                                        1\n",
       "collection_recovery_fee                           1\n",
       "last_pymnt_d                                     84\n",
       "last_pymnt_amnt                                   1\n",
       "next_pymnt_d                                  39787\n",
       "last_credit_pull_d                                5\n",
       "last_fico_range_high                              1\n",
       "last_fico_range_low                               1\n",
       "collections_12_mths_ex_med                      146\n",
       "mths_since_last_major_derog                   42536\n",
       "policy_code                                       1\n",
       "application_type                                  1\n",
       "annual_inc_joint                              42536\n",
       "dti_joint                                     42536\n",
       "verification_status_joint                     42536\n",
       "acc_now_delinq                                   30\n",
       "tot_coll_amt                                  42536\n",
       "tot_cur_bal                                   42536\n",
       "open_acc_6m                                   42536\n",
       "open_act_il                                   42536\n",
       "open_il_12m                                   42536\n",
       "open_il_24m                                   42536\n",
       "mths_since_rcnt_il                            42536\n",
       "total_bal_il                                  42536\n",
       "il_util                                       42536\n",
       "open_rv_12m                                   42536\n",
       "open_rv_24m                                   42536\n",
       "max_bal_bc                                    42536\n",
       "all_util                                      42536\n",
       "total_rev_hi_lim                              42536\n",
       "inq_fi                                        42536\n",
       "total_cu_tl                                   42536\n",
       "inq_last_12m                                  42536\n",
       "acc_open_past_24mths                          42536\n",
       "avg_cur_bal                                   42536\n",
       "bc_open_to_buy                                42536\n",
       "bc_util                                       42536\n",
       "chargeoff_within_12_mths                        146\n",
       "delinq_amnt                                      30\n",
       "mo_sin_old_il_acct                            42536\n",
       "mo_sin_old_rev_tl_op                          42536\n",
       "mo_sin_rcnt_rev_tl_op                         42536\n",
       "mo_sin_rcnt_tl                                42536\n",
       "mort_acc                                      42536\n",
       "mths_since_recent_bc                          42536\n",
       "mths_since_recent_bc_dlq                      42536\n",
       "mths_since_recent_inq                         42536\n",
       "mths_since_recent_revol_delinq                42536\n",
       "num_accts_ever_120_pd                         42536\n",
       "num_actv_bc_tl                                42536\n",
       "num_actv_rev_tl                               42536\n",
       "num_bc_sats                                   42536\n",
       "num_bc_tl                                     42536\n",
       "num_il_tl                                     42536\n",
       "num_op_rev_tl                                 42536\n",
       "num_rev_accts                                 42536\n",
       "num_rev_tl_bal_gt_0                           42536\n",
       "num_sats                                      42536\n",
       "num_tl_120dpd_2m                              42536\n",
       "num_tl_30dpd                                  42536\n",
       "num_tl_90g_dpd_24m                            42536\n",
       "num_tl_op_past_12m                            42536\n",
       "pct_tl_nvr_dlq                                42536\n",
       "percent_bc_gt_75                              42536\n",
       "pub_rec_bankruptcies                           1366\n",
       "tax_liens                                       106\n",
       "tot_hi_cred_lim                               42536\n",
       "total_bal_ex_mort                             42536\n",
       "total_bc_limit                                42536\n",
       "total_il_high_credit_limit                    42536\n",
       "revol_bal_joint                               42536\n",
       "sec_app_fico_range_low                        42536\n",
       "sec_app_fico_range_high                       42536\n",
       "sec_app_earliest_cr_line                      42536\n",
       "sec_app_inq_last_6mths                        42536\n",
       "sec_app_mort_acc                              42536\n",
       "sec_app_open_acc                              42536\n",
       "sec_app_revol_util                            42536\n",
       "sec_app_open_act_il                           42536\n",
       "sec_app_num_rev_accts                         42536\n",
       "sec_app_chargeoff_within_12_mths              42536\n",
       "sec_app_collections_12_mths_ex_med            42536\n",
       "sec_app_mths_since_last_major_derog           42536\n",
       "hardship_flag                                     1\n",
       "hardship_type                                 42536\n",
       "hardship_reason                               42536\n",
       "hardship_status                               42536\n",
       "deferral_term                                 42536\n",
       "hardship_amount                               42536\n",
       "hardship_start_date                           42536\n",
       "hardship_end_date                             42536\n",
       "payment_plan_start_date                       42536\n",
       "hardship_length                               42536\n",
       "hardship_dpd                                  42536\n",
       "hardship_loan_status                          42536\n",
       "orig_projected_additional_accrued_interest    42536\n",
       "hardship_payoff_balance_amount                42536\n",
       "hardship_last_payment_amount                  42536\n",
       "disbursement_method                               1\n",
       "debt_settlement_flag                              1\n",
       "debt_settlement_flag_date                     42376\n",
       "settlement_status                             42376\n",
       "settlement_date                               42376\n",
       "settlement_amount                             42376\n",
       "settlement_percentage                         42376\n",
       "settlement_term                               42376\n",
       "dtype: int64"
      ]
     },
     "execution_count": 13,
     "metadata": {},
     "output_type": "execute_result"
    }
   ],
   "source": [
    "df.isna().sum()"
   ]
  },
  {
   "cell_type": "code",
   "execution_count": 14,
   "id": "2f67fcc9",
   "metadata": {},
   "outputs": [],
   "source": [
    "#Sprawdzam i usuwam kolumny w 100% z nan"
   ]
  },
  {
   "cell_type": "code",
   "execution_count": 15,
   "id": "783d086f",
   "metadata": {},
   "outputs": [],
   "source": [
    "nan_cols = [i for i in df.columns if df[i].isnull().all()]"
   ]
  },
  {
   "cell_type": "code",
   "execution_count": 16,
   "id": "a4b84f01",
   "metadata": {},
   "outputs": [
    {
     "data": {
      "text/plain": [
       "['member_id',\n",
       " 'mths_since_last_major_derog',\n",
       " 'annual_inc_joint',\n",
       " 'dti_joint',\n",
       " 'verification_status_joint',\n",
       " 'tot_coll_amt',\n",
       " 'tot_cur_bal',\n",
       " 'open_acc_6m',\n",
       " 'open_act_il',\n",
       " 'open_il_12m',\n",
       " 'open_il_24m',\n",
       " 'mths_since_rcnt_il',\n",
       " 'total_bal_il',\n",
       " 'il_util',\n",
       " 'open_rv_12m',\n",
       " 'open_rv_24m',\n",
       " 'max_bal_bc',\n",
       " 'all_util',\n",
       " 'total_rev_hi_lim',\n",
       " 'inq_fi',\n",
       " 'total_cu_tl',\n",
       " 'inq_last_12m',\n",
       " 'acc_open_past_24mths',\n",
       " 'avg_cur_bal',\n",
       " 'bc_open_to_buy',\n",
       " 'bc_util',\n",
       " 'mo_sin_old_il_acct',\n",
       " 'mo_sin_old_rev_tl_op',\n",
       " 'mo_sin_rcnt_rev_tl_op',\n",
       " 'mo_sin_rcnt_tl',\n",
       " 'mort_acc',\n",
       " 'mths_since_recent_bc',\n",
       " 'mths_since_recent_bc_dlq',\n",
       " 'mths_since_recent_inq',\n",
       " 'mths_since_recent_revol_delinq',\n",
       " 'num_accts_ever_120_pd',\n",
       " 'num_actv_bc_tl',\n",
       " 'num_actv_rev_tl',\n",
       " 'num_bc_sats',\n",
       " 'num_bc_tl',\n",
       " 'num_il_tl',\n",
       " 'num_op_rev_tl',\n",
       " 'num_rev_accts',\n",
       " 'num_rev_tl_bal_gt_0',\n",
       " 'num_sats',\n",
       " 'num_tl_120dpd_2m',\n",
       " 'num_tl_30dpd',\n",
       " 'num_tl_90g_dpd_24m',\n",
       " 'num_tl_op_past_12m',\n",
       " 'pct_tl_nvr_dlq',\n",
       " 'percent_bc_gt_75',\n",
       " 'tot_hi_cred_lim',\n",
       " 'total_bal_ex_mort',\n",
       " 'total_bc_limit',\n",
       " 'total_il_high_credit_limit',\n",
       " 'revol_bal_joint',\n",
       " 'sec_app_fico_range_low',\n",
       " 'sec_app_fico_range_high',\n",
       " 'sec_app_earliest_cr_line',\n",
       " 'sec_app_inq_last_6mths',\n",
       " 'sec_app_mort_acc',\n",
       " 'sec_app_open_acc',\n",
       " 'sec_app_revol_util',\n",
       " 'sec_app_open_act_il',\n",
       " 'sec_app_num_rev_accts',\n",
       " 'sec_app_chargeoff_within_12_mths',\n",
       " 'sec_app_collections_12_mths_ex_med',\n",
       " 'sec_app_mths_since_last_major_derog',\n",
       " 'hardship_type',\n",
       " 'hardship_reason',\n",
       " 'hardship_status',\n",
       " 'deferral_term',\n",
       " 'hardship_amount',\n",
       " 'hardship_start_date',\n",
       " 'hardship_end_date',\n",
       " 'payment_plan_start_date',\n",
       " 'hardship_length',\n",
       " 'hardship_dpd',\n",
       " 'hardship_loan_status',\n",
       " 'orig_projected_additional_accrued_interest',\n",
       " 'hardship_payoff_balance_amount',\n",
       " 'hardship_last_payment_amount']"
      ]
     },
     "execution_count": 16,
     "metadata": {},
     "output_type": "execute_result"
    }
   ],
   "source": [
    "nan_cols"
   ]
  },
  {
   "cell_type": "code",
   "execution_count": 17,
   "id": "bc711c01",
   "metadata": {},
   "outputs": [],
   "source": [
    "df.drop(\n",
    "['member_id',\n",
    " 'mths_since_last_major_derog',\n",
    " 'annual_inc_joint',\n",
    " 'dti_joint',\n",
    " 'verification_status_joint',\n",
    " 'tot_coll_amt',\n",
    " 'tot_cur_bal',\n",
    " 'open_acc_6m',\n",
    " 'open_act_il',\n",
    " 'open_il_12m',\n",
    " 'open_il_24m',\n",
    " 'mths_since_rcnt_il',\n",
    " 'total_bal_il',\n",
    " 'il_util',\n",
    " 'open_rv_12m',\n",
    " 'open_rv_24m',\n",
    " 'max_bal_bc',\n",
    " 'all_util',\n",
    " 'total_rev_hi_lim',\n",
    " 'inq_fi',\n",
    " 'total_cu_tl',\n",
    " 'inq_last_12m',\n",
    " 'acc_open_past_24mths',\n",
    " 'avg_cur_bal',\n",
    " 'bc_open_to_buy',\n",
    " 'bc_util',\n",
    " 'mo_sin_old_il_acct',\n",
    " 'mo_sin_old_rev_tl_op',\n",
    " 'mo_sin_rcnt_rev_tl_op',\n",
    " 'mo_sin_rcnt_tl',\n",
    " 'mort_acc',\n",
    " 'mths_since_recent_bc',\n",
    " 'mths_since_recent_bc_dlq',\n",
    " 'mths_since_recent_inq',\n",
    " 'mths_since_recent_revol_delinq',\n",
    " 'num_accts_ever_120_pd',\n",
    " 'num_actv_bc_tl',\n",
    " 'num_actv_rev_tl',\n",
    " 'num_bc_sats',\n",
    " 'num_bc_tl',\n",
    " 'num_il_tl',\n",
    " 'num_op_rev_tl',\n",
    " 'num_rev_accts',\n",
    " 'num_rev_tl_bal_gt_0',\n",
    " 'num_sats',\n",
    " 'num_tl_120dpd_2m',\n",
    " 'num_tl_30dpd',\n",
    " 'num_tl_90g_dpd_24m',\n",
    " 'num_tl_op_past_12m',\n",
    " 'pct_tl_nvr_dlq',\n",
    " 'percent_bc_gt_75',\n",
    " 'tot_hi_cred_lim',\n",
    " 'total_bal_ex_mort',\n",
    " 'total_bc_limit',\n",
    " 'total_il_high_credit_limit',\n",
    " 'revol_bal_joint',\n",
    " 'sec_app_fico_range_low',\n",
    " 'sec_app_fico_range_high',\n",
    " 'sec_app_earliest_cr_line',\n",
    " 'sec_app_inq_last_6mths',\n",
    " 'sec_app_mort_acc',\n",
    " 'sec_app_open_acc',\n",
    " 'sec_app_revol_util',\n",
    " 'sec_app_open_act_il',\n",
    " 'sec_app_num_rev_accts',\n",
    " 'sec_app_chargeoff_within_12_mths',\n",
    " 'sec_app_collections_12_mths_ex_med',\n",
    " 'sec_app_mths_since_last_major_derog',\n",
    " 'hardship_type',\n",
    " 'hardship_reason',\n",
    " 'hardship_status',\n",
    " 'deferral_term',\n",
    " 'hardship_amount',\n",
    " 'hardship_start_date',\n",
    " 'hardship_end_date',\n",
    " 'payment_plan_start_date',\n",
    " 'hardship_length',\n",
    " 'hardship_dpd',\n",
    " 'hardship_loan_status',\n",
    " 'orig_projected_additional_accrued_interest',\n",
    " 'hardship_payoff_balance_amount',\n",
    " 'hardship_last_payment_amount'], \n",
    "axis=1, inplace=True)"
   ]
  },
  {
   "cell_type": "code",
   "execution_count": 18,
   "id": "0c9ea317",
   "metadata": {},
   "outputs": [],
   "source": [
    "#Usuwam kolumny, które zawierają nan w 85% "
   ]
  },
  {
   "cell_type": "code",
   "execution_count": 19,
   "id": "0cb9d82f",
   "metadata": {},
   "outputs": [],
   "source": [
    "nan_cols85 = [i for i in df.columns if df[i].isnull().sum() > 0.85*len(df)]"
   ]
  },
  {
   "cell_type": "code",
   "execution_count": 20,
   "id": "63f93644",
   "metadata": {},
   "outputs": [
    {
     "data": {
      "text/plain": [
       "['mths_since_last_record',\n",
       " 'next_pymnt_d',\n",
       " 'debt_settlement_flag_date',\n",
       " 'settlement_status',\n",
       " 'settlement_date',\n",
       " 'settlement_amount',\n",
       " 'settlement_percentage',\n",
       " 'settlement_term']"
      ]
     },
     "execution_count": 20,
     "metadata": {},
     "output_type": "execute_result"
    }
   ],
   "source": [
    "nan_cols85"
   ]
  },
  {
   "cell_type": "code",
   "execution_count": 21,
   "id": "e13ad279",
   "metadata": {},
   "outputs": [],
   "source": [
    "df.drop(\n",
    "['mths_since_last_record',\n",
    " 'next_pymnt_d',\n",
    " 'debt_settlement_flag_date',\n",
    " 'settlement_status',\n",
    " 'settlement_date',\n",
    " 'settlement_amount',\n",
    " 'settlement_percentage',\n",
    " 'settlement_term'],\n",
    "axis=1, inplace=True)"
   ]
  },
  {
   "cell_type": "code",
   "execution_count": 22,
   "id": "b0a84073",
   "metadata": {},
   "outputs": [],
   "source": [
    "#Usunięcie kolumn ze zbędnymi informacjami"
   ]
  },
  {
   "cell_type": "code",
   "execution_count": 23,
   "id": "b4341270",
   "metadata": {},
   "outputs": [],
   "source": [
    "df.drop(\n",
    "['url', \n",
    " 'id', \n",
    " 'zip_code', \n",
    " 'addr_state', \n",
    " 'title',\n",
    " 'last_pymnt_amnt',\n",
    " 'last_pymnt_d', \n",
    " 'last_credit_pull_d',\n",
    " 'emp_title',\n",
    " 'disbursement_method',\n",
    " 'recoveries',\n",
    " 'collection_recovery_fee',\n",
    " 'sub_grade',\n",
    " 'issue_d',\n",
    " 'revol_bal',\n",
    " 'revol_util'],\n",
    "axis=1, inplace=True)"
   ]
  },
  {
   "cell_type": "code",
   "execution_count": 24,
   "id": "353ff97d",
   "metadata": {},
   "outputs": [],
   "source": [
    "#Usunięcie kolumn, które zawierają informacje z przyszłości, niedostępne w momencie udzielania pożyczki"
   ]
  },
  {
   "cell_type": "code",
   "execution_count": 25,
   "id": "62cbeca6",
   "metadata": {},
   "outputs": [],
   "source": [
    "df.drop(\n",
    "['delinq_2yrs', \n",
    " 'mths_since_last_delinq', \n",
    " 'delinq_amnt', \n",
    " 'hardship_flag', \n",
    " 'acc_now_delinq',\n",
    " 'chargeoff_within_12_mths',\n",
    " 'debt_settlement_flag',\n",
    " 'total_pymnt',\n",
    " 'total_pymnt_inv',\n",
    " 'total_rec_prncp',\n",
    " 'total_rec_int',\n",
    " 'total_rec_late_fee',\n",
    " 'last_fico_range_high',\n",
    " 'last_fico_range_low'],\n",
    "axis=1, inplace=True)"
   ]
  },
  {
   "cell_type": "code",
   "execution_count": 26,
   "id": "49389654",
   "metadata": {},
   "outputs": [],
   "source": [
    "# Sprawdzam, które kolumny przyjmują tylko jedną wartość. Sprawdzam też, czy zawierają NaNy (duża ilość brakujących wartości \n",
    "# może oznaczać, że mogą one dać jakąś informację - wprowadzając dane ktoś nie wpisywał jakiejś wartości, ale zostawiał puste miejsca)"
   ]
  },
  {
   "cell_type": "code",
   "execution_count": 27,
   "id": "4931ee8e",
   "metadata": {},
   "outputs": [
    {
     "data": {
      "text/plain": [
       "Individual    42535\n",
       "Name: application_type, dtype: int64"
      ]
     },
     "execution_count": 27,
     "metadata": {},
     "output_type": "execute_result"
    }
   ],
   "source": [
    "df['application_type'].value_counts()"
   ]
  },
  {
   "cell_type": "code",
   "execution_count": 28,
   "id": "ae284fa6",
   "metadata": {},
   "outputs": [
    {
     "data": {
      "text/plain": [
       "1"
      ]
     },
     "execution_count": 28,
     "metadata": {},
     "output_type": "execute_result"
    }
   ],
   "source": [
    "df['application_type'].isnull().sum()"
   ]
  },
  {
   "cell_type": "code",
   "execution_count": 29,
   "id": "05f69d95",
   "metadata": {},
   "outputs": [],
   "source": [
    "df.drop(\n",
    "['application_type'],\n",
    "axis=1, inplace=True)"
   ]
  },
  {
   "cell_type": "code",
   "execution_count": null,
   "id": "61be4f0d",
   "metadata": {},
   "outputs": [],
   "source": []
  },
  {
   "cell_type": "code",
   "execution_count": 30,
   "id": "f9097f1f",
   "metadata": {},
   "outputs": [
    {
     "data": {
      "text/plain": [
       "n    42535\n",
       "Name: pymnt_plan, dtype: int64"
      ]
     },
     "execution_count": 30,
     "metadata": {},
     "output_type": "execute_result"
    }
   ],
   "source": [
    "df['pymnt_plan'].value_counts()"
   ]
  },
  {
   "cell_type": "code",
   "execution_count": 31,
   "id": "f5cbce24",
   "metadata": {},
   "outputs": [
    {
     "data": {
      "text/plain": [
       "1"
      ]
     },
     "execution_count": 31,
     "metadata": {},
     "output_type": "execute_result"
    }
   ],
   "source": [
    "df['pymnt_plan'].isnull().sum()"
   ]
  },
  {
   "cell_type": "code",
   "execution_count": 32,
   "id": "831f5830",
   "metadata": {},
   "outputs": [],
   "source": [
    "df.drop(\n",
    "['pymnt_plan'],\n",
    "axis=1, inplace=True)"
   ]
  },
  {
   "cell_type": "code",
   "execution_count": null,
   "id": "1c7d466a",
   "metadata": {},
   "outputs": [],
   "source": []
  },
  {
   "cell_type": "code",
   "execution_count": 33,
   "id": "02667ac6",
   "metadata": {},
   "outputs": [
    {
     "data": {
      "text/plain": [
       "f    42535\n",
       "Name: initial_list_status, dtype: int64"
      ]
     },
     "execution_count": 33,
     "metadata": {},
     "output_type": "execute_result"
    }
   ],
   "source": [
    "df['initial_list_status'].value_counts()"
   ]
  },
  {
   "cell_type": "code",
   "execution_count": 34,
   "id": "6ba417eb",
   "metadata": {},
   "outputs": [
    {
     "data": {
      "text/plain": [
       "1"
      ]
     },
     "execution_count": 34,
     "metadata": {},
     "output_type": "execute_result"
    }
   ],
   "source": [
    "df['initial_list_status'].isnull().sum()"
   ]
  },
  {
   "cell_type": "code",
   "execution_count": 35,
   "id": "0f328262",
   "metadata": {},
   "outputs": [],
   "source": [
    "df.drop(\n",
    "['initial_list_status'],\n",
    "axis=1, inplace=True)"
   ]
  },
  {
   "cell_type": "code",
   "execution_count": null,
   "id": "7dccb8ec",
   "metadata": {},
   "outputs": [],
   "source": []
  },
  {
   "cell_type": "code",
   "execution_count": 36,
   "id": "54799d99",
   "metadata": {},
   "outputs": [
    {
     "data": {
      "text/plain": [
       "0.000    42535\n",
       "Name: out_prncp, dtype: int64"
      ]
     },
     "execution_count": 36,
     "metadata": {},
     "output_type": "execute_result"
    }
   ],
   "source": [
    "df['out_prncp'].value_counts()"
   ]
  },
  {
   "cell_type": "code",
   "execution_count": 37,
   "id": "89cff7ef",
   "metadata": {},
   "outputs": [
    {
     "data": {
      "text/plain": [
       "1"
      ]
     },
     "execution_count": 37,
     "metadata": {},
     "output_type": "execute_result"
    }
   ],
   "source": [
    "df['out_prncp'].isnull().sum()"
   ]
  },
  {
   "cell_type": "code",
   "execution_count": 38,
   "id": "95e70d81",
   "metadata": {},
   "outputs": [],
   "source": [
    "df.drop(\n",
    "['out_prncp'],\n",
    "axis=1, inplace=True)"
   ]
  },
  {
   "cell_type": "code",
   "execution_count": null,
   "id": "5ea26f67",
   "metadata": {},
   "outputs": [],
   "source": []
  },
  {
   "cell_type": "code",
   "execution_count": 39,
   "id": "c83def15",
   "metadata": {},
   "outputs": [
    {
     "data": {
      "text/plain": [
       "0.000    42535\n",
       "Name: out_prncp_inv, dtype: int64"
      ]
     },
     "execution_count": 39,
     "metadata": {},
     "output_type": "execute_result"
    }
   ],
   "source": [
    "df['out_prncp_inv'].value_counts()"
   ]
  },
  {
   "cell_type": "code",
   "execution_count": 40,
   "id": "36079f25",
   "metadata": {},
   "outputs": [
    {
     "data": {
      "text/plain": [
       "1"
      ]
     },
     "execution_count": 40,
     "metadata": {},
     "output_type": "execute_result"
    }
   ],
   "source": [
    "df['out_prncp_inv'].isnull().sum()"
   ]
  },
  {
   "cell_type": "code",
   "execution_count": 41,
   "id": "3fa66175",
   "metadata": {},
   "outputs": [],
   "source": [
    "df.drop(\n",
    "['out_prncp_inv'],\n",
    "axis=1, inplace=True)"
   ]
  },
  {
   "cell_type": "code",
   "execution_count": null,
   "id": "a009de61",
   "metadata": {},
   "outputs": [],
   "source": []
  },
  {
   "cell_type": "code",
   "execution_count": 42,
   "id": "8398c9b9",
   "metadata": {},
   "outputs": [
    {
     "data": {
      "text/plain": [
       "1.000    42535\n",
       "Name: policy_code, dtype: int64"
      ]
     },
     "execution_count": 42,
     "metadata": {},
     "output_type": "execute_result"
    }
   ],
   "source": [
    "df['policy_code'].value_counts()"
   ]
  },
  {
   "cell_type": "code",
   "execution_count": 43,
   "id": "f9cd140b",
   "metadata": {},
   "outputs": [
    {
     "data": {
      "text/plain": [
       "1"
      ]
     },
     "execution_count": 43,
     "metadata": {},
     "output_type": "execute_result"
    }
   ],
   "source": [
    "df['policy_code'].isnull().sum()"
   ]
  },
  {
   "cell_type": "code",
   "execution_count": 44,
   "id": "52c00ddf",
   "metadata": {},
   "outputs": [],
   "source": [
    "df.drop(\n",
    "['policy_code'],\n",
    "axis=1, inplace=True)"
   ]
  },
  {
   "cell_type": "code",
   "execution_count": null,
   "id": "4f93802d",
   "metadata": {},
   "outputs": [],
   "source": []
  },
  {
   "cell_type": "code",
   "execution_count": 45,
   "id": "eaba3b02",
   "metadata": {},
   "outputs": [
    {
     "data": {
      "text/plain": [
       "0.000    42390\n",
       "Name: collections_12_mths_ex_med, dtype: int64"
      ]
     },
     "execution_count": 45,
     "metadata": {},
     "output_type": "execute_result"
    }
   ],
   "source": [
    "df['collections_12_mths_ex_med'].value_counts()"
   ]
  },
  {
   "cell_type": "code",
   "execution_count": 46,
   "id": "3c238434",
   "metadata": {},
   "outputs": [
    {
     "data": {
      "text/plain": [
       "146"
      ]
     },
     "execution_count": 46,
     "metadata": {},
     "output_type": "execute_result"
    }
   ],
   "source": [
    "df['collections_12_mths_ex_med'].isnull().sum()"
   ]
  },
  {
   "cell_type": "code",
   "execution_count": 47,
   "id": "7d31c36e",
   "metadata": {},
   "outputs": [],
   "source": [
    "df.drop(\n",
    "['collections_12_mths_ex_med'],\n",
    "axis=1, inplace=True)"
   ]
  },
  {
   "cell_type": "code",
   "execution_count": null,
   "id": "4bdbd376",
   "metadata": {},
   "outputs": [],
   "source": []
  },
  {
   "cell_type": "code",
   "execution_count": 48,
   "id": "d087b20e",
   "metadata": {},
   "outputs": [
    {
     "data": {
      "text/plain": [
       "0.000    42429\n",
       "1.000        1\n",
       "Name: tax_liens, dtype: int64"
      ]
     },
     "execution_count": 48,
     "metadata": {},
     "output_type": "execute_result"
    }
   ],
   "source": [
    "df['tax_liens'].value_counts()"
   ]
  },
  {
   "cell_type": "code",
   "execution_count": 49,
   "id": "b40fe89f",
   "metadata": {},
   "outputs": [
    {
     "data": {
      "text/plain": [
       "106"
      ]
     },
     "execution_count": 49,
     "metadata": {},
     "output_type": "execute_result"
    }
   ],
   "source": [
    "df['tax_liens'].isnull().sum()"
   ]
  },
  {
   "cell_type": "code",
   "execution_count": 50,
   "id": "5c729ba6",
   "metadata": {},
   "outputs": [],
   "source": [
    "df.drop(\n",
    "['tax_liens'],\n",
    "axis=1, inplace=True)"
   ]
  },
  {
   "cell_type": "code",
   "execution_count": null,
   "id": "8c1b133a",
   "metadata": {},
   "outputs": [],
   "source": []
  },
  {
   "cell_type": "code",
   "execution_count": 51,
   "id": "5224d62d",
   "metadata": {},
   "outputs": [],
   "source": [
    "df.drop_duplicates(inplace= True)"
   ]
  },
  {
   "cell_type": "code",
   "execution_count": 52,
   "id": "c5db2617",
   "metadata": {},
   "outputs": [
    {
     "data": {
      "text/plain": [
       "(42536, 23)"
      ]
     },
     "execution_count": 52,
     "metadata": {},
     "output_type": "execute_result"
    }
   ],
   "source": [
    "df.shape"
   ]
  },
  {
   "cell_type": "code",
   "execution_count": null,
   "id": "80992fd3",
   "metadata": {},
   "outputs": [],
   "source": []
  },
  {
   "cell_type": "code",
   "execution_count": 53,
   "id": "dab653bf",
   "metadata": {},
   "outputs": [],
   "source": [
    "#Decuję też usunąć kolumnę 'desc' - w większości powiela ona dane z kolumny 'purpose'\n",
    "df.drop(['desc'],\n",
    "axis=1, inplace=True)"
   ]
  },
  {
   "cell_type": "code",
   "execution_count": 54,
   "id": "c35eec99",
   "metadata": {},
   "outputs": [],
   "source": [
    "df.drop('emp_length', axis=1, inplace=True)"
   ]
  },
  {
   "cell_type": "code",
   "execution_count": 55,
   "id": "a24002d5",
   "metadata": {},
   "outputs": [
    {
     "data": {
      "text/plain": [
       "(42536, 21)"
      ]
     },
     "execution_count": 55,
     "metadata": {},
     "output_type": "execute_result"
    }
   ],
   "source": [
    "df.shape"
   ]
  },
  {
   "cell_type": "markdown",
   "id": "0c8cc551",
   "metadata": {},
   "source": [
    "### Przekształcenie wartości w kolumnach - usunięcie procentów, dodatkowych znaków, itd"
   ]
  },
  {
   "cell_type": "code",
   "execution_count": 56,
   "id": "a75cd4ff",
   "metadata": {},
   "outputs": [],
   "source": [
    "def usuniecie_miesiecy(df, column):\n",
    "    df[column] = pd.to_numeric(df[column].str.replace('months', ''))"
   ]
  },
  {
   "cell_type": "code",
   "execution_count": 57,
   "id": "9046a43e",
   "metadata": {},
   "outputs": [],
   "source": [
    "usuniecie_miesiecy(df, 'term')"
   ]
  },
  {
   "cell_type": "code",
   "execution_count": 58,
   "id": "562ca78d",
   "metadata": {},
   "outputs": [
    {
     "data": {
      "text/html": [
       "<div>\n",
       "<style scoped>\n",
       "    .dataframe tbody tr th:only-of-type {\n",
       "        vertical-align: middle;\n",
       "    }\n",
       "\n",
       "    .dataframe tbody tr th {\n",
       "        vertical-align: top;\n",
       "    }\n",
       "\n",
       "    .dataframe thead th {\n",
       "        text-align: right;\n",
       "    }\n",
       "</style>\n",
       "<table border=\"1\" class=\"dataframe\">\n",
       "  <thead>\n",
       "    <tr style=\"text-align: right;\">\n",
       "      <th></th>\n",
       "      <th>loan_amnt</th>\n",
       "      <th>funded_amnt</th>\n",
       "      <th>funded_amnt_inv</th>\n",
       "      <th>term</th>\n",
       "      <th>int_rate</th>\n",
       "      <th>installment</th>\n",
       "      <th>grade</th>\n",
       "      <th>home_ownership</th>\n",
       "      <th>annual_inc</th>\n",
       "      <th>verification_status</th>\n",
       "      <th>loan_status</th>\n",
       "      <th>purpose</th>\n",
       "      <th>dti</th>\n",
       "      <th>earliest_cr_line</th>\n",
       "      <th>fico_range_low</th>\n",
       "      <th>fico_range_high</th>\n",
       "      <th>inq_last_6mths</th>\n",
       "      <th>open_acc</th>\n",
       "      <th>pub_rec</th>\n",
       "      <th>total_acc</th>\n",
       "      <th>pub_rec_bankruptcies</th>\n",
       "    </tr>\n",
       "  </thead>\n",
       "  <tbody>\n",
       "    <tr>\n",
       "      <th>0</th>\n",
       "      <td>5000.000</td>\n",
       "      <td>5000.000</td>\n",
       "      <td>4975.000</td>\n",
       "      <td>36.000</td>\n",
       "      <td>10.65%</td>\n",
       "      <td>162.870</td>\n",
       "      <td>B</td>\n",
       "      <td>RENT</td>\n",
       "      <td>24000.000</td>\n",
       "      <td>Verified</td>\n",
       "      <td>Fully Paid</td>\n",
       "      <td>credit_card</td>\n",
       "      <td>27.650</td>\n",
       "      <td>Jan-1985</td>\n",
       "      <td>735.000</td>\n",
       "      <td>739.000</td>\n",
       "      <td>1.000</td>\n",
       "      <td>3.000</td>\n",
       "      <td>0.000</td>\n",
       "      <td>9.000</td>\n",
       "      <td>0.000</td>\n",
       "    </tr>\n",
       "    <tr>\n",
       "      <th>1</th>\n",
       "      <td>2500.000</td>\n",
       "      <td>2500.000</td>\n",
       "      <td>2500.000</td>\n",
       "      <td>60.000</td>\n",
       "      <td>15.27%</td>\n",
       "      <td>59.830</td>\n",
       "      <td>C</td>\n",
       "      <td>RENT</td>\n",
       "      <td>30000.000</td>\n",
       "      <td>Source Verified</td>\n",
       "      <td>Charged Off</td>\n",
       "      <td>car</td>\n",
       "      <td>1.000</td>\n",
       "      <td>Apr-1999</td>\n",
       "      <td>740.000</td>\n",
       "      <td>744.000</td>\n",
       "      <td>5.000</td>\n",
       "      <td>3.000</td>\n",
       "      <td>0.000</td>\n",
       "      <td>4.000</td>\n",
       "      <td>0.000</td>\n",
       "    </tr>\n",
       "    <tr>\n",
       "      <th>2</th>\n",
       "      <td>2400.000</td>\n",
       "      <td>2400.000</td>\n",
       "      <td>2400.000</td>\n",
       "      <td>36.000</td>\n",
       "      <td>15.96%</td>\n",
       "      <td>84.330</td>\n",
       "      <td>C</td>\n",
       "      <td>RENT</td>\n",
       "      <td>12252.000</td>\n",
       "      <td>Not Verified</td>\n",
       "      <td>Fully Paid</td>\n",
       "      <td>small_business</td>\n",
       "      <td>8.720</td>\n",
       "      <td>Nov-2001</td>\n",
       "      <td>735.000</td>\n",
       "      <td>739.000</td>\n",
       "      <td>2.000</td>\n",
       "      <td>2.000</td>\n",
       "      <td>0.000</td>\n",
       "      <td>10.000</td>\n",
       "      <td>0.000</td>\n",
       "    </tr>\n",
       "    <tr>\n",
       "      <th>3</th>\n",
       "      <td>10000.000</td>\n",
       "      <td>10000.000</td>\n",
       "      <td>10000.000</td>\n",
       "      <td>36.000</td>\n",
       "      <td>13.49%</td>\n",
       "      <td>339.310</td>\n",
       "      <td>C</td>\n",
       "      <td>RENT</td>\n",
       "      <td>49200.000</td>\n",
       "      <td>Source Verified</td>\n",
       "      <td>Fully Paid</td>\n",
       "      <td>other</td>\n",
       "      <td>20.000</td>\n",
       "      <td>Feb-1996</td>\n",
       "      <td>690.000</td>\n",
       "      <td>694.000</td>\n",
       "      <td>1.000</td>\n",
       "      <td>10.000</td>\n",
       "      <td>0.000</td>\n",
       "      <td>37.000</td>\n",
       "      <td>0.000</td>\n",
       "    </tr>\n",
       "    <tr>\n",
       "      <th>4</th>\n",
       "      <td>3000.000</td>\n",
       "      <td>3000.000</td>\n",
       "      <td>3000.000</td>\n",
       "      <td>60.000</td>\n",
       "      <td>12.69%</td>\n",
       "      <td>67.790</td>\n",
       "      <td>B</td>\n",
       "      <td>RENT</td>\n",
       "      <td>80000.000</td>\n",
       "      <td>Source Verified</td>\n",
       "      <td>Fully Paid</td>\n",
       "      <td>other</td>\n",
       "      <td>17.940</td>\n",
       "      <td>Jan-1996</td>\n",
       "      <td>695.000</td>\n",
       "      <td>699.000</td>\n",
       "      <td>0.000</td>\n",
       "      <td>15.000</td>\n",
       "      <td>0.000</td>\n",
       "      <td>38.000</td>\n",
       "      <td>0.000</td>\n",
       "    </tr>\n",
       "  </tbody>\n",
       "</table>\n",
       "</div>"
      ],
      "text/plain": [
       "   loan_amnt  funded_amnt  funded_amnt_inv   term int_rate  installment grade  \\\n",
       "0   5000.000     5000.000         4975.000 36.000   10.65%      162.870     B   \n",
       "1   2500.000     2500.000         2500.000 60.000   15.27%       59.830     C   \n",
       "2   2400.000     2400.000         2400.000 36.000   15.96%       84.330     C   \n",
       "3  10000.000    10000.000        10000.000 36.000   13.49%      339.310     C   \n",
       "4   3000.000     3000.000         3000.000 60.000   12.69%       67.790     B   \n",
       "\n",
       "  home_ownership  annual_inc verification_status  loan_status         purpose  \\\n",
       "0           RENT   24000.000            Verified   Fully Paid     credit_card   \n",
       "1           RENT   30000.000     Source Verified  Charged Off             car   \n",
       "2           RENT   12252.000        Not Verified   Fully Paid  small_business   \n",
       "3           RENT   49200.000     Source Verified   Fully Paid           other   \n",
       "4           RENT   80000.000     Source Verified   Fully Paid           other   \n",
       "\n",
       "     dti earliest_cr_line  fico_range_low  fico_range_high  inq_last_6mths  \\\n",
       "0 27.650         Jan-1985         735.000          739.000           1.000   \n",
       "1  1.000         Apr-1999         740.000          744.000           5.000   \n",
       "2  8.720         Nov-2001         735.000          739.000           2.000   \n",
       "3 20.000         Feb-1996         690.000          694.000           1.000   \n",
       "4 17.940         Jan-1996         695.000          699.000           0.000   \n",
       "\n",
       "   open_acc  pub_rec  total_acc  pub_rec_bankruptcies  \n",
       "0     3.000    0.000      9.000                 0.000  \n",
       "1     3.000    0.000      4.000                 0.000  \n",
       "2     2.000    0.000     10.000                 0.000  \n",
       "3    10.000    0.000     37.000                 0.000  \n",
       "4    15.000    0.000     38.000                 0.000  "
      ]
     },
     "execution_count": 58,
     "metadata": {},
     "output_type": "execute_result"
    }
   ],
   "source": [
    "df.head()"
   ]
  },
  {
   "cell_type": "code",
   "execution_count": null,
   "id": "f38038c6",
   "metadata": {},
   "outputs": [],
   "source": []
  },
  {
   "cell_type": "code",
   "execution_count": 59,
   "id": "b6628be8",
   "metadata": {},
   "outputs": [],
   "source": [
    "#przekształcenie procentow"
   ]
  },
  {
   "cell_type": "code",
   "execution_count": 60,
   "id": "6adfee74",
   "metadata": {},
   "outputs": [],
   "source": [
    "df['int_rate'] = df['int_rate'].str.rstrip('%').astype('float') / 100.0"
   ]
  },
  {
   "cell_type": "code",
   "execution_count": 61,
   "id": "9b5af1e1",
   "metadata": {
    "scrolled": true
   },
   "outputs": [
    {
     "data": {
      "text/html": [
       "<div>\n",
       "<style scoped>\n",
       "    .dataframe tbody tr th:only-of-type {\n",
       "        vertical-align: middle;\n",
       "    }\n",
       "\n",
       "    .dataframe tbody tr th {\n",
       "        vertical-align: top;\n",
       "    }\n",
       "\n",
       "    .dataframe thead th {\n",
       "        text-align: right;\n",
       "    }\n",
       "</style>\n",
       "<table border=\"1\" class=\"dataframe\">\n",
       "  <thead>\n",
       "    <tr style=\"text-align: right;\">\n",
       "      <th></th>\n",
       "      <th>loan_amnt</th>\n",
       "      <th>funded_amnt</th>\n",
       "      <th>funded_amnt_inv</th>\n",
       "      <th>term</th>\n",
       "      <th>int_rate</th>\n",
       "      <th>installment</th>\n",
       "      <th>grade</th>\n",
       "      <th>home_ownership</th>\n",
       "      <th>annual_inc</th>\n",
       "      <th>verification_status</th>\n",
       "      <th>loan_status</th>\n",
       "      <th>purpose</th>\n",
       "      <th>dti</th>\n",
       "      <th>earliest_cr_line</th>\n",
       "      <th>fico_range_low</th>\n",
       "      <th>fico_range_high</th>\n",
       "      <th>inq_last_6mths</th>\n",
       "      <th>open_acc</th>\n",
       "      <th>pub_rec</th>\n",
       "      <th>total_acc</th>\n",
       "      <th>pub_rec_bankruptcies</th>\n",
       "    </tr>\n",
       "  </thead>\n",
       "  <tbody>\n",
       "    <tr>\n",
       "      <th>0</th>\n",
       "      <td>5000.000</td>\n",
       "      <td>5000.000</td>\n",
       "      <td>4975.000</td>\n",
       "      <td>36.000</td>\n",
       "      <td>0.106</td>\n",
       "      <td>162.870</td>\n",
       "      <td>B</td>\n",
       "      <td>RENT</td>\n",
       "      <td>24000.000</td>\n",
       "      <td>Verified</td>\n",
       "      <td>Fully Paid</td>\n",
       "      <td>credit_card</td>\n",
       "      <td>27.650</td>\n",
       "      <td>Jan-1985</td>\n",
       "      <td>735.000</td>\n",
       "      <td>739.000</td>\n",
       "      <td>1.000</td>\n",
       "      <td>3.000</td>\n",
       "      <td>0.000</td>\n",
       "      <td>9.000</td>\n",
       "      <td>0.000</td>\n",
       "    </tr>\n",
       "    <tr>\n",
       "      <th>1</th>\n",
       "      <td>2500.000</td>\n",
       "      <td>2500.000</td>\n",
       "      <td>2500.000</td>\n",
       "      <td>60.000</td>\n",
       "      <td>0.153</td>\n",
       "      <td>59.830</td>\n",
       "      <td>C</td>\n",
       "      <td>RENT</td>\n",
       "      <td>30000.000</td>\n",
       "      <td>Source Verified</td>\n",
       "      <td>Charged Off</td>\n",
       "      <td>car</td>\n",
       "      <td>1.000</td>\n",
       "      <td>Apr-1999</td>\n",
       "      <td>740.000</td>\n",
       "      <td>744.000</td>\n",
       "      <td>5.000</td>\n",
       "      <td>3.000</td>\n",
       "      <td>0.000</td>\n",
       "      <td>4.000</td>\n",
       "      <td>0.000</td>\n",
       "    </tr>\n",
       "    <tr>\n",
       "      <th>2</th>\n",
       "      <td>2400.000</td>\n",
       "      <td>2400.000</td>\n",
       "      <td>2400.000</td>\n",
       "      <td>36.000</td>\n",
       "      <td>0.160</td>\n",
       "      <td>84.330</td>\n",
       "      <td>C</td>\n",
       "      <td>RENT</td>\n",
       "      <td>12252.000</td>\n",
       "      <td>Not Verified</td>\n",
       "      <td>Fully Paid</td>\n",
       "      <td>small_business</td>\n",
       "      <td>8.720</td>\n",
       "      <td>Nov-2001</td>\n",
       "      <td>735.000</td>\n",
       "      <td>739.000</td>\n",
       "      <td>2.000</td>\n",
       "      <td>2.000</td>\n",
       "      <td>0.000</td>\n",
       "      <td>10.000</td>\n",
       "      <td>0.000</td>\n",
       "    </tr>\n",
       "    <tr>\n",
       "      <th>3</th>\n",
       "      <td>10000.000</td>\n",
       "      <td>10000.000</td>\n",
       "      <td>10000.000</td>\n",
       "      <td>36.000</td>\n",
       "      <td>0.135</td>\n",
       "      <td>339.310</td>\n",
       "      <td>C</td>\n",
       "      <td>RENT</td>\n",
       "      <td>49200.000</td>\n",
       "      <td>Source Verified</td>\n",
       "      <td>Fully Paid</td>\n",
       "      <td>other</td>\n",
       "      <td>20.000</td>\n",
       "      <td>Feb-1996</td>\n",
       "      <td>690.000</td>\n",
       "      <td>694.000</td>\n",
       "      <td>1.000</td>\n",
       "      <td>10.000</td>\n",
       "      <td>0.000</td>\n",
       "      <td>37.000</td>\n",
       "      <td>0.000</td>\n",
       "    </tr>\n",
       "    <tr>\n",
       "      <th>4</th>\n",
       "      <td>3000.000</td>\n",
       "      <td>3000.000</td>\n",
       "      <td>3000.000</td>\n",
       "      <td>60.000</td>\n",
       "      <td>0.127</td>\n",
       "      <td>67.790</td>\n",
       "      <td>B</td>\n",
       "      <td>RENT</td>\n",
       "      <td>80000.000</td>\n",
       "      <td>Source Verified</td>\n",
       "      <td>Fully Paid</td>\n",
       "      <td>other</td>\n",
       "      <td>17.940</td>\n",
       "      <td>Jan-1996</td>\n",
       "      <td>695.000</td>\n",
       "      <td>699.000</td>\n",
       "      <td>0.000</td>\n",
       "      <td>15.000</td>\n",
       "      <td>0.000</td>\n",
       "      <td>38.000</td>\n",
       "      <td>0.000</td>\n",
       "    </tr>\n",
       "  </tbody>\n",
       "</table>\n",
       "</div>"
      ],
      "text/plain": [
       "   loan_amnt  funded_amnt  funded_amnt_inv   term  int_rate  installment  \\\n",
       "0   5000.000     5000.000         4975.000 36.000     0.106      162.870   \n",
       "1   2500.000     2500.000         2500.000 60.000     0.153       59.830   \n",
       "2   2400.000     2400.000         2400.000 36.000     0.160       84.330   \n",
       "3  10000.000    10000.000        10000.000 36.000     0.135      339.310   \n",
       "4   3000.000     3000.000         3000.000 60.000     0.127       67.790   \n",
       "\n",
       "  grade home_ownership  annual_inc verification_status  loan_status  \\\n",
       "0     B           RENT   24000.000            Verified   Fully Paid   \n",
       "1     C           RENT   30000.000     Source Verified  Charged Off   \n",
       "2     C           RENT   12252.000        Not Verified   Fully Paid   \n",
       "3     C           RENT   49200.000     Source Verified   Fully Paid   \n",
       "4     B           RENT   80000.000     Source Verified   Fully Paid   \n",
       "\n",
       "          purpose    dti earliest_cr_line  fico_range_low  fico_range_high  \\\n",
       "0     credit_card 27.650         Jan-1985         735.000          739.000   \n",
       "1             car  1.000         Apr-1999         740.000          744.000   \n",
       "2  small_business  8.720         Nov-2001         735.000          739.000   \n",
       "3           other 20.000         Feb-1996         690.000          694.000   \n",
       "4           other 17.940         Jan-1996         695.000          699.000   \n",
       "\n",
       "   inq_last_6mths  open_acc  pub_rec  total_acc  pub_rec_bankruptcies  \n",
       "0           1.000     3.000    0.000      9.000                 0.000  \n",
       "1           5.000     3.000    0.000      4.000                 0.000  \n",
       "2           2.000     2.000    0.000     10.000                 0.000  \n",
       "3           1.000    10.000    0.000     37.000                 0.000  \n",
       "4           0.000    15.000    0.000     38.000                 0.000  "
      ]
     },
     "execution_count": 61,
     "metadata": {},
     "output_type": "execute_result"
    }
   ],
   "source": [
    "df.head()"
   ]
  },
  {
   "cell_type": "code",
   "execution_count": null,
   "id": "0091b74f",
   "metadata": {},
   "outputs": [],
   "source": []
  },
  {
   "cell_type": "code",
   "execution_count": 62,
   "id": "98b57f7f",
   "metadata": {},
   "outputs": [],
   "source": [
    "#wartości związane z datą"
   ]
  },
  {
   "cell_type": "code",
   "execution_count": 63,
   "id": "e07e6174",
   "metadata": {},
   "outputs": [
    {
     "data": {
      "text/plain": [
       "Oct-1999    393\n",
       "Nov-1998    390\n",
       "Oct-2000    370\n",
       "Dec-1998    366\n",
       "Dec-1997    348\n",
       "           ... \n",
       "Jul-1964      1\n",
       "Mar-1963      1\n",
       "Nov-1965      1\n",
       "Apr-1966      1\n",
       "Nov-1959      1\n",
       "Name: earliest_cr_line, Length: 530, dtype: int64"
      ]
     },
     "execution_count": 63,
     "metadata": {},
     "output_type": "execute_result"
    }
   ],
   "source": [
    "df['earliest_cr_line'].value_counts()"
   ]
  },
  {
   "cell_type": "code",
   "execution_count": 64,
   "id": "19f7884e",
   "metadata": {},
   "outputs": [
    {
     "data": {
      "text/plain": [
       "dtype('O')"
      ]
     },
     "execution_count": 64,
     "metadata": {},
     "output_type": "execute_result"
    }
   ],
   "source": [
    "df['earliest_cr_line'].dtypes"
   ]
  },
  {
   "cell_type": "code",
   "execution_count": null,
   "id": "8f5df604",
   "metadata": {},
   "outputs": [],
   "source": []
  },
  {
   "cell_type": "code",
   "execution_count": 65,
   "id": "8d5aeb3a",
   "metadata": {},
   "outputs": [],
   "source": [
    "df['earliest_cr_line'] = pd.DatetimeIndex(df['earliest_cr_line']).year"
   ]
  },
  {
   "cell_type": "code",
   "execution_count": 66,
   "id": "3d3294a8",
   "metadata": {},
   "outputs": [
    {
     "data": {
      "text/plain": [
       "2000.000    3436\n",
       "1999.000    3152\n",
       "1998.000    3066\n",
       "2001.000    2667\n",
       "1997.000    2622\n",
       "1996.000    2426\n",
       "1995.000    2292\n",
       "1994.000    2166\n",
       "2002.000    2059\n",
       "2003.000    1976\n",
       "2004.000    1890\n",
       "2005.000    1639\n",
       "1993.000    1610\n",
       "2006.000    1343\n",
       "1992.000    1155\n",
       "1990.000    1113\n",
       "1991.000    1039\n",
       "1989.000     931\n",
       "1988.000     783\n",
       "2007.000     767\n",
       "1987.000     664\n",
       "1986.000     533\n",
       "1985.000     486\n",
       "1984.000     433\n",
       "1983.000     360\n",
       "1982.000     238\n",
       "1981.000     207\n",
       "1980.000     187\n",
       "1979.000     178\n",
       "1978.000     173\n",
       "2008.000     160\n",
       "1977.000     124\n",
       "1976.000     112\n",
       "1975.000      87\n",
       "1974.000      71\n",
       "1973.000      69\n",
       "1972.000      56\n",
       "1971.000      50\n",
       "1970.000      49\n",
       "1969.000      41\n",
       "1968.000      23\n",
       "1967.000      18\n",
       "1963.000      12\n",
       "1966.000      11\n",
       "1964.000       9\n",
       "1965.000       9\n",
       "1962.000       5\n",
       "1954.000       2\n",
       "1959.000       2\n",
       "1961.000       2\n",
       "1956.000       1\n",
       "1946.000       1\n",
       "1950.000       1\n",
       "Name: earliest_cr_line, dtype: int64"
      ]
     },
     "execution_count": 66,
     "metadata": {},
     "output_type": "execute_result"
    }
   ],
   "source": [
    "df['earliest_cr_line'].value_counts()"
   ]
  },
  {
   "cell_type": "code",
   "execution_count": null,
   "id": "5f65db38",
   "metadata": {},
   "outputs": [],
   "source": []
  },
  {
   "cell_type": "code",
   "execution_count": 67,
   "id": "26e0564c",
   "metadata": {},
   "outputs": [],
   "source": [
    "#zamieniam wartości 'verification_status' na dwie wartości 0 i 1. "
   ]
  },
  {
   "cell_type": "code",
   "execution_count": 68,
   "id": "27cc1bdd",
   "metadata": {},
   "outputs": [
    {
     "data": {
      "text/plain": [
       "Not Verified       18758\n",
       "Verified           13471\n",
       "Source Verified    10306\n",
       "Name: verification_status, dtype: int64"
      ]
     },
     "execution_count": 68,
     "metadata": {},
     "output_type": "execute_result"
    }
   ],
   "source": [
    "df['verification_status'].value_counts()"
   ]
  },
  {
   "cell_type": "code",
   "execution_count": 69,
   "id": "c52e69f1",
   "metadata": {},
   "outputs": [],
   "source": [
    "df['verification_status2'] = np.where(df['verification_status'].isin(\n",
    "    ['Verified', 'Source Verified']), 0, 1)"
   ]
  },
  {
   "cell_type": "code",
   "execution_count": 70,
   "id": "e7954898",
   "metadata": {},
   "outputs": [
    {
     "data": {
      "text/plain": [
       "0    23777\n",
       "1    18759\n",
       "Name: verification_status2, dtype: int64"
      ]
     },
     "execution_count": 70,
     "metadata": {},
     "output_type": "execute_result"
    }
   ],
   "source": [
    "df['verification_status2'].value_counts()"
   ]
  },
  {
   "cell_type": "code",
   "execution_count": 71,
   "id": "ea7cf789",
   "metadata": {},
   "outputs": [],
   "source": [
    "#usuwam pierwotną kolumnę 'verification_status'\n",
    "df.drop(columns = ['verification_status'], inplace = True)"
   ]
  },
  {
   "cell_type": "markdown",
   "id": "f27ab48f",
   "metadata": {},
   "source": [
    "### BRAKUJĄCE WARTOŚCI"
   ]
  },
  {
   "cell_type": "code",
   "execution_count": 72,
   "id": "1f8e3d48",
   "metadata": {
    "scrolled": false
   },
   "outputs": [
    {
     "data": {
      "text/plain": [
       "loan_amnt                  1\n",
       "funded_amnt                1\n",
       "funded_amnt_inv            1\n",
       "term                       1\n",
       "int_rate                   1\n",
       "installment                1\n",
       "grade                      1\n",
       "home_ownership             1\n",
       "annual_inc                 5\n",
       "loan_status                1\n",
       "purpose                    1\n",
       "dti                        1\n",
       "earliest_cr_line          30\n",
       "fico_range_low             1\n",
       "fico_range_high            1\n",
       "inq_last_6mths            30\n",
       "open_acc                  30\n",
       "pub_rec                   30\n",
       "total_acc                 30\n",
       "pub_rec_bankruptcies    1366\n",
       "verification_status2       0\n",
       "dtype: int64"
      ]
     },
     "execution_count": 72,
     "metadata": {},
     "output_type": "execute_result"
    }
   ],
   "source": [
    "df.isna().sum()"
   ]
  },
  {
   "cell_type": "code",
   "execution_count": 73,
   "id": "b89867aa",
   "metadata": {},
   "outputs": [
    {
     "data": {
      "text/html": [
       "<div>\n",
       "<style scoped>\n",
       "    .dataframe tbody tr th:only-of-type {\n",
       "        vertical-align: middle;\n",
       "    }\n",
       "\n",
       "    .dataframe tbody tr th {\n",
       "        vertical-align: top;\n",
       "    }\n",
       "\n",
       "    .dataframe thead th {\n",
       "        text-align: right;\n",
       "    }\n",
       "</style>\n",
       "<table border=\"1\" class=\"dataframe\">\n",
       "  <thead>\n",
       "    <tr style=\"text-align: right;\">\n",
       "      <th></th>\n",
       "      <th>Total</th>\n",
       "      <th>Percent</th>\n",
       "    </tr>\n",
       "  </thead>\n",
       "  <tbody>\n",
       "    <tr>\n",
       "      <th>pub_rec_bankruptcies</th>\n",
       "      <td>1366</td>\n",
       "      <td>0.032</td>\n",
       "    </tr>\n",
       "    <tr>\n",
       "      <th>total_acc</th>\n",
       "      <td>30</td>\n",
       "      <td>0.001</td>\n",
       "    </tr>\n",
       "    <tr>\n",
       "      <th>pub_rec</th>\n",
       "      <td>30</td>\n",
       "      <td>0.001</td>\n",
       "    </tr>\n",
       "    <tr>\n",
       "      <th>open_acc</th>\n",
       "      <td>30</td>\n",
       "      <td>0.001</td>\n",
       "    </tr>\n",
       "    <tr>\n",
       "      <th>inq_last_6mths</th>\n",
       "      <td>30</td>\n",
       "      <td>0.001</td>\n",
       "    </tr>\n",
       "    <tr>\n",
       "      <th>earliest_cr_line</th>\n",
       "      <td>30</td>\n",
       "      <td>0.001</td>\n",
       "    </tr>\n",
       "    <tr>\n",
       "      <th>annual_inc</th>\n",
       "      <td>5</td>\n",
       "      <td>0.000</td>\n",
       "    </tr>\n",
       "    <tr>\n",
       "      <th>loan_amnt</th>\n",
       "      <td>1</td>\n",
       "      <td>0.000</td>\n",
       "    </tr>\n",
       "    <tr>\n",
       "      <th>dti</th>\n",
       "      <td>1</td>\n",
       "      <td>0.000</td>\n",
       "    </tr>\n",
       "    <tr>\n",
       "      <th>fico_range_high</th>\n",
       "      <td>1</td>\n",
       "      <td>0.000</td>\n",
       "    </tr>\n",
       "    <tr>\n",
       "      <th>fico_range_low</th>\n",
       "      <td>1</td>\n",
       "      <td>0.000</td>\n",
       "    </tr>\n",
       "    <tr>\n",
       "      <th>purpose</th>\n",
       "      <td>1</td>\n",
       "      <td>0.000</td>\n",
       "    </tr>\n",
       "    <tr>\n",
       "      <th>funded_amnt</th>\n",
       "      <td>1</td>\n",
       "      <td>0.000</td>\n",
       "    </tr>\n",
       "    <tr>\n",
       "      <th>loan_status</th>\n",
       "      <td>1</td>\n",
       "      <td>0.000</td>\n",
       "    </tr>\n",
       "    <tr>\n",
       "      <th>home_ownership</th>\n",
       "      <td>1</td>\n",
       "      <td>0.000</td>\n",
       "    </tr>\n",
       "    <tr>\n",
       "      <th>grade</th>\n",
       "      <td>1</td>\n",
       "      <td>0.000</td>\n",
       "    </tr>\n",
       "    <tr>\n",
       "      <th>installment</th>\n",
       "      <td>1</td>\n",
       "      <td>0.000</td>\n",
       "    </tr>\n",
       "    <tr>\n",
       "      <th>int_rate</th>\n",
       "      <td>1</td>\n",
       "      <td>0.000</td>\n",
       "    </tr>\n",
       "    <tr>\n",
       "      <th>term</th>\n",
       "      <td>1</td>\n",
       "      <td>0.000</td>\n",
       "    </tr>\n",
       "    <tr>\n",
       "      <th>funded_amnt_inv</th>\n",
       "      <td>1</td>\n",
       "      <td>0.000</td>\n",
       "    </tr>\n",
       "  </tbody>\n",
       "</table>\n",
       "</div>"
      ],
      "text/plain": [
       "                      Total  Percent\n",
       "pub_rec_bankruptcies   1366    0.032\n",
       "total_acc                30    0.001\n",
       "pub_rec                  30    0.001\n",
       "open_acc                 30    0.001\n",
       "inq_last_6mths           30    0.001\n",
       "earliest_cr_line         30    0.001\n",
       "annual_inc                5    0.000\n",
       "loan_amnt                 1    0.000\n",
       "dti                       1    0.000\n",
       "fico_range_high           1    0.000\n",
       "fico_range_low            1    0.000\n",
       "purpose                   1    0.000\n",
       "funded_amnt               1    0.000\n",
       "loan_status               1    0.000\n",
       "home_ownership            1    0.000\n",
       "grade                     1    0.000\n",
       "installment               1    0.000\n",
       "int_rate                  1    0.000\n",
       "term                      1    0.000\n",
       "funded_amnt_inv           1    0.000"
      ]
     },
     "execution_count": 73,
     "metadata": {},
     "output_type": "execute_result"
    }
   ],
   "source": [
    "## Brakujące dane\n",
    "total = df.isnull().sum().sort_values(ascending=False)\n",
    "percent = (df.isnull().sum()/df.isnull().count()).sort_values(ascending=False)\n",
    "missing_data = pd.concat([total, percent], axis=1, keys=['Total', 'Percent'])\n",
    "missing_data.head(20)"
   ]
  },
  {
   "cell_type": "code",
   "execution_count": null,
   "id": "ccf027fe",
   "metadata": {},
   "outputs": [],
   "source": []
  },
  {
   "cell_type": "code",
   "execution_count": 74,
   "id": "1c31e832",
   "metadata": {},
   "outputs": [],
   "source": [
    "#Uzupełniam brakujące wartości - na podstawie histogramu decyduję, czy uzupełniam medianą, czy najczęściej występującą wartością"
   ]
  },
  {
   "cell_type": "code",
   "execution_count": 75,
   "id": "692e9674",
   "metadata": {},
   "outputs": [],
   "source": [
    "# Dane kategoryczne\n",
    "\n",
    "# Będę je uzupełniać najczęściej występującą wartością\n",
    "# Najczęściej występującą wartość 'term' to 36\n",
    "# Najczęściej występującą wartość 'grade' to B\n",
    "# Najczęściej występującą wartość 'home_ownership' to 'RENT'\n",
    "# Najczęściej występującą wartość 'purpose' to debt_consolidation'"
   ]
  },
  {
   "cell_type": "code",
   "execution_count": 76,
   "id": "3300fbdd",
   "metadata": {},
   "outputs": [
    {
     "data": {
      "text/plain": [
       "36.000    31534\n",
       "60.000    11001\n",
       "Name: term, dtype: int64"
      ]
     },
     "execution_count": 76,
     "metadata": {},
     "output_type": "execute_result"
    }
   ],
   "source": [
    "#term\n",
    "df['term'].value_counts()"
   ]
  },
  {
   "cell_type": "code",
   "execution_count": 77,
   "id": "ca97e218",
   "metadata": {},
   "outputs": [],
   "source": [
    "df['term'].fillna(36.0, inplace=True)"
   ]
  },
  {
   "cell_type": "code",
   "execution_count": null,
   "id": "30f60744",
   "metadata": {},
   "outputs": [],
   "source": []
  },
  {
   "cell_type": "code",
   "execution_count": 78,
   "id": "539ca26a",
   "metadata": {},
   "outputs": [
    {
     "data": {
      "text/plain": [
       "B    12389\n",
       "A    10183\n",
       "C     8740\n",
       "D     6016\n",
       "E     3394\n",
       "F     1301\n",
       "G      512\n",
       "Name: grade, dtype: int64"
      ]
     },
     "execution_count": 78,
     "metadata": {},
     "output_type": "execute_result"
    }
   ],
   "source": [
    "#grade \n",
    "df['grade'].value_counts()"
   ]
  },
  {
   "cell_type": "code",
   "execution_count": 79,
   "id": "673d522b",
   "metadata": {},
   "outputs": [],
   "source": [
    "df['grade'].fillna('B', inplace=True)"
   ]
  },
  {
   "cell_type": "code",
   "execution_count": null,
   "id": "c17de7c7",
   "metadata": {},
   "outputs": [],
   "source": []
  },
  {
   "cell_type": "code",
   "execution_count": 80,
   "id": "f05eb57a",
   "metadata": {},
   "outputs": [
    {
     "data": {
      "text/plain": [
       "RENT        20181\n",
       "MORTGAGE    18959\n",
       "OWN          3251\n",
       "OTHER         136\n",
       "NONE            8\n",
       "Name: home_ownership, dtype: int64"
      ]
     },
     "execution_count": 80,
     "metadata": {},
     "output_type": "execute_result"
    }
   ],
   "source": [
    "#home_ownership\n",
    "df['home_ownership'].value_counts()"
   ]
  },
  {
   "cell_type": "code",
   "execution_count": 81,
   "id": "30d2b11d",
   "metadata": {},
   "outputs": [],
   "source": [
    "df['home_ownership'].fillna('RENT', inplace=True)"
   ]
  },
  {
   "cell_type": "code",
   "execution_count": null,
   "id": "e57b1b94",
   "metadata": {},
   "outputs": [],
   "source": []
  },
  {
   "cell_type": "code",
   "execution_count": 82,
   "id": "0bc4d395",
   "metadata": {},
   "outputs": [
    {
     "data": {
      "text/plain": [
       "debt_consolidation    19776\n",
       "credit_card            5477\n",
       "other                  4425\n",
       "home_improvement       3199\n",
       "major_purchase         2311\n",
       "small_business         1992\n",
       "car                    1615\n",
       "wedding                1004\n",
       "medical                 753\n",
       "moving                  629\n",
       "house                   426\n",
       "educational             422\n",
       "vacation                400\n",
       "renewable_energy        106\n",
       "Name: purpose, dtype: int64"
      ]
     },
     "execution_count": 82,
     "metadata": {},
     "output_type": "execute_result"
    }
   ],
   "source": [
    "#purpose\n",
    "df['purpose'].value_counts()"
   ]
  },
  {
   "cell_type": "code",
   "execution_count": 83,
   "id": "410bf6b7",
   "metadata": {},
   "outputs": [],
   "source": [
    "df['purpose'].fillna('debt_consolidation', inplace=True)"
   ]
  },
  {
   "cell_type": "code",
   "execution_count": 84,
   "id": "40085686",
   "metadata": {},
   "outputs": [],
   "source": [
    "df['loan_status'].fillna('Fully Paid', inplace=True)"
   ]
  },
  {
   "cell_type": "code",
   "execution_count": null,
   "id": "03b6b7bb",
   "metadata": {},
   "outputs": [],
   "source": []
  },
  {
   "cell_type": "code",
   "execution_count": 85,
   "id": "238a07b7",
   "metadata": {},
   "outputs": [],
   "source": [
    "# Dane numeryczne\n",
    "# Będę je uzupełniać medianą"
   ]
  },
  {
   "cell_type": "code",
   "execution_count": 86,
   "id": "019aea89",
   "metadata": {},
   "outputs": [],
   "source": [
    "#loan_amnt\n",
    "df['loan_amnt'].fillna(df['loan_amnt'].median(), inplace=True)"
   ]
  },
  {
   "cell_type": "code",
   "execution_count": 87,
   "id": "4e5fd905",
   "metadata": {},
   "outputs": [],
   "source": [
    "#funded_amnt\n",
    "df['funded_amnt'].fillna(df['funded_amnt'].median(), inplace=True)"
   ]
  },
  {
   "cell_type": "code",
   "execution_count": 88,
   "id": "9f2c0598",
   "metadata": {},
   "outputs": [],
   "source": [
    "#funded_amnt_inv\n",
    "df['funded_amnt_inv'].fillna(df['funded_amnt_inv'].median(), inplace=True)"
   ]
  },
  {
   "cell_type": "code",
   "execution_count": 89,
   "id": "6fd6ae8e",
   "metadata": {},
   "outputs": [],
   "source": [
    "#int_rate\n",
    "df['int_rate'].fillna(df['int_rate'].median(), inplace=True)"
   ]
  },
  {
   "cell_type": "code",
   "execution_count": 90,
   "id": "9ec57887",
   "metadata": {},
   "outputs": [],
   "source": [
    "#installment\n",
    "df['installment'].fillna(df['installment'].median(), inplace=True)"
   ]
  },
  {
   "cell_type": "code",
   "execution_count": 91,
   "id": "9d15b587",
   "metadata": {},
   "outputs": [],
   "source": [
    "#annual_inc\n",
    "df['annual_inc'].fillna(df['annual_inc'].median(), inplace=True)"
   ]
  },
  {
   "cell_type": "code",
   "execution_count": 92,
   "id": "6bf86f27",
   "metadata": {},
   "outputs": [],
   "source": [
    "#dti\n",
    "df['dti'].fillna(df['dti'].median(), inplace=True)"
   ]
  },
  {
   "cell_type": "code",
   "execution_count": 93,
   "id": "ea852491",
   "metadata": {},
   "outputs": [],
   "source": [
    "#fico_range_low\n",
    "df['fico_range_low'].fillna(df['fico_range_low'].median(), inplace=True)"
   ]
  },
  {
   "cell_type": "code",
   "execution_count": 94,
   "id": "0d87fe6e",
   "metadata": {},
   "outputs": [],
   "source": [
    "#fico_range_high\n",
    "df['fico_range_high'].fillna(df['fico_range_high'].median(), inplace=True)"
   ]
  },
  {
   "cell_type": "code",
   "execution_count": 95,
   "id": "b6b470e7",
   "metadata": {},
   "outputs": [],
   "source": [
    "#open_acc\n",
    "df['open_acc'].fillna(df['open_acc'].median(), inplace=True)"
   ]
  },
  {
   "cell_type": "code",
   "execution_count": 96,
   "id": "ab8c7b34",
   "metadata": {},
   "outputs": [],
   "source": [
    "#pub_rec\n",
    "df['pub_rec'].fillna(df['pub_rec'].median(), inplace=True)"
   ]
  },
  {
   "cell_type": "code",
   "execution_count": 97,
   "id": "02e1237a",
   "metadata": {},
   "outputs": [],
   "source": [
    "#total_acc\n",
    "df['total_acc'].fillna(df['total_acc'].median(), inplace=True)"
   ]
  },
  {
   "cell_type": "code",
   "execution_count": 98,
   "id": "503b4ce3",
   "metadata": {},
   "outputs": [],
   "source": [
    "#pub_rec_bankruptcies\n",
    "df['pub_rec_bankruptcies'].fillna(df['pub_rec_bankruptcies'].median(), inplace=True)"
   ]
  },
  {
   "cell_type": "code",
   "execution_count": 99,
   "id": "91e7e893",
   "metadata": {},
   "outputs": [],
   "source": [
    "#earliest_cr_line\n",
    "df['earliest_cr_line'].fillna(df['earliest_cr_line'].median(), inplace=True)"
   ]
  },
  {
   "cell_type": "code",
   "execution_count": 100,
   "id": "0e285153",
   "metadata": {},
   "outputs": [],
   "source": [
    "#inq_last_6mths\n",
    "df['inq_last_6mths'].fillna(df['inq_last_6mths'].median(), inplace=True)"
   ]
  },
  {
   "cell_type": "code",
   "execution_count": null,
   "id": "36335d3a",
   "metadata": {},
   "outputs": [],
   "source": []
  },
  {
   "cell_type": "code",
   "execution_count": 101,
   "id": "f597c9e1",
   "metadata": {},
   "outputs": [
    {
     "data": {
      "text/plain": [
       "loan_amnt               0\n",
       "funded_amnt             0\n",
       "funded_amnt_inv         0\n",
       "term                    0\n",
       "int_rate                0\n",
       "installment             0\n",
       "grade                   0\n",
       "home_ownership          0\n",
       "annual_inc              0\n",
       "loan_status             0\n",
       "purpose                 0\n",
       "dti                     0\n",
       "earliest_cr_line        0\n",
       "fico_range_low          0\n",
       "fico_range_high         0\n",
       "inq_last_6mths          0\n",
       "open_acc                0\n",
       "pub_rec                 0\n",
       "total_acc               0\n",
       "pub_rec_bankruptcies    0\n",
       "verification_status2    0\n",
       "dtype: int64"
      ]
     },
     "execution_count": 101,
     "metadata": {},
     "output_type": "execute_result"
    }
   ],
   "source": [
    "df.isna().sum()"
   ]
  },
  {
   "cell_type": "markdown",
   "id": "b60320fd",
   "metadata": {},
   "source": [
    "### Kolumna ze statusem pożyczki"
   ]
  },
  {
   "cell_type": "code",
   "execution_count": 102,
   "id": "3d36f635",
   "metadata": {},
   "outputs": [],
   "source": [
    "# Zmienną objaśnianą jest kolumna ze statusem pożyczki - 'loan_status. Zadaniem jest przewidzenie, \n",
    "# czy klient spłaci kredyt - 1, czy nie spłaci - 0"
   ]
  },
  {
   "cell_type": "code",
   "execution_count": 103,
   "id": "8b5dc0ca",
   "metadata": {},
   "outputs": [
    {
     "data": {
      "text/plain": [
       "Fully Paid                                             34117\n",
       "Charged Off                                             5670\n",
       "Does not meet the credit policy. Status:Fully Paid      1988\n",
       "Does not meet the credit policy. Status:Charged Off      761\n",
       "Name: loan_status, dtype: int64"
      ]
     },
     "execution_count": 103,
     "metadata": {},
     "output_type": "execute_result"
    }
   ],
   "source": [
    "df['loan_status'].value_counts()"
   ]
  },
  {
   "cell_type": "code",
   "execution_count": 104,
   "id": "b05f2039",
   "metadata": {},
   "outputs": [],
   "source": [
    "df['loan_status'] = df['loan_status'].map({'Fully Paid' :1, 'Does not meet the credit policy. Status:Fully Paid' : 1, \n",
    "                                            'Charged Off' : 0, 'Does not meet the credit policy. Status:Charged Off' : 0})"
   ]
  },
  {
   "cell_type": "code",
   "execution_count": 105,
   "id": "841c4765",
   "metadata": {},
   "outputs": [
    {
     "data": {
      "text/plain": [
       "1    36105\n",
       "0     6431\n",
       "Name: loan_status, dtype: int64"
      ]
     },
     "execution_count": 105,
     "metadata": {},
     "output_type": "execute_result"
    }
   ],
   "source": [
    "df['loan_status'].value_counts()"
   ]
  },
  {
   "cell_type": "code",
   "execution_count": null,
   "id": "95e1a904",
   "metadata": {},
   "outputs": [],
   "source": []
  },
  {
   "cell_type": "code",
   "execution_count": 106,
   "id": "74972491",
   "metadata": {},
   "outputs": [],
   "source": [
    "df_cols = df[['loan_amnt', 'funded_amnt', 'funded_amnt_inv', 'term', 'int_rate',\n",
    "       'installment', 'annual_inc', 'loan_status','dti', 'earliest_cr_line',\n",
    "       'fico_range_low', 'fico_range_high', 'inq_last_6mths', 'open_acc',\n",
    "       'pub_rec', 'total_acc',\n",
    "       'pub_rec_bankruptcies', 'verification_status2']]"
   ]
  },
  {
   "cell_type": "code",
   "execution_count": 107,
   "id": "93087fac",
   "metadata": {
    "scrolled": true
   },
   "outputs": [
    {
     "data": {
      "text/plain": [
       "'plt.figure(figsize=(20,20), dpi = 200)\\n\\nfor i in range(1, len(df_cols)):\\n    plt.subplot(3, 3, 1)\\n    sns.boxplot(x = df_cols[i], data = df)'"
      ]
     },
     "execution_count": 107,
     "metadata": {},
     "output_type": "execute_result"
    }
   ],
   "source": [
    "'''plt.figure(figsize=(20,20), dpi = 200)\n",
    "\n",
    "for i in range(1, len(df_cols)):\n",
    "    plt.subplot(3, 3, 1)\n",
    "    sns.boxplot(x = df_cols[i], data = df)'''"
   ]
  },
  {
   "cell_type": "code",
   "execution_count": 108,
   "id": "945addf7",
   "metadata": {},
   "outputs": [
    {
     "name": "stdout",
     "output_type": "stream",
     "text": [
      "       loan_amnt  funded_amnt  funded_amnt_inv  term  int_rate  installment  \\\n",
      "0          0.822        0.815            0.724 0.591     0.409        0.765   \n",
      "1          1.159        1.164            1.071 1.693     0.837        1.258   \n",
      "2          1.173        1.178            1.085 0.591     1.024        1.141   \n",
      "3          0.147        0.115            0.020 0.591     0.357        0.080   \n",
      "4          1.092        1.094            1.001 1.693     0.142        1.220   \n",
      "...          ...          ...              ...   ...       ...          ...   \n",
      "42531      1.024        1.024            1.390 0.591     0.508        1.001   \n",
      "42532      1.361        1.374            1.422 0.591     0.681        1.391   \n",
      "42533      1.156        1.161            1.390 0.591     0.765        1.158   \n",
      "42534      0.619        0.605            1.422 0.591     1.021        0.564   \n",
      "42535      0.822        0.815            1.422 0.591     1.191        0.797   \n",
      "\n",
      "       annual_inc  loan_status   dti  earliest_cr_line  fico_range_low  \\\n",
      "0           0.704        0.422 2.123             1.694           0.606   \n",
      "1           0.611        2.369 1.840             0.353           0.745   \n",
      "2           0.888        0.422 0.692             0.646           0.606   \n",
      "3           0.311        0.422 0.985             0.085           0.637   \n",
      "4           0.170        0.422 0.679             0.085           0.499   \n",
      "...           ...          ...   ...               ...             ...   \n",
      "42531       1.730        0.422 0.501             0.207           0.775   \n",
      "42532       0.891        0.422 0.501             0.207           0.499   \n",
      "42533       0.638        0.422 0.501             0.207           0.084   \n",
      "42534       0.158        0.422 1.394             0.207           0.745   \n",
      "42535       0.013        0.422 0.678             0.207           1.574   \n",
      "\n",
      "       fico_range_high  inq_last_6mths  open_acc  pub_rec  total_acc  \\\n",
      "0                0.606           0.053     1.411    0.237      1.132   \n",
      "1                0.745           2.566     1.411    0.237      1.564   \n",
      "2                0.606           0.602     1.634    0.237      1.046   \n",
      "3                0.637           0.053     0.146    0.237      1.284   \n",
      "4                0.499           0.708     1.258    0.237      1.370   \n",
      "...                ...             ...       ...      ...        ...   \n",
      "42531            0.775           0.053     0.076    0.237      0.183   \n",
      "42532            0.499           0.053     0.076    0.237      0.183   \n",
      "42533            0.084           0.053     0.076    0.237      0.183   \n",
      "42534            0.745           0.053     0.076    0.237      0.183   \n",
      "42535            1.574           0.053     0.076    0.237      0.183   \n",
      "\n",
      "       pub_rec_bankruptcies  verification_status2  \n",
      "0                     0.213                 0.888  \n",
      "1                     0.213                 0.888  \n",
      "2                     0.213                 1.126  \n",
      "3                     0.213                 0.888  \n",
      "4                     0.213                 0.888  \n",
      "...                     ...                   ...  \n",
      "42531                 0.213                 1.126  \n",
      "42532                 0.213                 1.126  \n",
      "42533                 0.213                 1.126  \n",
      "42534                 0.213                 1.126  \n",
      "42535                 0.213                 1.126  \n",
      "\n",
      "[42536 rows x 18 columns]\n",
      "\n",
      "\n",
      "*******************************************************************************\n",
      "\n",
      "\n",
      "Ponizej sa punkty odstajace - nr indeksow i odpowiadające im indeksy kolumn w drugim wektorze\n",
      "\n",
      "\n",
      "(array([   31,    31,    66, ..., 42506, 42508, 42519], dtype=int64), array([ 2,  5, 14, ..., 14, 12,  6], dtype=int64))\n"
     ]
    }
   ],
   "source": [
    "from scipy import stats\n",
    "\n",
    "z = np.abs(stats.zscore(df[['loan_amnt', 'funded_amnt', 'funded_amnt_inv', 'term', 'int_rate',\n",
    "       'installment', 'annual_inc', 'loan_status', 'dti', 'earliest_cr_line',\n",
    "       'fico_range_low', 'fico_range_high', 'inq_last_6mths', 'open_acc',\n",
    "       'pub_rec', 'total_acc',\n",
    "       'pub_rec_bankruptcies', 'verification_status2']]))\n",
    "print(z)\n",
    "\n",
    "print(\"\\n\")\n",
    "print(\"*******************************************************************************\")\n",
    "print(\"\\n\")\n",
    "\n",
    "# threshold = 3  # selecting 3 as the threshold to identify outliers\n",
    "print('Ponizej sa punkty odstajace - nr indeksow i odpowiadające im indeksy kolumn w drugim wektorze')\n",
    "print(\"\\n\")\n",
    "print(np.where(z > 3))"
   ]
  },
  {
   "cell_type": "code",
   "execution_count": 109,
   "id": "70a388bf",
   "metadata": {},
   "outputs": [
    {
     "data": {
      "text/plain": [
       "(42536, 21)"
      ]
     },
     "execution_count": 109,
     "metadata": {},
     "output_type": "execute_result"
    }
   ],
   "source": [
    "df.shape"
   ]
  },
  {
   "cell_type": "code",
   "execution_count": 110,
   "id": "3ce7b3d9",
   "metadata": {},
   "outputs": [],
   "source": [
    "df_outliers_removed = df[(z<3).all(axis=1)]"
   ]
  },
  {
   "cell_type": "code",
   "execution_count": 111,
   "id": "41c98767",
   "metadata": {},
   "outputs": [
    {
     "data": {
      "text/plain": [
       "(37152, 21)"
      ]
     },
     "execution_count": 111,
     "metadata": {},
     "output_type": "execute_result"
    }
   ],
   "source": [
    "df_outliers_removed.shape"
   ]
  },
  {
   "cell_type": "code",
   "execution_count": null,
   "id": "21902bcf",
   "metadata": {},
   "outputs": [],
   "source": []
  },
  {
   "cell_type": "code",
   "execution_count": null,
   "id": "97d73262",
   "metadata": {},
   "outputs": [],
   "source": []
  },
  {
   "cell_type": "code",
   "execution_count": 118,
   "id": "3f3264a6",
   "metadata": {},
   "outputs": [
    {
     "data": {
      "image/png": "[encoded data removed]",
      "text/plain": [
       "<Figure size 500x500 with 1 Axes>"
      ]
     },
     "metadata": {},
     "output_type": "display_data"
    }
   ],
   "source": [
    "sns.displot(df['loan_amnt'])\n",
    "plt.show()"
   ]
  },
  {
   "cell_type": "code",
   "execution_count": 119,
   "id": "0ef08239",
   "metadata": {},
   "outputs": [],
   "source": [
    "def loan_amount(amnt):\n",
    "    if amnt < 5000:\n",
    "        return 'low'\n",
    "    elif amnt >= 5000 and amnt < 15000:\n",
    "        return 'medium'\n",
    "    elif amnt >=15000 and amnt < 25000:\n",
    "        return 'high'\n",
    "    else:\n",
    "        return 'very high'\n",
    "    \n",
    "    \n",
    "df['loan_amnt_zakresy'] = df['loan_amnt'].apply(lambda x: loan_amount(x))"
   ]
  },
  {
   "cell_type": "code",
   "execution_count": 120,
   "id": "4f3204e5",
   "metadata": {},
   "outputs": [
    {
     "data": {
      "text/plain": [
       "medium       22580\n",
       "high          8550\n",
       "low           8282\n",
       "very high     3124\n",
       "Name: loan_amnt_zakresy, dtype: int64"
      ]
     },
     "execution_count": 120,
     "metadata": {},
     "output_type": "execute_result"
    }
   ],
   "source": [
    "df['loan_amnt_zakresy'].value_counts()"
   ]
  },
  {
   "cell_type": "code",
   "execution_count": 121,
   "id": "ab51f900",
   "metadata": {
    "scrolled": false
   },
   "outputs": [
    {
     "data": {
      "image/png": "[encoded data removed]",
      "text/plain": [
       "<Figure size 640x480 with 1 Axes>"
      ]
     },
     "metadata": {},
     "output_type": "display_data"
    }
   ],
   "source": [
    "sns.barplot(x='loan_amnt_zakresy', y='loan_status', data=df)\n",
    "plt.show()"
   ]
  },
  {
   "cell_type": "code",
   "execution_count": 122,
   "id": "0b05936f",
   "metadata": {},
   "outputs": [],
   "source": [
    "df['loan_amnt_zakresy'] = pd.to_numeric(df['loan_amnt_zakresy'],errors = 'coerce')"
   ]
  },
  {
   "cell_type": "code",
   "execution_count": null,
   "id": "57a85ff6",
   "metadata": {},
   "outputs": [],
   "source": []
  },
  {
   "cell_type": "code",
   "execution_count": null,
   "id": "3ad20107",
   "metadata": {},
   "outputs": [],
   "source": []
  },
  {
   "cell_type": "code",
   "execution_count": null,
   "id": "ea709dcd",
   "metadata": {},
   "outputs": [],
   "source": [
    "# Feature engineering, przykład\n",
    "# Możemy tworzyć nowe kolumny wykorzystując dotychczasowe (dzieląc jedną przez drugą, mnożąc, podnosząc do potęgi, itd)\n",
    "# all_data['my_feature'] = all_data['LotArea']/all_data['LotFrontage']"
   ]
  },
  {
   "cell_type": "code",
   "execution_count": null,
   "id": "9e1920ed",
   "metadata": {},
   "outputs": [],
   "source": [
    "# Feature engineering, przykład\n",
    "# Możemy wyciągać informacje które uznajemy za cenne z łańcuchów znaków\n",
    "# data['full_name'][0] -> 'Mr Adam Smith'\n",
    "# data['full_name'][1] -> 'Mrs Anna Hertz'\n",
    "# Tworzymy nową kolumnę 'personal_title'\n",
    "# data['personal_title'].unique() -> ['Mr', 'Mrs', 'Ms', '']\n",
    "# data['personal_title'][0] -> 'Mr'\n",
    "# data['personal_title'][1] -> 'Mrs'"
   ]
  },
  {
   "cell_type": "code",
   "execution_count": null,
   "id": "c036ee98",
   "metadata": {},
   "outputs": [],
   "source": [
    "# Feature enginnering, przykład\n",
    "# 'bining', podzielenie zmiennej ciągłej na zakresy i przypisanie każdej etykiety\n",
    "# Zmieńmy kontekst na projekt końcowy, zauważamy, że odsetek spłacanych pożyczek powyżej 400000 jest bardzo duży\n",
    "# Możemy stworzyć nową kolumnę z 'flagą' mówiącą o tym czy pożyczka jest wysoka czy nie, model sprawdzi czy jest korzyść\n",
    "# z traktowania tej grupy pożyczkobiorców osobno\n",
    "# data['is_loan_high']: wartości -> 0,1"
   ]
  },
  {
   "cell_type": "code",
   "execution_count": null,
   "id": "319c19cf",
   "metadata": {},
   "outputs": [],
   "source": []
  },
  {
   "cell_type": "code",
   "execution_count": 114,
   "id": "5b379627",
   "metadata": {},
   "outputs": [],
   "source": [
    "df['wnioskowal_dostal'] = df['loan_amnt']/df['funded_amnt']"
   ]
  },
  {
   "cell_type": "code",
   "execution_count": 115,
   "id": "d179b3f5",
   "metadata": {},
   "outputs": [
    {
     "data": {
      "text/plain": [
       "0       1.000\n",
       "1       1.000\n",
       "2       1.000\n",
       "3       1.000\n",
       "4       1.000\n",
       "         ... \n",
       "42531   1.000\n",
       "42532   1.000\n",
       "42533   1.000\n",
       "42534   1.000\n",
       "42535   1.000\n",
       "Name: wnioskowal_dostal, Length: 42536, dtype: float64"
      ]
     },
     "execution_count": 115,
     "metadata": {},
     "output_type": "execute_result"
    }
   ],
   "source": [
    "df['wnioskowal_dostal']"
   ]
  },
  {
   "cell_type": "code",
   "execution_count": null,
   "id": "c9f3f980",
   "metadata": {},
   "outputs": [],
   "source": []
  },
  {
   "cell_type": "code",
   "execution_count": null,
   "id": "10bc1350",
   "metadata": {},
   "outputs": [],
   "source": [
    "df['loan_amnt'] = pd.to_numeric(df['loan_amnt'],errors = 'coerce')"
   ]
  },
  {
   "cell_type": "code",
   "execution_count": null,
   "id": "2239cb5d",
   "metadata": {},
   "outputs": [],
   "source": [
    "df['dochod_kredyt'] = df['loan_amnt']/df['annual_inc']\n",
    "df['dochod_kredyt']"
   ]
  },
  {
   "cell_type": "code",
   "execution_count": null,
   "id": "3ce18cb4",
   "metadata": {},
   "outputs": [],
   "source": []
  },
  {
   "cell_type": "code",
   "execution_count": null,
   "id": "7f85f003",
   "metadata": {},
   "outputs": [],
   "source": [
    "df['dochod_rata'] = df['annual_inc']/df['installment']\n",
    "df['dochod_rata']"
   ]
  },
  {
   "cell_type": "code",
   "execution_count": null,
   "id": "78376049",
   "metadata": {},
   "outputs": [],
   "source": []
  },
  {
   "cell_type": "code",
   "execution_count": null,
   "id": "4638d704",
   "metadata": {},
   "outputs": [],
   "source": [
    "df['dochod_oprocentowanie'] = df['annual_inc']/df['int_rate']\n",
    "df['dochod_oprocentowanie']"
   ]
  },
  {
   "cell_type": "code",
   "execution_count": null,
   "id": "c57624d6",
   "metadata": {},
   "outputs": [],
   "source": []
  },
  {
   "cell_type": "code",
   "execution_count": null,
   "id": "ad4a48e9",
   "metadata": {},
   "outputs": [],
   "source": [
    "#  dodanie kolumny z informacją czy pożyczka jest konsolidacyjna bądź nie \n",
    "#  (1 - tak, 0 - nie)"
   ]
  },
  {
   "cell_type": "code",
   "execution_count": 149,
   "id": "d057ce8c",
   "metadata": {},
   "outputs": [],
   "source": [
    "def konsolidacyjna(df):\n",
    "    if (df['purpose'] == 'debt_consolidation'):\n",
    "        return 1\n",
    "    else:\n",
    "        return 0"
   ]
  },
  {
   "cell_type": "code",
   "execution_count": 150,
   "id": "01c46d5c",
   "metadata": {},
   "outputs": [],
   "source": [
    "df['konsolidacyjna'] = df.apply(konsolidacyjna, axis=1)"
   ]
  },
  {
   "cell_type": "code",
   "execution_count": 151,
   "id": "86195291",
   "metadata": {},
   "outputs": [
    {
     "data": {
      "text/plain": [
       "0        0\n",
       "1        0\n",
       "2        0\n",
       "3        0\n",
       "4        0\n",
       "        ..\n",
       "42531    0\n",
       "42532    0\n",
       "42533    0\n",
       "42534    0\n",
       "42535    0\n",
       "Name: konsolidacyjna, Length: 42536, dtype: int64"
      ]
     },
     "execution_count": 151,
     "metadata": {},
     "output_type": "execute_result"
    }
   ],
   "source": [
    "df['konsolidacyjna']"
   ]
  },
  {
   "cell_type": "code",
   "execution_count": null,
   "id": "b58ba817",
   "metadata": {},
   "outputs": [],
   "source": []
  },
  {
   "cell_type": "code",
   "execution_count": 140,
   "id": "07ea9875",
   "metadata": {},
   "outputs": [],
   "source": [
    "def conditions(df):\n",
    "    if (df['loan_amnt'] > 25000) and (df['loan_status'] == 1):\n",
    "        return 1\n",
    "    else:\n",
    "        return 0"
   ]
  },
  {
   "cell_type": "code",
   "execution_count": 141,
   "id": "5b9b05de",
   "metadata": {},
   "outputs": [],
   "source": [
    "df['duzy_kredyt'] = df.apply(conditions, axis=1)"
   ]
  },
  {
   "cell_type": "code",
   "execution_count": 142,
   "id": "9b96892c",
   "metadata": {},
   "outputs": [
    {
     "data": {
      "text/plain": [
       "0        0\n",
       "1        0\n",
       "2        0\n",
       "3        0\n",
       "4        0\n",
       "        ..\n",
       "42531    0\n",
       "42532    0\n",
       "42533    0\n",
       "42534    0\n",
       "42535    0\n",
       "Name: duzy_kredyt, Length: 42536, dtype: int64"
      ]
     },
     "execution_count": 142,
     "metadata": {},
     "output_type": "execute_result"
    }
   ],
   "source": [
    "df['duzy_kredyt']"
   ]
  },
  {
   "cell_type": "code",
   "execution_count": null,
   "id": "b8058122",
   "metadata": {},
   "outputs": [],
   "source": []
  },
  {
   "cell_type": "code",
   "execution_count": null,
   "id": "cb54c0f5",
   "metadata": {},
   "outputs": [],
   "source": []
  }
 ],
 "metadata": {
  "kernelspec": {
   "display_name": "Python 3 (ipykernel)",
   "language": "python",
   "name": "python3"
  },
  "language_info": {
   "codemirror_mode": {
    "name": "ipython",
    "version": 3
   },
   "file_extension": ".py",
   "mimetype": "text/x-python",
   "name": "python",
   "nbconvert_exporter": "python",
   "pygments_lexer": "ipython3",
   "version": "3.9.13"
  }
 },
 "nbformat": 4,
 "nbformat_minor": 5
}
