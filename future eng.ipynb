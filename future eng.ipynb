{
 "cells": [
  {
   "cell_type": "code",
   "execution_count": 1,
   "id": "6c4bb35a",
   "metadata": {},
   "outputs": [],
   "source": [
    "import numpy as np \n",
    "import pandas as pd \n",
    "import seaborn as sns\n",
    "import seaborn as sns\n",
    "import matplotlib.pyplot as plt\n",
    "import matplotlib.pyplot as plt\n",
    "%matplotlib inline\n",
    "from scipy import stats\n",
    "from scipy.stats import zscore\n",
    "from sklearn.preprocessing import StandardScaler\n",
    "from sklearn.model_selection import train_test_split\n",
    "from sklearn.linear_model import LinearRegression, Ridge, Lasso\n",
    "from sklearn.linear_model import LogisticRegression\n",
    "from sklearn.tree import DecisionTreeRegressor\n",
    "from sklearn.ensemble import (RandomForestRegressor, GradientBoostingRegressor,AdaBoostRegressor,BaggingRegressor)\n",
    "from sklearn.svm import SVR\n",
    "from sklearn.svm import SVC\n",
    "from sklearn import metrics\n",
    "from sklearn.metrics import accuracy_score,roc_auc_score\n",
    "from sklearn.metrics import accuracy_score\n",
    "from sklearn.metrics import classification_report,confusion_matrix\n",
    "from sklearn.metrics import mean_squared_error,mean_absolute_error,r2_score\n",
    "from sklearn.model_selection import KFold\n",
    "from sklearn.model_selection import cross_val_score\n",
    "from sklearn import preprocessing\n",
    "from sklearn.preprocessing import PolynomialFeatures\n",
    "from sklearn.cluster import KMeans\n",
    "from sklearn.utils import resample\n",
    "from sklearn.ensemble import AdaBoostClassifier\n",
    "from ds_utils.unsupervised import plot_cluster_cardinality, plot_cluster_magnitude, plot_magnitude_vs_cardinality\n",
    "from scipy.spatial.distance import euclidean\n",
    "import matplotlib.pyplot as plt\n",
    "from sklearn.metrics import silhouette_score\n",
    "from sklearn.preprocessing import LabelEncoder\n",
    "from catboost import CatBoostClassifier\n",
    "from sklearn import model_selection\n",
    "from sklearn.ensemble import BaggingClassifier\n",
    "from sklearn.decomposition import PCA\n",
    "from collections import Counter\n",
    "from sklearn.datasets import make_classification\n",
    "from matplotlib import pyplot\n",
    "from numpy import where\n",
    "from imblearn.over_sampling import SMOTE\n",
    "from numpy import mean\n",
    "from sklearn.datasets import make_classification\n",
    "from sklearn.model_selection import cross_val_score\n",
    "from sklearn.model_selection import RepeatedStratifiedKFold\n",
    "from sklearn.tree import DecisionTreeClassifier\n",
    "from numpy import mean\n",
    "from matplotlib import pyplot\n",
    "from scipy.spatial.distance import euclidean\n",
    "from sklearn.ensemble import RandomForestClassifier\n",
    "from ds_utils.unsupervised import plot_loss_vs_cluster_number\n",
    "from imblearn.pipeline import Pipeline\n",
    "import matplotlib as mpl\n",
    "from cycler import cycler\n",
    "from sklearn.model_selection import ShuffleSplit\n",
    "from sklearn import model_selection\n",
    "from sklearn.model_selection import train_test_split\n",
    "from sklearn.model_selection import learning_curve \n",
    "from sklearn.naive_bayes import GaussianNB\n",
    "from sklearn.naive_bayes import MultinomialNB\n",
    "from sklearn.neural_network import MLPClassifier\n",
    "from numpy import loadtxt\n",
    "from xgboost import XGBClassifier\n",
    "from xgboost import XGBRegressor\n",
    "from sklearn.metrics import roc_curve\n",
    "from sklearn.model_selection import GridSearchCV"
   ]
  },
  {
   "cell_type": "code",
   "execution_count": null,
   "id": "bd1e8742",
   "metadata": {},
   "outputs": [],
   "source": []
  },
  {
   "cell_type": "code",
   "execution_count": 2,
   "id": "55784d88",
   "metadata": {
    "scrolled": true
   },
   "outputs": [
    {
     "name": "stderr",
     "output_type": "stream",
     "text": [
      "C:\\Users\\asus\\AppData\\Local\\Temp\\ipykernel_12244\\140937924.py:1: DtypeWarning: Columns (0,49) have mixed types. Specify dtype option on import or set low_memory=False.\n",
      "  df=pd.read_csv('Loan_data.csv')\n"
     ]
    }
   ],
   "source": [
    "df=pd.read_csv('Loan_data.csv')"
   ]
  },
  {
   "cell_type": "code",
   "execution_count": 3,
   "id": "dbc2439f",
   "metadata": {
    "scrolled": true
   },
   "outputs": [
    {
     "data": {
      "text/html": [
       "<div>\n",
       "<style scoped>\n",
       "    .dataframe tbody tr th:only-of-type {\n",
       "        vertical-align: middle;\n",
       "    }\n",
       "\n",
       "    .dataframe tbody tr th {\n",
       "        vertical-align: top;\n",
       "    }\n",
       "\n",
       "    .dataframe thead th {\n",
       "        text-align: right;\n",
       "    }\n",
       "</style>\n",
       "<table border=\"1\" class=\"dataframe\">\n",
       "  <thead>\n",
       "    <tr style=\"text-align: right;\">\n",
       "      <th></th>\n",
       "      <th>id</th>\n",
       "      <th>member_id</th>\n",
       "      <th>loan_amnt</th>\n",
       "      <th>funded_amnt</th>\n",
       "      <th>funded_amnt_inv</th>\n",
       "      <th>term</th>\n",
       "      <th>int_rate</th>\n",
       "      <th>installment</th>\n",
       "      <th>grade</th>\n",
       "      <th>sub_grade</th>\n",
       "      <th>...</th>\n",
       "      <th>hardship_payoff_balance_amount</th>\n",
       "      <th>hardship_last_payment_amount</th>\n",
       "      <th>disbursement_method</th>\n",
       "      <th>debt_settlement_flag</th>\n",
       "      <th>debt_settlement_flag_date</th>\n",
       "      <th>settlement_status</th>\n",
       "      <th>settlement_date</th>\n",
       "      <th>settlement_amount</th>\n",
       "      <th>settlement_percentage</th>\n",
       "      <th>settlement_term</th>\n",
       "    </tr>\n",
       "  </thead>\n",
       "  <tbody>\n",
       "    <tr>\n",
       "      <th>0</th>\n",
       "      <td>1077501</td>\n",
       "      <td>NaN</td>\n",
       "      <td>5000.0</td>\n",
       "      <td>5000.0</td>\n",
       "      <td>4975.0</td>\n",
       "      <td>36 months</td>\n",
       "      <td>10.65%</td>\n",
       "      <td>162.87</td>\n",
       "      <td>B</td>\n",
       "      <td>B2</td>\n",
       "      <td>...</td>\n",
       "      <td>NaN</td>\n",
       "      <td>NaN</td>\n",
       "      <td>Cash</td>\n",
       "      <td>N</td>\n",
       "      <td>NaN</td>\n",
       "      <td>NaN</td>\n",
       "      <td>NaN</td>\n",
       "      <td>NaN</td>\n",
       "      <td>NaN</td>\n",
       "      <td>NaN</td>\n",
       "    </tr>\n",
       "    <tr>\n",
       "      <th>1</th>\n",
       "      <td>1077430</td>\n",
       "      <td>NaN</td>\n",
       "      <td>2500.0</td>\n",
       "      <td>2500.0</td>\n",
       "      <td>2500.0</td>\n",
       "      <td>60 months</td>\n",
       "      <td>15.27%</td>\n",
       "      <td>59.83</td>\n",
       "      <td>C</td>\n",
       "      <td>C4</td>\n",
       "      <td>...</td>\n",
       "      <td>NaN</td>\n",
       "      <td>NaN</td>\n",
       "      <td>Cash</td>\n",
       "      <td>N</td>\n",
       "      <td>NaN</td>\n",
       "      <td>NaN</td>\n",
       "      <td>NaN</td>\n",
       "      <td>NaN</td>\n",
       "      <td>NaN</td>\n",
       "      <td>NaN</td>\n",
       "    </tr>\n",
       "    <tr>\n",
       "      <th>2</th>\n",
       "      <td>1077175</td>\n",
       "      <td>NaN</td>\n",
       "      <td>2400.0</td>\n",
       "      <td>2400.0</td>\n",
       "      <td>2400.0</td>\n",
       "      <td>36 months</td>\n",
       "      <td>15.96%</td>\n",
       "      <td>84.33</td>\n",
       "      <td>C</td>\n",
       "      <td>C5</td>\n",
       "      <td>...</td>\n",
       "      <td>NaN</td>\n",
       "      <td>NaN</td>\n",
       "      <td>Cash</td>\n",
       "      <td>N</td>\n",
       "      <td>NaN</td>\n",
       "      <td>NaN</td>\n",
       "      <td>NaN</td>\n",
       "      <td>NaN</td>\n",
       "      <td>NaN</td>\n",
       "      <td>NaN</td>\n",
       "    </tr>\n",
       "    <tr>\n",
       "      <th>3</th>\n",
       "      <td>1076863</td>\n",
       "      <td>NaN</td>\n",
       "      <td>10000.0</td>\n",
       "      <td>10000.0</td>\n",
       "      <td>10000.0</td>\n",
       "      <td>36 months</td>\n",
       "      <td>13.49%</td>\n",
       "      <td>339.31</td>\n",
       "      <td>C</td>\n",
       "      <td>C1</td>\n",
       "      <td>...</td>\n",
       "      <td>NaN</td>\n",
       "      <td>NaN</td>\n",
       "      <td>Cash</td>\n",
       "      <td>N</td>\n",
       "      <td>NaN</td>\n",
       "      <td>NaN</td>\n",
       "      <td>NaN</td>\n",
       "      <td>NaN</td>\n",
       "      <td>NaN</td>\n",
       "      <td>NaN</td>\n",
       "    </tr>\n",
       "    <tr>\n",
       "      <th>4</th>\n",
       "      <td>1075358</td>\n",
       "      <td>NaN</td>\n",
       "      <td>3000.0</td>\n",
       "      <td>3000.0</td>\n",
       "      <td>3000.0</td>\n",
       "      <td>60 months</td>\n",
       "      <td>12.69%</td>\n",
       "      <td>67.79</td>\n",
       "      <td>B</td>\n",
       "      <td>B5</td>\n",
       "      <td>...</td>\n",
       "      <td>NaN</td>\n",
       "      <td>NaN</td>\n",
       "      <td>Cash</td>\n",
       "      <td>N</td>\n",
       "      <td>NaN</td>\n",
       "      <td>NaN</td>\n",
       "      <td>NaN</td>\n",
       "      <td>NaN</td>\n",
       "      <td>NaN</td>\n",
       "      <td>NaN</td>\n",
       "    </tr>\n",
       "  </tbody>\n",
       "</table>\n",
       "<p>5 rows × 151 columns</p>\n",
       "</div>"
      ],
      "text/plain": [
       "        id  member_id  loan_amnt  funded_amnt  funded_amnt_inv        term  \\\n",
       "0  1077501        NaN     5000.0       5000.0           4975.0   36 months   \n",
       "1  1077430        NaN     2500.0       2500.0           2500.0   60 months   \n",
       "2  1077175        NaN     2400.0       2400.0           2400.0   36 months   \n",
       "3  1076863        NaN    10000.0      10000.0          10000.0   36 months   \n",
       "4  1075358        NaN     3000.0       3000.0           3000.0   60 months   \n",
       "\n",
       "  int_rate  installment grade sub_grade  ... hardship_payoff_balance_amount  \\\n",
       "0   10.65%       162.87     B        B2  ...                            NaN   \n",
       "1   15.27%        59.83     C        C4  ...                            NaN   \n",
       "2   15.96%        84.33     C        C5  ...                            NaN   \n",
       "3   13.49%       339.31     C        C1  ...                            NaN   \n",
       "4   12.69%        67.79     B        B5  ...                            NaN   \n",
       "\n",
       "  hardship_last_payment_amount disbursement_method  debt_settlement_flag  \\\n",
       "0                          NaN                Cash                     N   \n",
       "1                          NaN                Cash                     N   \n",
       "2                          NaN                Cash                     N   \n",
       "3                          NaN                Cash                     N   \n",
       "4                          NaN                Cash                     N   \n",
       "\n",
       "  debt_settlement_flag_date settlement_status settlement_date  \\\n",
       "0                       NaN               NaN             NaN   \n",
       "1                       NaN               NaN             NaN   \n",
       "2                       NaN               NaN             NaN   \n",
       "3                       NaN               NaN             NaN   \n",
       "4                       NaN               NaN             NaN   \n",
       "\n",
       "  settlement_amount settlement_percentage settlement_term  \n",
       "0               NaN                   NaN             NaN  \n",
       "1               NaN                   NaN             NaN  \n",
       "2               NaN                   NaN             NaN  \n",
       "3               NaN                   NaN             NaN  \n",
       "4               NaN                   NaN             NaN  \n",
       "\n",
       "[5 rows x 151 columns]"
      ]
     },
     "execution_count": 3,
     "metadata": {},
     "output_type": "execute_result"
    }
   ],
   "source": [
    "df.head()"
   ]
  },
  {
   "cell_type": "code",
   "execution_count": 4,
   "id": "cba7f803",
   "metadata": {},
   "outputs": [
    {
     "data": {
      "text/plain": [
       "(42536, 151)"
      ]
     },
     "execution_count": 4,
     "metadata": {},
     "output_type": "execute_result"
    }
   ],
   "source": [
    "df.shape"
   ]
  },
  {
   "cell_type": "code",
   "execution_count": 5,
   "id": "fb820422",
   "metadata": {},
   "outputs": [],
   "source": [
    "#Dane zawierają 42536 obserwacji i 151 kolumn - łącznie z kolumną ze statusem pożyczki (zmienna objaśniana)"
   ]
  },
  {
   "cell_type": "code",
   "execution_count": 6,
   "id": "de46d9d7",
   "metadata": {},
   "outputs": [
    {
     "data": {
      "text/plain": [
       "id                        object\n",
       "member_id                float64\n",
       "loan_amnt                float64\n",
       "funded_amnt              float64\n",
       "funded_amnt_inv          float64\n",
       "                          ...   \n",
       "settlement_status         object\n",
       "settlement_date           object\n",
       "settlement_amount        float64\n",
       "settlement_percentage    float64\n",
       "settlement_term          float64\n",
       "Length: 151, dtype: object"
      ]
     },
     "execution_count": 6,
     "metadata": {},
     "output_type": "execute_result"
    }
   ],
   "source": [
    "df.dtypes"
   ]
  },
  {
   "cell_type": "code",
   "execution_count": 7,
   "id": "9caf400c",
   "metadata": {},
   "outputs": [
    {
     "name": "stdout",
     "output_type": "stream",
     "text": [
      "<class 'pandas.core.frame.DataFrame'>\n",
      "RangeIndex: 42536 entries, 0 to 42535\n",
      "Columns: 151 entries, id to settlement_term\n",
      "dtypes: float64(120), object(31)\n",
      "memory usage: 49.0+ MB\n"
     ]
    }
   ],
   "source": [
    "df.info()"
   ]
  },
  {
   "cell_type": "code",
   "execution_count": 8,
   "id": "9eba0d1f",
   "metadata": {},
   "outputs": [
    {
     "data": {
      "text/plain": [
       "Index(['id', 'member_id', 'loan_amnt', 'funded_amnt', 'funded_amnt_inv',\n",
       "       'term', 'int_rate', 'installment', 'grade', 'sub_grade',\n",
       "       ...\n",
       "       'hardship_payoff_balance_amount', 'hardship_last_payment_amount',\n",
       "       'disbursement_method', 'debt_settlement_flag',\n",
       "       'debt_settlement_flag_date', 'settlement_status', 'settlement_date',\n",
       "       'settlement_amount', 'settlement_percentage', 'settlement_term'],\n",
       "      dtype='object', length=151)"
      ]
     },
     "execution_count": 8,
     "metadata": {},
     "output_type": "execute_result"
    }
   ],
   "source": [
    "df.keys()"
   ]
  },
  {
   "cell_type": "code",
   "execution_count": 9,
   "id": "0034553a",
   "metadata": {},
   "outputs": [
    {
     "data": {
      "text/html": [
       "<div>\n",
       "<style scoped>\n",
       "    .dataframe tbody tr th:only-of-type {\n",
       "        vertical-align: middle;\n",
       "    }\n",
       "\n",
       "    .dataframe tbody tr th {\n",
       "        vertical-align: top;\n",
       "    }\n",
       "\n",
       "    .dataframe thead th {\n",
       "        text-align: right;\n",
       "    }\n",
       "</style>\n",
       "<table border=\"1\" class=\"dataframe\">\n",
       "  <thead>\n",
       "    <tr style=\"text-align: right;\">\n",
       "      <th></th>\n",
       "      <th>member_id</th>\n",
       "      <th>loan_amnt</th>\n",
       "      <th>funded_amnt</th>\n",
       "      <th>funded_amnt_inv</th>\n",
       "      <th>installment</th>\n",
       "      <th>annual_inc</th>\n",
       "      <th>dti</th>\n",
       "      <th>delinq_2yrs</th>\n",
       "      <th>fico_range_low</th>\n",
       "      <th>fico_range_high</th>\n",
       "      <th>...</th>\n",
       "      <th>payment_plan_start_date</th>\n",
       "      <th>hardship_length</th>\n",
       "      <th>hardship_dpd</th>\n",
       "      <th>hardship_loan_status</th>\n",
       "      <th>orig_projected_additional_accrued_interest</th>\n",
       "      <th>hardship_payoff_balance_amount</th>\n",
       "      <th>hardship_last_payment_amount</th>\n",
       "      <th>settlement_amount</th>\n",
       "      <th>settlement_percentage</th>\n",
       "      <th>settlement_term</th>\n",
       "    </tr>\n",
       "  </thead>\n",
       "  <tbody>\n",
       "    <tr>\n",
       "      <th>count</th>\n",
       "      <td>0.0</td>\n",
       "      <td>42535.000000</td>\n",
       "      <td>42535.000000</td>\n",
       "      <td>42535.000000</td>\n",
       "      <td>42535.000000</td>\n",
       "      <td>4.253100e+04</td>\n",
       "      <td>42535.000000</td>\n",
       "      <td>42506.000000</td>\n",
       "      <td>42535.000000</td>\n",
       "      <td>42535.000000</td>\n",
       "      <td>...</td>\n",
       "      <td>0.0</td>\n",
       "      <td>0.0</td>\n",
       "      <td>0.0</td>\n",
       "      <td>0.0</td>\n",
       "      <td>0.0</td>\n",
       "      <td>0.0</td>\n",
       "      <td>0.0</td>\n",
       "      <td>160.000000</td>\n",
       "      <td>160.000000</td>\n",
       "      <td>160.000000</td>\n",
       "    </tr>\n",
       "    <tr>\n",
       "      <th>mean</th>\n",
       "      <td>NaN</td>\n",
       "      <td>11089.722581</td>\n",
       "      <td>10821.585753</td>\n",
       "      <td>10139.938785</td>\n",
       "      <td>322.623063</td>\n",
       "      <td>6.913656e+04</td>\n",
       "      <td>13.373043</td>\n",
       "      <td>0.152449</td>\n",
       "      <td>713.052545</td>\n",
       "      <td>717.052545</td>\n",
       "      <td>...</td>\n",
       "      <td>NaN</td>\n",
       "      <td>NaN</td>\n",
       "      <td>NaN</td>\n",
       "      <td>NaN</td>\n",
       "      <td>NaN</td>\n",
       "      <td>NaN</td>\n",
       "      <td>NaN</td>\n",
       "      <td>4272.137875</td>\n",
       "      <td>49.905875</td>\n",
       "      <td>1.200000</td>\n",
       "    </tr>\n",
       "    <tr>\n",
       "      <th>std</th>\n",
       "      <td>NaN</td>\n",
       "      <td>7410.938391</td>\n",
       "      <td>7146.914675</td>\n",
       "      <td>7131.598014</td>\n",
       "      <td>208.927216</td>\n",
       "      <td>6.409635e+04</td>\n",
       "      <td>6.726315</td>\n",
       "      <td>0.512406</td>\n",
       "      <td>36.188439</td>\n",
       "      <td>36.188439</td>\n",
       "      <td>...</td>\n",
       "      <td>NaN</td>\n",
       "      <td>NaN</td>\n",
       "      <td>NaN</td>\n",
       "      <td>NaN</td>\n",
       "      <td>NaN</td>\n",
       "      <td>NaN</td>\n",
       "      <td>NaN</td>\n",
       "      <td>3119.373774</td>\n",
       "      <td>15.563690</td>\n",
       "      <td>4.085255</td>\n",
       "    </tr>\n",
       "    <tr>\n",
       "      <th>min</th>\n",
       "      <td>NaN</td>\n",
       "      <td>500.000000</td>\n",
       "      <td>500.000000</td>\n",
       "      <td>0.000000</td>\n",
       "      <td>15.670000</td>\n",
       "      <td>1.896000e+03</td>\n",
       "      <td>0.000000</td>\n",
       "      <td>0.000000</td>\n",
       "      <td>610.000000</td>\n",
       "      <td>614.000000</td>\n",
       "      <td>...</td>\n",
       "      <td>NaN</td>\n",
       "      <td>NaN</td>\n",
       "      <td>NaN</td>\n",
       "      <td>NaN</td>\n",
       "      <td>NaN</td>\n",
       "      <td>NaN</td>\n",
       "      <td>NaN</td>\n",
       "      <td>193.290000</td>\n",
       "      <td>10.690000</td>\n",
       "      <td>0.000000</td>\n",
       "    </tr>\n",
       "    <tr>\n",
       "      <th>25%</th>\n",
       "      <td>NaN</td>\n",
       "      <td>5200.000000</td>\n",
       "      <td>5000.000000</td>\n",
       "      <td>4950.000000</td>\n",
       "      <td>165.520000</td>\n",
       "      <td>4.000000e+04</td>\n",
       "      <td>8.200000</td>\n",
       "      <td>0.000000</td>\n",
       "      <td>685.000000</td>\n",
       "      <td>689.000000</td>\n",
       "      <td>...</td>\n",
       "      <td>NaN</td>\n",
       "      <td>NaN</td>\n",
       "      <td>NaN</td>\n",
       "      <td>NaN</td>\n",
       "      <td>NaN</td>\n",
       "      <td>NaN</td>\n",
       "      <td>NaN</td>\n",
       "      <td>1842.750000</td>\n",
       "      <td>40.000000</td>\n",
       "      <td>0.000000</td>\n",
       "    </tr>\n",
       "    <tr>\n",
       "      <th>50%</th>\n",
       "      <td>NaN</td>\n",
       "      <td>9700.000000</td>\n",
       "      <td>9600.000000</td>\n",
       "      <td>8500.000000</td>\n",
       "      <td>277.690000</td>\n",
       "      <td>5.900000e+04</td>\n",
       "      <td>13.470000</td>\n",
       "      <td>0.000000</td>\n",
       "      <td>710.000000</td>\n",
       "      <td>714.000000</td>\n",
       "      <td>...</td>\n",
       "      <td>NaN</td>\n",
       "      <td>NaN</td>\n",
       "      <td>NaN</td>\n",
       "      <td>NaN</td>\n",
       "      <td>NaN</td>\n",
       "      <td>NaN</td>\n",
       "      <td>NaN</td>\n",
       "      <td>3499.350000</td>\n",
       "      <td>49.970000</td>\n",
       "      <td>0.000000</td>\n",
       "    </tr>\n",
       "    <tr>\n",
       "      <th>75%</th>\n",
       "      <td>NaN</td>\n",
       "      <td>15000.000000</td>\n",
       "      <td>15000.000000</td>\n",
       "      <td>14000.000000</td>\n",
       "      <td>428.180000</td>\n",
       "      <td>8.250000e+04</td>\n",
       "      <td>18.680000</td>\n",
       "      <td>0.000000</td>\n",
       "      <td>740.000000</td>\n",
       "      <td>744.000000</td>\n",
       "      <td>...</td>\n",
       "      <td>NaN</td>\n",
       "      <td>NaN</td>\n",
       "      <td>NaN</td>\n",
       "      <td>NaN</td>\n",
       "      <td>NaN</td>\n",
       "      <td>NaN</td>\n",
       "      <td>NaN</td>\n",
       "      <td>5701.100000</td>\n",
       "      <td>60.652500</td>\n",
       "      <td>0.000000</td>\n",
       "    </tr>\n",
       "    <tr>\n",
       "      <th>max</th>\n",
       "      <td>NaN</td>\n",
       "      <td>35000.000000</td>\n",
       "      <td>35000.000000</td>\n",
       "      <td>35000.000000</td>\n",
       "      <td>1305.190000</td>\n",
       "      <td>6.000000e+06</td>\n",
       "      <td>29.990000</td>\n",
       "      <td>13.000000</td>\n",
       "      <td>825.000000</td>\n",
       "      <td>829.000000</td>\n",
       "      <td>...</td>\n",
       "      <td>NaN</td>\n",
       "      <td>NaN</td>\n",
       "      <td>NaN</td>\n",
       "      <td>NaN</td>\n",
       "      <td>NaN</td>\n",
       "      <td>NaN</td>\n",
       "      <td>NaN</td>\n",
       "      <td>14798.200000</td>\n",
       "      <td>92.740000</td>\n",
       "      <td>24.000000</td>\n",
       "    </tr>\n",
       "  </tbody>\n",
       "</table>\n",
       "<p>8 rows × 120 columns</p>\n",
       "</div>"
      ],
      "text/plain": [
       "       member_id     loan_amnt   funded_amnt  funded_amnt_inv   installment  \\\n",
       "count        0.0  42535.000000  42535.000000     42535.000000  42535.000000   \n",
       "mean         NaN  11089.722581  10821.585753     10139.938785    322.623063   \n",
       "std          NaN   7410.938391   7146.914675      7131.598014    208.927216   \n",
       "min          NaN    500.000000    500.000000         0.000000     15.670000   \n",
       "25%          NaN   5200.000000   5000.000000      4950.000000    165.520000   \n",
       "50%          NaN   9700.000000   9600.000000      8500.000000    277.690000   \n",
       "75%          NaN  15000.000000  15000.000000     14000.000000    428.180000   \n",
       "max          NaN  35000.000000  35000.000000     35000.000000   1305.190000   \n",
       "\n",
       "         annual_inc           dti   delinq_2yrs  fico_range_low  \\\n",
       "count  4.253100e+04  42535.000000  42506.000000    42535.000000   \n",
       "mean   6.913656e+04     13.373043      0.152449      713.052545   \n",
       "std    6.409635e+04      6.726315      0.512406       36.188439   \n",
       "min    1.896000e+03      0.000000      0.000000      610.000000   \n",
       "25%    4.000000e+04      8.200000      0.000000      685.000000   \n",
       "50%    5.900000e+04     13.470000      0.000000      710.000000   \n",
       "75%    8.250000e+04     18.680000      0.000000      740.000000   \n",
       "max    6.000000e+06     29.990000     13.000000      825.000000   \n",
       "\n",
       "       fico_range_high  ...  payment_plan_start_date  hardship_length  \\\n",
       "count     42535.000000  ...                      0.0              0.0   \n",
       "mean        717.052545  ...                      NaN              NaN   \n",
       "std          36.188439  ...                      NaN              NaN   \n",
       "min         614.000000  ...                      NaN              NaN   \n",
       "25%         689.000000  ...                      NaN              NaN   \n",
       "50%         714.000000  ...                      NaN              NaN   \n",
       "75%         744.000000  ...                      NaN              NaN   \n",
       "max         829.000000  ...                      NaN              NaN   \n",
       "\n",
       "       hardship_dpd  hardship_loan_status  \\\n",
       "count           0.0                   0.0   \n",
       "mean            NaN                   NaN   \n",
       "std             NaN                   NaN   \n",
       "min             NaN                   NaN   \n",
       "25%             NaN                   NaN   \n",
       "50%             NaN                   NaN   \n",
       "75%             NaN                   NaN   \n",
       "max             NaN                   NaN   \n",
       "\n",
       "       orig_projected_additional_accrued_interest  \\\n",
       "count                                         0.0   \n",
       "mean                                          NaN   \n",
       "std                                           NaN   \n",
       "min                                           NaN   \n",
       "25%                                           NaN   \n",
       "50%                                           NaN   \n",
       "75%                                           NaN   \n",
       "max                                           NaN   \n",
       "\n",
       "       hardship_payoff_balance_amount  hardship_last_payment_amount  \\\n",
       "count                             0.0                           0.0   \n",
       "mean                              NaN                           NaN   \n",
       "std                               NaN                           NaN   \n",
       "min                               NaN                           NaN   \n",
       "25%                               NaN                           NaN   \n",
       "50%                               NaN                           NaN   \n",
       "75%                               NaN                           NaN   \n",
       "max                               NaN                           NaN   \n",
       "\n",
       "       settlement_amount  settlement_percentage  settlement_term  \n",
       "count         160.000000             160.000000       160.000000  \n",
       "mean         4272.137875              49.905875         1.200000  \n",
       "std          3119.373774              15.563690         4.085255  \n",
       "min           193.290000              10.690000         0.000000  \n",
       "25%          1842.750000              40.000000         0.000000  \n",
       "50%          3499.350000              49.970000         0.000000  \n",
       "75%          5701.100000              60.652500         0.000000  \n",
       "max         14798.200000              92.740000        24.000000  \n",
       "\n",
       "[8 rows x 120 columns]"
      ]
     },
     "execution_count": 9,
     "metadata": {},
     "output_type": "execute_result"
    }
   ],
   "source": [
    "df.describe()"
   ]
  },
  {
   "cell_type": "code",
   "execution_count": 10,
   "id": "7aa49e48",
   "metadata": {},
   "outputs": [],
   "source": [
    "#Importuję opis zmiennych \n",
    "df_description = pd.read_csv('LCDataDictionary.csv')"
   ]
  },
  {
   "cell_type": "code",
   "execution_count": 11,
   "id": "eb85bd1a",
   "metadata": {},
   "outputs": [],
   "source": [
    "pd.set_option('display.max_rows', 200)\n",
    "pd.set_option('display.max_columns', 151)\n",
    "pd.set_option('display.max_colwidth', 2000)\n",
    "pd.set_option('max_colwidth', 2000)\n",
    "pd.options.display.float_format = '{:.3f}'.format"
   ]
  },
  {
   "cell_type": "code",
   "execution_count": null,
   "id": "16e7a94b",
   "metadata": {},
   "outputs": [],
   "source": []
  },
  {
   "cell_type": "code",
   "execution_count": 12,
   "id": "89da83da",
   "metadata": {},
   "outputs": [
    {
     "data": {
      "text/html": [
       "<div>\n",
       "<style scoped>\n",
       "    .dataframe tbody tr th:only-of-type {\n",
       "        vertical-align: middle;\n",
       "    }\n",
       "\n",
       "    .dataframe tbody tr th {\n",
       "        vertical-align: top;\n",
       "    }\n",
       "\n",
       "    .dataframe thead th {\n",
       "        text-align: right;\n",
       "    }\n",
       "</style>\n",
       "<table border=\"1\" class=\"dataframe\">\n",
       "  <thead>\n",
       "    <tr style=\"text-align: right;\">\n",
       "      <th></th>\n",
       "      <th>LoanStatNew</th>\n",
       "      <th>Description</th>\n",
       "    </tr>\n",
       "  </thead>\n",
       "  <tbody>\n",
       "    <tr>\n",
       "      <th>0</th>\n",
       "      <td>acc_now_delinq</td>\n",
       "      <td>The number of accounts on which the borrower is now delinquent.</td>\n",
       "    </tr>\n",
       "    <tr>\n",
       "      <th>1</th>\n",
       "      <td>acc_open_past_24mths</td>\n",
       "      <td>Number of trades opened in past 24 months.</td>\n",
       "    </tr>\n",
       "    <tr>\n",
       "      <th>2</th>\n",
       "      <td>addr_state</td>\n",
       "      <td>The state provided by the borrower in the loan application</td>\n",
       "    </tr>\n",
       "    <tr>\n",
       "      <th>3</th>\n",
       "      <td>all_util</td>\n",
       "      <td>Balance to credit limit on all trades</td>\n",
       "    </tr>\n",
       "    <tr>\n",
       "      <th>4</th>\n",
       "      <td>annual_inc</td>\n",
       "      <td>The self-reported annual income provided by the borrower during registration.</td>\n",
       "    </tr>\n",
       "    <tr>\n",
       "      <th>5</th>\n",
       "      <td>annual_inc_joint</td>\n",
       "      <td>The combined self-reported annual income provided by the co-borrowers during registration</td>\n",
       "    </tr>\n",
       "    <tr>\n",
       "      <th>6</th>\n",
       "      <td>application_type</td>\n",
       "      <td>Indicates whether the loan is an individual application or a joint application with two co-borrowers</td>\n",
       "    </tr>\n",
       "    <tr>\n",
       "      <th>7</th>\n",
       "      <td>avg_cur_bal</td>\n",
       "      <td>Average current balance of all accounts</td>\n",
       "    </tr>\n",
       "    <tr>\n",
       "      <th>8</th>\n",
       "      <td>bc_open_to_buy</td>\n",
       "      <td>Total open to buy on revolving bankcards.</td>\n",
       "    </tr>\n",
       "    <tr>\n",
       "      <th>9</th>\n",
       "      <td>bc_util</td>\n",
       "      <td>Ratio of total current balance to high credit/credit limit for all bankcard accounts.</td>\n",
       "    </tr>\n",
       "    <tr>\n",
       "      <th>10</th>\n",
       "      <td>chargeoff_within_12_mths</td>\n",
       "      <td>Number of charge-offs within 12 months</td>\n",
       "    </tr>\n",
       "    <tr>\n",
       "      <th>11</th>\n",
       "      <td>collection_recovery_fee</td>\n",
       "      <td>post charge off collection fee</td>\n",
       "    </tr>\n",
       "    <tr>\n",
       "      <th>12</th>\n",
       "      <td>collections_12_mths_ex_med</td>\n",
       "      <td>Number of collections in 12 months excluding medical collections</td>\n",
       "    </tr>\n",
       "    <tr>\n",
       "      <th>13</th>\n",
       "      <td>delinq_2yrs</td>\n",
       "      <td>The number of 30+ days past-due incidences of delinquency in the borrower's credit file for the past 2 years</td>\n",
       "    </tr>\n",
       "    <tr>\n",
       "      <th>14</th>\n",
       "      <td>delinq_amnt</td>\n",
       "      <td>The past-due amount owed for the accounts on which the borrower is now delinquent.</td>\n",
       "    </tr>\n",
       "    <tr>\n",
       "      <th>15</th>\n",
       "      <td>desc</td>\n",
       "      <td>Loan description provided by the borrower</td>\n",
       "    </tr>\n",
       "    <tr>\n",
       "      <th>16</th>\n",
       "      <td>dti</td>\n",
       "      <td>A ratio calculated using the borrower’s total monthly debt payments on the total debt obligations, excluding mortgage and the requested LC loan, divided by the borrower’s self-reported monthly income.</td>\n",
       "    </tr>\n",
       "    <tr>\n",
       "      <th>17</th>\n",
       "      <td>dti_joint</td>\n",
       "      <td>A ratio calculated using the co-borrowers' total monthly payments on the total debt obligations, excluding mortgages and the requested LC loan, divided by the co-borrowers' combined self-reported monthly income</td>\n",
       "    </tr>\n",
       "    <tr>\n",
       "      <th>18</th>\n",
       "      <td>earliest_cr_line</td>\n",
       "      <td>The month the borrower's earliest reported credit line was opened</td>\n",
       "    </tr>\n",
       "    <tr>\n",
       "      <th>19</th>\n",
       "      <td>emp_length</td>\n",
       "      <td>Employment length in years. Possible values are between 0 and 10 where 0 means less than one year and 10 means ten or more years.</td>\n",
       "    </tr>\n",
       "    <tr>\n",
       "      <th>20</th>\n",
       "      <td>emp_title</td>\n",
       "      <td>The job title supplied by the Borrower when applying for the loan.*</td>\n",
       "    </tr>\n",
       "    <tr>\n",
       "      <th>21</th>\n",
       "      <td>fico_range_high</td>\n",
       "      <td>The upper boundary range the borrower’s FICO at loan origination belongs to.</td>\n",
       "    </tr>\n",
       "    <tr>\n",
       "      <th>22</th>\n",
       "      <td>fico_range_low</td>\n",
       "      <td>The lower boundary range the borrower’s FICO at loan origination belongs to.</td>\n",
       "    </tr>\n",
       "    <tr>\n",
       "      <th>23</th>\n",
       "      <td>funded_amnt</td>\n",
       "      <td>The total amount committed to that loan at that point in time.</td>\n",
       "    </tr>\n",
       "    <tr>\n",
       "      <th>24</th>\n",
       "      <td>funded_amnt_inv</td>\n",
       "      <td>The total amount committed by investors for that loan at that point in time.</td>\n",
       "    </tr>\n",
       "    <tr>\n",
       "      <th>25</th>\n",
       "      <td>grade</td>\n",
       "      <td>LC assigned loan grade</td>\n",
       "    </tr>\n",
       "    <tr>\n",
       "      <th>26</th>\n",
       "      <td>home_ownership</td>\n",
       "      <td>The home ownership status provided by the borrower during registration or obtained from the credit report. Our values are: RENT, OWN, MORTGAGE, OTHER</td>\n",
       "    </tr>\n",
       "    <tr>\n",
       "      <th>27</th>\n",
       "      <td>id</td>\n",
       "      <td>A unique LC assigned ID for the loan listing.</td>\n",
       "    </tr>\n",
       "    <tr>\n",
       "      <th>28</th>\n",
       "      <td>il_util</td>\n",
       "      <td>Ratio of total current balance to high credit/credit limit on all install acct</td>\n",
       "    </tr>\n",
       "    <tr>\n",
       "      <th>29</th>\n",
       "      <td>initial_list_status</td>\n",
       "      <td>The initial listing status of the loan. Possible values are – W, F</td>\n",
       "    </tr>\n",
       "    <tr>\n",
       "      <th>30</th>\n",
       "      <td>inq_fi</td>\n",
       "      <td>Number of personal finance inquiries</td>\n",
       "    </tr>\n",
       "    <tr>\n",
       "      <th>31</th>\n",
       "      <td>inq_last_12m</td>\n",
       "      <td>Number of credit inquiries in past 12 months</td>\n",
       "    </tr>\n",
       "    <tr>\n",
       "      <th>32</th>\n",
       "      <td>inq_last_6mths</td>\n",
       "      <td>The number of inquiries in past 6 months (excluding auto and mortgage inquiries)</td>\n",
       "    </tr>\n",
       "    <tr>\n",
       "      <th>33</th>\n",
       "      <td>installment</td>\n",
       "      <td>The monthly payment owed by the borrower if the loan originates.</td>\n",
       "    </tr>\n",
       "    <tr>\n",
       "      <th>34</th>\n",
       "      <td>int_rate</td>\n",
       "      <td>Interest Rate on the loan</td>\n",
       "    </tr>\n",
       "    <tr>\n",
       "      <th>35</th>\n",
       "      <td>issue_d</td>\n",
       "      <td>The month which the loan was funded</td>\n",
       "    </tr>\n",
       "    <tr>\n",
       "      <th>36</th>\n",
       "      <td>last_credit_pull_d</td>\n",
       "      <td>The most recent month LC pulled credit for this loan</td>\n",
       "    </tr>\n",
       "    <tr>\n",
       "      <th>37</th>\n",
       "      <td>last_fico_range_high</td>\n",
       "      <td>The upper boundary range the borrower’s last FICO pulled belongs to.</td>\n",
       "    </tr>\n",
       "    <tr>\n",
       "      <th>38</th>\n",
       "      <td>last_fico_range_low</td>\n",
       "      <td>The lower boundary range the borrower’s last FICO pulled belongs to.</td>\n",
       "    </tr>\n",
       "    <tr>\n",
       "      <th>39</th>\n",
       "      <td>last_pymnt_amnt</td>\n",
       "      <td>Last total payment amount received</td>\n",
       "    </tr>\n",
       "    <tr>\n",
       "      <th>40</th>\n",
       "      <td>last_pymnt_d</td>\n",
       "      <td>Last month payment was received</td>\n",
       "    </tr>\n",
       "    <tr>\n",
       "      <th>41</th>\n",
       "      <td>loan_amnt</td>\n",
       "      <td>The listed amount of the loan applied for by the borrower. If at some point in time, the credit department reduces the loan amount, then it will be reflected in this value.</td>\n",
       "    </tr>\n",
       "    <tr>\n",
       "      <th>42</th>\n",
       "      <td>loan_status</td>\n",
       "      <td>Current status of the loan</td>\n",
       "    </tr>\n",
       "    <tr>\n",
       "      <th>43</th>\n",
       "      <td>max_bal_bc</td>\n",
       "      <td>Maximum current balance owed on all revolving accounts</td>\n",
       "    </tr>\n",
       "    <tr>\n",
       "      <th>44</th>\n",
       "      <td>member_id</td>\n",
       "      <td>A unique LC assigned Id for the borrower member.</td>\n",
       "    </tr>\n",
       "    <tr>\n",
       "      <th>45</th>\n",
       "      <td>mo_sin_old_il_acct</td>\n",
       "      <td>Months since oldest bank installment account opened</td>\n",
       "    </tr>\n",
       "    <tr>\n",
       "      <th>46</th>\n",
       "      <td>mo_sin_old_rev_tl_op</td>\n",
       "      <td>Months since oldest revolving account opened</td>\n",
       "    </tr>\n",
       "    <tr>\n",
       "      <th>47</th>\n",
       "      <td>mo_sin_rcnt_rev_tl_op</td>\n",
       "      <td>Months since most recent revolving account opened</td>\n",
       "    </tr>\n",
       "    <tr>\n",
       "      <th>48</th>\n",
       "      <td>mo_sin_rcnt_tl</td>\n",
       "      <td>Months since most recent account opened</td>\n",
       "    </tr>\n",
       "    <tr>\n",
       "      <th>49</th>\n",
       "      <td>mort_acc</td>\n",
       "      <td>Number of mortgage accounts.</td>\n",
       "    </tr>\n",
       "    <tr>\n",
       "      <th>50</th>\n",
       "      <td>mths_since_last_delinq</td>\n",
       "      <td>The number of months since the borrower's last delinquency.</td>\n",
       "    </tr>\n",
       "    <tr>\n",
       "      <th>51</th>\n",
       "      <td>mths_since_last_major_derog</td>\n",
       "      <td>Months since most recent 90-day or worse rating</td>\n",
       "    </tr>\n",
       "    <tr>\n",
       "      <th>52</th>\n",
       "      <td>mths_since_last_record</td>\n",
       "      <td>The number of months since the last public record.</td>\n",
       "    </tr>\n",
       "    <tr>\n",
       "      <th>53</th>\n",
       "      <td>mths_since_rcnt_il</td>\n",
       "      <td>Months since most recent installment accounts opened</td>\n",
       "    </tr>\n",
       "    <tr>\n",
       "      <th>54</th>\n",
       "      <td>mths_since_recent_bc</td>\n",
       "      <td>Months since most recent bankcard account opened.</td>\n",
       "    </tr>\n",
       "    <tr>\n",
       "      <th>55</th>\n",
       "      <td>mths_since_recent_bc_dlq</td>\n",
       "      <td>Months since most recent bankcard delinquency</td>\n",
       "    </tr>\n",
       "    <tr>\n",
       "      <th>56</th>\n",
       "      <td>mths_since_recent_inq</td>\n",
       "      <td>Months since most recent inquiry.</td>\n",
       "    </tr>\n",
       "    <tr>\n",
       "      <th>57</th>\n",
       "      <td>mths_since_recent_revol_delinq</td>\n",
       "      <td>Months since most recent revolving delinquency.</td>\n",
       "    </tr>\n",
       "    <tr>\n",
       "      <th>58</th>\n",
       "      <td>next_pymnt_d</td>\n",
       "      <td>Next scheduled payment date</td>\n",
       "    </tr>\n",
       "    <tr>\n",
       "      <th>59</th>\n",
       "      <td>num_accts_ever_120_pd</td>\n",
       "      <td>Number of accounts ever 120 or more days past due</td>\n",
       "    </tr>\n",
       "    <tr>\n",
       "      <th>60</th>\n",
       "      <td>num_actv_bc_tl</td>\n",
       "      <td>Number of currently active bankcard accounts</td>\n",
       "    </tr>\n",
       "    <tr>\n",
       "      <th>61</th>\n",
       "      <td>num_actv_rev_tl</td>\n",
       "      <td>Number of currently active revolving trades</td>\n",
       "    </tr>\n",
       "    <tr>\n",
       "      <th>62</th>\n",
       "      <td>num_bc_sats</td>\n",
       "      <td>Number of satisfactory bankcard accounts</td>\n",
       "    </tr>\n",
       "    <tr>\n",
       "      <th>63</th>\n",
       "      <td>num_bc_tl</td>\n",
       "      <td>Number of bankcard accounts</td>\n",
       "    </tr>\n",
       "    <tr>\n",
       "      <th>64</th>\n",
       "      <td>num_il_tl</td>\n",
       "      <td>Number of installment accounts</td>\n",
       "    </tr>\n",
       "    <tr>\n",
       "      <th>65</th>\n",
       "      <td>num_op_rev_tl</td>\n",
       "      <td>Number of open revolving accounts</td>\n",
       "    </tr>\n",
       "    <tr>\n",
       "      <th>66</th>\n",
       "      <td>num_rev_accts</td>\n",
       "      <td>Number of revolving accounts</td>\n",
       "    </tr>\n",
       "    <tr>\n",
       "      <th>67</th>\n",
       "      <td>num_rev_tl_bal_gt_0</td>\n",
       "      <td>Number of revolving trades with balance &gt;0</td>\n",
       "    </tr>\n",
       "    <tr>\n",
       "      <th>68</th>\n",
       "      <td>num_sats</td>\n",
       "      <td>Number of satisfactory accounts</td>\n",
       "    </tr>\n",
       "    <tr>\n",
       "      <th>69</th>\n",
       "      <td>num_tl_120dpd_2m</td>\n",
       "      <td>Number of accounts currently 120 days past due (updated in past 2 months)</td>\n",
       "    </tr>\n",
       "    <tr>\n",
       "      <th>70</th>\n",
       "      <td>num_tl_30dpd</td>\n",
       "      <td>Number of accounts currently 30 days past due (updated in past 2 months)</td>\n",
       "    </tr>\n",
       "    <tr>\n",
       "      <th>71</th>\n",
       "      <td>num_tl_90g_dpd_24m</td>\n",
       "      <td>Number of accounts 90 or more days past due in last 24 months</td>\n",
       "    </tr>\n",
       "    <tr>\n",
       "      <th>72</th>\n",
       "      <td>num_tl_op_past_12m</td>\n",
       "      <td>Number of accounts opened in past 12 months</td>\n",
       "    </tr>\n",
       "    <tr>\n",
       "      <th>73</th>\n",
       "      <td>open_acc</td>\n",
       "      <td>The number of open credit lines in the borrower's credit file.</td>\n",
       "    </tr>\n",
       "    <tr>\n",
       "      <th>74</th>\n",
       "      <td>open_acc_6m</td>\n",
       "      <td>Number of open trades in last 6 months</td>\n",
       "    </tr>\n",
       "    <tr>\n",
       "      <th>75</th>\n",
       "      <td>open_il_12m</td>\n",
       "      <td>Number of installment accounts opened in past 12 months</td>\n",
       "    </tr>\n",
       "    <tr>\n",
       "      <th>76</th>\n",
       "      <td>open_il_24m</td>\n",
       "      <td>Number of installment accounts opened in past 24 months</td>\n",
       "    </tr>\n",
       "    <tr>\n",
       "      <th>77</th>\n",
       "      <td>open_act_il</td>\n",
       "      <td>Number of currently active installment trades</td>\n",
       "    </tr>\n",
       "    <tr>\n",
       "      <th>78</th>\n",
       "      <td>open_rv_12m</td>\n",
       "      <td>Number of revolving trades opened in past 12 months</td>\n",
       "    </tr>\n",
       "    <tr>\n",
       "      <th>79</th>\n",
       "      <td>open_rv_24m</td>\n",
       "      <td>Number of revolving trades opened in past 24 months</td>\n",
       "    </tr>\n",
       "    <tr>\n",
       "      <th>80</th>\n",
       "      <td>out_prncp</td>\n",
       "      <td>Remaining outstanding principal for total amount funded</td>\n",
       "    </tr>\n",
       "    <tr>\n",
       "      <th>81</th>\n",
       "      <td>out_prncp_inv</td>\n",
       "      <td>Remaining outstanding principal for portion of total amount funded by investors</td>\n",
       "    </tr>\n",
       "    <tr>\n",
       "      <th>82</th>\n",
       "      <td>pct_tl_nvr_dlq</td>\n",
       "      <td>Percent of trades never delinquent</td>\n",
       "    </tr>\n",
       "    <tr>\n",
       "      <th>83</th>\n",
       "      <td>percent_bc_gt_75</td>\n",
       "      <td>Percentage of all bankcard accounts &gt; 75% of limit.</td>\n",
       "    </tr>\n",
       "    <tr>\n",
       "      <th>84</th>\n",
       "      <td>policy_code</td>\n",
       "      <td>publicly available policy_code=1\\nnew products not publicly available policy_code=2</td>\n",
       "    </tr>\n",
       "    <tr>\n",
       "      <th>85</th>\n",
       "      <td>pub_rec</td>\n",
       "      <td>Number of derogatory public records</td>\n",
       "    </tr>\n",
       "    <tr>\n",
       "      <th>86</th>\n",
       "      <td>pub_rec_bankruptcies</td>\n",
       "      <td>Number of public record bankruptcies</td>\n",
       "    </tr>\n",
       "    <tr>\n",
       "      <th>87</th>\n",
       "      <td>purpose</td>\n",
       "      <td>A category provided by the borrower for the loan request.</td>\n",
       "    </tr>\n",
       "    <tr>\n",
       "      <th>88</th>\n",
       "      <td>pymnt_plan</td>\n",
       "      <td>Indicates if a payment plan has been put in place for the loan</td>\n",
       "    </tr>\n",
       "    <tr>\n",
       "      <th>89</th>\n",
       "      <td>recoveries</td>\n",
       "      <td>post charge off gross recovery</td>\n",
       "    </tr>\n",
       "    <tr>\n",
       "      <th>90</th>\n",
       "      <td>revol_bal</td>\n",
       "      <td>Total credit revolving balance</td>\n",
       "    </tr>\n",
       "    <tr>\n",
       "      <th>91</th>\n",
       "      <td>revol_util</td>\n",
       "      <td>Revolving line utilization rate, or the amount of credit the borrower is using relative to all available revolving credit.</td>\n",
       "    </tr>\n",
       "    <tr>\n",
       "      <th>92</th>\n",
       "      <td>sub_grade</td>\n",
       "      <td>LC assigned loan subgrade</td>\n",
       "    </tr>\n",
       "    <tr>\n",
       "      <th>93</th>\n",
       "      <td>tax_liens</td>\n",
       "      <td>Number of tax liens</td>\n",
       "    </tr>\n",
       "    <tr>\n",
       "      <th>94</th>\n",
       "      <td>term</td>\n",
       "      <td>The number of payments on the loan. Values are in months and can be either 36 or 60.</td>\n",
       "    </tr>\n",
       "    <tr>\n",
       "      <th>95</th>\n",
       "      <td>title</td>\n",
       "      <td>The loan title provided by the borrower</td>\n",
       "    </tr>\n",
       "    <tr>\n",
       "      <th>96</th>\n",
       "      <td>tot_coll_amt</td>\n",
       "      <td>Total collection amounts ever owed</td>\n",
       "    </tr>\n",
       "    <tr>\n",
       "      <th>97</th>\n",
       "      <td>tot_cur_bal</td>\n",
       "      <td>Total current balance of all accounts</td>\n",
       "    </tr>\n",
       "    <tr>\n",
       "      <th>98</th>\n",
       "      <td>tot_hi_cred_lim</td>\n",
       "      <td>Total high credit/credit limit</td>\n",
       "    </tr>\n",
       "    <tr>\n",
       "      <th>99</th>\n",
       "      <td>total_acc</td>\n",
       "      <td>The total number of credit lines currently in the borrower's credit file</td>\n",
       "    </tr>\n",
       "    <tr>\n",
       "      <th>100</th>\n",
       "      <td>total_bal_ex_mort</td>\n",
       "      <td>Total credit balance excluding mortgage</td>\n",
       "    </tr>\n",
       "    <tr>\n",
       "      <th>101</th>\n",
       "      <td>total_bal_il</td>\n",
       "      <td>Total current balance of all installment accounts</td>\n",
       "    </tr>\n",
       "    <tr>\n",
       "      <th>102</th>\n",
       "      <td>total_bc_limit</td>\n",
       "      <td>Total bankcard high credit/credit limit</td>\n",
       "    </tr>\n",
       "    <tr>\n",
       "      <th>103</th>\n",
       "      <td>total_cu_tl</td>\n",
       "      <td>Number of finance trades</td>\n",
       "    </tr>\n",
       "    <tr>\n",
       "      <th>104</th>\n",
       "      <td>total_il_high_credit_limit</td>\n",
       "      <td>Total installment high credit/credit limit</td>\n",
       "    </tr>\n",
       "    <tr>\n",
       "      <th>105</th>\n",
       "      <td>total_pymnt</td>\n",
       "      <td>Payments received to date for total amount funded</td>\n",
       "    </tr>\n",
       "    <tr>\n",
       "      <th>106</th>\n",
       "      <td>total_pymnt_inv</td>\n",
       "      <td>Payments received to date for portion of total amount funded by investors</td>\n",
       "    </tr>\n",
       "    <tr>\n",
       "      <th>107</th>\n",
       "      <td>total_rec_int</td>\n",
       "      <td>Interest received to date</td>\n",
       "    </tr>\n",
       "    <tr>\n",
       "      <th>108</th>\n",
       "      <td>total_rec_late_fee</td>\n",
       "      <td>Late fees received to date</td>\n",
       "    </tr>\n",
       "    <tr>\n",
       "      <th>109</th>\n",
       "      <td>total_rec_prncp</td>\n",
       "      <td>Principal received to date</td>\n",
       "    </tr>\n",
       "    <tr>\n",
       "      <th>110</th>\n",
       "      <td>total_rev_hi_lim</td>\n",
       "      <td>Total revolving high credit/credit limit</td>\n",
       "    </tr>\n",
       "    <tr>\n",
       "      <th>111</th>\n",
       "      <td>url</td>\n",
       "      <td>URL for the LC page with listing data.</td>\n",
       "    </tr>\n",
       "    <tr>\n",
       "      <th>112</th>\n",
       "      <td>verification_status</td>\n",
       "      <td>Indicates if income was verified by LC, not verified, or if the income source was verified</td>\n",
       "    </tr>\n",
       "    <tr>\n",
       "      <th>113</th>\n",
       "      <td>verified_status_joint</td>\n",
       "      <td>Indicates if the co-borrowers' joint income was verified by LC, not verified, or if the income source was verified</td>\n",
       "    </tr>\n",
       "    <tr>\n",
       "      <th>114</th>\n",
       "      <td>zip_code</td>\n",
       "      <td>The first 3 numbers of the zip code provided by the borrower in the loan application.</td>\n",
       "    </tr>\n",
       "    <tr>\n",
       "      <th>115</th>\n",
       "      <td>revol_bal_joint</td>\n",
       "      <td>Sum of revolving credit balance of the co-borrowers, net of duplicate balances</td>\n",
       "    </tr>\n",
       "    <tr>\n",
       "      <th>116</th>\n",
       "      <td>sec_app_fico_range_low</td>\n",
       "      <td>FICO range (high) for the secondary applicant</td>\n",
       "    </tr>\n",
       "    <tr>\n",
       "      <th>117</th>\n",
       "      <td>sec_app_fico_range_high</td>\n",
       "      <td>FICO range (low) for the secondary applicant</td>\n",
       "    </tr>\n",
       "    <tr>\n",
       "      <th>118</th>\n",
       "      <td>sec_app_earliest_cr_line</td>\n",
       "      <td>Earliest credit line at time of application for the secondary applicant</td>\n",
       "    </tr>\n",
       "    <tr>\n",
       "      <th>119</th>\n",
       "      <td>sec_app_inq_last_6mths</td>\n",
       "      <td>Credit inquiries in the last 6 months at time of application for the secondary applicant</td>\n",
       "    </tr>\n",
       "    <tr>\n",
       "      <th>120</th>\n",
       "      <td>sec_app_mort_acc</td>\n",
       "      <td>Number of mortgage accounts at time of application for the secondary applicant</td>\n",
       "    </tr>\n",
       "    <tr>\n",
       "      <th>121</th>\n",
       "      <td>sec_app_open_acc</td>\n",
       "      <td>Number of open trades at time of application for the secondary applicant</td>\n",
       "    </tr>\n",
       "    <tr>\n",
       "      <th>122</th>\n",
       "      <td>sec_app_revol_util</td>\n",
       "      <td>Ratio of total current balance to high credit/credit limit for all revolving accounts</td>\n",
       "    </tr>\n",
       "    <tr>\n",
       "      <th>123</th>\n",
       "      <td>sec_app_open_act_il</td>\n",
       "      <td>Number of currently active installment trades at time of application for the secondary applicant</td>\n",
       "    </tr>\n",
       "    <tr>\n",
       "      <th>124</th>\n",
       "      <td>sec_app_num_rev_accts</td>\n",
       "      <td>Number of revolving accounts at time of application for the secondary applicant</td>\n",
       "    </tr>\n",
       "    <tr>\n",
       "      <th>125</th>\n",
       "      <td>sec_app_chargeoff_within_12_mths</td>\n",
       "      <td>Number of charge-offs within last 12 months at time of application for the secondary applicant</td>\n",
       "    </tr>\n",
       "    <tr>\n",
       "      <th>126</th>\n",
       "      <td>sec_app_collections_12_mths_ex_med</td>\n",
       "      <td>Number of collections within last 12 months excluding medical collections at time of application for the secondary applicant</td>\n",
       "    </tr>\n",
       "    <tr>\n",
       "      <th>127</th>\n",
       "      <td>sec_app_mths_since_last_major_derog</td>\n",
       "      <td>Months since most recent 90-day or worse rating at time of application for the secondary applicant</td>\n",
       "    </tr>\n",
       "    <tr>\n",
       "      <th>128</th>\n",
       "      <td>hardship_flag</td>\n",
       "      <td>Flags whether or not the borrower is on a hardship plan</td>\n",
       "    </tr>\n",
       "    <tr>\n",
       "      <th>129</th>\n",
       "      <td>hardship_type</td>\n",
       "      <td>Describes the hardship plan offering</td>\n",
       "    </tr>\n",
       "    <tr>\n",
       "      <th>130</th>\n",
       "      <td>hardship_reason</td>\n",
       "      <td>Describes the reason the hardship plan was offered</td>\n",
       "    </tr>\n",
       "    <tr>\n",
       "      <th>131</th>\n",
       "      <td>hardship_status</td>\n",
       "      <td>Describes if the hardship plan is active, pending, canceled, completed, or broken</td>\n",
       "    </tr>\n",
       "    <tr>\n",
       "      <th>132</th>\n",
       "      <td>deferral_term</td>\n",
       "      <td>Amount of months that the borrower is expected to pay less than the contractual monthly payment amount due to a hardship plan</td>\n",
       "    </tr>\n",
       "    <tr>\n",
       "      <th>133</th>\n",
       "      <td>hardship_amount</td>\n",
       "      <td>The interest payment that the borrower has committed to make each month while they are on a hardship plan</td>\n",
       "    </tr>\n",
       "    <tr>\n",
       "      <th>134</th>\n",
       "      <td>hardship_start_date</td>\n",
       "      <td>The start date of the hardship plan period</td>\n",
       "    </tr>\n",
       "    <tr>\n",
       "      <th>135</th>\n",
       "      <td>hardship_end_date</td>\n",
       "      <td>The end date of the hardship plan period</td>\n",
       "    </tr>\n",
       "    <tr>\n",
       "      <th>136</th>\n",
       "      <td>payment_plan_start_date</td>\n",
       "      <td>The day the first hardship plan payment is due. For example, if a borrower has a hardship plan period of 3 months, the start date is the start of the three-month period in which the borrower is allowed to make interest-only payments.</td>\n",
       "    </tr>\n",
       "    <tr>\n",
       "      <th>137</th>\n",
       "      <td>hardship_length</td>\n",
       "      <td>The number of months the borrower will make smaller payments than normally obligated due to a hardship plan</td>\n",
       "    </tr>\n",
       "    <tr>\n",
       "      <th>138</th>\n",
       "      <td>hardship_dpd</td>\n",
       "      <td>Account days past due as of the hardship plan start date</td>\n",
       "    </tr>\n",
       "    <tr>\n",
       "      <th>139</th>\n",
       "      <td>hardship_loan_status</td>\n",
       "      <td>Loan Status as of the hardship plan start date</td>\n",
       "    </tr>\n",
       "    <tr>\n",
       "      <th>140</th>\n",
       "      <td>orig_projected_additional_accrued_interest</td>\n",
       "      <td>The original projected additional interest amount that will accrue for the given hardship payment plan as of the Hardship Start Date. This field will be null if the borrower has broken their hardship payment plan.</td>\n",
       "    </tr>\n",
       "    <tr>\n",
       "      <th>141</th>\n",
       "      <td>hardship_payoff_balance_amount</td>\n",
       "      <td>The payoff balance amount as of the hardship plan start date</td>\n",
       "    </tr>\n",
       "    <tr>\n",
       "      <th>142</th>\n",
       "      <td>hardship_last_payment_amount</td>\n",
       "      <td>The last payment amount as of the hardship plan start date</td>\n",
       "    </tr>\n",
       "    <tr>\n",
       "      <th>143</th>\n",
       "      <td>disbursement_method</td>\n",
       "      <td>The method by which the borrower receives their loan. Possible values are: CASH, DIRECT_PAY</td>\n",
       "    </tr>\n",
       "    <tr>\n",
       "      <th>144</th>\n",
       "      <td>debt_settlement_flag</td>\n",
       "      <td>Flags whether or not the borrower, who has charged-off, is working with a debt-settlement company.</td>\n",
       "    </tr>\n",
       "    <tr>\n",
       "      <th>145</th>\n",
       "      <td>debt_settlement_flag_date</td>\n",
       "      <td>The most recent date that the Debt_Settlement_Flag has been set</td>\n",
       "    </tr>\n",
       "    <tr>\n",
       "      <th>146</th>\n",
       "      <td>settlement_status</td>\n",
       "      <td>The status of the borrower’s settlement plan. Possible values are: COMPLETE, ACTIVE, BROKEN, CANCELLED, DENIED, DRAFT</td>\n",
       "    </tr>\n",
       "    <tr>\n",
       "      <th>147</th>\n",
       "      <td>settlement_date</td>\n",
       "      <td>The date that the borrower agrees to the settlement plan</td>\n",
       "    </tr>\n",
       "    <tr>\n",
       "      <th>148</th>\n",
       "      <td>settlement_amount</td>\n",
       "      <td>The loan amount that the borrower has agreed to settle for</td>\n",
       "    </tr>\n",
       "    <tr>\n",
       "      <th>149</th>\n",
       "      <td>settlement_percentage</td>\n",
       "      <td>The settlement amount as a percentage of the payoff balance amount on the loan</td>\n",
       "    </tr>\n",
       "    <tr>\n",
       "      <th>150</th>\n",
       "      <td>settlement_term</td>\n",
       "      <td>The number of months that the borrower will be on the settlement plan</td>\n",
       "    </tr>\n",
       "    <tr>\n",
       "      <th>151</th>\n",
       "      <td>NaN</td>\n",
       "      <td>NaN</td>\n",
       "    </tr>\n",
       "    <tr>\n",
       "      <th>152</th>\n",
       "      <td>NaN</td>\n",
       "      <td>* Employer Title replaces Employer Name for all loans listed after 9/23/2013</td>\n",
       "    </tr>\n",
       "  </tbody>\n",
       "</table>\n",
       "</div>"
      ],
      "text/plain": [
       "                                    LoanStatNew  \\\n",
       "0                                acc_now_delinq   \n",
       "1                          acc_open_past_24mths   \n",
       "2                                    addr_state   \n",
       "3                                      all_util   \n",
       "4                                    annual_inc   \n",
       "5                              annual_inc_joint   \n",
       "6                              application_type   \n",
       "7                                   avg_cur_bal   \n",
       "8                                bc_open_to_buy   \n",
       "9                                       bc_util   \n",
       "10                     chargeoff_within_12_mths   \n",
       "11                      collection_recovery_fee   \n",
       "12                   collections_12_mths_ex_med   \n",
       "13                                  delinq_2yrs   \n",
       "14                                  delinq_amnt   \n",
       "15                                         desc   \n",
       "16                                          dti   \n",
       "17                                    dti_joint   \n",
       "18                             earliest_cr_line   \n",
       "19                                   emp_length   \n",
       "20                                    emp_title   \n",
       "21                              fico_range_high   \n",
       "22                               fico_range_low   \n",
       "23                                  funded_amnt   \n",
       "24                              funded_amnt_inv   \n",
       "25                                        grade   \n",
       "26                               home_ownership   \n",
       "27                                           id   \n",
       "28                                      il_util   \n",
       "29                          initial_list_status   \n",
       "30                                       inq_fi   \n",
       "31                                 inq_last_12m   \n",
       "32                               inq_last_6mths   \n",
       "33                                  installment   \n",
       "34                                     int_rate   \n",
       "35                                      issue_d   \n",
       "36                           last_credit_pull_d   \n",
       "37                         last_fico_range_high   \n",
       "38                          last_fico_range_low   \n",
       "39                              last_pymnt_amnt   \n",
       "40                                 last_pymnt_d   \n",
       "41                                    loan_amnt   \n",
       "42                                  loan_status   \n",
       "43                                   max_bal_bc   \n",
       "44                                    member_id   \n",
       "45                           mo_sin_old_il_acct   \n",
       "46                         mo_sin_old_rev_tl_op   \n",
       "47                        mo_sin_rcnt_rev_tl_op   \n",
       "48                               mo_sin_rcnt_tl   \n",
       "49                                     mort_acc   \n",
       "50                       mths_since_last_delinq   \n",
       "51                  mths_since_last_major_derog   \n",
       "52                       mths_since_last_record   \n",
       "53                           mths_since_rcnt_il   \n",
       "54                         mths_since_recent_bc   \n",
       "55                     mths_since_recent_bc_dlq   \n",
       "56                        mths_since_recent_inq   \n",
       "57               mths_since_recent_revol_delinq   \n",
       "58                                 next_pymnt_d   \n",
       "59                        num_accts_ever_120_pd   \n",
       "60                               num_actv_bc_tl   \n",
       "61                              num_actv_rev_tl   \n",
       "62                                  num_bc_sats   \n",
       "63                                    num_bc_tl   \n",
       "64                                    num_il_tl   \n",
       "65                                num_op_rev_tl   \n",
       "66                                num_rev_accts   \n",
       "67                          num_rev_tl_bal_gt_0   \n",
       "68                                     num_sats   \n",
       "69                             num_tl_120dpd_2m   \n",
       "70                                 num_tl_30dpd   \n",
       "71                           num_tl_90g_dpd_24m   \n",
       "72                           num_tl_op_past_12m   \n",
       "73                                     open_acc   \n",
       "74                                  open_acc_6m   \n",
       "75                                  open_il_12m   \n",
       "76                                  open_il_24m   \n",
       "77                                  open_act_il   \n",
       "78                                  open_rv_12m   \n",
       "79                                  open_rv_24m   \n",
       "80                                    out_prncp   \n",
       "81                                out_prncp_inv   \n",
       "82                               pct_tl_nvr_dlq   \n",
       "83                             percent_bc_gt_75   \n",
       "84                                  policy_code   \n",
       "85                                      pub_rec   \n",
       "86                         pub_rec_bankruptcies   \n",
       "87                                      purpose   \n",
       "88                                   pymnt_plan   \n",
       "89                                   recoveries   \n",
       "90                                    revol_bal   \n",
       "91                                   revol_util   \n",
       "92                                    sub_grade   \n",
       "93                                    tax_liens   \n",
       "94                                         term   \n",
       "95                                        title   \n",
       "96                                 tot_coll_amt   \n",
       "97                                  tot_cur_bal   \n",
       "98                              tot_hi_cred_lim   \n",
       "99                                    total_acc   \n",
       "100                           total_bal_ex_mort   \n",
       "101                                total_bal_il   \n",
       "102                              total_bc_limit   \n",
       "103                                 total_cu_tl   \n",
       "104                  total_il_high_credit_limit   \n",
       "105                                 total_pymnt   \n",
       "106                             total_pymnt_inv   \n",
       "107                               total_rec_int   \n",
       "108                          total_rec_late_fee   \n",
       "109                             total_rec_prncp   \n",
       "110                          total_rev_hi_lim     \n",
       "111                                         url   \n",
       "112                         verification_status   \n",
       "113                       verified_status_joint   \n",
       "114                                    zip_code   \n",
       "115                            revol_bal_joint    \n",
       "116                     sec_app_fico_range_low    \n",
       "117                    sec_app_fico_range_high    \n",
       "118                   sec_app_earliest_cr_line    \n",
       "119                     sec_app_inq_last_6mths    \n",
       "120                           sec_app_mort_acc    \n",
       "121                           sec_app_open_acc    \n",
       "122                         sec_app_revol_util    \n",
       "123                         sec_app_open_act_il   \n",
       "124                      sec_app_num_rev_accts    \n",
       "125           sec_app_chargeoff_within_12_mths    \n",
       "126         sec_app_collections_12_mths_ex_med    \n",
       "127        sec_app_mths_since_last_major_derog    \n",
       "128                               hardship_flag   \n",
       "129                               hardship_type   \n",
       "130                             hardship_reason   \n",
       "131                             hardship_status   \n",
       "132                               deferral_term   \n",
       "133                             hardship_amount   \n",
       "134                         hardship_start_date   \n",
       "135                           hardship_end_date   \n",
       "136                     payment_plan_start_date   \n",
       "137                             hardship_length   \n",
       "138                                hardship_dpd   \n",
       "139                        hardship_loan_status   \n",
       "140  orig_projected_additional_accrued_interest   \n",
       "141              hardship_payoff_balance_amount   \n",
       "142                hardship_last_payment_amount   \n",
       "143                         disbursement_method   \n",
       "144                        debt_settlement_flag   \n",
       "145                   debt_settlement_flag_date   \n",
       "146                           settlement_status   \n",
       "147                             settlement_date   \n",
       "148                           settlement_amount   \n",
       "149                       settlement_percentage   \n",
       "150                             settlement_term   \n",
       "151                                         NaN   \n",
       "152                                         NaN   \n",
       "\n",
       "                                                                                                                                                                                                                                   Description  \n",
       "0                                                                                                                                                                              The number of accounts on which the borrower is now delinquent.  \n",
       "1                                                                                                                                                                                                   Number of trades opened in past 24 months.  \n",
       "2                                                                                                                                                                                   The state provided by the borrower in the loan application  \n",
       "3                                                                                                                                                                                                        Balance to credit limit on all trades  \n",
       "4                                                                                                                                                                The self-reported annual income provided by the borrower during registration.  \n",
       "5                                                                                                                                                    The combined self-reported annual income provided by the co-borrowers during registration  \n",
       "6                                                                                                                                         Indicates whether the loan is an individual application or a joint application with two co-borrowers  \n",
       "7                                                                                                                                                                                                      Average current balance of all accounts  \n",
       "8                                                                                                                                                                                                    Total open to buy on revolving bankcards.  \n",
       "9                                                                                                                                                        Ratio of total current balance to high credit/credit limit for all bankcard accounts.  \n",
       "10                                                                                                                                                                                                      Number of charge-offs within 12 months  \n",
       "11                                                                                                                                                                                                              post charge off collection fee  \n",
       "12                                                                                                                                                                            Number of collections in 12 months excluding medical collections  \n",
       "13                                                                                                                                The number of 30+ days past-due incidences of delinquency in the borrower's credit file for the past 2 years  \n",
       "14                                                                                                                                                          The past-due amount owed for the accounts on which the borrower is now delinquent.  \n",
       "15                                                                                                                                                                                                   Loan description provided by the borrower  \n",
       "16                                    A ratio calculated using the borrower’s total monthly debt payments on the total debt obligations, excluding mortgage and the requested LC loan, divided by the borrower’s self-reported monthly income.  \n",
       "17                          A ratio calculated using the co-borrowers' total monthly payments on the total debt obligations, excluding mortgages and the requested LC loan, divided by the co-borrowers' combined self-reported monthly income  \n",
       "18                                                                                                                                                                           The month the borrower's earliest reported credit line was opened  \n",
       "19                                                                                                          Employment length in years. Possible values are between 0 and 10 where 0 means less than one year and 10 means ten or more years.   \n",
       "20                                                                                                                                                                         The job title supplied by the Borrower when applying for the loan.*  \n",
       "21                                                                                                                                                                The upper boundary range the borrower’s FICO at loan origination belongs to.  \n",
       "22                                                                                                                                                                The lower boundary range the borrower’s FICO at loan origination belongs to.  \n",
       "23                                                                                                                                                                              The total amount committed to that loan at that point in time.  \n",
       "24                                                                                                                                                                The total amount committed by investors for that loan at that point in time.  \n",
       "25                                                                                                                                                                                                                      LC assigned loan grade  \n",
       "26                                                                                       The home ownership status provided by the borrower during registration or obtained from the credit report. Our values are: RENT, OWN, MORTGAGE, OTHER  \n",
       "27                                                                                                                                                                                               A unique LC assigned ID for the loan listing.  \n",
       "28                                                                                                                                                              Ratio of total current balance to high credit/credit limit on all install acct  \n",
       "29                                                                                                                                                                          The initial listing status of the loan. Possible values are – W, F  \n",
       "30                                                                                                                                                                                                        Number of personal finance inquiries  \n",
       "31                                                                                                                                                                                                Number of credit inquiries in past 12 months  \n",
       "32                                                                                                                                                            The number of inquiries in past 6 months (excluding auto and mortgage inquiries)  \n",
       "33                                                                                                                                                                            The monthly payment owed by the borrower if the loan originates.  \n",
       "34                                                                                                                                                                                                                   Interest Rate on the loan  \n",
       "35                                                                                                                                                                                                         The month which the loan was funded  \n",
       "36                                                                                                                                                                                        The most recent month LC pulled credit for this loan  \n",
       "37                                                                                                                                                                        The upper boundary range the borrower’s last FICO pulled belongs to.  \n",
       "38                                                                                                                                                                        The lower boundary range the borrower’s last FICO pulled belongs to.  \n",
       "39                                                                                                                                                                                                          Last total payment amount received  \n",
       "40                                                                                                                                                                                                             Last month payment was received  \n",
       "41                                                                The listed amount of the loan applied for by the borrower. If at some point in time, the credit department reduces the loan amount, then it will be reflected in this value.  \n",
       "42                                                                                                                                                                                                                  Current status of the loan  \n",
       "43                                                                                                                                                                                      Maximum current balance owed on all revolving accounts  \n",
       "44                                                                                                                                                                                            A unique LC assigned Id for the borrower member.  \n",
       "45                                                                                                                                                                                         Months since oldest bank installment account opened  \n",
       "46                                                                                                                                                                                                Months since oldest revolving account opened  \n",
       "47                                                                                                                                                                                           Months since most recent revolving account opened  \n",
       "48                                                                                                                                                                                                     Months since most recent account opened  \n",
       "49                                                                                                                                                                                                                Number of mortgage accounts.  \n",
       "50                                                                                                                                                                                 The number of months since the borrower's last delinquency.  \n",
       "51                                                                                                                                                                                             Months since most recent 90-day or worse rating  \n",
       "52                                                                                                                                                                                          The number of months since the last public record.  \n",
       "53                                                                                                                                                                                        Months since most recent installment accounts opened  \n",
       "54                                                                                                                                                                                           Months since most recent bankcard account opened.  \n",
       "55                                                                                                                                                                                               Months since most recent bankcard delinquency  \n",
       "56                                                                                                                                                                                                           Months since most recent inquiry.  \n",
       "57                                                                                                                                                                                             Months since most recent revolving delinquency.  \n",
       "58                                                                                                                                                                                                                 Next scheduled payment date  \n",
       "59                                                                                                                                                                                           Number of accounts ever 120 or more days past due  \n",
       "60                                                                                                                                                                                                Number of currently active bankcard accounts  \n",
       "61                                                                                                                                                                                                 Number of currently active revolving trades  \n",
       "62                                                                                                                                                                                                    Number of satisfactory bankcard accounts  \n",
       "63                                                                                                                                                                                                                 Number of bankcard accounts  \n",
       "64                                                                                                                                                                                                              Number of installment accounts  \n",
       "65                                                                                                                                                                                                           Number of open revolving accounts  \n",
       "66                                                                                                                                                                                                                Number of revolving accounts  \n",
       "67                                                                                                                                                                                                  Number of revolving trades with balance >0  \n",
       "68                                                                                                                                                                                                             Number of satisfactory accounts  \n",
       "69                                                                                                                                                                   Number of accounts currently 120 days past due (updated in past 2 months)  \n",
       "70                                                                                                                                                                    Number of accounts currently 30 days past due (updated in past 2 months)  \n",
       "71                                                                                                                                                                               Number of accounts 90 or more days past due in last 24 months  \n",
       "72                                                                                                                                                                                                 Number of accounts opened in past 12 months  \n",
       "73                                                                                                                                                                              The number of open credit lines in the borrower's credit file.  \n",
       "74                                                                                                                                                                                                      Number of open trades in last 6 months  \n",
       "75                                                                                                                                                                                     Number of installment accounts opened in past 12 months  \n",
       "76                                                                                                                                                                                     Number of installment accounts opened in past 24 months  \n",
       "77                                                                                                                                                                                               Number of currently active installment trades  \n",
       "78                                                                                                                                                                                         Number of revolving trades opened in past 12 months  \n",
       "79                                                                                                                                                                                         Number of revolving trades opened in past 24 months  \n",
       "80                                                                                                                                                                                     Remaining outstanding principal for total amount funded  \n",
       "81                                                                                                                                                             Remaining outstanding principal for portion of total amount funded by investors  \n",
       "82                                                                                                                                                                                                          Percent of trades never delinquent  \n",
       "83                                                                                                                                                                                         Percentage of all bankcard accounts > 75% of limit.  \n",
       "84                                                                                                                                                         publicly available policy_code=1\\nnew products not publicly available policy_code=2  \n",
       "85                                                                                                                                                                                                         Number of derogatory public records  \n",
       "86                                                                                                                                                                                                        Number of public record bankruptcies  \n",
       "87                                                                                                                                                                                  A category provided by the borrower for the loan request.   \n",
       "88                                                                                                                                                                              Indicates if a payment plan has been put in place for the loan  \n",
       "89                                                                                                                                                                                                              post charge off gross recovery  \n",
       "90                                                                                                                                                                                                              Total credit revolving balance  \n",
       "91                                                                                                                  Revolving line utilization rate, or the amount of credit the borrower is using relative to all available revolving credit.  \n",
       "92                                                                                                                                                                                                                   LC assigned loan subgrade  \n",
       "93                                                                                                                                                                                                                         Number of tax liens  \n",
       "94                                                                                                                                                        The number of payments on the loan. Values are in months and can be either 36 or 60.  \n",
       "95                                                                                                                                                                                                     The loan title provided by the borrower  \n",
       "96                                                                                                                                                                                                          Total collection amounts ever owed  \n",
       "97                                                                                                                                                                                                       Total current balance of all accounts  \n",
       "98                                                                                                                                                                                                              Total high credit/credit limit  \n",
       "99                                                                                                                                                                    The total number of credit lines currently in the borrower's credit file  \n",
       "100                                                                                                                                                                                                    Total credit balance excluding mortgage  \n",
       "101                                                                                                                                                                                          Total current balance of all installment accounts  \n",
       "102                                                                                                                                                                                                    Total bankcard high credit/credit limit  \n",
       "103                                                                                                                                                                                                                   Number of finance trades  \n",
       "104                                                                                                                                                                                                 Total installment high credit/credit limit  \n",
       "105                                                                                                                                                                                          Payments received to date for total amount funded  \n",
       "106                                                                                                                                                                  Payments received to date for portion of total amount funded by investors  \n",
       "107                                                                                                                                                                                                                  Interest received to date  \n",
       "108                                                                                                                                                                                                                 Late fees received to date  \n",
       "109                                                                                                                                                                                                                 Principal received to date  \n",
       "110                                                                                                                                                                                                   Total revolving high credit/credit limit  \n",
       "111                                                                                                                                                                                                     URL for the LC page with listing data.  \n",
       "112                                                                                                                                                 Indicates if income was verified by LC, not verified, or if the income source was verified  \n",
       "113                                                                                                                         Indicates if the co-borrowers' joint income was verified by LC, not verified, or if the income source was verified  \n",
       "114                                                                                                                                                      The first 3 numbers of the zip code provided by the borrower in the loan application.  \n",
       "115                                                                                                                                                             Sum of revolving credit balance of the co-borrowers, net of duplicate balances  \n",
       "116                                                                                                                                                                                              FICO range (high) for the secondary applicant  \n",
       "117                                                                                                                                                                                               FICO range (low) for the secondary applicant  \n",
       "118                                                                                                                                                                    Earliest credit line at time of application for the secondary applicant  \n",
       "119                                                                                                                                                   Credit inquiries in the last 6 months at time of application for the secondary applicant  \n",
       "120                                                                                                                                                             Number of mortgage accounts at time of application for the secondary applicant  \n",
       "121                                                                                                                                                                   Number of open trades at time of application for the secondary applicant  \n",
       "122                                                                                                                                                      Ratio of total current balance to high credit/credit limit for all revolving accounts  \n",
       "123                                                                                                                                           Number of currently active installment trades at time of application for the secondary applicant  \n",
       "124                                                                                                                                                            Number of revolving accounts at time of application for the secondary applicant  \n",
       "125                                                                                                                                             Number of charge-offs within last 12 months at time of application for the secondary applicant  \n",
       "126                                                                                                               Number of collections within last 12 months excluding medical collections at time of application for the secondary applicant  \n",
       "127                                                                                                                                         Months since most recent 90-day or worse rating at time of application for the secondary applicant  \n",
       "128                                                                                                                                                                                    Flags whether or not the borrower is on a hardship plan  \n",
       "129                                                                                                                                                                                                       Describes the hardship plan offering  \n",
       "130                                                                                                                                                                                         Describes the reason the hardship plan was offered  \n",
       "131                                                                                                                                                          Describes if the hardship plan is active, pending, canceled, completed, or broken  \n",
       "132                                                                                                              Amount of months that the borrower is expected to pay less than the contractual monthly payment amount due to a hardship plan  \n",
       "133                                                                                                                                  The interest payment that the borrower has committed to make each month while they are on a hardship plan  \n",
       "134                                                                                                                                                                                                 The start date of the hardship plan period  \n",
       "135                                                                                                                                                                                                   The end date of the hardship plan period  \n",
       "136  The day the first hardship plan payment is due. For example, if a borrower has a hardship plan period of 3 months, the start date is the start of the three-month period in which the borrower is allowed to make interest-only payments.  \n",
       "137                                                                                                                                The number of months the borrower will make smaller payments than normally obligated due to a hardship plan  \n",
       "138                                                                                                                                                                                   Account days past due as of the hardship plan start date  \n",
       "139                                                                                                                                                                                             Loan Status as of the hardship plan start date  \n",
       "140                      The original projected additional interest amount that will accrue for the given hardship payment plan as of the Hardship Start Date. This field will be null if the borrower has broken their hardship payment plan.  \n",
       "141                                                                                                                                                                               The payoff balance amount as of the hardship plan start date  \n",
       "142                                                                                                                                                                                 The last payment amount as of the hardship plan start date  \n",
       "143                                                                                                                                                The method by which the borrower receives their loan. Possible values are: CASH, DIRECT_PAY  \n",
       "144                                                                                                                                         Flags whether or not the borrower, who has charged-off, is working with a debt-settlement company.  \n",
       "145                                                                                                                                                                          The most recent date that the Debt_Settlement_Flag has been set    \n",
       "146                                                                                                                      The status of the borrower’s settlement plan. Possible values are: COMPLETE, ACTIVE, BROKEN, CANCELLED, DENIED, DRAFT  \n",
       "147                                                                                                                                                                                   The date that the borrower agrees to the settlement plan  \n",
       "148                                                                                                                                                                                 The loan amount that the borrower has agreed to settle for  \n",
       "149                                                                                                                                                             The settlement amount as a percentage of the payoff balance amount on the loan  \n",
       "150                                                                                                                                                                      The number of months that the borrower will be on the settlement plan  \n",
       "151                                                                                                                                                                                                                                        NaN  \n",
       "152                                                                                                                                                               * Employer Title replaces Employer Name for all loans listed after 9/23/2013  "
      ]
     },
     "execution_count": 12,
     "metadata": {},
     "output_type": "execute_result"
    }
   ],
   "source": [
    "df_description[['LoanStatNew', 'Description']]"
   ]
  },
  {
   "cell_type": "markdown",
   "id": "eb120ba0",
   "metadata": {},
   "source": [
    "### Sprawdzam brakujące wartości"
   ]
  },
  {
   "cell_type": "code",
   "execution_count": 13,
   "id": "50d9d9fd",
   "metadata": {
    "scrolled": true
   },
   "outputs": [
    {
     "data": {
      "text/plain": [
       "id                                                0\n",
       "member_id                                     42536\n",
       "loan_amnt                                         1\n",
       "funded_amnt                                       1\n",
       "funded_amnt_inv                                   1\n",
       "term                                              1\n",
       "int_rate                                          1\n",
       "installment                                       1\n",
       "grade                                             1\n",
       "sub_grade                                         1\n",
       "emp_title                                      2627\n",
       "emp_length                                     1113\n",
       "home_ownership                                    1\n",
       "annual_inc                                        5\n",
       "verification_status                               1\n",
       "issue_d                                           1\n",
       "loan_status                                       1\n",
       "pymnt_plan                                        1\n",
       "url                                               1\n",
       "desc                                          13294\n",
       "purpose                                           1\n",
       "title                                            14\n",
       "zip_code                                          1\n",
       "addr_state                                        1\n",
       "dti                                               1\n",
       "delinq_2yrs                                      30\n",
       "earliest_cr_line                                 30\n",
       "fico_range_low                                    1\n",
       "fico_range_high                                   1\n",
       "inq_last_6mths                                   30\n",
       "mths_since_last_delinq                        26927\n",
       "mths_since_last_record                        38885\n",
       "open_acc                                         30\n",
       "pub_rec                                          30\n",
       "revol_bal                                         1\n",
       "revol_util                                       91\n",
       "total_acc                                        30\n",
       "initial_list_status                               1\n",
       "out_prncp                                         1\n",
       "out_prncp_inv                                     1\n",
       "total_pymnt                                       1\n",
       "total_pymnt_inv                                   1\n",
       "total_rec_prncp                                   1\n",
       "total_rec_int                                     1\n",
       "total_rec_late_fee                                1\n",
       "recoveries                                        1\n",
       "collection_recovery_fee                           1\n",
       "last_pymnt_d                                     84\n",
       "last_pymnt_amnt                                   1\n",
       "next_pymnt_d                                  39787\n",
       "last_credit_pull_d                                5\n",
       "last_fico_range_high                              1\n",
       "last_fico_range_low                               1\n",
       "collections_12_mths_ex_med                      146\n",
       "mths_since_last_major_derog                   42536\n",
       "policy_code                                       1\n",
       "application_type                                  1\n",
       "annual_inc_joint                              42536\n",
       "dti_joint                                     42536\n",
       "verification_status_joint                     42536\n",
       "acc_now_delinq                                   30\n",
       "tot_coll_amt                                  42536\n",
       "tot_cur_bal                                   42536\n",
       "open_acc_6m                                   42536\n",
       "open_act_il                                   42536\n",
       "open_il_12m                                   42536\n",
       "open_il_24m                                   42536\n",
       "mths_since_rcnt_il                            42536\n",
       "total_bal_il                                  42536\n",
       "il_util                                       42536\n",
       "open_rv_12m                                   42536\n",
       "open_rv_24m                                   42536\n",
       "max_bal_bc                                    42536\n",
       "all_util                                      42536\n",
       "total_rev_hi_lim                              42536\n",
       "inq_fi                                        42536\n",
       "total_cu_tl                                   42536\n",
       "inq_last_12m                                  42536\n",
       "acc_open_past_24mths                          42536\n",
       "avg_cur_bal                                   42536\n",
       "bc_open_to_buy                                42536\n",
       "bc_util                                       42536\n",
       "chargeoff_within_12_mths                        146\n",
       "delinq_amnt                                      30\n",
       "mo_sin_old_il_acct                            42536\n",
       "mo_sin_old_rev_tl_op                          42536\n",
       "mo_sin_rcnt_rev_tl_op                         42536\n",
       "mo_sin_rcnt_tl                                42536\n",
       "mort_acc                                      42536\n",
       "mths_since_recent_bc                          42536\n",
       "mths_since_recent_bc_dlq                      42536\n",
       "mths_since_recent_inq                         42536\n",
       "mths_since_recent_revol_delinq                42536\n",
       "num_accts_ever_120_pd                         42536\n",
       "num_actv_bc_tl                                42536\n",
       "num_actv_rev_tl                               42536\n",
       "num_bc_sats                                   42536\n",
       "num_bc_tl                                     42536\n",
       "num_il_tl                                     42536\n",
       "num_op_rev_tl                                 42536\n",
       "num_rev_accts                                 42536\n",
       "num_rev_tl_bal_gt_0                           42536\n",
       "num_sats                                      42536\n",
       "num_tl_120dpd_2m                              42536\n",
       "num_tl_30dpd                                  42536\n",
       "num_tl_90g_dpd_24m                            42536\n",
       "num_tl_op_past_12m                            42536\n",
       "pct_tl_nvr_dlq                                42536\n",
       "percent_bc_gt_75                              42536\n",
       "pub_rec_bankruptcies                           1366\n",
       "tax_liens                                       106\n",
       "tot_hi_cred_lim                               42536\n",
       "total_bal_ex_mort                             42536\n",
       "total_bc_limit                                42536\n",
       "total_il_high_credit_limit                    42536\n",
       "revol_bal_joint                               42536\n",
       "sec_app_fico_range_low                        42536\n",
       "sec_app_fico_range_high                       42536\n",
       "sec_app_earliest_cr_line                      42536\n",
       "sec_app_inq_last_6mths                        42536\n",
       "sec_app_mort_acc                              42536\n",
       "sec_app_open_acc                              42536\n",
       "sec_app_revol_util                            42536\n",
       "sec_app_open_act_il                           42536\n",
       "sec_app_num_rev_accts                         42536\n",
       "sec_app_chargeoff_within_12_mths              42536\n",
       "sec_app_collections_12_mths_ex_med            42536\n",
       "sec_app_mths_since_last_major_derog           42536\n",
       "hardship_flag                                     1\n",
       "hardship_type                                 42536\n",
       "hardship_reason                               42536\n",
       "hardship_status                               42536\n",
       "deferral_term                                 42536\n",
       "hardship_amount                               42536\n",
       "hardship_start_date                           42536\n",
       "hardship_end_date                             42536\n",
       "payment_plan_start_date                       42536\n",
       "hardship_length                               42536\n",
       "hardship_dpd                                  42536\n",
       "hardship_loan_status                          42536\n",
       "orig_projected_additional_accrued_interest    42536\n",
       "hardship_payoff_balance_amount                42536\n",
       "hardship_last_payment_amount                  42536\n",
       "disbursement_method                               1\n",
       "debt_settlement_flag                              1\n",
       "debt_settlement_flag_date                     42376\n",
       "settlement_status                             42376\n",
       "settlement_date                               42376\n",
       "settlement_amount                             42376\n",
       "settlement_percentage                         42376\n",
       "settlement_term                               42376\n",
       "dtype: int64"
      ]
     },
     "execution_count": 13,
     "metadata": {},
     "output_type": "execute_result"
    }
   ],
   "source": [
    "df.isna().sum()"
   ]
  },
  {
   "cell_type": "code",
   "execution_count": 14,
   "id": "2f67fcc9",
   "metadata": {},
   "outputs": [],
   "source": [
    "#Sprawdzam i usuwam kolumny w 100% z nan"
   ]
  },
  {
   "cell_type": "code",
   "execution_count": 15,
   "id": "783d086f",
   "metadata": {},
   "outputs": [],
   "source": [
    "nan_cols = [i for i in df.columns if df[i].isnull().all()]"
   ]
  },
  {
   "cell_type": "code",
   "execution_count": 16,
   "id": "a4b84f01",
   "metadata": {},
   "outputs": [
    {
     "data": {
      "text/plain": [
       "['member_id',\n",
       " 'mths_since_last_major_derog',\n",
       " 'annual_inc_joint',\n",
       " 'dti_joint',\n",
       " 'verification_status_joint',\n",
       " 'tot_coll_amt',\n",
       " 'tot_cur_bal',\n",
       " 'open_acc_6m',\n",
       " 'open_act_il',\n",
       " 'open_il_12m',\n",
       " 'open_il_24m',\n",
       " 'mths_since_rcnt_il',\n",
       " 'total_bal_il',\n",
       " 'il_util',\n",
       " 'open_rv_12m',\n",
       " 'open_rv_24m',\n",
       " 'max_bal_bc',\n",
       " 'all_util',\n",
       " 'total_rev_hi_lim',\n",
       " 'inq_fi',\n",
       " 'total_cu_tl',\n",
       " 'inq_last_12m',\n",
       " 'acc_open_past_24mths',\n",
       " 'avg_cur_bal',\n",
       " 'bc_open_to_buy',\n",
       " 'bc_util',\n",
       " 'mo_sin_old_il_acct',\n",
       " 'mo_sin_old_rev_tl_op',\n",
       " 'mo_sin_rcnt_rev_tl_op',\n",
       " 'mo_sin_rcnt_tl',\n",
       " 'mort_acc',\n",
       " 'mths_since_recent_bc',\n",
       " 'mths_since_recent_bc_dlq',\n",
       " 'mths_since_recent_inq',\n",
       " 'mths_since_recent_revol_delinq',\n",
       " 'num_accts_ever_120_pd',\n",
       " 'num_actv_bc_tl',\n",
       " 'num_actv_rev_tl',\n",
       " 'num_bc_sats',\n",
       " 'num_bc_tl',\n",
       " 'num_il_tl',\n",
       " 'num_op_rev_tl',\n",
       " 'num_rev_accts',\n",
       " 'num_rev_tl_bal_gt_0',\n",
       " 'num_sats',\n",
       " 'num_tl_120dpd_2m',\n",
       " 'num_tl_30dpd',\n",
       " 'num_tl_90g_dpd_24m',\n",
       " 'num_tl_op_past_12m',\n",
       " 'pct_tl_nvr_dlq',\n",
       " 'percent_bc_gt_75',\n",
       " 'tot_hi_cred_lim',\n",
       " 'total_bal_ex_mort',\n",
       " 'total_bc_limit',\n",
       " 'total_il_high_credit_limit',\n",
       " 'revol_bal_joint',\n",
       " 'sec_app_fico_range_low',\n",
       " 'sec_app_fico_range_high',\n",
       " 'sec_app_earliest_cr_line',\n",
       " 'sec_app_inq_last_6mths',\n",
       " 'sec_app_mort_acc',\n",
       " 'sec_app_open_acc',\n",
       " 'sec_app_revol_util',\n",
       " 'sec_app_open_act_il',\n",
       " 'sec_app_num_rev_accts',\n",
       " 'sec_app_chargeoff_within_12_mths',\n",
       " 'sec_app_collections_12_mths_ex_med',\n",
       " 'sec_app_mths_since_last_major_derog',\n",
       " 'hardship_type',\n",
       " 'hardship_reason',\n",
       " 'hardship_status',\n",
       " 'deferral_term',\n",
       " 'hardship_amount',\n",
       " 'hardship_start_date',\n",
       " 'hardship_end_date',\n",
       " 'payment_plan_start_date',\n",
       " 'hardship_length',\n",
       " 'hardship_dpd',\n",
       " 'hardship_loan_status',\n",
       " 'orig_projected_additional_accrued_interest',\n",
       " 'hardship_payoff_balance_amount',\n",
       " 'hardship_last_payment_amount']"
      ]
     },
     "execution_count": 16,
     "metadata": {},
     "output_type": "execute_result"
    }
   ],
   "source": [
    "nan_cols"
   ]
  },
  {
   "cell_type": "code",
   "execution_count": 17,
   "id": "bc711c01",
   "metadata": {},
   "outputs": [],
   "source": [
    "df.drop(\n",
    "['member_id',\n",
    " 'mths_since_last_major_derog',\n",
    " 'annual_inc_joint',\n",
    " 'dti_joint',\n",
    " 'verification_status_joint',\n",
    " 'tot_coll_amt',\n",
    " 'tot_cur_bal',\n",
    " 'open_acc_6m',\n",
    " 'open_act_il',\n",
    " 'open_il_12m',\n",
    " 'open_il_24m',\n",
    " 'mths_since_rcnt_il',\n",
    " 'total_bal_il',\n",
    " 'il_util',\n",
    " 'open_rv_12m',\n",
    " 'open_rv_24m',\n",
    " 'max_bal_bc',\n",
    " 'all_util',\n",
    " 'total_rev_hi_lim',\n",
    " 'inq_fi',\n",
    " 'total_cu_tl',\n",
    " 'inq_last_12m',\n",
    " 'acc_open_past_24mths',\n",
    " 'avg_cur_bal',\n",
    " 'bc_open_to_buy',\n",
    " 'bc_util',\n",
    " 'mo_sin_old_il_acct',\n",
    " 'mo_sin_old_rev_tl_op',\n",
    " 'mo_sin_rcnt_rev_tl_op',\n",
    " 'mo_sin_rcnt_tl',\n",
    " 'mort_acc',\n",
    " 'mths_since_recent_bc',\n",
    " 'mths_since_recent_bc_dlq',\n",
    " 'mths_since_recent_inq',\n",
    " 'mths_since_recent_revol_delinq',\n",
    " 'num_accts_ever_120_pd',\n",
    " 'num_actv_bc_tl',\n",
    " 'num_actv_rev_tl',\n",
    " 'num_bc_sats',\n",
    " 'num_bc_tl',\n",
    " 'num_il_tl',\n",
    " 'num_op_rev_tl',\n",
    " 'num_rev_accts',\n",
    " 'num_rev_tl_bal_gt_0',\n",
    " 'num_sats',\n",
    " 'num_tl_120dpd_2m',\n",
    " 'num_tl_30dpd',\n",
    " 'num_tl_90g_dpd_24m',\n",
    " 'num_tl_op_past_12m',\n",
    " 'pct_tl_nvr_dlq',\n",
    " 'percent_bc_gt_75',\n",
    " 'tot_hi_cred_lim',\n",
    " 'total_bal_ex_mort',\n",
    " 'total_bc_limit',\n",
    " 'total_il_high_credit_limit',\n",
    " 'revol_bal_joint',\n",
    " 'sec_app_fico_range_low',\n",
    " 'sec_app_fico_range_high',\n",
    " 'sec_app_earliest_cr_line',\n",
    " 'sec_app_inq_last_6mths',\n",
    " 'sec_app_mort_acc',\n",
    " 'sec_app_open_acc',\n",
    " 'sec_app_revol_util',\n",
    " 'sec_app_open_act_il',\n",
    " 'sec_app_num_rev_accts',\n",
    " 'sec_app_chargeoff_within_12_mths',\n",
    " 'sec_app_collections_12_mths_ex_med',\n",
    " 'sec_app_mths_since_last_major_derog',\n",
    " 'hardship_type',\n",
    " 'hardship_reason',\n",
    " 'hardship_status',\n",
    " 'deferral_term',\n",
    " 'hardship_amount',\n",
    " 'hardship_start_date',\n",
    " 'hardship_end_date',\n",
    " 'payment_plan_start_date',\n",
    " 'hardship_length',\n",
    " 'hardship_dpd',\n",
    " 'hardship_loan_status',\n",
    " 'orig_projected_additional_accrued_interest',\n",
    " 'hardship_payoff_balance_amount',\n",
    " 'hardship_last_payment_amount'], \n",
    "axis=1, inplace=True)"
   ]
  },
  {
   "cell_type": "code",
   "execution_count": 18,
   "id": "0c9ea317",
   "metadata": {},
   "outputs": [],
   "source": [
    "#Usuwam kolumny, które zawierają nan w 85% "
   ]
  },
  {
   "cell_type": "code",
   "execution_count": 19,
   "id": "0cb9d82f",
   "metadata": {},
   "outputs": [],
   "source": [
    "nan_cols85 = [i for i in df.columns if df[i].isnull().sum() > 0.85*len(df)]"
   ]
  },
  {
   "cell_type": "code",
   "execution_count": 20,
   "id": "63f93644",
   "metadata": {},
   "outputs": [
    {
     "data": {
      "text/plain": [
       "['mths_since_last_record',\n",
       " 'next_pymnt_d',\n",
       " 'debt_settlement_flag_date',\n",
       " 'settlement_status',\n",
       " 'settlement_date',\n",
       " 'settlement_amount',\n",
       " 'settlement_percentage',\n",
       " 'settlement_term']"
      ]
     },
     "execution_count": 20,
     "metadata": {},
     "output_type": "execute_result"
    }
   ],
   "source": [
    "nan_cols85"
   ]
  },
  {
   "cell_type": "code",
   "execution_count": 21,
   "id": "e13ad279",
   "metadata": {},
   "outputs": [],
   "source": [
    "df.drop(\n",
    "['mths_since_last_record',\n",
    " 'next_pymnt_d',\n",
    " 'debt_settlement_flag_date',\n",
    " 'settlement_status',\n",
    " 'settlement_date',\n",
    " 'settlement_amount',\n",
    " 'settlement_percentage',\n",
    " 'settlement_term'],\n",
    "axis=1, inplace=True)"
   ]
  },
  {
   "cell_type": "code",
   "execution_count": 22,
   "id": "b0a84073",
   "metadata": {},
   "outputs": [],
   "source": [
    "#Usunięcie kolumn ze zbędnymi informacjami"
   ]
  },
  {
   "cell_type": "code",
   "execution_count": 23,
   "id": "b4341270",
   "metadata": {},
   "outputs": [],
   "source": [
    "df.drop(\n",
    "['url', \n",
    " 'id', \n",
    " 'zip_code', \n",
    " 'addr_state', \n",
    " 'title',\n",
    " 'last_pymnt_amnt',\n",
    " 'last_pymnt_d', \n",
    " 'last_credit_pull_d',\n",
    " 'emp_title',\n",
    " 'disbursement_method',\n",
    " 'recoveries',\n",
    " 'collection_recovery_fee',\n",
    " 'sub_grade',\n",
    " 'revol_bal',\n",
    " 'revol_util',\n",
    " 'funded_amnt_inv'],\n",
    "axis=1, inplace=True)"
   ]
  },
  {
   "cell_type": "code",
   "execution_count": 24,
   "id": "353ff97d",
   "metadata": {},
   "outputs": [],
   "source": [
    "#Usunięcie kolumn, które zawierają informacje z przyszłości, niedostępne w momencie udzielania pożyczki"
   ]
  },
  {
   "cell_type": "code",
   "execution_count": 25,
   "id": "62cbeca6",
   "metadata": {},
   "outputs": [],
   "source": [
    "df.drop(\n",
    "['delinq_2yrs', \n",
    " 'mths_since_last_delinq', \n",
    " 'delinq_amnt', \n",
    " 'hardship_flag', \n",
    " 'acc_now_delinq',\n",
    " 'chargeoff_within_12_mths',\n",
    " 'debt_settlement_flag',\n",
    " 'total_pymnt',\n",
    " 'total_pymnt_inv',\n",
    " 'total_rec_prncp',\n",
    " 'total_rec_int',\n",
    " 'total_rec_late_fee',\n",
    " 'last_fico_range_high',\n",
    " 'last_fico_range_low'],\n",
    "axis=1, inplace=True)"
   ]
  },
  {
   "cell_type": "code",
   "execution_count": 26,
   "id": "49389654",
   "metadata": {},
   "outputs": [],
   "source": [
    "# Sprawdzam, które kolumny przyjmują tylko jedną wartość. Sprawdzam też, czy zawierają NaNy (duża ilość brakujących wartości \n",
    "# może oznaczać, że mogą one dać jakąś informację - wprowadzając dane ktoś nie wpisywał jakiejś wartości, ale zostawiał puste miejsca)"
   ]
  },
  {
   "cell_type": "code",
   "execution_count": 27,
   "id": "4931ee8e",
   "metadata": {},
   "outputs": [
    {
     "data": {
      "text/plain": [
       "Individual    42535\n",
       "Name: application_type, dtype: int64"
      ]
     },
     "execution_count": 27,
     "metadata": {},
     "output_type": "execute_result"
    }
   ],
   "source": [
    "df['application_type'].value_counts()"
   ]
  },
  {
   "cell_type": "code",
   "execution_count": 28,
   "id": "ae284fa6",
   "metadata": {},
   "outputs": [
    {
     "data": {
      "text/plain": [
       "1"
      ]
     },
     "execution_count": 28,
     "metadata": {},
     "output_type": "execute_result"
    }
   ],
   "source": [
    "df['application_type'].isnull().sum()"
   ]
  },
  {
   "cell_type": "code",
   "execution_count": 29,
   "id": "05f69d95",
   "metadata": {},
   "outputs": [],
   "source": [
    "df.drop(\n",
    "['application_type'],\n",
    "axis=1, inplace=True)"
   ]
  },
  {
   "cell_type": "code",
   "execution_count": null,
   "id": "61be4f0d",
   "metadata": {},
   "outputs": [],
   "source": []
  },
  {
   "cell_type": "code",
   "execution_count": 30,
   "id": "f9097f1f",
   "metadata": {},
   "outputs": [
    {
     "data": {
      "text/plain": [
       "n    42535\n",
       "Name: pymnt_plan, dtype: int64"
      ]
     },
     "execution_count": 30,
     "metadata": {},
     "output_type": "execute_result"
    }
   ],
   "source": [
    "df['pymnt_plan'].value_counts()"
   ]
  },
  {
   "cell_type": "code",
   "execution_count": 31,
   "id": "f5cbce24",
   "metadata": {},
   "outputs": [
    {
     "data": {
      "text/plain": [
       "1"
      ]
     },
     "execution_count": 31,
     "metadata": {},
     "output_type": "execute_result"
    }
   ],
   "source": [
    "df['pymnt_plan'].isnull().sum()"
   ]
  },
  {
   "cell_type": "code",
   "execution_count": 32,
   "id": "831f5830",
   "metadata": {},
   "outputs": [],
   "source": [
    "df.drop(\n",
    "['pymnt_plan'],\n",
    "axis=1, inplace=True)"
   ]
  },
  {
   "cell_type": "code",
   "execution_count": null,
   "id": "1c7d466a",
   "metadata": {},
   "outputs": [],
   "source": []
  },
  {
   "cell_type": "code",
   "execution_count": 33,
   "id": "02667ac6",
   "metadata": {},
   "outputs": [
    {
     "data": {
      "text/plain": [
       "f    42535\n",
       "Name: initial_list_status, dtype: int64"
      ]
     },
     "execution_count": 33,
     "metadata": {},
     "output_type": "execute_result"
    }
   ],
   "source": [
    "df['initial_list_status'].value_counts()"
   ]
  },
  {
   "cell_type": "code",
   "execution_count": 34,
   "id": "6ba417eb",
   "metadata": {},
   "outputs": [
    {
     "data": {
      "text/plain": [
       "1"
      ]
     },
     "execution_count": 34,
     "metadata": {},
     "output_type": "execute_result"
    }
   ],
   "source": [
    "df['initial_list_status'].isnull().sum()"
   ]
  },
  {
   "cell_type": "code",
   "execution_count": 35,
   "id": "0f328262",
   "metadata": {},
   "outputs": [],
   "source": [
    "df.drop(\n",
    "['initial_list_status'],\n",
    "axis=1, inplace=True)"
   ]
  },
  {
   "cell_type": "code",
   "execution_count": null,
   "id": "7dccb8ec",
   "metadata": {},
   "outputs": [],
   "source": []
  },
  {
   "cell_type": "code",
   "execution_count": 36,
   "id": "54799d99",
   "metadata": {},
   "outputs": [
    {
     "data": {
      "text/plain": [
       "0.000    42535\n",
       "Name: out_prncp, dtype: int64"
      ]
     },
     "execution_count": 36,
     "metadata": {},
     "output_type": "execute_result"
    }
   ],
   "source": [
    "df['out_prncp'].value_counts()"
   ]
  },
  {
   "cell_type": "code",
   "execution_count": 37,
   "id": "89cff7ef",
   "metadata": {},
   "outputs": [
    {
     "data": {
      "text/plain": [
       "1"
      ]
     },
     "execution_count": 37,
     "metadata": {},
     "output_type": "execute_result"
    }
   ],
   "source": [
    "df['out_prncp'].isnull().sum()"
   ]
  },
  {
   "cell_type": "code",
   "execution_count": 38,
   "id": "95e70d81",
   "metadata": {},
   "outputs": [],
   "source": [
    "df.drop(\n",
    "['out_prncp'],\n",
    "axis=1, inplace=True)"
   ]
  },
  {
   "cell_type": "code",
   "execution_count": null,
   "id": "5ea26f67",
   "metadata": {},
   "outputs": [],
   "source": []
  },
  {
   "cell_type": "code",
   "execution_count": 39,
   "id": "c83def15",
   "metadata": {},
   "outputs": [
    {
     "data": {
      "text/plain": [
       "0.000    42535\n",
       "Name: out_prncp_inv, dtype: int64"
      ]
     },
     "execution_count": 39,
     "metadata": {},
     "output_type": "execute_result"
    }
   ],
   "source": [
    "df['out_prncp_inv'].value_counts()"
   ]
  },
  {
   "cell_type": "code",
   "execution_count": 40,
   "id": "36079f25",
   "metadata": {},
   "outputs": [
    {
     "data": {
      "text/plain": [
       "1"
      ]
     },
     "execution_count": 40,
     "metadata": {},
     "output_type": "execute_result"
    }
   ],
   "source": [
    "df['out_prncp_inv'].isnull().sum()"
   ]
  },
  {
   "cell_type": "code",
   "execution_count": 41,
   "id": "3fa66175",
   "metadata": {},
   "outputs": [],
   "source": [
    "df.drop(\n",
    "['out_prncp_inv'],\n",
    "axis=1, inplace=True)"
   ]
  },
  {
   "cell_type": "code",
   "execution_count": null,
   "id": "a009de61",
   "metadata": {},
   "outputs": [],
   "source": []
  },
  {
   "cell_type": "code",
   "execution_count": 42,
   "id": "8398c9b9",
   "metadata": {},
   "outputs": [
    {
     "data": {
      "text/plain": [
       "1.000    42535\n",
       "Name: policy_code, dtype: int64"
      ]
     },
     "execution_count": 42,
     "metadata": {},
     "output_type": "execute_result"
    }
   ],
   "source": [
    "df['policy_code'].value_counts()"
   ]
  },
  {
   "cell_type": "code",
   "execution_count": 43,
   "id": "f9cd140b",
   "metadata": {},
   "outputs": [
    {
     "data": {
      "text/plain": [
       "1"
      ]
     },
     "execution_count": 43,
     "metadata": {},
     "output_type": "execute_result"
    }
   ],
   "source": [
    "df['policy_code'].isnull().sum()"
   ]
  },
  {
   "cell_type": "code",
   "execution_count": 44,
   "id": "52c00ddf",
   "metadata": {},
   "outputs": [],
   "source": [
    "df.drop(\n",
    "['policy_code'],\n",
    "axis=1, inplace=True)"
   ]
  },
  {
   "cell_type": "code",
   "execution_count": null,
   "id": "4f93802d",
   "metadata": {},
   "outputs": [],
   "source": []
  },
  {
   "cell_type": "code",
   "execution_count": 45,
   "id": "eaba3b02",
   "metadata": {},
   "outputs": [
    {
     "data": {
      "text/plain": [
       "0.000    42390\n",
       "Name: collections_12_mths_ex_med, dtype: int64"
      ]
     },
     "execution_count": 45,
     "metadata": {},
     "output_type": "execute_result"
    }
   ],
   "source": [
    "df['collections_12_mths_ex_med'].value_counts()"
   ]
  },
  {
   "cell_type": "code",
   "execution_count": 46,
   "id": "3c238434",
   "metadata": {},
   "outputs": [
    {
     "data": {
      "text/plain": [
       "146"
      ]
     },
     "execution_count": 46,
     "metadata": {},
     "output_type": "execute_result"
    }
   ],
   "source": [
    "df['collections_12_mths_ex_med'].isnull().sum()"
   ]
  },
  {
   "cell_type": "code",
   "execution_count": 47,
   "id": "7d31c36e",
   "metadata": {},
   "outputs": [],
   "source": [
    "df.drop(\n",
    "['collections_12_mths_ex_med'],\n",
    "axis=1, inplace=True)"
   ]
  },
  {
   "cell_type": "code",
   "execution_count": null,
   "id": "4bdbd376",
   "metadata": {},
   "outputs": [],
   "source": []
  },
  {
   "cell_type": "code",
   "execution_count": 48,
   "id": "d087b20e",
   "metadata": {},
   "outputs": [
    {
     "data": {
      "text/plain": [
       "0.000    42429\n",
       "1.000        1\n",
       "Name: tax_liens, dtype: int64"
      ]
     },
     "execution_count": 48,
     "metadata": {},
     "output_type": "execute_result"
    }
   ],
   "source": [
    "df['tax_liens'].value_counts()"
   ]
  },
  {
   "cell_type": "code",
   "execution_count": 49,
   "id": "b40fe89f",
   "metadata": {},
   "outputs": [
    {
     "data": {
      "text/plain": [
       "106"
      ]
     },
     "execution_count": 49,
     "metadata": {},
     "output_type": "execute_result"
    }
   ],
   "source": [
    "df['tax_liens'].isnull().sum()"
   ]
  },
  {
   "cell_type": "code",
   "execution_count": 50,
   "id": "5c729ba6",
   "metadata": {},
   "outputs": [],
   "source": [
    "df.drop(\n",
    "['tax_liens'],\n",
    "axis=1, inplace=True)"
   ]
  },
  {
   "cell_type": "code",
   "execution_count": null,
   "id": "8c1b133a",
   "metadata": {},
   "outputs": [],
   "source": []
  },
  {
   "cell_type": "code",
   "execution_count": 51,
   "id": "5224d62d",
   "metadata": {},
   "outputs": [],
   "source": [
    "df.drop_duplicates(inplace= True)"
   ]
  },
  {
   "cell_type": "code",
   "execution_count": 52,
   "id": "c5db2617",
   "metadata": {},
   "outputs": [
    {
     "data": {
      "text/plain": [
       "(42536, 23)"
      ]
     },
     "execution_count": 52,
     "metadata": {},
     "output_type": "execute_result"
    }
   ],
   "source": [
    "df.shape"
   ]
  },
  {
   "cell_type": "code",
   "execution_count": null,
   "id": "80992fd3",
   "metadata": {},
   "outputs": [],
   "source": []
  },
  {
   "cell_type": "code",
   "execution_count": 53,
   "id": "dab653bf",
   "metadata": {},
   "outputs": [],
   "source": [
    "#Decuję też usunąć kolumnę 'desc' - w większości powiela ona dane z kolumny 'purpose'\n",
    "df.drop(['desc'], axis=1, inplace=True)"
   ]
  },
  {
   "cell_type": "code",
   "execution_count": 54,
   "id": "a24002d5",
   "metadata": {},
   "outputs": [
    {
     "data": {
      "text/plain": [
       "(42536, 22)"
      ]
     },
     "execution_count": 54,
     "metadata": {},
     "output_type": "execute_result"
    }
   ],
   "source": [
    "df.shape"
   ]
  },
  {
   "cell_type": "markdown",
   "id": "0c8cc551",
   "metadata": {},
   "source": [
    "### Przekształcenie wartości w kolumnach - usunięcie procentów, dodatkowych znaków, itd"
   ]
  },
  {
   "cell_type": "code",
   "execution_count": 55,
   "id": "a75cd4ff",
   "metadata": {},
   "outputs": [],
   "source": [
    "def usuniecie_miesiecy(df, column):\n",
    "    df[column] = pd.to_numeric(df[column].str.replace('months', ''))"
   ]
  },
  {
   "cell_type": "code",
   "execution_count": 56,
   "id": "9046a43e",
   "metadata": {},
   "outputs": [],
   "source": [
    "usuniecie_miesiecy(df, 'term')"
   ]
  },
  {
   "cell_type": "code",
   "execution_count": 57,
   "id": "562ca78d",
   "metadata": {},
   "outputs": [
    {
     "data": {
      "text/html": [
       "<div>\n",
       "<style scoped>\n",
       "    .dataframe tbody tr th:only-of-type {\n",
       "        vertical-align: middle;\n",
       "    }\n",
       "\n",
       "    .dataframe tbody tr th {\n",
       "        vertical-align: top;\n",
       "    }\n",
       "\n",
       "    .dataframe thead th {\n",
       "        text-align: right;\n",
       "    }\n",
       "</style>\n",
       "<table border=\"1\" class=\"dataframe\">\n",
       "  <thead>\n",
       "    <tr style=\"text-align: right;\">\n",
       "      <th></th>\n",
       "      <th>loan_amnt</th>\n",
       "      <th>funded_amnt</th>\n",
       "      <th>term</th>\n",
       "      <th>int_rate</th>\n",
       "      <th>installment</th>\n",
       "      <th>grade</th>\n",
       "      <th>emp_length</th>\n",
       "      <th>home_ownership</th>\n",
       "      <th>annual_inc</th>\n",
       "      <th>verification_status</th>\n",
       "      <th>issue_d</th>\n",
       "      <th>loan_status</th>\n",
       "      <th>purpose</th>\n",
       "      <th>dti</th>\n",
       "      <th>earliest_cr_line</th>\n",
       "      <th>fico_range_low</th>\n",
       "      <th>fico_range_high</th>\n",
       "      <th>inq_last_6mths</th>\n",
       "      <th>open_acc</th>\n",
       "      <th>pub_rec</th>\n",
       "      <th>total_acc</th>\n",
       "      <th>pub_rec_bankruptcies</th>\n",
       "    </tr>\n",
       "  </thead>\n",
       "  <tbody>\n",
       "    <tr>\n",
       "      <th>0</th>\n",
       "      <td>5000.000</td>\n",
       "      <td>5000.000</td>\n",
       "      <td>36.000</td>\n",
       "      <td>10.65%</td>\n",
       "      <td>162.870</td>\n",
       "      <td>B</td>\n",
       "      <td>10+ years</td>\n",
       "      <td>RENT</td>\n",
       "      <td>24000.000</td>\n",
       "      <td>Verified</td>\n",
       "      <td>Dec-2011</td>\n",
       "      <td>Fully Paid</td>\n",
       "      <td>credit_card</td>\n",
       "      <td>27.650</td>\n",
       "      <td>Jan-1985</td>\n",
       "      <td>735.000</td>\n",
       "      <td>739.000</td>\n",
       "      <td>1.000</td>\n",
       "      <td>3.000</td>\n",
       "      <td>0.000</td>\n",
       "      <td>9.000</td>\n",
       "      <td>0.000</td>\n",
       "    </tr>\n",
       "    <tr>\n",
       "      <th>1</th>\n",
       "      <td>2500.000</td>\n",
       "      <td>2500.000</td>\n",
       "      <td>60.000</td>\n",
       "      <td>15.27%</td>\n",
       "      <td>59.830</td>\n",
       "      <td>C</td>\n",
       "      <td>&lt; 1 year</td>\n",
       "      <td>RENT</td>\n",
       "      <td>30000.000</td>\n",
       "      <td>Source Verified</td>\n",
       "      <td>Dec-2011</td>\n",
       "      <td>Charged Off</td>\n",
       "      <td>car</td>\n",
       "      <td>1.000</td>\n",
       "      <td>Apr-1999</td>\n",
       "      <td>740.000</td>\n",
       "      <td>744.000</td>\n",
       "      <td>5.000</td>\n",
       "      <td>3.000</td>\n",
       "      <td>0.000</td>\n",
       "      <td>4.000</td>\n",
       "      <td>0.000</td>\n",
       "    </tr>\n",
       "    <tr>\n",
       "      <th>2</th>\n",
       "      <td>2400.000</td>\n",
       "      <td>2400.000</td>\n",
       "      <td>36.000</td>\n",
       "      <td>15.96%</td>\n",
       "      <td>84.330</td>\n",
       "      <td>C</td>\n",
       "      <td>10+ years</td>\n",
       "      <td>RENT</td>\n",
       "      <td>12252.000</td>\n",
       "      <td>Not Verified</td>\n",
       "      <td>Dec-2011</td>\n",
       "      <td>Fully Paid</td>\n",
       "      <td>small_business</td>\n",
       "      <td>8.720</td>\n",
       "      <td>Nov-2001</td>\n",
       "      <td>735.000</td>\n",
       "      <td>739.000</td>\n",
       "      <td>2.000</td>\n",
       "      <td>2.000</td>\n",
       "      <td>0.000</td>\n",
       "      <td>10.000</td>\n",
       "      <td>0.000</td>\n",
       "    </tr>\n",
       "    <tr>\n",
       "      <th>3</th>\n",
       "      <td>10000.000</td>\n",
       "      <td>10000.000</td>\n",
       "      <td>36.000</td>\n",
       "      <td>13.49%</td>\n",
       "      <td>339.310</td>\n",
       "      <td>C</td>\n",
       "      <td>10+ years</td>\n",
       "      <td>RENT</td>\n",
       "      <td>49200.000</td>\n",
       "      <td>Source Verified</td>\n",
       "      <td>Dec-2011</td>\n",
       "      <td>Fully Paid</td>\n",
       "      <td>other</td>\n",
       "      <td>20.000</td>\n",
       "      <td>Feb-1996</td>\n",
       "      <td>690.000</td>\n",
       "      <td>694.000</td>\n",
       "      <td>1.000</td>\n",
       "      <td>10.000</td>\n",
       "      <td>0.000</td>\n",
       "      <td>37.000</td>\n",
       "      <td>0.000</td>\n",
       "    </tr>\n",
       "    <tr>\n",
       "      <th>4</th>\n",
       "      <td>3000.000</td>\n",
       "      <td>3000.000</td>\n",
       "      <td>60.000</td>\n",
       "      <td>12.69%</td>\n",
       "      <td>67.790</td>\n",
       "      <td>B</td>\n",
       "      <td>1 year</td>\n",
       "      <td>RENT</td>\n",
       "      <td>80000.000</td>\n",
       "      <td>Source Verified</td>\n",
       "      <td>Dec-2011</td>\n",
       "      <td>Fully Paid</td>\n",
       "      <td>other</td>\n",
       "      <td>17.940</td>\n",
       "      <td>Jan-1996</td>\n",
       "      <td>695.000</td>\n",
       "      <td>699.000</td>\n",
       "      <td>0.000</td>\n",
       "      <td>15.000</td>\n",
       "      <td>0.000</td>\n",
       "      <td>38.000</td>\n",
       "      <td>0.000</td>\n",
       "    </tr>\n",
       "  </tbody>\n",
       "</table>\n",
       "</div>"
      ],
      "text/plain": [
       "   loan_amnt  funded_amnt   term int_rate  installment grade emp_length  \\\n",
       "0   5000.000     5000.000 36.000   10.65%      162.870     B  10+ years   \n",
       "1   2500.000     2500.000 60.000   15.27%       59.830     C   < 1 year   \n",
       "2   2400.000     2400.000 36.000   15.96%       84.330     C  10+ years   \n",
       "3  10000.000    10000.000 36.000   13.49%      339.310     C  10+ years   \n",
       "4   3000.000     3000.000 60.000   12.69%       67.790     B     1 year   \n",
       "\n",
       "  home_ownership  annual_inc verification_status   issue_d  loan_status  \\\n",
       "0           RENT   24000.000            Verified  Dec-2011   Fully Paid   \n",
       "1           RENT   30000.000     Source Verified  Dec-2011  Charged Off   \n",
       "2           RENT   12252.000        Not Verified  Dec-2011   Fully Paid   \n",
       "3           RENT   49200.000     Source Verified  Dec-2011   Fully Paid   \n",
       "4           RENT   80000.000     Source Verified  Dec-2011   Fully Paid   \n",
       "\n",
       "          purpose    dti earliest_cr_line  fico_range_low  fico_range_high  \\\n",
       "0     credit_card 27.650         Jan-1985         735.000          739.000   \n",
       "1             car  1.000         Apr-1999         740.000          744.000   \n",
       "2  small_business  8.720         Nov-2001         735.000          739.000   \n",
       "3           other 20.000         Feb-1996         690.000          694.000   \n",
       "4           other 17.940         Jan-1996         695.000          699.000   \n",
       "\n",
       "   inq_last_6mths  open_acc  pub_rec  total_acc  pub_rec_bankruptcies  \n",
       "0           1.000     3.000    0.000      9.000                 0.000  \n",
       "1           5.000     3.000    0.000      4.000                 0.000  \n",
       "2           2.000     2.000    0.000     10.000                 0.000  \n",
       "3           1.000    10.000    0.000     37.000                 0.000  \n",
       "4           0.000    15.000    0.000     38.000                 0.000  "
      ]
     },
     "execution_count": 57,
     "metadata": {},
     "output_type": "execute_result"
    }
   ],
   "source": [
    "df.head()"
   ]
  },
  {
   "cell_type": "code",
   "execution_count": null,
   "id": "f38038c6",
   "metadata": {},
   "outputs": [],
   "source": []
  },
  {
   "cell_type": "code",
   "execution_count": 58,
   "id": "b6628be8",
   "metadata": {},
   "outputs": [],
   "source": [
    "#przekształcenie procentow"
   ]
  },
  {
   "cell_type": "code",
   "execution_count": 59,
   "id": "6adfee74",
   "metadata": {},
   "outputs": [],
   "source": [
    "df['int_rate'] = df['int_rate'].str.rstrip('%').astype('float') / 100.0"
   ]
  },
  {
   "cell_type": "code",
   "execution_count": 60,
   "id": "9b5af1e1",
   "metadata": {
    "scrolled": true
   },
   "outputs": [
    {
     "data": {
      "text/html": [
       "<div>\n",
       "<style scoped>\n",
       "    .dataframe tbody tr th:only-of-type {\n",
       "        vertical-align: middle;\n",
       "    }\n",
       "\n",
       "    .dataframe tbody tr th {\n",
       "        vertical-align: top;\n",
       "    }\n",
       "\n",
       "    .dataframe thead th {\n",
       "        text-align: right;\n",
       "    }\n",
       "</style>\n",
       "<table border=\"1\" class=\"dataframe\">\n",
       "  <thead>\n",
       "    <tr style=\"text-align: right;\">\n",
       "      <th></th>\n",
       "      <th>loan_amnt</th>\n",
       "      <th>funded_amnt</th>\n",
       "      <th>term</th>\n",
       "      <th>int_rate</th>\n",
       "      <th>installment</th>\n",
       "      <th>grade</th>\n",
       "      <th>emp_length</th>\n",
       "      <th>home_ownership</th>\n",
       "      <th>annual_inc</th>\n",
       "      <th>verification_status</th>\n",
       "      <th>issue_d</th>\n",
       "      <th>loan_status</th>\n",
       "      <th>purpose</th>\n",
       "      <th>dti</th>\n",
       "      <th>earliest_cr_line</th>\n",
       "      <th>fico_range_low</th>\n",
       "      <th>fico_range_high</th>\n",
       "      <th>inq_last_6mths</th>\n",
       "      <th>open_acc</th>\n",
       "      <th>pub_rec</th>\n",
       "      <th>total_acc</th>\n",
       "      <th>pub_rec_bankruptcies</th>\n",
       "    </tr>\n",
       "  </thead>\n",
       "  <tbody>\n",
       "    <tr>\n",
       "      <th>0</th>\n",
       "      <td>5000.000</td>\n",
       "      <td>5000.000</td>\n",
       "      <td>36.000</td>\n",
       "      <td>0.106</td>\n",
       "      <td>162.870</td>\n",
       "      <td>B</td>\n",
       "      <td>10+ years</td>\n",
       "      <td>RENT</td>\n",
       "      <td>24000.000</td>\n",
       "      <td>Verified</td>\n",
       "      <td>Dec-2011</td>\n",
       "      <td>Fully Paid</td>\n",
       "      <td>credit_card</td>\n",
       "      <td>27.650</td>\n",
       "      <td>Jan-1985</td>\n",
       "      <td>735.000</td>\n",
       "      <td>739.000</td>\n",
       "      <td>1.000</td>\n",
       "      <td>3.000</td>\n",
       "      <td>0.000</td>\n",
       "      <td>9.000</td>\n",
       "      <td>0.000</td>\n",
       "    </tr>\n",
       "    <tr>\n",
       "      <th>1</th>\n",
       "      <td>2500.000</td>\n",
       "      <td>2500.000</td>\n",
       "      <td>60.000</td>\n",
       "      <td>0.153</td>\n",
       "      <td>59.830</td>\n",
       "      <td>C</td>\n",
       "      <td>&lt; 1 year</td>\n",
       "      <td>RENT</td>\n",
       "      <td>30000.000</td>\n",
       "      <td>Source Verified</td>\n",
       "      <td>Dec-2011</td>\n",
       "      <td>Charged Off</td>\n",
       "      <td>car</td>\n",
       "      <td>1.000</td>\n",
       "      <td>Apr-1999</td>\n",
       "      <td>740.000</td>\n",
       "      <td>744.000</td>\n",
       "      <td>5.000</td>\n",
       "      <td>3.000</td>\n",
       "      <td>0.000</td>\n",
       "      <td>4.000</td>\n",
       "      <td>0.000</td>\n",
       "    </tr>\n",
       "    <tr>\n",
       "      <th>2</th>\n",
       "      <td>2400.000</td>\n",
       "      <td>2400.000</td>\n",
       "      <td>36.000</td>\n",
       "      <td>0.160</td>\n",
       "      <td>84.330</td>\n",
       "      <td>C</td>\n",
       "      <td>10+ years</td>\n",
       "      <td>RENT</td>\n",
       "      <td>12252.000</td>\n",
       "      <td>Not Verified</td>\n",
       "      <td>Dec-2011</td>\n",
       "      <td>Fully Paid</td>\n",
       "      <td>small_business</td>\n",
       "      <td>8.720</td>\n",
       "      <td>Nov-2001</td>\n",
       "      <td>735.000</td>\n",
       "      <td>739.000</td>\n",
       "      <td>2.000</td>\n",
       "      <td>2.000</td>\n",
       "      <td>0.000</td>\n",
       "      <td>10.000</td>\n",
       "      <td>0.000</td>\n",
       "    </tr>\n",
       "    <tr>\n",
       "      <th>3</th>\n",
       "      <td>10000.000</td>\n",
       "      <td>10000.000</td>\n",
       "      <td>36.000</td>\n",
       "      <td>0.135</td>\n",
       "      <td>339.310</td>\n",
       "      <td>C</td>\n",
       "      <td>10+ years</td>\n",
       "      <td>RENT</td>\n",
       "      <td>49200.000</td>\n",
       "      <td>Source Verified</td>\n",
       "      <td>Dec-2011</td>\n",
       "      <td>Fully Paid</td>\n",
       "      <td>other</td>\n",
       "      <td>20.000</td>\n",
       "      <td>Feb-1996</td>\n",
       "      <td>690.000</td>\n",
       "      <td>694.000</td>\n",
       "      <td>1.000</td>\n",
       "      <td>10.000</td>\n",
       "      <td>0.000</td>\n",
       "      <td>37.000</td>\n",
       "      <td>0.000</td>\n",
       "    </tr>\n",
       "    <tr>\n",
       "      <th>4</th>\n",
       "      <td>3000.000</td>\n",
       "      <td>3000.000</td>\n",
       "      <td>60.000</td>\n",
       "      <td>0.127</td>\n",
       "      <td>67.790</td>\n",
       "      <td>B</td>\n",
       "      <td>1 year</td>\n",
       "      <td>RENT</td>\n",
       "      <td>80000.000</td>\n",
       "      <td>Source Verified</td>\n",
       "      <td>Dec-2011</td>\n",
       "      <td>Fully Paid</td>\n",
       "      <td>other</td>\n",
       "      <td>17.940</td>\n",
       "      <td>Jan-1996</td>\n",
       "      <td>695.000</td>\n",
       "      <td>699.000</td>\n",
       "      <td>0.000</td>\n",
       "      <td>15.000</td>\n",
       "      <td>0.000</td>\n",
       "      <td>38.000</td>\n",
       "      <td>0.000</td>\n",
       "    </tr>\n",
       "  </tbody>\n",
       "</table>\n",
       "</div>"
      ],
      "text/plain": [
       "   loan_amnt  funded_amnt   term  int_rate  installment grade emp_length  \\\n",
       "0   5000.000     5000.000 36.000     0.106      162.870     B  10+ years   \n",
       "1   2500.000     2500.000 60.000     0.153       59.830     C   < 1 year   \n",
       "2   2400.000     2400.000 36.000     0.160       84.330     C  10+ years   \n",
       "3  10000.000    10000.000 36.000     0.135      339.310     C  10+ years   \n",
       "4   3000.000     3000.000 60.000     0.127       67.790     B     1 year   \n",
       "\n",
       "  home_ownership  annual_inc verification_status   issue_d  loan_status  \\\n",
       "0           RENT   24000.000            Verified  Dec-2011   Fully Paid   \n",
       "1           RENT   30000.000     Source Verified  Dec-2011  Charged Off   \n",
       "2           RENT   12252.000        Not Verified  Dec-2011   Fully Paid   \n",
       "3           RENT   49200.000     Source Verified  Dec-2011   Fully Paid   \n",
       "4           RENT   80000.000     Source Verified  Dec-2011   Fully Paid   \n",
       "\n",
       "          purpose    dti earliest_cr_line  fico_range_low  fico_range_high  \\\n",
       "0     credit_card 27.650         Jan-1985         735.000          739.000   \n",
       "1             car  1.000         Apr-1999         740.000          744.000   \n",
       "2  small_business  8.720         Nov-2001         735.000          739.000   \n",
       "3           other 20.000         Feb-1996         690.000          694.000   \n",
       "4           other 17.940         Jan-1996         695.000          699.000   \n",
       "\n",
       "   inq_last_6mths  open_acc  pub_rec  total_acc  pub_rec_bankruptcies  \n",
       "0           1.000     3.000    0.000      9.000                 0.000  \n",
       "1           5.000     3.000    0.000      4.000                 0.000  \n",
       "2           2.000     2.000    0.000     10.000                 0.000  \n",
       "3           1.000    10.000    0.000     37.000                 0.000  \n",
       "4           0.000    15.000    0.000     38.000                 0.000  "
      ]
     },
     "execution_count": 60,
     "metadata": {},
     "output_type": "execute_result"
    }
   ],
   "source": [
    "df.head()"
   ]
  },
  {
   "cell_type": "code",
   "execution_count": null,
   "id": "0091b74f",
   "metadata": {},
   "outputs": [],
   "source": []
  },
  {
   "cell_type": "code",
   "execution_count": 61,
   "id": "98b57f7f",
   "metadata": {},
   "outputs": [],
   "source": [
    "#wartości związane z datą"
   ]
  },
  {
   "cell_type": "code",
   "execution_count": 62,
   "id": "e07e6174",
   "metadata": {},
   "outputs": [
    {
     "data": {
      "text/plain": [
       "Oct-1999    393\n",
       "Nov-1998    390\n",
       "Oct-2000    370\n",
       "Dec-1998    366\n",
       "Dec-1997    348\n",
       "           ... \n",
       "Jul-1964      1\n",
       "Mar-1963      1\n",
       "Nov-1965      1\n",
       "Apr-1966      1\n",
       "Nov-1959      1\n",
       "Name: earliest_cr_line, Length: 530, dtype: int64"
      ]
     },
     "execution_count": 62,
     "metadata": {},
     "output_type": "execute_result"
    }
   ],
   "source": [
    "df['earliest_cr_line'].value_counts()"
   ]
  },
  {
   "cell_type": "code",
   "execution_count": 63,
   "id": "19f7884e",
   "metadata": {},
   "outputs": [
    {
     "data": {
      "text/plain": [
       "dtype('O')"
      ]
     },
     "execution_count": 63,
     "metadata": {},
     "output_type": "execute_result"
    }
   ],
   "source": [
    "df['earliest_cr_line'].dtypes"
   ]
  },
  {
   "cell_type": "code",
   "execution_count": 64,
   "id": "b7174a99",
   "metadata": {},
   "outputs": [],
   "source": [
    "df['earliest_cr_line'] = pd.to_datetime(df['earliest_cr_line'], format='%b-%Y')"
   ]
  },
  {
   "cell_type": "code",
   "execution_count": 65,
   "id": "3d3294a8",
   "metadata": {},
   "outputs": [
    {
     "data": {
      "text/plain": [
       "1999-10-01    393\n",
       "1998-11-01    390\n",
       "2000-10-01    370\n",
       "1998-12-01    366\n",
       "1997-12-01    348\n",
       "             ... \n",
       "1964-07-01      1\n",
       "1963-03-01      1\n",
       "1965-11-01      1\n",
       "1966-04-01      1\n",
       "1959-11-01      1\n",
       "Name: earliest_cr_line, Length: 530, dtype: int64"
      ]
     },
     "execution_count": 65,
     "metadata": {},
     "output_type": "execute_result"
    }
   ],
   "source": [
    "df['earliest_cr_line'].value_counts()"
   ]
  },
  {
   "cell_type": "code",
   "execution_count": 66,
   "id": "5f65db38",
   "metadata": {},
   "outputs": [
    {
     "data": {
      "text/plain": [
       "dtype('<M8[ns]')"
      ]
     },
     "execution_count": 66,
     "metadata": {},
     "output_type": "execute_result"
    }
   ],
   "source": [
    "df['earliest_cr_line'].dtypes"
   ]
  },
  {
   "cell_type": "markdown",
   "id": "f27ab48f",
   "metadata": {},
   "source": [
    "### BRAKUJĄCE WARTOŚCI"
   ]
  },
  {
   "cell_type": "code",
   "execution_count": 67,
   "id": "1f8e3d48",
   "metadata": {
    "scrolled": false
   },
   "outputs": [
    {
     "data": {
      "text/plain": [
       "loan_amnt                  1\n",
       "funded_amnt                1\n",
       "term                       1\n",
       "int_rate                   1\n",
       "installment                1\n",
       "grade                      1\n",
       "emp_length              1113\n",
       "home_ownership             1\n",
       "annual_inc                 5\n",
       "verification_status        1\n",
       "issue_d                    1\n",
       "loan_status                1\n",
       "purpose                    1\n",
       "dti                        1\n",
       "earliest_cr_line          30\n",
       "fico_range_low             1\n",
       "fico_range_high            1\n",
       "inq_last_6mths            30\n",
       "open_acc                  30\n",
       "pub_rec                   30\n",
       "total_acc                 30\n",
       "pub_rec_bankruptcies    1366\n",
       "dtype: int64"
      ]
     },
     "execution_count": 67,
     "metadata": {},
     "output_type": "execute_result"
    }
   ],
   "source": [
    "df.isna().sum()"
   ]
  },
  {
   "cell_type": "code",
   "execution_count": 68,
   "id": "b89867aa",
   "metadata": {},
   "outputs": [
    {
     "data": {
      "text/html": [
       "<div>\n",
       "<style scoped>\n",
       "    .dataframe tbody tr th:only-of-type {\n",
       "        vertical-align: middle;\n",
       "    }\n",
       "\n",
       "    .dataframe tbody tr th {\n",
       "        vertical-align: top;\n",
       "    }\n",
       "\n",
       "    .dataframe thead th {\n",
       "        text-align: right;\n",
       "    }\n",
       "</style>\n",
       "<table border=\"1\" class=\"dataframe\">\n",
       "  <thead>\n",
       "    <tr style=\"text-align: right;\">\n",
       "      <th></th>\n",
       "      <th>Total</th>\n",
       "      <th>Percent</th>\n",
       "    </tr>\n",
       "  </thead>\n",
       "  <tbody>\n",
       "    <tr>\n",
       "      <th>pub_rec_bankruptcies</th>\n",
       "      <td>1366</td>\n",
       "      <td>0.032</td>\n",
       "    </tr>\n",
       "    <tr>\n",
       "      <th>emp_length</th>\n",
       "      <td>1113</td>\n",
       "      <td>0.026</td>\n",
       "    </tr>\n",
       "    <tr>\n",
       "      <th>total_acc</th>\n",
       "      <td>30</td>\n",
       "      <td>0.001</td>\n",
       "    </tr>\n",
       "    <tr>\n",
       "      <th>pub_rec</th>\n",
       "      <td>30</td>\n",
       "      <td>0.001</td>\n",
       "    </tr>\n",
       "    <tr>\n",
       "      <th>open_acc</th>\n",
       "      <td>30</td>\n",
       "      <td>0.001</td>\n",
       "    </tr>\n",
       "    <tr>\n",
       "      <th>inq_last_6mths</th>\n",
       "      <td>30</td>\n",
       "      <td>0.001</td>\n",
       "    </tr>\n",
       "    <tr>\n",
       "      <th>earliest_cr_line</th>\n",
       "      <td>30</td>\n",
       "      <td>0.001</td>\n",
       "    </tr>\n",
       "    <tr>\n",
       "      <th>annual_inc</th>\n",
       "      <td>5</td>\n",
       "      <td>0.000</td>\n",
       "    </tr>\n",
       "    <tr>\n",
       "      <th>purpose</th>\n",
       "      <td>1</td>\n",
       "      <td>0.000</td>\n",
       "    </tr>\n",
       "    <tr>\n",
       "      <th>fico_range_high</th>\n",
       "      <td>1</td>\n",
       "      <td>0.000</td>\n",
       "    </tr>\n",
       "    <tr>\n",
       "      <th>fico_range_low</th>\n",
       "      <td>1</td>\n",
       "      <td>0.000</td>\n",
       "    </tr>\n",
       "    <tr>\n",
       "      <th>dti</th>\n",
       "      <td>1</td>\n",
       "      <td>0.000</td>\n",
       "    </tr>\n",
       "    <tr>\n",
       "      <th>loan_amnt</th>\n",
       "      <td>1</td>\n",
       "      <td>0.000</td>\n",
       "    </tr>\n",
       "    <tr>\n",
       "      <th>funded_amnt</th>\n",
       "      <td>1</td>\n",
       "      <td>0.000</td>\n",
       "    </tr>\n",
       "    <tr>\n",
       "      <th>issue_d</th>\n",
       "      <td>1</td>\n",
       "      <td>0.000</td>\n",
       "    </tr>\n",
       "    <tr>\n",
       "      <th>verification_status</th>\n",
       "      <td>1</td>\n",
       "      <td>0.000</td>\n",
       "    </tr>\n",
       "    <tr>\n",
       "      <th>home_ownership</th>\n",
       "      <td>1</td>\n",
       "      <td>0.000</td>\n",
       "    </tr>\n",
       "    <tr>\n",
       "      <th>grade</th>\n",
       "      <td>1</td>\n",
       "      <td>0.000</td>\n",
       "    </tr>\n",
       "    <tr>\n",
       "      <th>installment</th>\n",
       "      <td>1</td>\n",
       "      <td>0.000</td>\n",
       "    </tr>\n",
       "    <tr>\n",
       "      <th>int_rate</th>\n",
       "      <td>1</td>\n",
       "      <td>0.000</td>\n",
       "    </tr>\n",
       "  </tbody>\n",
       "</table>\n",
       "</div>"
      ],
      "text/plain": [
       "                      Total  Percent\n",
       "pub_rec_bankruptcies   1366    0.032\n",
       "emp_length             1113    0.026\n",
       "total_acc                30    0.001\n",
       "pub_rec                  30    0.001\n",
       "open_acc                 30    0.001\n",
       "inq_last_6mths           30    0.001\n",
       "earliest_cr_line         30    0.001\n",
       "annual_inc                5    0.000\n",
       "purpose                   1    0.000\n",
       "fico_range_high           1    0.000\n",
       "fico_range_low            1    0.000\n",
       "dti                       1    0.000\n",
       "loan_amnt                 1    0.000\n",
       "funded_amnt               1    0.000\n",
       "issue_d                   1    0.000\n",
       "verification_status       1    0.000\n",
       "home_ownership            1    0.000\n",
       "grade                     1    0.000\n",
       "installment               1    0.000\n",
       "int_rate                  1    0.000"
      ]
     },
     "execution_count": 68,
     "metadata": {},
     "output_type": "execute_result"
    }
   ],
   "source": [
    "## Brakujące dane\n",
    "total = df.isnull().sum().sort_values(ascending=False)\n",
    "percent = (df.isnull().sum()/df.isnull().count()).sort_values(ascending=False)\n",
    "missing_data = pd.concat([total, percent], axis=1, keys=['Total', 'Percent'])\n",
    "missing_data.head(20)"
   ]
  },
  {
   "cell_type": "code",
   "execution_count": null,
   "id": "ccf027fe",
   "metadata": {},
   "outputs": [],
   "source": []
  },
  {
   "cell_type": "code",
   "execution_count": 69,
   "id": "1c31e832",
   "metadata": {},
   "outputs": [],
   "source": [
    "#Uzupełniam brakujące wartości - na podstawie histogramu decyduję, czy uzupełniam medianą, czy najczęściej występującą wartością"
   ]
  },
  {
   "cell_type": "code",
   "execution_count": 70,
   "id": "692e9674",
   "metadata": {},
   "outputs": [],
   "source": [
    "# Dane kategoryczne\n",
    "\n",
    "# Będę je uzupełniać najczęściej występującą wartością\n",
    "# Najczęściej występującą wartość 'term' to 36\n",
    "# Najczęściej występującą wartość 'grade' to B\n",
    "# Najczęściej występującą wartość 'home_ownership' to 'RENT'\n",
    "# Najczęściej występującą wartość 'purpose' to debt_consolidation'"
   ]
  },
  {
   "cell_type": "code",
   "execution_count": 71,
   "id": "3300fbdd",
   "metadata": {},
   "outputs": [
    {
     "data": {
      "text/plain": [
       "36.000    31534\n",
       "60.000    11001\n",
       "Name: term, dtype: int64"
      ]
     },
     "execution_count": 71,
     "metadata": {},
     "output_type": "execute_result"
    }
   ],
   "source": [
    "#term\n",
    "df['term'].value_counts()"
   ]
  },
  {
   "cell_type": "code",
   "execution_count": 72,
   "id": "ca97e218",
   "metadata": {},
   "outputs": [],
   "source": [
    "df['term'].fillna(36.0, inplace=True)"
   ]
  },
  {
   "cell_type": "code",
   "execution_count": null,
   "id": "30f60744",
   "metadata": {},
   "outputs": [],
   "source": []
  },
  {
   "cell_type": "code",
   "execution_count": 73,
   "id": "539ca26a",
   "metadata": {},
   "outputs": [
    {
     "data": {
      "text/plain": [
       "B    12389\n",
       "A    10183\n",
       "C     8740\n",
       "D     6016\n",
       "E     3394\n",
       "F     1301\n",
       "G      512\n",
       "Name: grade, dtype: int64"
      ]
     },
     "execution_count": 73,
     "metadata": {},
     "output_type": "execute_result"
    }
   ],
   "source": [
    "#grade \n",
    "df['grade'].value_counts()"
   ]
  },
  {
   "cell_type": "code",
   "execution_count": 74,
   "id": "673d522b",
   "metadata": {},
   "outputs": [],
   "source": [
    "df['grade'].fillna('B', inplace=True)"
   ]
  },
  {
   "cell_type": "code",
   "execution_count": null,
   "id": "c17de7c7",
   "metadata": {},
   "outputs": [],
   "source": []
  },
  {
   "cell_type": "code",
   "execution_count": 75,
   "id": "f05eb57a",
   "metadata": {},
   "outputs": [
    {
     "data": {
      "text/plain": [
       "RENT        20181\n",
       "MORTGAGE    18959\n",
       "OWN          3251\n",
       "OTHER         136\n",
       "NONE            8\n",
       "Name: home_ownership, dtype: int64"
      ]
     },
     "execution_count": 75,
     "metadata": {},
     "output_type": "execute_result"
    }
   ],
   "source": [
    "#home_ownership\n",
    "df['home_ownership'].value_counts()"
   ]
  },
  {
   "cell_type": "code",
   "execution_count": 76,
   "id": "30d2b11d",
   "metadata": {},
   "outputs": [],
   "source": [
    "df['home_ownership'].fillna('RENT', inplace=True)"
   ]
  },
  {
   "cell_type": "code",
   "execution_count": null,
   "id": "e57b1b94",
   "metadata": {},
   "outputs": [],
   "source": []
  },
  {
   "cell_type": "code",
   "execution_count": 77,
   "id": "0bc4d395",
   "metadata": {},
   "outputs": [
    {
     "data": {
      "text/plain": [
       "debt_consolidation    19776\n",
       "credit_card            5477\n",
       "other                  4425\n",
       "home_improvement       3199\n",
       "major_purchase         2311\n",
       "small_business         1992\n",
       "car                    1615\n",
       "wedding                1004\n",
       "medical                 753\n",
       "moving                  629\n",
       "house                   426\n",
       "educational             422\n",
       "vacation                400\n",
       "renewable_energy        106\n",
       "Name: purpose, dtype: int64"
      ]
     },
     "execution_count": 77,
     "metadata": {},
     "output_type": "execute_result"
    }
   ],
   "source": [
    "#purpose\n",
    "df['purpose'].value_counts()"
   ]
  },
  {
   "cell_type": "code",
   "execution_count": 78,
   "id": "410bf6b7",
   "metadata": {},
   "outputs": [],
   "source": [
    "df['purpose'].fillna('debt_consolidation', inplace=True)"
   ]
  },
  {
   "cell_type": "code",
   "execution_count": 79,
   "id": "40085686",
   "metadata": {},
   "outputs": [],
   "source": [
    "df['loan_status'].fillna('Fully Paid', inplace=True)"
   ]
  },
  {
   "cell_type": "code",
   "execution_count": null,
   "id": "03b6b7bb",
   "metadata": {},
   "outputs": [],
   "source": []
  },
  {
   "cell_type": "code",
   "execution_count": 80,
   "id": "238a07b7",
   "metadata": {},
   "outputs": [],
   "source": [
    "# Dane numeryczne\n",
    "# Będę je uzupełniać medianą"
   ]
  },
  {
   "cell_type": "code",
   "execution_count": 81,
   "id": "019aea89",
   "metadata": {},
   "outputs": [],
   "source": [
    "#loan_amnt\n",
    "df['loan_amnt'].fillna(df['loan_amnt'].median(), inplace=True)"
   ]
  },
  {
   "cell_type": "code",
   "execution_count": 82,
   "id": "4e5fd905",
   "metadata": {},
   "outputs": [],
   "source": [
    "#funded_amnt\n",
    "df['funded_amnt'].fillna(df['funded_amnt'].median(), inplace=True)"
   ]
  },
  {
   "cell_type": "code",
   "execution_count": 83,
   "id": "6fd6ae8e",
   "metadata": {},
   "outputs": [],
   "source": [
    "#int_rate\n",
    "df['int_rate'].fillna(df['int_rate'].median(), inplace=True)"
   ]
  },
  {
   "cell_type": "code",
   "execution_count": 84,
   "id": "9ec57887",
   "metadata": {},
   "outputs": [],
   "source": [
    "#installment\n",
    "df['installment'].fillna(df['installment'].median(), inplace=True)"
   ]
  },
  {
   "cell_type": "code",
   "execution_count": 85,
   "id": "9d15b587",
   "metadata": {},
   "outputs": [],
   "source": [
    "#annual_inc\n",
    "df['annual_inc'].fillna(df['annual_inc'].median(), inplace=True)"
   ]
  },
  {
   "cell_type": "code",
   "execution_count": 86,
   "id": "6bf86f27",
   "metadata": {},
   "outputs": [],
   "source": [
    "#dti\n",
    "df['dti'].fillna(df['dti'].median(), inplace=True)"
   ]
  },
  {
   "cell_type": "code",
   "execution_count": 87,
   "id": "ea852491",
   "metadata": {},
   "outputs": [],
   "source": [
    "#fico_range_low\n",
    "df['fico_range_low'].fillna(df['fico_range_low'].median(), inplace=True)"
   ]
  },
  {
   "cell_type": "code",
   "execution_count": 88,
   "id": "0d87fe6e",
   "metadata": {},
   "outputs": [],
   "source": [
    "#fico_range_high\n",
    "df['fico_range_high'].fillna(df['fico_range_high'].median(), inplace=True)"
   ]
  },
  {
   "cell_type": "code",
   "execution_count": 89,
   "id": "b6b470e7",
   "metadata": {},
   "outputs": [],
   "source": [
    "#open_acc\n",
    "df['open_acc'].fillna(df['open_acc'].median(), inplace=True)"
   ]
  },
  {
   "cell_type": "code",
   "execution_count": 90,
   "id": "ab8c7b34",
   "metadata": {},
   "outputs": [],
   "source": [
    "#pub_rec\n",
    "df['pub_rec'].fillna(df['pub_rec'].median(), inplace=True)"
   ]
  },
  {
   "cell_type": "code",
   "execution_count": 91,
   "id": "02e1237a",
   "metadata": {},
   "outputs": [],
   "source": [
    "#total_acc\n",
    "df['total_acc'].fillna(df['total_acc'].median(), inplace=True)"
   ]
  },
  {
   "cell_type": "code",
   "execution_count": 92,
   "id": "503b4ce3",
   "metadata": {},
   "outputs": [],
   "source": [
    "#pub_rec_bankruptcies\n",
    "df['pub_rec_bankruptcies'].fillna(df['pub_rec_bankruptcies'].median(), inplace=True)"
   ]
  },
  {
   "cell_type": "code",
   "execution_count": 93,
   "id": "91e7e893",
   "metadata": {},
   "outputs": [],
   "source": [
    "#earliest_cr_line\n",
    "#df['earliest_cr_line'].fillna(df['earliest_cr_line'].median(), inplace=True)"
   ]
  },
  {
   "cell_type": "code",
   "execution_count": 94,
   "id": "0e285153",
   "metadata": {},
   "outputs": [],
   "source": [
    "#inq_last_6mths\n",
    "df['inq_last_6mths'].fillna(df['inq_last_6mths'].median(), inplace=True)"
   ]
  },
  {
   "cell_type": "code",
   "execution_count": null,
   "id": "36335d3a",
   "metadata": {},
   "outputs": [],
   "source": []
  },
  {
   "cell_type": "code",
   "execution_count": 95,
   "id": "f597c9e1",
   "metadata": {},
   "outputs": [
    {
     "data": {
      "text/plain": [
       "loan_amnt                  0\n",
       "funded_amnt                0\n",
       "term                       0\n",
       "int_rate                   0\n",
       "installment                0\n",
       "grade                      0\n",
       "emp_length              1113\n",
       "home_ownership             0\n",
       "annual_inc                 0\n",
       "verification_status        1\n",
       "issue_d                    1\n",
       "loan_status                0\n",
       "purpose                    0\n",
       "dti                        0\n",
       "earliest_cr_line          30\n",
       "fico_range_low             0\n",
       "fico_range_high            0\n",
       "inq_last_6mths             0\n",
       "open_acc                   0\n",
       "pub_rec                    0\n",
       "total_acc                  0\n",
       "pub_rec_bankruptcies       0\n",
       "dtype: int64"
      ]
     },
     "execution_count": 95,
     "metadata": {},
     "output_type": "execute_result"
    }
   ],
   "source": [
    "df.isna().sum()"
   ]
  },
  {
   "cell_type": "markdown",
   "id": "b60320fd",
   "metadata": {},
   "source": [
    "### Kolumna ze statusem pożyczki"
   ]
  },
  {
   "cell_type": "code",
   "execution_count": 96,
   "id": "3d36f635",
   "metadata": {},
   "outputs": [],
   "source": [
    "# Zmienną objaśnianą jest kolumna ze statusem pożyczki - 'loan_status. Zadaniem jest przewidzenie, \n",
    "# czy klient spłaci kredyt - 1, czy nie spłaci - 0"
   ]
  },
  {
   "cell_type": "code",
   "execution_count": 97,
   "id": "8b5dc0ca",
   "metadata": {},
   "outputs": [
    {
     "data": {
      "text/plain": [
       "Fully Paid                                             34117\n",
       "Charged Off                                             5670\n",
       "Does not meet the credit policy. Status:Fully Paid      1988\n",
       "Does not meet the credit policy. Status:Charged Off      761\n",
       "Name: loan_status, dtype: int64"
      ]
     },
     "execution_count": 97,
     "metadata": {},
     "output_type": "execute_result"
    }
   ],
   "source": [
    "df['loan_status'].value_counts()"
   ]
  },
  {
   "cell_type": "code",
   "execution_count": 98,
   "id": "b05f2039",
   "metadata": {},
   "outputs": [],
   "source": [
    "df['loan_status'] = df['loan_status'].map({'Fully Paid' :1, 'Does not meet the credit policy. Status:Fully Paid' : 1, \n",
    "                                            'Charged Off' : 0, 'Does not meet the credit policy. Status:Charged Off' : 0})"
   ]
  },
  {
   "cell_type": "code",
   "execution_count": 99,
   "id": "841c4765",
   "metadata": {},
   "outputs": [
    {
     "data": {
      "text/plain": [
       "1    36105\n",
       "0     6431\n",
       "Name: loan_status, dtype: int64"
      ]
     },
     "execution_count": 99,
     "metadata": {},
     "output_type": "execute_result"
    }
   ],
   "source": [
    "df['loan_status'].value_counts()"
   ]
  },
  {
   "cell_type": "code",
   "execution_count": null,
   "id": "95e1a904",
   "metadata": {},
   "outputs": [],
   "source": []
  },
  {
   "cell_type": "code",
   "execution_count": 100,
   "id": "74972491",
   "metadata": {},
   "outputs": [],
   "source": [
    "df_cols = df[['loan_amnt', 'funded_amnt', 'term', 'int_rate',\n",
    "       'installment', 'annual_inc', 'loan_status','dti', 'earliest_cr_line',\n",
    "       'fico_range_low', 'fico_range_high', 'inq_last_6mths', 'open_acc',\n",
    "       'pub_rec', 'total_acc',\n",
    "       'pub_rec_bankruptcies']]"
   ]
  },
  {
   "cell_type": "code",
   "execution_count": 101,
   "id": "7e3becb8",
   "metadata": {},
   "outputs": [
    {
     "data": {
      "text/plain": [
       "loan_amnt                      float64\n",
       "funded_amnt                    float64\n",
       "term                           float64\n",
       "int_rate                       float64\n",
       "installment                    float64\n",
       "annual_inc                     float64\n",
       "loan_status                      int64\n",
       "dti                            float64\n",
       "earliest_cr_line        datetime64[ns]\n",
       "fico_range_low                 float64\n",
       "fico_range_high                float64\n",
       "inq_last_6mths                 float64\n",
       "open_acc                       float64\n",
       "pub_rec                        float64\n",
       "total_acc                      float64\n",
       "pub_rec_bankruptcies           float64\n",
       "dtype: object"
      ]
     },
     "execution_count": 101,
     "metadata": {},
     "output_type": "execute_result"
    }
   ],
   "source": [
    "df_cols.dtypes"
   ]
  },
  {
   "cell_type": "code",
   "execution_count": 102,
   "id": "93087fac",
   "metadata": {
    "scrolled": true
   },
   "outputs": [
    {
     "data": {
      "text/plain": [
       "'plt.figure(figsize=(20,20), dpi = 200)\\n\\nfor i in range(1, len(df_cols)):\\n    plt.subplot(3, 3, 1)\\n    sns.boxplot(x = df_cols[i], data = df)'"
      ]
     },
     "execution_count": 102,
     "metadata": {},
     "output_type": "execute_result"
    }
   ],
   "source": [
    "'''plt.figure(figsize=(20,20), dpi = 200)\n",
    "\n",
    "for i in range(1, len(df_cols)):\n",
    "    plt.subplot(3, 3, 1)\n",
    "    sns.boxplot(x = df_cols[i], data = df)'''"
   ]
  },
  {
   "cell_type": "code",
   "execution_count": null,
   "id": "a8cd87b7",
   "metadata": {},
   "outputs": [],
   "source": []
  },
  {
   "cell_type": "code",
   "execution_count": 103,
   "id": "945addf7",
   "metadata": {},
   "outputs": [
    {
     "name": "stdout",
     "output_type": "stream",
     "text": [
      "       loan_amnt  funded_amnt  int_rate  installment  annual_inc   dti  \\\n",
      "0          0.822        0.815     0.409        0.765       0.704 2.123   \n",
      "1          1.159        1.164     0.837        1.258       0.611 1.840   \n",
      "2          1.173        1.178     1.024        1.141       0.888 0.692   \n",
      "3          0.147        0.115     0.357        0.080       0.311 0.985   \n",
      "4          1.092        1.094     0.142        1.220       0.170 0.679   \n",
      "...          ...          ...       ...          ...         ...   ...   \n",
      "42531      1.024        1.024     0.508        1.001       1.730 0.501   \n",
      "42532      1.361        1.374     0.681        1.391       0.891 0.501   \n",
      "42533      1.156        1.161     0.765        1.158       0.638 0.501   \n",
      "42534      0.619        0.605     1.021        0.564       0.158 1.394   \n",
      "42535      0.822        0.815     1.191        0.797       0.013 0.678   \n",
      "\n",
      "       fico_range_low  fico_range_high  inq_last_6mths  open_acc  pub_rec  \\\n",
      "0               0.606            0.606           0.053     1.411    0.237   \n",
      "1               0.745            0.745           2.566     1.411    0.237   \n",
      "2               0.606            0.606           0.602     1.634    0.237   \n",
      "3               0.637            0.637           0.053     0.146    0.237   \n",
      "4               0.499            0.499           0.708     1.258    0.237   \n",
      "...               ...              ...             ...       ...      ...   \n",
      "42531           0.775            0.775           0.053     0.076    0.237   \n",
      "42532           0.499            0.499           0.053     0.076    0.237   \n",
      "42533           0.084            0.084           0.053     0.076    0.237   \n",
      "42534           0.745            0.745           0.053     0.076    0.237   \n",
      "42535           1.574            1.574           0.053     0.076    0.237   \n",
      "\n",
      "       total_acc  pub_rec_bankruptcies  \n",
      "0          1.132                 0.213  \n",
      "1          1.564                 0.213  \n",
      "2          1.046                 0.213  \n",
      "3          1.284                 0.213  \n",
      "4          1.370                 0.213  \n",
      "...          ...                   ...  \n",
      "42531      0.183                 0.213  \n",
      "42532      0.183                 0.213  \n",
      "42533      0.183                 0.213  \n",
      "42534      0.183                 0.213  \n",
      "42535      0.183                 0.213  \n",
      "\n",
      "[42536 rows x 13 columns]\n",
      "\n",
      "\n",
      "*******************************************************************************\n",
      "\n",
      "\n",
      "Ponizej sa punkty odstajace - nr indeksow i odpowiadające im indeksy kolumn w drugim wektorze\n",
      "\n",
      "\n",
      "(array([   31,    66,    66, ..., 42506, 42508, 42519], dtype=int64), array([ 3, 10, 12, ..., 10,  8,  4], dtype=int64))\n"
     ]
    }
   ],
   "source": [
    "from scipy import stats\n",
    "\n",
    "z = np.abs(stats.zscore(df[['loan_amnt', 'funded_amnt', 'int_rate',\n",
    "       'installment', 'annual_inc', 'dti',\n",
    "       'fico_range_low', 'fico_range_high', 'inq_last_6mths', 'open_acc',\n",
    "       'pub_rec', 'total_acc','pub_rec_bankruptcies']]))\n",
    "print(z)\n",
    "\n",
    "print(\"\\n\")\n",
    "print(\"*******************************************************************************\")\n",
    "print(\"\\n\")\n",
    "\n",
    "# threshold = 3  # selecting 3 as the threshold to identify outliers\n",
    "print('Ponizej sa punkty odstajace - nr indeksow i odpowiadające im indeksy kolumn w drugim wektorze')\n",
    "print(\"\\n\")\n",
    "print(np.where(z > 3))"
   ]
  },
  {
   "cell_type": "code",
   "execution_count": 104,
   "id": "70a388bf",
   "metadata": {},
   "outputs": [
    {
     "data": {
      "text/plain": [
       "(42536, 22)"
      ]
     },
     "execution_count": 104,
     "metadata": {},
     "output_type": "execute_result"
    }
   ],
   "source": [
    "df.shape"
   ]
  },
  {
   "cell_type": "code",
   "execution_count": 105,
   "id": "3ce7b3d9",
   "metadata": {},
   "outputs": [],
   "source": [
    "df_outliers_removed = df[(z<3).all(axis=1)]"
   ]
  },
  {
   "cell_type": "code",
   "execution_count": 106,
   "id": "41c98767",
   "metadata": {},
   "outputs": [
    {
     "data": {
      "text/plain": [
       "(37690, 22)"
      ]
     },
     "execution_count": 106,
     "metadata": {},
     "output_type": "execute_result"
    }
   ],
   "source": [
    "df_outliers_removed.shape"
   ]
  },
  {
   "cell_type": "code",
   "execution_count": null,
   "id": "21902bcf",
   "metadata": {},
   "outputs": [],
   "source": []
  },
  {
   "cell_type": "code",
   "execution_count": 107,
   "id": "97d73262",
   "metadata": {},
   "outputs": [],
   "source": [
    "#1 podzielę zmienną 'loan_amount' na zakresy wg wysokości pożyczki"
   ]
  },
  {
   "cell_type": "code",
   "execution_count": 108,
   "id": "0ef08239",
   "metadata": {},
   "outputs": [],
   "source": [
    "def loan_amount(amnt):\n",
    "    if amnt < 5000:\n",
    "        return 'low'\n",
    "    elif amnt >= 5000 and amnt < 15000:\n",
    "        return 'medium'\n",
    "    elif amnt >=15000 and amnt < 25000:\n",
    "        return 'high'\n",
    "    else:\n",
    "        return 'very high'\n",
    "    \n",
    "    \n",
    "df['loan_amnt_bining'] = df['loan_amnt'].apply(lambda x: loan_amount(x))"
   ]
  },
  {
   "cell_type": "code",
   "execution_count": 109,
   "id": "4f3204e5",
   "metadata": {},
   "outputs": [
    {
     "data": {
      "text/plain": [
       "medium       22580\n",
       "high          8550\n",
       "low           8282\n",
       "very high     3124\n",
       "Name: loan_amnt_bining, dtype: int64"
      ]
     },
     "execution_count": 109,
     "metadata": {},
     "output_type": "execute_result"
    }
   ],
   "source": [
    "df['loan_amnt_bining'].value_counts()"
   ]
  },
  {
   "cell_type": "code",
   "execution_count": 110,
   "id": "ab51f900",
   "metadata": {
    "scrolled": false
   },
   "outputs": [
    {
     "data": {
      "image/png": "[encoded data removed]",
      "text/plain": [
       "<Figure size 640x480 with 1 Axes>"
      ]
     },
     "metadata": {},
     "output_type": "display_data"
    }
   ],
   "source": [
    "sns.barplot(x='loan_amnt_bining', y='loan_status', data=df)\n",
    "plt.show()"
   ]
  },
  {
   "cell_type": "code",
   "execution_count": 111,
   "id": "0b05936f",
   "metadata": {},
   "outputs": [],
   "source": [
    "#df['loan_amnt_bining'] = pd.to_numeric(df['loan_amnt_zakresy'],errors = 'coerce')"
   ]
  },
  {
   "cell_type": "code",
   "execution_count": null,
   "id": "57a85ff6",
   "metadata": {},
   "outputs": [],
   "source": []
  },
  {
   "cell_type": "code",
   "execution_count": null,
   "id": "3ad20107",
   "metadata": {},
   "outputs": [],
   "source": []
  },
  {
   "cell_type": "code",
   "execution_count": 112,
   "id": "ea709dcd",
   "metadata": {},
   "outputs": [],
   "source": [
    "# Feature engineering, przykład\n",
    "# Możemy tworzyć nowe kolumny wykorzystując dotychczasowe (dzieląc jedną przez drugą, mnożąc, podnosząc do potęgi, itd)\n",
    "# all_data['my_feature'] = all_data['LotArea']/all_data['LotFrontage']"
   ]
  },
  {
   "cell_type": "code",
   "execution_count": 113,
   "id": "9e1920ed",
   "metadata": {},
   "outputs": [],
   "source": [
    "# Feature engineering, przykład\n",
    "# Możemy wyciągać informacje które uznajemy za cenne z łańcuchów znaków\n",
    "# data['full_name'][0] -> 'Mr Adam Smith'\n",
    "# data['full_name'][1] -> 'Mrs Anna Hertz'\n",
    "# Tworzymy nową kolumnę 'personal_title'\n",
    "# data['personal_title'].unique() -> ['Mr', 'Mrs', 'Ms', '']\n",
    "# data['personal_title'][0] -> 'Mr'\n",
    "# data['personal_title'][1] -> 'Mrs'"
   ]
  },
  {
   "cell_type": "code",
   "execution_count": 114,
   "id": "c036ee98",
   "metadata": {},
   "outputs": [],
   "source": [
    "# Feature enginnering, przykład\n",
    "# 'bining', podzielenie zmiennej ciągłej na zakresy i przypisanie każdej etykiety\n",
    "# Zmieńmy kontekst na projekt końcowy, zauważamy, że odsetek spłacanych pożyczek powyżej 400000 jest bardzo duży\n",
    "# Możemy stworzyć nową kolumnę z 'flagą' mówiącą o tym czy pożyczka jest wysoka czy nie, model sprawdzi czy jest korzyść\n",
    "# z traktowania tej grupy pożyczkobiorców osobno\n",
    "# data['is_loan_high']: wartości -> 0,1"
   ]
  },
  {
   "cell_type": "code",
   "execution_count": null,
   "id": "319c19cf",
   "metadata": {},
   "outputs": [],
   "source": []
  },
  {
   "cell_type": "code",
   "execution_count": 115,
   "id": "aab2b4d8",
   "metadata": {},
   "outputs": [],
   "source": [
    "# 2"
   ]
  },
  {
   "cell_type": "code",
   "execution_count": 116,
   "id": "5b379627",
   "metadata": {},
   "outputs": [],
   "source": [
    "df['wnioskowal_dostal'] = df['loan_amnt']/df['funded_amnt']"
   ]
  },
  {
   "cell_type": "code",
   "execution_count": 117,
   "id": "d179b3f5",
   "metadata": {},
   "outputs": [
    {
     "data": {
      "text/plain": [
       "0       1.000\n",
       "1       1.000\n",
       "2       1.000\n",
       "3       1.000\n",
       "4       1.000\n",
       "         ... \n",
       "42531   1.000\n",
       "42532   1.000\n",
       "42533   1.000\n",
       "42534   1.000\n",
       "42535   1.000\n",
       "Name: wnioskowal_dostal, Length: 42536, dtype: float64"
      ]
     },
     "execution_count": 117,
     "metadata": {},
     "output_type": "execute_result"
    }
   ],
   "source": [
    "df['wnioskowal_dostal']"
   ]
  },
  {
   "cell_type": "code",
   "execution_count": null,
   "id": "c9f3f980",
   "metadata": {},
   "outputs": [],
   "source": []
  },
  {
   "cell_type": "code",
   "execution_count": 118,
   "id": "55ff89c0",
   "metadata": {},
   "outputs": [],
   "source": [
    "# 3"
   ]
  },
  {
   "cell_type": "code",
   "execution_count": 119,
   "id": "87779562",
   "metadata": {},
   "outputs": [],
   "source": [
    "df['wnioskowal_dostal_roznica'] = df['loan_amnt'] - df['funded_amnt']"
   ]
  },
  {
   "cell_type": "code",
   "execution_count": 120,
   "id": "779335ef",
   "metadata": {},
   "outputs": [
    {
     "data": {
      "text/plain": [
       "0.000        40538\n",
       "5000.000        16\n",
       "7500.000        12\n",
       "3625.000        11\n",
       "8000.000        11\n",
       "             ...  \n",
       "12625.000        1\n",
       "12800.000        1\n",
       "10850.000        1\n",
       "8250.000         1\n",
       "11250.000        1\n",
       "Name: wnioskowal_dostal_roznica, Length: 519, dtype: int64"
      ]
     },
     "execution_count": 120,
     "metadata": {},
     "output_type": "execute_result"
    }
   ],
   "source": [
    "df['wnioskowal_dostal_roznica'].value_counts()"
   ]
  },
  {
   "cell_type": "code",
   "execution_count": 121,
   "id": "c1bcb9c6",
   "metadata": {},
   "outputs": [],
   "source": [
    "# 4"
   ]
  },
  {
   "cell_type": "code",
   "execution_count": 122,
   "id": "10bc1350",
   "metadata": {},
   "outputs": [],
   "source": [
    "df['loan_amnt'] = pd.to_numeric(df['loan_amnt'],errors = 'coerce')"
   ]
  },
  {
   "cell_type": "code",
   "execution_count": 123,
   "id": "2239cb5d",
   "metadata": {},
   "outputs": [
    {
     "data": {
      "text/plain": [
       "0       0.208\n",
       "1       0.083\n",
       "2       0.196\n",
       "3       0.203\n",
       "4       0.037\n",
       "         ... \n",
       "42531   0.019\n",
       "42532   0.083\n",
       "42533   0.023\n",
       "42534   0.110\n",
       "42535   0.071\n",
       "Name: dochod_kredyt, Length: 42536, dtype: float64"
      ]
     },
     "execution_count": 123,
     "metadata": {},
     "output_type": "execute_result"
    }
   ],
   "source": [
    "df['dochod_kredyt'] = df['loan_amnt']/df['annual_inc']\n",
    "df['dochod_kredyt']"
   ]
  },
  {
   "cell_type": "code",
   "execution_count": 124,
   "id": "3ce18cb4",
   "metadata": {},
   "outputs": [],
   "source": [
    "# 5"
   ]
  },
  {
   "cell_type": "code",
   "execution_count": 125,
   "id": "7f85f003",
   "metadata": {},
   "outputs": [
    {
     "data": {
      "text/plain": [
       "0        147.357\n",
       "1        501.421\n",
       "2        145.286\n",
       "3        145.000\n",
       "4       1180.115\n",
       "          ...   \n",
       "42531   1587.442\n",
       "42532    373.715\n",
       "42533   1363.242\n",
       "42534    288.030\n",
       "42535    448.402\n",
       "Name: dochod_rata, Length: 42536, dtype: float64"
      ]
     },
     "execution_count": 125,
     "metadata": {},
     "output_type": "execute_result"
    }
   ],
   "source": [
    "df['dochod_rata'] = df['annual_inc']/df['installment']\n",
    "df['dochod_rata']"
   ]
  },
  {
   "cell_type": "code",
   "execution_count": 126,
   "id": "78376049",
   "metadata": {},
   "outputs": [],
   "source": [
    "# 6"
   ]
  },
  {
   "cell_type": "code",
   "execution_count": 127,
   "id": "4638d704",
   "metadata": {},
   "outputs": [
    {
     "data": {
      "text/plain": [
       "0        225352.113\n",
       "1        196463.654\n",
       "2         76766.917\n",
       "3        364714.603\n",
       "4        630417.652\n",
       "            ...    \n",
       "42531   1750972.763\n",
       "42532    124481.328\n",
       "42533   1178992.497\n",
       "42534    704057.279\n",
       "42535    903225.806\n",
       "Name: dochod_oprocentowanie, Length: 42536, dtype: float64"
      ]
     },
     "execution_count": 127,
     "metadata": {},
     "output_type": "execute_result"
    }
   ],
   "source": [
    "df['dochod_oprocentowanie'] = df['annual_inc']/df['int_rate']\n",
    "df['dochod_oprocentowanie']"
   ]
  },
  {
   "cell_type": "code",
   "execution_count": 128,
   "id": "c57624d6",
   "metadata": {},
   "outputs": [],
   "source": [
    "# 7"
   ]
  },
  {
   "cell_type": "code",
   "execution_count": 129,
   "id": "ad4a48e9",
   "metadata": {},
   "outputs": [],
   "source": [
    "#  dodanie kolumny z informacją, czy pożyczka jest konsolidacyjna, bądź nie \n",
    "#  (1 - tak, 0 - nie)"
   ]
  },
  {
   "cell_type": "code",
   "execution_count": 130,
   "id": "d057ce8c",
   "metadata": {},
   "outputs": [],
   "source": [
    "def konsolidacyjna(df):\n",
    "    if (df['purpose'] == 'debt_consolidation'):\n",
    "        return 1\n",
    "    else:\n",
    "        return 0"
   ]
  },
  {
   "cell_type": "code",
   "execution_count": 131,
   "id": "01c46d5c",
   "metadata": {},
   "outputs": [],
   "source": [
    "df['konsolidacyjna'] = df.apply(konsolidacyjna, axis=1)"
   ]
  },
  {
   "cell_type": "code",
   "execution_count": 132,
   "id": "86195291",
   "metadata": {},
   "outputs": [
    {
     "data": {
      "text/plain": [
       "0    22759\n",
       "1    19777\n",
       "Name: konsolidacyjna, dtype: int64"
      ]
     },
     "execution_count": 132,
     "metadata": {},
     "output_type": "execute_result"
    }
   ],
   "source": [
    "df['konsolidacyjna'].value_counts()"
   ]
  },
  {
   "cell_type": "code",
   "execution_count": 133,
   "id": "b58ba817",
   "metadata": {},
   "outputs": [],
   "source": [
    "# 8"
   ]
  },
  {
   "cell_type": "code",
   "execution_count": 134,
   "id": "4e94aa7c",
   "metadata": {},
   "outputs": [],
   "source": [
    "# dodanie kolumny z informacją, jaka jest spłacalność przy dyżych kredytach"
   ]
  },
  {
   "cell_type": "code",
   "execution_count": 135,
   "id": "07ea9875",
   "metadata": {},
   "outputs": [],
   "source": [
    "def duzy_kredyt(df):\n",
    "    if (df['loan_amnt'] > 25000) and (df['loan_status'] == 1):\n",
    "        return 1\n",
    "    else:\n",
    "        return 0"
   ]
  },
  {
   "cell_type": "code",
   "execution_count": 136,
   "id": "5b9b05de",
   "metadata": {},
   "outputs": [],
   "source": [
    "df['duzy_kredyt'] = df.apply(duzy_kredyt, axis=1)"
   ]
  },
  {
   "cell_type": "code",
   "execution_count": 137,
   "id": "9b96892c",
   "metadata": {},
   "outputs": [
    {
     "data": {
      "text/plain": [
       "0        0\n",
       "1        0\n",
       "2        0\n",
       "3        0\n",
       "4        0\n",
       "        ..\n",
       "42531    0\n",
       "42532    0\n",
       "42533    0\n",
       "42534    0\n",
       "42535    0\n",
       "Name: duzy_kredyt, Length: 42536, dtype: int64"
      ]
     },
     "execution_count": 137,
     "metadata": {},
     "output_type": "execute_result"
    }
   ],
   "source": [
    "df['duzy_kredyt']"
   ]
  },
  {
   "cell_type": "code",
   "execution_count": null,
   "id": "98ddf182",
   "metadata": {},
   "outputs": [],
   "source": []
  },
  {
   "cell_type": "code",
   "execution_count": 138,
   "id": "f5515735",
   "metadata": {},
   "outputs": [],
   "source": [
    "# 9 dodaje kolumnę z ilością miesięcy, jaką dana osoba posiada jakieś kredyty"
   ]
  },
  {
   "cell_type": "code",
   "execution_count": 139,
   "id": "75ea77fd",
   "metadata": {},
   "outputs": [],
   "source": [
    "from datetime import datetime\n",
    "\n",
    "today = datetime.today()\n",
    "df['od_ilu_miesiecy_kredyt'] = ((today - pd.to_datetime(df['earliest_cr_line'])) /np.timedelta64(1, 'M'))"
   ]
  },
  {
   "cell_type": "code",
   "execution_count": 140,
   "id": "b2f77b17",
   "metadata": {},
   "outputs": [
    {
     "data": {
      "text/plain": [
       "<bound method IndexOpsMixin.value_counts of 0       455.192\n",
       "1       284.248\n",
       "2       253.200\n",
       "3       322.196\n",
       "4       323.214\n",
       "          ...  \n",
       "42531       NaN\n",
       "42532       NaN\n",
       "42533       NaN\n",
       "42534       NaN\n",
       "42535       NaN\n",
       "Name: od_ilu_miesiecy_kredyt, Length: 42536, dtype: float64>"
      ]
     },
     "execution_count": 140,
     "metadata": {},
     "output_type": "execute_result"
    }
   ],
   "source": [
    "df['od_ilu_miesiecy_kredyt'].value_counts"
   ]
  },
  {
   "cell_type": "code",
   "execution_count": null,
   "id": "c1cc33c8",
   "metadata": {},
   "outputs": [],
   "source": []
  },
  {
   "cell_type": "code",
   "execution_count": 141,
   "id": "e0303cf6",
   "metadata": {},
   "outputs": [],
   "source": [
    "# 10 dodam kolumnę z informacją, czy żródło dochodu zostało zweryfikowane (1), bądź nie (0)"
   ]
  },
  {
   "cell_type": "code",
   "execution_count": 142,
   "id": "207a839c",
   "metadata": {},
   "outputs": [
    {
     "data": {
      "text/plain": [
       "Not Verified       18758\n",
       "Verified           13471\n",
       "Source Verified    10306\n",
       "Name: verification_status, dtype: int64"
      ]
     },
     "execution_count": 142,
     "metadata": {},
     "output_type": "execute_result"
    }
   ],
   "source": [
    "df['verification_status'].value_counts()"
   ]
  },
  {
   "cell_type": "code",
   "execution_count": 143,
   "id": "8930bf2d",
   "metadata": {},
   "outputs": [],
   "source": [
    "def verification(df):\n",
    "    if (df['verification_status'] == 'Source Verified'):\n",
    "        return 1\n",
    "    else:\n",
    "        return 0"
   ]
  },
  {
   "cell_type": "code",
   "execution_count": 144,
   "id": "47b638f6",
   "metadata": {},
   "outputs": [],
   "source": [
    "df['source_verified'] = df.apply(verification, axis=1)"
   ]
  },
  {
   "cell_type": "code",
   "execution_count": 145,
   "id": "d71d0737",
   "metadata": {
    "scrolled": true
   },
   "outputs": [
    {
     "data": {
      "text/plain": [
       "0        0\n",
       "1        1\n",
       "2        0\n",
       "3        1\n",
       "4        1\n",
       "        ..\n",
       "42531    0\n",
       "42532    0\n",
       "42533    0\n",
       "42534    0\n",
       "42535    0\n",
       "Name: source_verified, Length: 42536, dtype: int64"
      ]
     },
     "execution_count": 145,
     "metadata": {},
     "output_type": "execute_result"
    }
   ],
   "source": [
    "df['source_verified']"
   ]
  },
  {
   "cell_type": "code",
   "execution_count": null,
   "id": "9922ce16",
   "metadata": {},
   "outputs": [],
   "source": []
  },
  {
   "cell_type": "code",
   "execution_count": 146,
   "id": "48254260",
   "metadata": {},
   "outputs": [],
   "source": [
    "# 11 zmienną 'issue_d' wykorzystam do stworzenia kolumny z miesiącami, w których brane były pożyczki"
   ]
  },
  {
   "cell_type": "code",
   "execution_count": 147,
   "id": "12e42b86",
   "metadata": {},
   "outputs": [
    {
     "name": "stderr",
     "output_type": "stream",
     "text": [
      "C:\\Users\\asus\\AppData\\Local\\Temp\\ipykernel_12244\\34975850.py:1: FutureWarning: The default value of regex will change from True to False in a future version.\n",
      "  df['issue_month'] = pd.Series(df.issue_d).str.replace(r'-\\d+', '')\n"
     ]
    }
   ],
   "source": [
    "df['issue_month'] = pd.Series(df.issue_d).str.replace(r'-\\d+', '')"
   ]
  },
  {
   "cell_type": "code",
   "execution_count": 148,
   "id": "47a8c0d3",
   "metadata": {},
   "outputs": [
    {
     "data": {
      "text/plain": [
       "Dec    4685\n",
       "Nov    4439\n",
       "Oct    4181\n",
       "Sep    3873\n",
       "Aug    3729\n",
       "Jul    3694\n",
       "Jun    3494\n",
       "May    3167\n",
       "Apr    3067\n",
       "Mar    3002\n",
       "Jan    2616\n",
       "Feb    2588\n",
       "Name: issue_month, dtype: int64"
      ]
     },
     "execution_count": 148,
     "metadata": {},
     "output_type": "execute_result"
    }
   ],
   "source": [
    "df['issue_month'].value_counts()"
   ]
  },
  {
   "cell_type": "code",
   "execution_count": 149,
   "id": "6429cf90",
   "metadata": {},
   "outputs": [],
   "source": [
    "# Widać, że najwięcej kredytów wzięto w grudniu.\n",
    "# Porównam, czy spłacalność kredytów rózniła się w poszczególnych miesiącach"
   ]
  },
  {
   "cell_type": "code",
   "execution_count": 150,
   "id": "868e7305",
   "metadata": {},
   "outputs": [
    {
     "data": {
      "text/html": [
       "<div>\n",
       "<style scoped>\n",
       "    .dataframe tbody tr th:only-of-type {\n",
       "        vertical-align: middle;\n",
       "    }\n",
       "\n",
       "    .dataframe tbody tr th {\n",
       "        vertical-align: top;\n",
       "    }\n",
       "\n",
       "    .dataframe thead th {\n",
       "        text-align: right;\n",
       "    }\n",
       "</style>\n",
       "<table border=\"1\" class=\"dataframe\">\n",
       "  <thead>\n",
       "    <tr style=\"text-align: right;\">\n",
       "      <th>issue_month</th>\n",
       "      <th>Apr</th>\n",
       "      <th>Aug</th>\n",
       "      <th>Dec</th>\n",
       "      <th>Feb</th>\n",
       "      <th>Jan</th>\n",
       "      <th>Jul</th>\n",
       "      <th>Jun</th>\n",
       "      <th>Mar</th>\n",
       "      <th>May</th>\n",
       "      <th>Nov</th>\n",
       "      <th>Oct</th>\n",
       "      <th>Sep</th>\n",
       "    </tr>\n",
       "    <tr>\n",
       "      <th>loan_status</th>\n",
       "      <th></th>\n",
       "      <th></th>\n",
       "      <th></th>\n",
       "      <th></th>\n",
       "      <th></th>\n",
       "      <th></th>\n",
       "      <th></th>\n",
       "      <th></th>\n",
       "      <th></th>\n",
       "      <th></th>\n",
       "      <th></th>\n",
       "      <th></th>\n",
       "    </tr>\n",
       "  </thead>\n",
       "  <tbody>\n",
       "    <tr>\n",
       "      <th>0</th>\n",
       "      <td>435</td>\n",
       "      <td>525</td>\n",
       "      <td>750</td>\n",
       "      <td>346</td>\n",
       "      <td>403</td>\n",
       "      <td>536</td>\n",
       "      <td>550</td>\n",
       "      <td>427</td>\n",
       "      <td>510</td>\n",
       "      <td>689</td>\n",
       "      <td>657</td>\n",
       "      <td>603</td>\n",
       "    </tr>\n",
       "    <tr>\n",
       "      <th>1</th>\n",
       "      <td>2632</td>\n",
       "      <td>3204</td>\n",
       "      <td>3935</td>\n",
       "      <td>2242</td>\n",
       "      <td>2213</td>\n",
       "      <td>3158</td>\n",
       "      <td>2944</td>\n",
       "      <td>2575</td>\n",
       "      <td>2657</td>\n",
       "      <td>3750</td>\n",
       "      <td>3524</td>\n",
       "      <td>3270</td>\n",
       "    </tr>\n",
       "  </tbody>\n",
       "</table>\n",
       "</div>"
      ],
      "text/plain": [
       "issue_month   Apr   Aug   Dec   Feb   Jan   Jul   Jun   Mar   May   Nov   Oct  \\\n",
       "loan_status                                                                     \n",
       "0             435   525   750   346   403   536   550   427   510   689   657   \n",
       "1            2632  3204  3935  2242  2213  3158  2944  2575  2657  3750  3524   \n",
       "\n",
       "issue_month   Sep  \n",
       "loan_status        \n",
       "0             603  \n",
       "1            3270  "
      ]
     },
     "execution_count": 150,
     "metadata": {},
     "output_type": "execute_result"
    }
   ],
   "source": [
    "pd.pivot_table(df, index='loan_status', columns='issue_month', aggfunc=\"size\")"
   ]
  },
  {
   "cell_type": "code",
   "execution_count": 151,
   "id": "b387ebf5",
   "metadata": {},
   "outputs": [],
   "source": [
    "#tu def procentow"
   ]
  },
  {
   "cell_type": "code",
   "execution_count": null,
   "id": "cd50c4fe",
   "metadata": {},
   "outputs": [],
   "source": []
  },
  {
   "cell_type": "code",
   "execution_count": 152,
   "id": "d8dbdc4d",
   "metadata": {},
   "outputs": [],
   "source": [
    "# 12 podzielę zmienną 'annual_inc' na zakresy wg dodchodu"
   ]
  },
  {
   "cell_type": "code",
   "execution_count": 153,
   "id": "f493e9a9",
   "metadata": {},
   "outputs": [],
   "source": [
    "def annual_income(n):\n",
    "    if n <= 50000:\n",
    "        return 'low'\n",
    "    elif n > 50000 and n <=100000:\n",
    "        return 'medium'\n",
    "    elif n > 100000 and n <=150000:\n",
    "        return 'high'\n",
    "    else:\n",
    "        return 'very high'\n",
    "\n",
    "df['annual_inc_bining'] = df['annual_inc'].apply(lambda x: annual_income(x))"
   ]
  },
  {
   "cell_type": "code",
   "execution_count": 154,
   "id": "cd0fb5ef",
   "metadata": {},
   "outputs": [
    {
     "data": {
      "image/png": "[encoded data removed]",
      "text/plain": [
       "<Figure size 640x480 with 1 Axes>"
      ]
     },
     "metadata": {},
     "output_type": "display_data"
    }
   ],
   "source": [
    "sns.barplot(x='annual_inc_bining', y='loan_status', data=df)\n",
    "plt.show()"
   ]
  },
  {
   "cell_type": "code",
   "execution_count": null,
   "id": "ad0bdb9a",
   "metadata": {},
   "outputs": [],
   "source": []
  },
  {
   "cell_type": "code",
   "execution_count": 155,
   "id": "8027e64d",
   "metadata": {},
   "outputs": [],
   "source": [
    "# 13 podzielę zmienną 'emp_length' na zakresy wg dodchodu"
   ]
  },
  {
   "cell_type": "code",
   "execution_count": 156,
   "id": "d56e8fcf",
   "metadata": {},
   "outputs": [
    {
     "data": {
      "text/plain": [
       "10+ years    9369\n",
       "< 1 year     5062\n",
       "2 years      4743\n",
       "3 years      4364\n",
       "4 years      3649\n",
       "1 year       3595\n",
       "5 years      3458\n",
       "6 years      2375\n",
       "7 years      1875\n",
       "8 years      1592\n",
       "9 years      1341\n",
       "Name: emp_length, dtype: int64"
      ]
     },
     "execution_count": 156,
     "metadata": {},
     "output_type": "execute_result"
    }
   ],
   "source": [
    "df['emp_length'].value_counts()"
   ]
  },
  {
   "cell_type": "code",
   "execution_count": 157,
   "id": "505545f8",
   "metadata": {},
   "outputs": [],
   "source": [
    "def usuniecie_znakow(df, column):\n",
    "    df[column] = df[column].str.replace('\\+ years', '')\n",
    "    df[column] = df[column].str.replace('< 1 year', str(0))\n",
    "    df[column] = df[column].str.replace(' years', '')\n",
    "    df[column] = df[column].str.replace(' year', '')"
   ]
  },
  {
   "cell_type": "code",
   "execution_count": 158,
   "id": "43de6771",
   "metadata": {},
   "outputs": [
    {
     "name": "stderr",
     "output_type": "stream",
     "text": [
      "C:\\Users\\asus\\AppData\\Local\\Temp\\ipykernel_12244\\1282640428.py:2: FutureWarning: The default value of regex will change from True to False in a future version.\n",
      "  df[column] = df[column].str.replace('\\+ years', '')\n"
     ]
    }
   ],
   "source": [
    "usuniecie_znakow(df,'emp_length')"
   ]
  },
  {
   "cell_type": "code",
   "execution_count": 159,
   "id": "b5d193ae",
   "metadata": {},
   "outputs": [
    {
     "data": {
      "text/plain": [
       "10    9369\n",
       "0     5062\n",
       "2     4743\n",
       "3     4364\n",
       "4     3649\n",
       "1     3595\n",
       "5     3458\n",
       "6     2375\n",
       "7     1875\n",
       "8     1592\n",
       "9     1341\n",
       "Name: emp_length, dtype: int64"
      ]
     },
     "execution_count": 159,
     "metadata": {},
     "output_type": "execute_result"
    }
   ],
   "source": [
    "df['emp_length'].value_counts()"
   ]
  },
  {
   "cell_type": "code",
   "execution_count": 160,
   "id": "17876107",
   "metadata": {},
   "outputs": [
    {
     "data": {
      "text/plain": [
       "array(['10', '0', '1', '3', '8', '9', '4', '5', '6', '2', '7', nan],\n",
       "      dtype=object)"
      ]
     },
     "execution_count": 160,
     "metadata": {},
     "output_type": "execute_result"
    }
   ],
   "source": [
    "df['emp_length'].unique()"
   ]
  },
  {
   "cell_type": "code",
   "execution_count": 161,
   "id": "71d6f300",
   "metadata": {},
   "outputs": [],
   "source": [
    "df['emp_length'].fillna('10', inplace=True)"
   ]
  },
  {
   "cell_type": "code",
   "execution_count": 162,
   "id": "2cc4b5dc",
   "metadata": {},
   "outputs": [],
   "source": [
    "df['emp_length'] = pd.to_numeric(df['emp_length'], errors='coerce').convert_dtypes() "
   ]
  },
  {
   "cell_type": "code",
   "execution_count": 163,
   "id": "b67ce456",
   "metadata": {},
   "outputs": [
    {
     "data": {
      "text/plain": [
       "Int64Dtype()"
      ]
     },
     "execution_count": 163,
     "metadata": {},
     "output_type": "execute_result"
    }
   ],
   "source": [
    "df['emp_length'].dtype"
   ]
  },
  {
   "cell_type": "code",
   "execution_count": 164,
   "id": "dac25082",
   "metadata": {},
   "outputs": [],
   "source": [
    "# podzielę zmienną 'emp_length' na zakresy wg dodchodu"
   ]
  },
  {
   "cell_type": "code",
   "execution_count": 165,
   "id": "c3039be8",
   "metadata": {},
   "outputs": [],
   "source": [
    "def emp_length(n):\n",
    "    if n <= 1:\n",
    "        return 'fresher'\n",
    "    elif n > 1 and n <= 3:\n",
    "        return 'junior'\n",
    "    elif n > 3 and n <= 7:\n",
    "        return 'senior'\n",
    "    else:\n",
    "        return 'expert'"
   ]
  },
  {
   "cell_type": "code",
   "execution_count": 166,
   "id": "d3a73acb",
   "metadata": {},
   "outputs": [],
   "source": [
    "df['emp_length_bining'] = df['emp_length'].apply(lambda x: emp_length(x))"
   ]
  },
  {
   "cell_type": "code",
   "execution_count": 167,
   "id": "5b12eb93",
   "metadata": {},
   "outputs": [
    {
     "data": {
      "image/png": "[encoded data removed]",
      "text/plain": [
       "<Figure size 640x480 with 1 Axes>"
      ]
     },
     "metadata": {},
     "output_type": "display_data"
    }
   ],
   "source": [
    "sns.barplot(x='emp_length_bining', y='loan_status', data=df)\n",
    "plt.show()"
   ]
  },
  {
   "cell_type": "code",
   "execution_count": null,
   "id": "794d9962",
   "metadata": {},
   "outputs": [],
   "source": []
  },
  {
   "cell_type": "code",
   "execution_count": 168,
   "id": "495932e6",
   "metadata": {},
   "outputs": [],
   "source": [
    "# 14 podzielę zmienną 'inq_last_6mths' na zakresy wg ilości składanych wniosków kredytowych"
   ]
  },
  {
   "cell_type": "code",
   "execution_count": 169,
   "id": "2333274b",
   "metadata": {},
   "outputs": [],
   "source": [
    "df['inq_last_6mths'] = pd.to_numeric(df['inq_last_6mths'], errors='coerce').convert_dtypes() "
   ]
  },
  {
   "cell_type": "code",
   "execution_count": 170,
   "id": "aefa4e41",
   "metadata": {},
   "outputs": [
    {
     "data": {
      "text/plain": [
       "0     19657\n",
       "1     11277\n",
       "2      5987\n",
       "3      3182\n",
       "4      1056\n",
       "5       596\n",
       "6       339\n",
       "7       182\n",
       "8       115\n",
       "9        50\n",
       "10       24\n",
       "11       15\n",
       "12       15\n",
       "15        9\n",
       "14        6\n",
       "13        6\n",
       "18        4\n",
       "16        3\n",
       "17        2\n",
       "24        2\n",
       "19        2\n",
       "32        1\n",
       "33        1\n",
       "31        1\n",
       "28        1\n",
       "25        1\n",
       "27        1\n",
       "20        1\n",
       "Name: inq_last_6mths, dtype: Int64"
      ]
     },
     "execution_count": 170,
     "metadata": {},
     "output_type": "execute_result"
    }
   ],
   "source": [
    "df['inq_last_6mths'].value_counts()"
   ]
  },
  {
   "cell_type": "code",
   "execution_count": 171,
   "id": "7a53caa3",
   "metadata": {},
   "outputs": [],
   "source": [
    "def inq_last_6mths(n):\n",
    "    if n <= 5:\n",
    "        return 'malo'\n",
    "    elif n > 5 and n <= 10:\n",
    "        return 'srednio'\n",
    "    elif n > 10 and n <= 15:\n",
    "        return 'duzo'\n",
    "    else:\n",
    "        return 'bardzo duzo'"
   ]
  },
  {
   "cell_type": "code",
   "execution_count": 172,
   "id": "fb6a9944",
   "metadata": {},
   "outputs": [],
   "source": [
    "df['inq_last_6mths_bining'] = df['inq_last_6mths'].apply(lambda x: inq_last_6mths(x))"
   ]
  },
  {
   "cell_type": "code",
   "execution_count": 173,
   "id": "610c1b6a",
   "metadata": {},
   "outputs": [
    {
     "data": {
      "image/png": "[encoded data removed]",
      "text/plain": [
       "<Figure size 640x480 with 1 Axes>"
      ]
     },
     "metadata": {},
     "output_type": "display_data"
    }
   ],
   "source": [
    "sns.barplot(x='inq_last_6mths_bining', y='loan_status', data=df)\n",
    "plt.show()"
   ]
  },
  {
   "cell_type": "code",
   "execution_count": null,
   "id": "afa05efa",
   "metadata": {},
   "outputs": [],
   "source": []
  },
  {
   "cell_type": "code",
   "execution_count": 174,
   "id": "aca3e05b",
   "metadata": {},
   "outputs": [],
   "source": [
    "# 15"
   ]
  },
  {
   "cell_type": "code",
   "execution_count": 175,
   "id": "7f4d683f",
   "metadata": {},
   "outputs": [
    {
     "data": {
      "text/plain": [
       "311.110    68\n",
       "180.960    59\n",
       "311.020    54\n",
       "150.800    48\n",
       "368.450    46\n",
       "           ..\n",
       "809.530     1\n",
       "48.930      1\n",
       "405.460     1\n",
       "458.350     1\n",
       "204.840     1\n",
       "Name: installment, Length: 16459, dtype: int64"
      ]
     },
     "execution_count": 175,
     "metadata": {},
     "output_type": "execute_result"
    }
   ],
   "source": [
    "df['installment'].value_counts()"
   ]
  },
  {
   "cell_type": "code",
   "execution_count": 176,
   "id": "60005239",
   "metadata": {},
   "outputs": [],
   "source": [
    "df['dochod_raty_roznica'] = df['annual_inc'] - (df['installment'] * 12)"
   ]
  },
  {
   "cell_type": "code",
   "execution_count": 177,
   "id": "2a82d911",
   "metadata": {},
   "outputs": [
    {
     "data": {
      "text/plain": [
       "0        22045.560\n",
       "1        29282.040\n",
       "2        11240.040\n",
       "3        45128.280\n",
       "4        79186.520\n",
       "           ...    \n",
       "42531   178639.320\n",
       "42532    11614.680\n",
       "42533   109031.720\n",
       "42534    56541.920\n",
       "42535    68126.680\n",
       "Name: dochod_raty_roznica, Length: 42536, dtype: float64"
      ]
     },
     "execution_count": 177,
     "metadata": {},
     "output_type": "execute_result"
    }
   ],
   "source": [
    "df['dochod_raty_roznica']"
   ]
  },
  {
   "cell_type": "code",
   "execution_count": null,
   "id": "7396671d",
   "metadata": {},
   "outputs": [],
   "source": []
  },
  {
   "cell_type": "code",
   "execution_count": 178,
   "id": "2dbc353f",
   "metadata": {},
   "outputs": [],
   "source": [
    "## 16 dodanie kolumny z informacją, czy pożyczkobiorca posiada kredyt hipoteczny, bądź nie (1 - tak, 0 - nie)"
   ]
  },
  {
   "cell_type": "code",
   "execution_count": 179,
   "id": "6107ed88",
   "metadata": {},
   "outputs": [
    {
     "data": {
      "text/plain": [
       "RENT        20182\n",
       "MORTGAGE    18959\n",
       "OWN          3251\n",
       "OTHER         136\n",
       "NONE            8\n",
       "Name: home_ownership, dtype: int64"
      ]
     },
     "execution_count": 179,
     "metadata": {},
     "output_type": "execute_result"
    }
   ],
   "source": [
    "df['home_ownership'].value_counts()"
   ]
  },
  {
   "cell_type": "code",
   "execution_count": 180,
   "id": "f283f906",
   "metadata": {},
   "outputs": [],
   "source": [
    "def hipoteka(df):\n",
    "    if (df['home_ownership'] == 'MORTGAGE'):\n",
    "        return 1\n",
    "    else:\n",
    "        return 0"
   ]
  },
  {
   "cell_type": "code",
   "execution_count": 181,
   "id": "1ce566b2",
   "metadata": {},
   "outputs": [],
   "source": [
    "df['hipoteka'] = df.apply(hipoteka, axis=1)"
   ]
  },
  {
   "cell_type": "code",
   "execution_count": 182,
   "id": "756c965e",
   "metadata": {},
   "outputs": [
    {
     "data": {
      "text/plain": [
       "0    23577\n",
       "1    18959\n",
       "Name: hipoteka, dtype: int64"
      ]
     },
     "execution_count": 182,
     "metadata": {},
     "output_type": "execute_result"
    }
   ],
   "source": [
    "df['hipoteka'].value_counts()"
   ]
  },
  {
   "cell_type": "code",
   "execution_count": null,
   "id": "8888112e",
   "metadata": {},
   "outputs": [],
   "source": []
  },
  {
   "cell_type": "code",
   "execution_count": 183,
   "id": "cc266f69",
   "metadata": {},
   "outputs": [],
   "source": [
    "# 17"
   ]
  },
  {
   "cell_type": "code",
   "execution_count": 184,
   "id": "55d36aa1",
   "metadata": {},
   "outputs": [],
   "source": [
    "df['fico'] = (df['fico_range_low'] + df['fico_range_high'])/2"
   ]
  },
  {
   "cell_type": "code",
   "execution_count": 185,
   "id": "6376e55c",
   "metadata": {},
   "outputs": [],
   "source": [
    "df.drop(\n",
    "['fico_range_low',\n",
    " 'fico_range_high'],\n",
    "axis=1, inplace=True)"
   ]
  },
  {
   "cell_type": "code",
   "execution_count": 186,
   "id": "8e5c2e70",
   "metadata": {},
   "outputs": [],
   "source": [
    "df['fico'] = pd.to_numeric(df['fico'], errors='coerce').convert_dtypes() "
   ]
  },
  {
   "cell_type": "code",
   "execution_count": 187,
   "id": "7eef9d03",
   "metadata": {},
   "outputs": [],
   "source": [
    "def fico(n):\n",
    "    if n <= 700:\n",
    "        return 'malo'\n",
    "    elif n > 700 and n <= 750:\n",
    "        return 'srednio'\n",
    "    elif n > 750 and n <= 800:\n",
    "        return 'duzo'\n",
    "    else:\n",
    "        return 'bardzo duzo'"
   ]
  },
  {
   "cell_type": "code",
   "execution_count": 188,
   "id": "09de1129",
   "metadata": {},
   "outputs": [],
   "source": [
    "df['fico_bining'] = df['fico'].apply(lambda x: fico(x))"
   ]
  },
  {
   "cell_type": "code",
   "execution_count": 189,
   "id": "b7721b97",
   "metadata": {},
   "outputs": [
    {
     "data": {
      "text/plain": [
       "srednio        17872\n",
       "malo           16678\n",
       "duzo            7362\n",
       "bardzo duzo      624\n",
       "Name: fico_bining, dtype: int64"
      ]
     },
     "execution_count": 189,
     "metadata": {},
     "output_type": "execute_result"
    }
   ],
   "source": [
    "df['fico_bining'].value_counts()"
   ]
  },
  {
   "cell_type": "code",
   "execution_count": null,
   "id": "36f7eaad",
   "metadata": {},
   "outputs": [],
   "source": []
  },
  {
   "cell_type": "code",
   "execution_count": 190,
   "id": "c589812b",
   "metadata": {},
   "outputs": [],
   "source": [
    "def niskie_fico(df):\n",
    "    if (df['fico'] == 'malo') and (df['loan_status'] == 1):\n",
    "        return 1\n",
    "    else:\n",
    "        return 0"
   ]
  },
  {
   "cell_type": "code",
   "execution_count": 191,
   "id": "47624ee4",
   "metadata": {},
   "outputs": [],
   "source": [
    "df['niskie_fico'] = df.apply(niskie_fico, axis=1)"
   ]
  },
  {
   "cell_type": "code",
   "execution_count": 192,
   "id": "d00b7ddc",
   "metadata": {},
   "outputs": [
    {
     "data": {
      "text/plain": [
       "0    42536\n",
       "Name: niskie_fico, dtype: int64"
      ]
     },
     "execution_count": 192,
     "metadata": {},
     "output_type": "execute_result"
    }
   ],
   "source": [
    "df['niskie_fico'].value_counts()"
   ]
  },
  {
   "cell_type": "code",
   "execution_count": null,
   "id": "e8c3e0c3",
   "metadata": {},
   "outputs": [],
   "source": []
  },
  {
   "cell_type": "code",
   "execution_count": 193,
   "id": "afcbcabc",
   "metadata": {},
   "outputs": [],
   "source": [
    "# 18 Podzielę 'int_rate' na przedziały"
   ]
  },
  {
   "cell_type": "code",
   "execution_count": 194,
   "id": "d9529fd2",
   "metadata": {},
   "outputs": [
    {
     "data": {
      "text/plain": [
       "0.110    970\n",
       "0.115    837\n",
       "0.135    832\n",
       "0.075    787\n",
       "0.079    742\n",
       "        ... \n",
       "0.175      1\n",
       "0.215      1\n",
       "0.244      1\n",
       "0.168      1\n",
       "0.162      1\n",
       "Name: int_rate, Length: 394, dtype: int64"
      ]
     },
     "execution_count": 194,
     "metadata": {},
     "output_type": "execute_result"
    }
   ],
   "source": [
    "df['int_rate'].value_counts()"
   ]
  },
  {
   "cell_type": "code",
   "execution_count": 195,
   "id": "8a50b176",
   "metadata": {},
   "outputs": [],
   "source": [
    "def int_rate(n):\n",
    "    if n <= 0.1:\n",
    "        return 'niskie'\n",
    "    elif n > 0.1 and n <= 0.2:\n",
    "        return 'srednie'\n",
    "    else:\n",
    "        return 'wysokie'"
   ]
  },
  {
   "cell_type": "code",
   "execution_count": 196,
   "id": "1ac2a5d0",
   "metadata": {},
   "outputs": [],
   "source": [
    "df['int_rate_bining'] = df['int_rate'].apply(lambda x: int_rate(x))"
   ]
  },
  {
   "cell_type": "code",
   "execution_count": 197,
   "id": "0ecf9941",
   "metadata": {},
   "outputs": [
    {
     "data": {
      "text/plain": [
       "srednie    29004\n",
       "niskie     12593\n",
       "wysokie      939\n",
       "Name: int_rate_bining, dtype: int64"
      ]
     },
     "execution_count": 197,
     "metadata": {},
     "output_type": "execute_result"
    }
   ],
   "source": [
    "df['int_rate_bining'].value_counts()"
   ]
  },
  {
   "cell_type": "code",
   "execution_count": null,
   "id": "4453bf05",
   "metadata": {},
   "outputs": [],
   "source": []
  },
  {
   "cell_type": "code",
   "execution_count": 198,
   "id": "eb513585",
   "metadata": {},
   "outputs": [],
   "source": [
    "# Dodam kolumnę z informacją, jak przestawia się spłata kredytu przy wysokim oprocentowaniu"
   ]
  },
  {
   "cell_type": "code",
   "execution_count": 199,
   "id": "c926c726",
   "metadata": {},
   "outputs": [],
   "source": [
    "def procent(df):\n",
    "    if (df['int_rate_bining'] == 'wysokie') and (df['loan_status'] == 1):\n",
    "        return 1\n",
    "    else:\n",
    "        return 0"
   ]
  },
  {
   "cell_type": "code",
   "execution_count": 200,
   "id": "17fb4640",
   "metadata": {},
   "outputs": [],
   "source": [
    "df['wysokie_oprocentowanie'] = df.apply(procent, axis=1)"
   ]
  },
  {
   "cell_type": "code",
   "execution_count": 201,
   "id": "eec2d083",
   "metadata": {},
   "outputs": [
    {
     "data": {
      "text/plain": [
       "0    41918\n",
       "1      618\n",
       "Name: wysokie_oprocentowanie, dtype: int64"
      ]
     },
     "execution_count": 201,
     "metadata": {},
     "output_type": "execute_result"
    }
   ],
   "source": [
    "df['wysokie_oprocentowanie'].value_counts()"
   ]
  },
  {
   "cell_type": "code",
   "execution_count": null,
   "id": "2f605d9a",
   "metadata": {},
   "outputs": [],
   "source": []
  },
  {
   "cell_type": "code",
   "execution_count": 202,
   "id": "8b568691",
   "metadata": {},
   "outputs": [],
   "source": [
    "# Log Transformation"
   ]
  },
  {
   "cell_type": "code",
   "execution_count": 203,
   "id": "de6ae2f2",
   "metadata": {},
   "outputs": [
    {
     "data": {
      "text/plain": [
       "array([[<AxesSubplot:title={'center':'loan_amnt'}>,\n",
       "        <AxesSubplot:title={'center':'funded_amnt'}>,\n",
       "        <AxesSubplot:title={'center':'term'}>,\n",
       "        <AxesSubplot:title={'center':'int_rate'}>,\n",
       "        <AxesSubplot:title={'center':'installment'}>],\n",
       "       [<AxesSubplot:title={'center':'emp_length'}>,\n",
       "        <AxesSubplot:title={'center':'annual_inc'}>,\n",
       "        <AxesSubplot:title={'center':'loan_status'}>,\n",
       "        <AxesSubplot:title={'center':'dti'}>,\n",
       "        <AxesSubplot:title={'center':'earliest_cr_line'}>],\n",
       "       [<AxesSubplot:title={'center':'inq_last_6mths'}>,\n",
       "        <AxesSubplot:title={'center':'open_acc'}>,\n",
       "        <AxesSubplot:title={'center':'pub_rec'}>,\n",
       "        <AxesSubplot:title={'center':'total_acc'}>,\n",
       "        <AxesSubplot:title={'center':'pub_rec_bankruptcies'}>],\n",
       "       [<AxesSubplot:title={'center':'wnioskowal_dostal'}>,\n",
       "        <AxesSubplot:title={'center':'wnioskowal_dostal_roznica'}>,\n",
       "        <AxesSubplot:title={'center':'dochod_kredyt'}>,\n",
       "        <AxesSubplot:title={'center':'dochod_rata'}>,\n",
       "        <AxesSubplot:title={'center':'dochod_oprocentowanie'}>],\n",
       "       [<AxesSubplot:title={'center':'konsolidacyjna'}>,\n",
       "        <AxesSubplot:title={'center':'duzy_kredyt'}>,\n",
       "        <AxesSubplot:title={'center':'od_ilu_miesiecy_kredyt'}>,\n",
       "        <AxesSubplot:title={'center':'source_verified'}>,\n",
       "        <AxesSubplot:title={'center':'dochod_raty_roznica'}>],\n",
       "       [<AxesSubplot:title={'center':'hipoteka'}>,\n",
       "        <AxesSubplot:title={'center':'fico'}>,\n",
       "        <AxesSubplot:title={'center':'niskie_fico'}>,\n",
       "        <AxesSubplot:title={'center':'wysokie_oprocentowanie'}>,\n",
       "        <AxesSubplot:>]], dtype=object)"
      ]
     },
     "execution_count": 203,
     "metadata": {},
     "output_type": "execute_result"
    },
    {
     "data": {
      "image/png": "[encoded data removed]",
      "text/plain": [
       "<Figure size 1500x1500 with 30 Axes>"
      ]
     },
     "metadata": {},
     "output_type": "display_data"
    }
   ],
   "source": [
    "df.hist(figsize=(15,15))"
   ]
  },
  {
   "cell_type": "code",
   "execution_count": 204,
   "id": "a3505c38",
   "metadata": {},
   "outputs": [
    {
     "name": "stderr",
     "output_type": "stream",
     "text": [
      "D:\\anaconda\\lib\\site-packages\\seaborn\\distributions.py:2619: FutureWarning: `distplot` is a deprecated function and will be removed in a future version. Please adapt your code to use either `displot` (a figure-level function with similar flexibility) or `histplot` (an axes-level function for histograms).\n",
      "  warnings.warn(msg, FutureWarning)\n"
     ]
    },
    {
     "data": {
      "image/png": "[encoded data removed]",
      "text/plain": [
       "<Figure size 640x480 with 1 Axes>"
      ]
     },
     "metadata": {},
     "output_type": "display_data"
    }
   ],
   "source": [
    "df['installment'] =  np.log1p(df['installment'])\n",
    "\n",
    "sns.distplot(df['installment'])\n",
    "plt.title(\"Log-Transformed plot of Installment\")\n",
    "plt.show()"
   ]
  },
  {
   "cell_type": "code",
   "execution_count": null,
   "id": "1c5070fb",
   "metadata": {},
   "outputs": [],
   "source": []
  },
  {
   "cell_type": "code",
   "execution_count": null,
   "id": "659aa816",
   "metadata": {},
   "outputs": [],
   "source": []
  },
  {
   "cell_type": "code",
   "execution_count": 205,
   "id": "be0b4a31",
   "metadata": {},
   "outputs": [],
   "source": [
    "# Polynomial features - bada interakcję między niezależnymi argumentami"
   ]
  },
  {
   "cell_type": "code",
   "execution_count": 206,
   "id": "d9149113",
   "metadata": {
    "scrolled": true
   },
   "outputs": [
    {
     "data": {
      "image/png": "[encoded data removed]",
      "text/plain": [
       "<Figure size 1000x800 with 2 Axes>"
      ]
     },
     "metadata": {},
     "output_type": "display_data"
    }
   ],
   "source": [
    "corr = df.corr()\n",
    "plt.figure(figsize = (10, 8))\n",
    "sns.heatmap(corr)\n",
    "plt.show()"
   ]
  },
  {
   "cell_type": "code",
   "execution_count": 207,
   "id": "7ffa82bb",
   "metadata": {},
   "outputs": [
    {
     "data": {
      "text/html": [
       "<div>\n",
       "<style scoped>\n",
       "    .dataframe tbody tr th:only-of-type {\n",
       "        vertical-align: middle;\n",
       "    }\n",
       "\n",
       "    .dataframe tbody tr th {\n",
       "        vertical-align: top;\n",
       "    }\n",
       "\n",
       "    .dataframe thead th {\n",
       "        text-align: right;\n",
       "    }\n",
       "</style>\n",
       "<table border=\"1\" class=\"dataframe\">\n",
       "  <thead>\n",
       "    <tr style=\"text-align: right;\">\n",
       "      <th></th>\n",
       "      <th>0</th>\n",
       "      <th>1</th>\n",
       "      <th>2</th>\n",
       "      <th>3</th>\n",
       "      <th>4</th>\n",
       "    </tr>\n",
       "  </thead>\n",
       "  <tbody>\n",
       "    <tr>\n",
       "      <th>loan_amnt</th>\n",
       "      <td>5000.000</td>\n",
       "      <td>2500.000</td>\n",
       "      <td>2400.000</td>\n",
       "      <td>10000.000</td>\n",
       "      <td>3000.000</td>\n",
       "    </tr>\n",
       "    <tr>\n",
       "      <th>funded_amnt</th>\n",
       "      <td>5000.000</td>\n",
       "      <td>2500.000</td>\n",
       "      <td>2400.000</td>\n",
       "      <td>10000.000</td>\n",
       "      <td>3000.000</td>\n",
       "    </tr>\n",
       "    <tr>\n",
       "      <th>term</th>\n",
       "      <td>36.000</td>\n",
       "      <td>60.000</td>\n",
       "      <td>36.000</td>\n",
       "      <td>36.000</td>\n",
       "      <td>60.000</td>\n",
       "    </tr>\n",
       "    <tr>\n",
       "      <th>int_rate</th>\n",
       "      <td>0.106</td>\n",
       "      <td>0.153</td>\n",
       "      <td>0.160</td>\n",
       "      <td>0.135</td>\n",
       "      <td>0.127</td>\n",
       "    </tr>\n",
       "    <tr>\n",
       "      <th>installment</th>\n",
       "      <td>5.099</td>\n",
       "      <td>4.108</td>\n",
       "      <td>4.447</td>\n",
       "      <td>5.830</td>\n",
       "      <td>4.231</td>\n",
       "    </tr>\n",
       "    <tr>\n",
       "      <th>grade</th>\n",
       "      <td>B</td>\n",
       "      <td>C</td>\n",
       "      <td>C</td>\n",
       "      <td>C</td>\n",
       "      <td>B</td>\n",
       "    </tr>\n",
       "    <tr>\n",
       "      <th>emp_length</th>\n",
       "      <td>10</td>\n",
       "      <td>0</td>\n",
       "      <td>10</td>\n",
       "      <td>10</td>\n",
       "      <td>1</td>\n",
       "    </tr>\n",
       "    <tr>\n",
       "      <th>home_ownership</th>\n",
       "      <td>RENT</td>\n",
       "      <td>RENT</td>\n",
       "      <td>RENT</td>\n",
       "      <td>RENT</td>\n",
       "      <td>RENT</td>\n",
       "    </tr>\n",
       "    <tr>\n",
       "      <th>annual_inc</th>\n",
       "      <td>24000.000</td>\n",
       "      <td>30000.000</td>\n",
       "      <td>12252.000</td>\n",
       "      <td>49200.000</td>\n",
       "      <td>80000.000</td>\n",
       "    </tr>\n",
       "    <tr>\n",
       "      <th>verification_status</th>\n",
       "      <td>Verified</td>\n",
       "      <td>Source Verified</td>\n",
       "      <td>Not Verified</td>\n",
       "      <td>Source Verified</td>\n",
       "      <td>Source Verified</td>\n",
       "    </tr>\n",
       "    <tr>\n",
       "      <th>issue_d</th>\n",
       "      <td>Dec-2011</td>\n",
       "      <td>Dec-2011</td>\n",
       "      <td>Dec-2011</td>\n",
       "      <td>Dec-2011</td>\n",
       "      <td>Dec-2011</td>\n",
       "    </tr>\n",
       "    <tr>\n",
       "      <th>loan_status</th>\n",
       "      <td>1</td>\n",
       "      <td>0</td>\n",
       "      <td>1</td>\n",
       "      <td>1</td>\n",
       "      <td>1</td>\n",
       "    </tr>\n",
       "    <tr>\n",
       "      <th>purpose</th>\n",
       "      <td>credit_card</td>\n",
       "      <td>car</td>\n",
       "      <td>small_business</td>\n",
       "      <td>other</td>\n",
       "      <td>other</td>\n",
       "    </tr>\n",
       "    <tr>\n",
       "      <th>dti</th>\n",
       "      <td>27.650</td>\n",
       "      <td>1.000</td>\n",
       "      <td>8.720</td>\n",
       "      <td>20.000</td>\n",
       "      <td>17.940</td>\n",
       "    </tr>\n",
       "    <tr>\n",
       "      <th>earliest_cr_line</th>\n",
       "      <td>1985-01-01 00:00:00</td>\n",
       "      <td>1999-04-01 00:00:00</td>\n",
       "      <td>2001-11-01 00:00:00</td>\n",
       "      <td>1996-02-01 00:00:00</td>\n",
       "      <td>1996-01-01 00:00:00</td>\n",
       "    </tr>\n",
       "    <tr>\n",
       "      <th>inq_last_6mths</th>\n",
       "      <td>1</td>\n",
       "      <td>5</td>\n",
       "      <td>2</td>\n",
       "      <td>1</td>\n",
       "      <td>0</td>\n",
       "    </tr>\n",
       "    <tr>\n",
       "      <th>open_acc</th>\n",
       "      <td>3.000</td>\n",
       "      <td>3.000</td>\n",
       "      <td>2.000</td>\n",
       "      <td>10.000</td>\n",
       "      <td>15.000</td>\n",
       "    </tr>\n",
       "    <tr>\n",
       "      <th>pub_rec</th>\n",
       "      <td>0.000</td>\n",
       "      <td>0.000</td>\n",
       "      <td>0.000</td>\n",
       "      <td>0.000</td>\n",
       "      <td>0.000</td>\n",
       "    </tr>\n",
       "    <tr>\n",
       "      <th>total_acc</th>\n",
       "      <td>9.000</td>\n",
       "      <td>4.000</td>\n",
       "      <td>10.000</td>\n",
       "      <td>37.000</td>\n",
       "      <td>38.000</td>\n",
       "    </tr>\n",
       "    <tr>\n",
       "      <th>pub_rec_bankruptcies</th>\n",
       "      <td>0.000</td>\n",
       "      <td>0.000</td>\n",
       "      <td>0.000</td>\n",
       "      <td>0.000</td>\n",
       "      <td>0.000</td>\n",
       "    </tr>\n",
       "    <tr>\n",
       "      <th>loan_amnt_bining</th>\n",
       "      <td>medium</td>\n",
       "      <td>low</td>\n",
       "      <td>low</td>\n",
       "      <td>medium</td>\n",
       "      <td>low</td>\n",
       "    </tr>\n",
       "    <tr>\n",
       "      <th>wnioskowal_dostal</th>\n",
       "      <td>1.000</td>\n",
       "      <td>1.000</td>\n",
       "      <td>1.000</td>\n",
       "      <td>1.000</td>\n",
       "      <td>1.000</td>\n",
       "    </tr>\n",
       "    <tr>\n",
       "      <th>wnioskowal_dostal_roznica</th>\n",
       "      <td>0.000</td>\n",
       "      <td>0.000</td>\n",
       "      <td>0.000</td>\n",
       "      <td>0.000</td>\n",
       "      <td>0.000</td>\n",
       "    </tr>\n",
       "    <tr>\n",
       "      <th>dochod_kredyt</th>\n",
       "      <td>0.208</td>\n",
       "      <td>0.083</td>\n",
       "      <td>0.196</td>\n",
       "      <td>0.203</td>\n",
       "      <td>0.037</td>\n",
       "    </tr>\n",
       "    <tr>\n",
       "      <th>dochod_rata</th>\n",
       "      <td>147.357</td>\n",
       "      <td>501.421</td>\n",
       "      <td>145.286</td>\n",
       "      <td>145.000</td>\n",
       "      <td>1180.115</td>\n",
       "    </tr>\n",
       "    <tr>\n",
       "      <th>dochod_oprocentowanie</th>\n",
       "      <td>225352.113</td>\n",
       "      <td>196463.654</td>\n",
       "      <td>76766.917</td>\n",
       "      <td>364714.603</td>\n",
       "      <td>630417.652</td>\n",
       "    </tr>\n",
       "    <tr>\n",
       "      <th>konsolidacyjna</th>\n",
       "      <td>0</td>\n",
       "      <td>0</td>\n",
       "      <td>0</td>\n",
       "      <td>0</td>\n",
       "      <td>0</td>\n",
       "    </tr>\n",
       "    <tr>\n",
       "      <th>duzy_kredyt</th>\n",
       "      <td>0</td>\n",
       "      <td>0</td>\n",
       "      <td>0</td>\n",
       "      <td>0</td>\n",
       "      <td>0</td>\n",
       "    </tr>\n",
       "    <tr>\n",
       "      <th>od_ilu_miesiecy_kredyt</th>\n",
       "      <td>455.192</td>\n",
       "      <td>284.248</td>\n",
       "      <td>253.200</td>\n",
       "      <td>322.196</td>\n",
       "      <td>323.214</td>\n",
       "    </tr>\n",
       "    <tr>\n",
       "      <th>source_verified</th>\n",
       "      <td>0</td>\n",
       "      <td>1</td>\n",
       "      <td>0</td>\n",
       "      <td>1</td>\n",
       "      <td>1</td>\n",
       "    </tr>\n",
       "    <tr>\n",
       "      <th>issue_month</th>\n",
       "      <td>Dec</td>\n",
       "      <td>Dec</td>\n",
       "      <td>Dec</td>\n",
       "      <td>Dec</td>\n",
       "      <td>Dec</td>\n",
       "    </tr>\n",
       "    <tr>\n",
       "      <th>annual_inc_bining</th>\n",
       "      <td>low</td>\n",
       "      <td>low</td>\n",
       "      <td>low</td>\n",
       "      <td>low</td>\n",
       "      <td>medium</td>\n",
       "    </tr>\n",
       "    <tr>\n",
       "      <th>emp_length_bining</th>\n",
       "      <td>expert</td>\n",
       "      <td>fresher</td>\n",
       "      <td>expert</td>\n",
       "      <td>expert</td>\n",
       "      <td>fresher</td>\n",
       "    </tr>\n",
       "    <tr>\n",
       "      <th>inq_last_6mths_bining</th>\n",
       "      <td>malo</td>\n",
       "      <td>malo</td>\n",
       "      <td>malo</td>\n",
       "      <td>malo</td>\n",
       "      <td>malo</td>\n",
       "    </tr>\n",
       "    <tr>\n",
       "      <th>dochod_raty_roznica</th>\n",
       "      <td>22045.560</td>\n",
       "      <td>29282.040</td>\n",
       "      <td>11240.040</td>\n",
       "      <td>45128.280</td>\n",
       "      <td>79186.520</td>\n",
       "    </tr>\n",
       "    <tr>\n",
       "      <th>hipoteka</th>\n",
       "      <td>0</td>\n",
       "      <td>0</td>\n",
       "      <td>0</td>\n",
       "      <td>0</td>\n",
       "      <td>0</td>\n",
       "    </tr>\n",
       "    <tr>\n",
       "      <th>fico</th>\n",
       "      <td>737</td>\n",
       "      <td>742</td>\n",
       "      <td>737</td>\n",
       "      <td>692</td>\n",
       "      <td>697</td>\n",
       "    </tr>\n",
       "    <tr>\n",
       "      <th>fico_bining</th>\n",
       "      <td>srednio</td>\n",
       "      <td>srednio</td>\n",
       "      <td>srednio</td>\n",
       "      <td>malo</td>\n",
       "      <td>malo</td>\n",
       "    </tr>\n",
       "    <tr>\n",
       "      <th>niskie_fico</th>\n",
       "      <td>0</td>\n",
       "      <td>0</td>\n",
       "      <td>0</td>\n",
       "      <td>0</td>\n",
       "      <td>0</td>\n",
       "    </tr>\n",
       "    <tr>\n",
       "      <th>int_rate_bining</th>\n",
       "      <td>srednie</td>\n",
       "      <td>srednie</td>\n",
       "      <td>srednie</td>\n",
       "      <td>srednie</td>\n",
       "      <td>srednie</td>\n",
       "    </tr>\n",
       "    <tr>\n",
       "      <th>wysokie_oprocentowanie</th>\n",
       "      <td>0</td>\n",
       "      <td>0</td>\n",
       "      <td>0</td>\n",
       "      <td>0</td>\n",
       "      <td>0</td>\n",
       "    </tr>\n",
       "    <tr>\n",
       "      <th>0</th>\n",
       "      <td>1.000</td>\n",
       "      <td>1.000</td>\n",
       "      <td>1.000</td>\n",
       "      <td>1.000</td>\n",
       "      <td>1.000</td>\n",
       "    </tr>\n",
       "    <tr>\n",
       "      <th>1</th>\n",
       "      <td>27.650</td>\n",
       "      <td>1.000</td>\n",
       "      <td>8.720</td>\n",
       "      <td>20.000</td>\n",
       "      <td>17.940</td>\n",
       "    </tr>\n",
       "    <tr>\n",
       "      <th>2</th>\n",
       "      <td>0.106</td>\n",
       "      <td>0.153</td>\n",
       "      <td>0.160</td>\n",
       "      <td>0.135</td>\n",
       "      <td>0.127</td>\n",
       "    </tr>\n",
       "    <tr>\n",
       "      <th>3</th>\n",
       "      <td>737.000</td>\n",
       "      <td>742.000</td>\n",
       "      <td>737.000</td>\n",
       "      <td>692.000</td>\n",
       "      <td>697.000</td>\n",
       "    </tr>\n",
       "    <tr>\n",
       "      <th>4</th>\n",
       "      <td>764.522</td>\n",
       "      <td>1.000</td>\n",
       "      <td>76.038</td>\n",
       "      <td>400.000</td>\n",
       "      <td>321.844</td>\n",
       "    </tr>\n",
       "    <tr>\n",
       "      <th>5</th>\n",
       "      <td>2.945</td>\n",
       "      <td>0.153</td>\n",
       "      <td>1.392</td>\n",
       "      <td>2.698</td>\n",
       "      <td>2.277</td>\n",
       "    </tr>\n",
       "    <tr>\n",
       "      <th>6</th>\n",
       "      <td>20378.050</td>\n",
       "      <td>742.000</td>\n",
       "      <td>6426.640</td>\n",
       "      <td>13840.000</td>\n",
       "      <td>12504.180</td>\n",
       "    </tr>\n",
       "    <tr>\n",
       "      <th>7</th>\n",
       "      <td>0.011</td>\n",
       "      <td>0.023</td>\n",
       "      <td>0.025</td>\n",
       "      <td>0.018</td>\n",
       "      <td>0.016</td>\n",
       "    </tr>\n",
       "    <tr>\n",
       "      <th>8</th>\n",
       "      <td>78.490</td>\n",
       "      <td>113.303</td>\n",
       "      <td>117.625</td>\n",
       "      <td>93.351</td>\n",
       "      <td>88.449</td>\n",
       "    </tr>\n",
       "    <tr>\n",
       "      <th>9</th>\n",
       "      <td>543169.000</td>\n",
       "      <td>550564.000</td>\n",
       "      <td>543169.000</td>\n",
       "      <td>478864.000</td>\n",
       "      <td>485809.000</td>\n",
       "    </tr>\n",
       "  </tbody>\n",
       "</table>\n",
       "</div>"
      ],
      "text/plain": [
       "                                             0                    1  \\\n",
       "loan_amnt                             5000.000             2500.000   \n",
       "funded_amnt                           5000.000             2500.000   \n",
       "term                                    36.000               60.000   \n",
       "int_rate                                 0.106                0.153   \n",
       "installment                              5.099                4.108   \n",
       "grade                                        B                    C   \n",
       "emp_length                                  10                    0   \n",
       "home_ownership                            RENT                 RENT   \n",
       "annual_inc                           24000.000            30000.000   \n",
       "verification_status                   Verified      Source Verified   \n",
       "issue_d                               Dec-2011             Dec-2011   \n",
       "loan_status                                  1                    0   \n",
       "purpose                            credit_card                  car   \n",
       "dti                                     27.650                1.000   \n",
       "earliest_cr_line           1985-01-01 00:00:00  1999-04-01 00:00:00   \n",
       "inq_last_6mths                               1                    5   \n",
       "open_acc                                 3.000                3.000   \n",
       "pub_rec                                  0.000                0.000   \n",
       "total_acc                                9.000                4.000   \n",
       "pub_rec_bankruptcies                     0.000                0.000   \n",
       "loan_amnt_bining                        medium                  low   \n",
       "wnioskowal_dostal                        1.000                1.000   \n",
       "wnioskowal_dostal_roznica                0.000                0.000   \n",
       "dochod_kredyt                            0.208                0.083   \n",
       "dochod_rata                            147.357              501.421   \n",
       "dochod_oprocentowanie               225352.113           196463.654   \n",
       "konsolidacyjna                               0                    0   \n",
       "duzy_kredyt                                  0                    0   \n",
       "od_ilu_miesiecy_kredyt                 455.192              284.248   \n",
       "source_verified                              0                    1   \n",
       "issue_month                                Dec                  Dec   \n",
       "annual_inc_bining                          low                  low   \n",
       "emp_length_bining                       expert              fresher   \n",
       "inq_last_6mths_bining                     malo                 malo   \n",
       "dochod_raty_roznica                  22045.560            29282.040   \n",
       "hipoteka                                     0                    0   \n",
       "fico                                       737                  742   \n",
       "fico_bining                            srednio              srednio   \n",
       "niskie_fico                                  0                    0   \n",
       "int_rate_bining                        srednie              srednie   \n",
       "wysokie_oprocentowanie                       0                    0   \n",
       "0                                        1.000                1.000   \n",
       "1                                       27.650                1.000   \n",
       "2                                        0.106                0.153   \n",
       "3                                      737.000              742.000   \n",
       "4                                      764.522                1.000   \n",
       "5                                        2.945                0.153   \n",
       "6                                    20378.050              742.000   \n",
       "7                                        0.011                0.023   \n",
       "8                                       78.490              113.303   \n",
       "9                                   543169.000           550564.000   \n",
       "\n",
       "                                             2                    3  \\\n",
       "loan_amnt                             2400.000            10000.000   \n",
       "funded_amnt                           2400.000            10000.000   \n",
       "term                                    36.000               36.000   \n",
       "int_rate                                 0.160                0.135   \n",
       "installment                              4.447                5.830   \n",
       "grade                                        C                    C   \n",
       "emp_length                                  10                   10   \n",
       "home_ownership                            RENT                 RENT   \n",
       "annual_inc                           12252.000            49200.000   \n",
       "verification_status               Not Verified      Source Verified   \n",
       "issue_d                               Dec-2011             Dec-2011   \n",
       "loan_status                                  1                    1   \n",
       "purpose                         small_business                other   \n",
       "dti                                      8.720               20.000   \n",
       "earliest_cr_line           2001-11-01 00:00:00  1996-02-01 00:00:00   \n",
       "inq_last_6mths                               2                    1   \n",
       "open_acc                                 2.000               10.000   \n",
       "pub_rec                                  0.000                0.000   \n",
       "total_acc                               10.000               37.000   \n",
       "pub_rec_bankruptcies                     0.000                0.000   \n",
       "loan_amnt_bining                           low               medium   \n",
       "wnioskowal_dostal                        1.000                1.000   \n",
       "wnioskowal_dostal_roznica                0.000                0.000   \n",
       "dochod_kredyt                            0.196                0.203   \n",
       "dochod_rata                            145.286              145.000   \n",
       "dochod_oprocentowanie                76766.917           364714.603   \n",
       "konsolidacyjna                               0                    0   \n",
       "duzy_kredyt                                  0                    0   \n",
       "od_ilu_miesiecy_kredyt                 253.200              322.196   \n",
       "source_verified                              0                    1   \n",
       "issue_month                                Dec                  Dec   \n",
       "annual_inc_bining                          low                  low   \n",
       "emp_length_bining                       expert               expert   \n",
       "inq_last_6mths_bining                     malo                 malo   \n",
       "dochod_raty_roznica                  11240.040            45128.280   \n",
       "hipoteka                                     0                    0   \n",
       "fico                                       737                  692   \n",
       "fico_bining                            srednio                 malo   \n",
       "niskie_fico                                  0                    0   \n",
       "int_rate_bining                        srednie              srednie   \n",
       "wysokie_oprocentowanie                       0                    0   \n",
       "0                                        1.000                1.000   \n",
       "1                                        8.720               20.000   \n",
       "2                                        0.160                0.135   \n",
       "3                                      737.000              692.000   \n",
       "4                                       76.038              400.000   \n",
       "5                                        1.392                2.698   \n",
       "6                                     6426.640            13840.000   \n",
       "7                                        0.025                0.018   \n",
       "8                                      117.625               93.351   \n",
       "9                                   543169.000           478864.000   \n",
       "\n",
       "                                             4  \n",
       "loan_amnt                             3000.000  \n",
       "funded_amnt                           3000.000  \n",
       "term                                    60.000  \n",
       "int_rate                                 0.127  \n",
       "installment                              4.231  \n",
       "grade                                        B  \n",
       "emp_length                                   1  \n",
       "home_ownership                            RENT  \n",
       "annual_inc                           80000.000  \n",
       "verification_status            Source Verified  \n",
       "issue_d                               Dec-2011  \n",
       "loan_status                                  1  \n",
       "purpose                                  other  \n",
       "dti                                     17.940  \n",
       "earliest_cr_line           1996-01-01 00:00:00  \n",
       "inq_last_6mths                               0  \n",
       "open_acc                                15.000  \n",
       "pub_rec                                  0.000  \n",
       "total_acc                               38.000  \n",
       "pub_rec_bankruptcies                     0.000  \n",
       "loan_amnt_bining                           low  \n",
       "wnioskowal_dostal                        1.000  \n",
       "wnioskowal_dostal_roznica                0.000  \n",
       "dochod_kredyt                            0.037  \n",
       "dochod_rata                           1180.115  \n",
       "dochod_oprocentowanie               630417.652  \n",
       "konsolidacyjna                               0  \n",
       "duzy_kredyt                                  0  \n",
       "od_ilu_miesiecy_kredyt                 323.214  \n",
       "source_verified                              1  \n",
       "issue_month                                Dec  \n",
       "annual_inc_bining                       medium  \n",
       "emp_length_bining                      fresher  \n",
       "inq_last_6mths_bining                     malo  \n",
       "dochod_raty_roznica                  79186.520  \n",
       "hipoteka                                     0  \n",
       "fico                                       697  \n",
       "fico_bining                               malo  \n",
       "niskie_fico                                  0  \n",
       "int_rate_bining                        srednie  \n",
       "wysokie_oprocentowanie                       0  \n",
       "0                                        1.000  \n",
       "1                                       17.940  \n",
       "2                                        0.127  \n",
       "3                                      697.000  \n",
       "4                                      321.844  \n",
       "5                                        2.277  \n",
       "6                                    12504.180  \n",
       "7                                        0.016  \n",
       "8                                       88.449  \n",
       "9                                   485809.000  "
      ]
     },
     "execution_count": 207,
     "metadata": {},
     "output_type": "execute_result"
    }
   ],
   "source": [
    "from sklearn.preprocessing import PolynomialFeatures\n",
    "\n",
    "poly = PolynomialFeatures()\n",
    "to_cross = ['dti', 'int_rate', 'fico']\n",
    "crossed_features = poly.fit_transform(df[to_cross].values)\n",
    "\n",
    "# Tworzę data frame i dodaję do danych\n",
    "crossed_features = pd.DataFrame(crossed_features)\n",
    "df = pd.concat([df, crossed_features], axis=1)\n",
    "\n",
    "df.head().T"
   ]
  },
  {
   "cell_type": "code",
   "execution_count": null,
   "id": "36639383",
   "metadata": {},
   "outputs": [],
   "source": []
  },
  {
   "cell_type": "code",
   "execution_count": null,
   "id": "47813642",
   "metadata": {},
   "outputs": [],
   "source": [
    "print \"{:.0%}\".format(1/3)"
   ]
  },
  {
   "cell_type": "code",
   "execution_count": 208,
   "id": "12a3a41a",
   "metadata": {},
   "outputs": [
    {
     "data": {
      "text/html": [
       "<div>\n",
       "<style scoped>\n",
       "    .dataframe tbody tr th:only-of-type {\n",
       "        vertical-align: middle;\n",
       "    }\n",
       "\n",
       "    .dataframe tbody tr th {\n",
       "        vertical-align: top;\n",
       "    }\n",
       "\n",
       "    .dataframe thead th {\n",
       "        text-align: right;\n",
       "    }\n",
       "</style>\n",
       "<table border=\"1\" class=\"dataframe\">\n",
       "  <thead>\n",
       "    <tr style=\"text-align: right;\">\n",
       "      <th>grade</th>\n",
       "      <th>A</th>\n",
       "      <th>B</th>\n",
       "      <th>C</th>\n",
       "      <th>D</th>\n",
       "      <th>E</th>\n",
       "      <th>F</th>\n",
       "      <th>G</th>\n",
       "    </tr>\n",
       "    <tr>\n",
       "      <th>loan_status</th>\n",
       "      <th></th>\n",
       "      <th></th>\n",
       "      <th></th>\n",
       "      <th></th>\n",
       "      <th></th>\n",
       "      <th></th>\n",
       "      <th></th>\n",
       "    </tr>\n",
       "  </thead>\n",
       "  <tbody>\n",
       "    <tr>\n",
       "      <th>0</th>\n",
       "      <td>610</td>\n",
       "      <td>1518</td>\n",
       "      <td>1504</td>\n",
       "      <td>1327</td>\n",
       "      <td>883</td>\n",
       "      <td>416</td>\n",
       "      <td>173</td>\n",
       "    </tr>\n",
       "    <tr>\n",
       "      <th>1</th>\n",
       "      <td>9573</td>\n",
       "      <td>10872</td>\n",
       "      <td>7236</td>\n",
       "      <td>4689</td>\n",
       "      <td>2511</td>\n",
       "      <td>885</td>\n",
       "      <td>339</td>\n",
       "    </tr>\n",
       "  </tbody>\n",
       "</table>\n",
       "</div>"
      ],
      "text/plain": [
       "grade           A      B     C     D     E    F    G\n",
       "loan_status                                         \n",
       "0             610   1518  1504  1327   883  416  173\n",
       "1            9573  10872  7236  4689  2511  885  339"
      ]
     },
     "execution_count": 208,
     "metadata": {},
     "output_type": "execute_result"
    }
   ],
   "source": [
    "pd.pivot_table(df, index=\"loan_status\", columns=\"grade\", aggfunc=\"size\")"
   ]
  },
  {
   "cell_type": "code",
   "execution_count": 223,
   "id": "cbd47783",
   "metadata": {},
   "outputs": [
    {
     "data": {
      "text/html": [
       "<div>\n",
       "<style scoped>\n",
       "    .dataframe tbody tr th:only-of-type {\n",
       "        vertical-align: middle;\n",
       "    }\n",
       "\n",
       "    .dataframe tbody tr th {\n",
       "        vertical-align: top;\n",
       "    }\n",
       "\n",
       "    .dataframe thead th {\n",
       "        text-align: right;\n",
       "    }\n",
       "</style>\n",
       "<table border=\"1\" class=\"dataframe\">\n",
       "  <thead>\n",
       "    <tr style=\"text-align: right;\">\n",
       "      <th>grade</th>\n",
       "      <th>A</th>\n",
       "      <th>B</th>\n",
       "      <th>C</th>\n",
       "      <th>D</th>\n",
       "      <th>E</th>\n",
       "      <th>F</th>\n",
       "      <th>G</th>\n",
       "    </tr>\n",
       "    <tr>\n",
       "      <th>loan_status</th>\n",
       "      <th></th>\n",
       "      <th></th>\n",
       "      <th></th>\n",
       "      <th></th>\n",
       "      <th></th>\n",
       "      <th></th>\n",
       "      <th></th>\n",
       "    </tr>\n",
       "  </thead>\n",
       "  <tbody>\n",
       "    <tr>\n",
       "      <th>0</th>\n",
       "      <td>0.014</td>\n",
       "      <td>0.036</td>\n",
       "      <td>0.035</td>\n",
       "      <td>0.031</td>\n",
       "      <td>0.021</td>\n",
       "      <td>0.010</td>\n",
       "      <td>0.004</td>\n",
       "    </tr>\n",
       "    <tr>\n",
       "      <th>1</th>\n",
       "      <td>0.225</td>\n",
       "      <td>0.256</td>\n",
       "      <td>0.170</td>\n",
       "      <td>0.110</td>\n",
       "      <td>0.059</td>\n",
       "      <td>0.021</td>\n",
       "      <td>0.008</td>\n",
       "    </tr>\n",
       "  </tbody>\n",
       "</table>\n",
       "</div>"
      ],
      "text/plain": [
       "grade           A     B     C     D     E     F     G\n",
       "loan_status                                          \n",
       "0           0.014 0.036 0.035 0.031 0.021 0.010 0.004\n",
       "1           0.225 0.256 0.170 0.110 0.059 0.021 0.008"
      ]
     },
     "execution_count": 223,
     "metadata": {},
     "output_type": "execute_result"
    }
   ],
   "source": [
    "pd.crosstab(df['loan_status'], df['grade']).pipe(lambda x: x / x.values.sum())"
   ]
  },
  {
   "cell_type": "code",
   "execution_count": 210,
   "id": "e726fa7c",
   "metadata": {},
   "outputs": [
    {
     "name": "stdout",
     "output_type": "stream",
     "text": [
      "% osób spłacających pożyczki w poszczególnych grupach\n",
      "A: 94.01%\n",
      "B: 87.75%\n",
      "C: 82.79%\n",
      "D: 77.94%\n",
      "E: 73.98%\n",
      "F: 68.02%\n",
      "G: 66.21%\n"
     ]
    }
   ],
   "source": [
    "print(\"% osób spłacających pożyczki w poszczególnych grupach\")\n",
    "print(f\"A: {round((9573)/(610+9573) * 100, 2)}%\")\n",
    "print(f\"B: {round((10872)/(1518+10872) * 100, 2)}%\")\n",
    "print(f\"C: {round((7236)/(1504+7236) * 100, 2)}%\")\n",
    "print(f\"D: {round((4689)/(1327+4689) * 100, 2)}%\")\n",
    "print(f\"E: {round((2511)/(883+2511) * 100, 2)}%\")\n",
    "print(f\"F: {round((885)/(885+416)* 100, 2)}%\")\n",
    "print(f\"G: {round((339)/(173+339)* 100, 2)}%\")"
   ]
  },
  {
   "cell_type": "code",
   "execution_count": 239,
   "id": "38b851d0",
   "metadata": {},
   "outputs": [
    {
     "data": {
      "text/html": [
       "<div>\n",
       "<style scoped>\n",
       "    .dataframe tbody tr th:only-of-type {\n",
       "        vertical-align: middle;\n",
       "    }\n",
       "\n",
       "    .dataframe tbody tr th {\n",
       "        vertical-align: top;\n",
       "    }\n",
       "\n",
       "    .dataframe thead th {\n",
       "        text-align: right;\n",
       "    }\n",
       "</style>\n",
       "<table border=\"1\" class=\"dataframe\">\n",
       "  <thead>\n",
       "    <tr style=\"text-align: right;\">\n",
       "      <th>loan_status</th>\n",
       "      <th>0</th>\n",
       "      <th>1</th>\n",
       "    </tr>\n",
       "    <tr>\n",
       "      <th>grade</th>\n",
       "      <th></th>\n",
       "      <th></th>\n",
       "    </tr>\n",
       "  </thead>\n",
       "  <tbody>\n",
       "    <tr>\n",
       "      <th>A</th>\n",
       "      <td>0.060</td>\n",
       "      <td>0.940</td>\n",
       "    </tr>\n",
       "    <tr>\n",
       "      <th>B</th>\n",
       "      <td>0.123</td>\n",
       "      <td>0.877</td>\n",
       "    </tr>\n",
       "    <tr>\n",
       "      <th>C</th>\n",
       "      <td>0.172</td>\n",
       "      <td>0.828</td>\n",
       "    </tr>\n",
       "    <tr>\n",
       "      <th>D</th>\n",
       "      <td>0.221</td>\n",
       "      <td>0.779</td>\n",
       "    </tr>\n",
       "    <tr>\n",
       "      <th>E</th>\n",
       "      <td>0.260</td>\n",
       "      <td>0.740</td>\n",
       "    </tr>\n",
       "    <tr>\n",
       "      <th>F</th>\n",
       "      <td>0.320</td>\n",
       "      <td>0.680</td>\n",
       "    </tr>\n",
       "    <tr>\n",
       "      <th>G</th>\n",
       "      <td>0.338</td>\n",
       "      <td>0.662</td>\n",
       "    </tr>\n",
       "  </tbody>\n",
       "</table>\n",
       "</div>"
      ],
      "text/plain": [
       "loan_status     0     1\n",
       "grade                  \n",
       "A           0.060 0.940\n",
       "B           0.123 0.877\n",
       "C           0.172 0.828\n",
       "D           0.221 0.779\n",
       "E           0.260 0.740\n",
       "F           0.320 0.680\n",
       "G           0.338 0.662"
      ]
     },
     "execution_count": 239,
     "metadata": {},
     "output_type": "execute_result"
    }
   ],
   "source": [
    "pd.crosstab(df['grade'], df['loan_status'], normalize='index')"
   ]
  },
  {
   "cell_type": "code",
   "execution_count": 233,
   "id": "e3019836",
   "metadata": {},
   "outputs": [],
   "source": [
    "ctdf = pd.crosstab(df['grade'], df['loan_status'])"
   ]
  },
  {
   "cell_type": "code",
   "execution_count": 234,
   "id": "c9953546",
   "metadata": {},
   "outputs": [
    {
     "data": {
      "text/html": [
       "<div>\n",
       "<style scoped>\n",
       "    .dataframe tbody tr th:only-of-type {\n",
       "        vertical-align: middle;\n",
       "    }\n",
       "\n",
       "    .dataframe tbody tr th {\n",
       "        vertical-align: top;\n",
       "    }\n",
       "\n",
       "    .dataframe thead th {\n",
       "        text-align: right;\n",
       "    }\n",
       "</style>\n",
       "<table border=\"1\" class=\"dataframe\">\n",
       "  <thead>\n",
       "    <tr style=\"text-align: right;\">\n",
       "      <th>loan_status</th>\n",
       "      <th>0</th>\n",
       "      <th>1</th>\n",
       "    </tr>\n",
       "    <tr>\n",
       "      <th>grade</th>\n",
       "      <th></th>\n",
       "      <th></th>\n",
       "    </tr>\n",
       "  </thead>\n",
       "  <tbody>\n",
       "    <tr>\n",
       "      <th>A</th>\n",
       "      <td>610</td>\n",
       "      <td>9573</td>\n",
       "    </tr>\n",
       "    <tr>\n",
       "      <th>B</th>\n",
       "      <td>1518</td>\n",
       "      <td>10872</td>\n",
       "    </tr>\n",
       "    <tr>\n",
       "      <th>C</th>\n",
       "      <td>1504</td>\n",
       "      <td>7236</td>\n",
       "    </tr>\n",
       "    <tr>\n",
       "      <th>D</th>\n",
       "      <td>1327</td>\n",
       "      <td>4689</td>\n",
       "    </tr>\n",
       "    <tr>\n",
       "      <th>E</th>\n",
       "      <td>883</td>\n",
       "      <td>2511</td>\n",
       "    </tr>\n",
       "    <tr>\n",
       "      <th>F</th>\n",
       "      <td>416</td>\n",
       "      <td>885</td>\n",
       "    </tr>\n",
       "    <tr>\n",
       "      <th>G</th>\n",
       "      <td>173</td>\n",
       "      <td>339</td>\n",
       "    </tr>\n",
       "  </tbody>\n",
       "</table>\n",
       "</div>"
      ],
      "text/plain": [
       "loan_status     0      1\n",
       "grade                   \n",
       "A             610   9573\n",
       "B            1518  10872\n",
       "C            1504   7236\n",
       "D            1327   4689\n",
       "E             883   2511\n",
       "F             416    885\n",
       "G             173    339"
      ]
     },
     "execution_count": 234,
     "metadata": {},
     "output_type": "execute_result"
    }
   ],
   "source": [
    "ctdf"
   ]
  },
  {
   "cell_type": "code",
   "execution_count": 238,
   "id": "7b88d631",
   "metadata": {},
   "outputs": [
    {
     "data": {
      "text/html": [
       "<div>\n",
       "<style scoped>\n",
       "    .dataframe tbody tr th:only-of-type {\n",
       "        vertical-align: middle;\n",
       "    }\n",
       "\n",
       "    .dataframe tbody tr th {\n",
       "        vertical-align: top;\n",
       "    }\n",
       "\n",
       "    .dataframe thead th {\n",
       "        text-align: right;\n",
       "    }\n",
       "</style>\n",
       "<table border=\"1\" class=\"dataframe\">\n",
       "  <thead>\n",
       "    <tr style=\"text-align: right;\">\n",
       "      <th>loan_status</th>\n",
       "      <th>0</th>\n",
       "      <th>1</th>\n",
       "    </tr>\n",
       "    <tr>\n",
       "      <th>grade</th>\n",
       "      <th></th>\n",
       "      <th></th>\n",
       "    </tr>\n",
       "  </thead>\n",
       "  <tbody>\n",
       "    <tr>\n",
       "      <th>A</th>\n",
       "      <td>0.095</td>\n",
       "      <td>0.265</td>\n",
       "    </tr>\n",
       "    <tr>\n",
       "      <th>B</th>\n",
       "      <td>0.236</td>\n",
       "      <td>0.301</td>\n",
       "    </tr>\n",
       "    <tr>\n",
       "      <th>C</th>\n",
       "      <td>0.234</td>\n",
       "      <td>0.200</td>\n",
       "    </tr>\n",
       "    <tr>\n",
       "      <th>D</th>\n",
       "      <td>0.206</td>\n",
       "      <td>0.130</td>\n",
       "    </tr>\n",
       "    <tr>\n",
       "      <th>E</th>\n",
       "      <td>0.137</td>\n",
       "      <td>0.070</td>\n",
       "    </tr>\n",
       "    <tr>\n",
       "      <th>F</th>\n",
       "      <td>0.065</td>\n",
       "      <td>0.025</td>\n",
       "    </tr>\n",
       "    <tr>\n",
       "      <th>G</th>\n",
       "      <td>0.027</td>\n",
       "      <td>0.009</td>\n",
       "    </tr>\n",
       "  </tbody>\n",
       "</table>\n",
       "</div>"
      ],
      "text/plain": [
       "loan_status     0     1\n",
       "grade                  \n",
       "A           0.095 0.265\n",
       "B           0.236 0.301\n",
       "C           0.234 0.200\n",
       "D           0.206 0.130\n",
       "E           0.137 0.070\n",
       "F           0.065 0.025\n",
       "G           0.027 0.009"
      ]
     },
     "execution_count": 238,
     "metadata": {},
     "output_type": "execute_result"
    }
   ],
   "source": [
    "ctdf / ctdf.sum()"
   ]
  },
  {
   "cell_type": "code",
   "execution_count": 221,
   "id": "7befb2a0",
   "metadata": {},
   "outputs": [
    {
     "ename": "TypeError",
     "evalue": "Must provide 'func' or tuples of '(column, aggfunc).",
     "output_type": "error",
     "traceback": [
      "\u001b[1;31m---------------------------------------------------------------------------\u001b[0m",
      "\u001b[1;31mTypeError\u001b[0m                                 Traceback (most recent call last)",
      "\u001b[1;32m~\\AppData\\Local\\Temp\\ipykernel_12244\\2841357758.py\u001b[0m in \u001b[0;36m<module>\u001b[1;34m\u001b[0m\n\u001b[1;32m----> 1\u001b[1;33m \u001b[0mpd\u001b[0m\u001b[1;33m.\u001b[0m\u001b[0mcrosstab\u001b[0m\u001b[1;33m(\u001b[0m\u001b[0mdf\u001b[0m\u001b[1;33m.\u001b[0m\u001b[0mgroupby\u001b[0m\u001b[1;33m(\u001b[0m\u001b[0mdf\u001b[0m\u001b[1;33m[\u001b[0m\u001b[1;34m'grade'\u001b[0m\u001b[1;33m]\u001b[0m\u001b[1;33m,\u001b[0m \u001b[0mas_index\u001b[0m\u001b[1;33m=\u001b[0m\u001b[1;32mFalse\u001b[0m\u001b[1;33m)\u001b[0m\u001b[1;33m.\u001b[0m\u001b[0magg\u001b[0m\u001b[1;33m(\u001b[0m\u001b[0mgrade\u001b[0m\u001b[1;33m=\u001b[0m\u001b[1;33m(\u001b[0m\u001b[0mdf\u001b[0m\u001b[1;33m[\u001b[0m\u001b[1;34m'grade'\u001b[0m\u001b[1;33m]\u001b[0m\u001b[1;33m,\u001b[0m \u001b[1;34m'nunique'\u001b[0m\u001b[1;33m)\u001b[0m\u001b[1;33m,\u001b[0m \u001b[0mperc\u001b[0m\u001b[1;33m=\u001b[0m\u001b[1;33m(\u001b[0m\u001b[0mdf\u001b[0m\u001b[1;33m[\u001b[0m\u001b[1;34m'loan_status'\u001b[0m\u001b[1;33m]\u001b[0m\u001b[1;33m,\u001b[0m \u001b[1;32mlambda\u001b[0m \u001b[0mx\u001b[0m\u001b[1;33m:\u001b[0m \u001b[0mx\u001b[0m\u001b[1;33m.\u001b[0m\u001b[0mvalue_counts\u001b[0m\u001b[1;33m(\u001b[0m\u001b[0mnormalize\u001b[0m\u001b[1;33m=\u001b[0m\u001b[1;32mTrue\u001b[0m\u001b[1;33m)\u001b[0m\u001b[1;33m,\u001b[0m \u001b[1;33m[\u001b[0m\u001b[1;34m'0'\u001b[0m\u001b[1;33m]\u001b[0m\u001b[1;33m)\u001b[0m\u001b[1;33m)\u001b[0m\u001b[1;33m)\u001b[0m\u001b[1;33m\u001b[0m\u001b[1;33m\u001b[0m\u001b[0m\n\u001b[0m",
      "\u001b[1;32mD:\\anaconda\\lib\\site-packages\\pandas\\core\\groupby\\generic.py\u001b[0m in \u001b[0;36maggregate\u001b[1;34m(self, func, engine, engine_kwargs, *args, **kwargs)\u001b[0m\n\u001b[0;32m    863\u001b[0m             \u001b[1;32mreturn\u001b[0m \u001b[0mself\u001b[0m\u001b[1;33m.\u001b[0m\u001b[0mobj\u001b[0m\u001b[1;33m.\u001b[0m\u001b[0m_constructor\u001b[0m\u001b[1;33m(\u001b[0m\u001b[0mresult\u001b[0m\u001b[1;33m,\u001b[0m \u001b[0mindex\u001b[0m\u001b[1;33m=\u001b[0m\u001b[0mindex\u001b[0m\u001b[1;33m,\u001b[0m \u001b[0mcolumns\u001b[0m\u001b[1;33m=\u001b[0m\u001b[0mdata\u001b[0m\u001b[1;33m.\u001b[0m\u001b[0mcolumns\u001b[0m\u001b[1;33m)\u001b[0m\u001b[1;33m\u001b[0m\u001b[1;33m\u001b[0m\u001b[0m\n\u001b[0;32m    864\u001b[0m \u001b[1;33m\u001b[0m\u001b[0m\n\u001b[1;32m--> 865\u001b[1;33m         \u001b[0mrelabeling\u001b[0m\u001b[1;33m,\u001b[0m \u001b[0mfunc\u001b[0m\u001b[1;33m,\u001b[0m \u001b[0mcolumns\u001b[0m\u001b[1;33m,\u001b[0m \u001b[0morder\u001b[0m \u001b[1;33m=\u001b[0m \u001b[0mreconstruct_func\u001b[0m\u001b[1;33m(\u001b[0m\u001b[0mfunc\u001b[0m\u001b[1;33m,\u001b[0m \u001b[1;33m**\u001b[0m\u001b[0mkwargs\u001b[0m\u001b[1;33m)\u001b[0m\u001b[1;33m\u001b[0m\u001b[1;33m\u001b[0m\u001b[0m\n\u001b[0m\u001b[0;32m    866\u001b[0m         \u001b[0mfunc\u001b[0m \u001b[1;33m=\u001b[0m \u001b[0mmaybe_mangle_lambdas\u001b[0m\u001b[1;33m(\u001b[0m\u001b[0mfunc\u001b[0m\u001b[1;33m)\u001b[0m\u001b[1;33m\u001b[0m\u001b[1;33m\u001b[0m\u001b[0m\n\u001b[0;32m    867\u001b[0m \u001b[1;33m\u001b[0m\u001b[0m\n",
      "\u001b[1;32mD:\\anaconda\\lib\\site-packages\\pandas\\core\\apply.py\u001b[0m in \u001b[0;36mreconstruct_func\u001b[1;34m(func, **kwargs)\u001b[0m\n\u001b[0;32m   1264\u001b[0m         \u001b[1;32melif\u001b[0m \u001b[0mfunc\u001b[0m \u001b[1;32mis\u001b[0m \u001b[1;32mNone\u001b[0m\u001b[1;33m:\u001b[0m\u001b[1;33m\u001b[0m\u001b[1;33m\u001b[0m\u001b[0m\n\u001b[0;32m   1265\u001b[0m             \u001b[1;31m# nicer error message\u001b[0m\u001b[1;33m\u001b[0m\u001b[1;33m\u001b[0m\u001b[0m\n\u001b[1;32m-> 1266\u001b[1;33m             \u001b[1;32mraise\u001b[0m \u001b[0mTypeError\u001b[0m\u001b[1;33m(\u001b[0m\u001b[1;34m\"Must provide 'func' or tuples of '(column, aggfunc).\"\u001b[0m\u001b[1;33m)\u001b[0m\u001b[1;33m\u001b[0m\u001b[1;33m\u001b[0m\u001b[0m\n\u001b[0m\u001b[0;32m   1267\u001b[0m \u001b[1;33m\u001b[0m\u001b[0m\n\u001b[0;32m   1268\u001b[0m     \u001b[1;32mif\u001b[0m \u001b[0mrelabeling\u001b[0m\u001b[1;33m:\u001b[0m\u001b[1;33m\u001b[0m\u001b[1;33m\u001b[0m\u001b[0m\n",
      "\u001b[1;31mTypeError\u001b[0m: Must provide 'func' or tuples of '(column, aggfunc)."
     ]
    }
   ],
   "source": [
    ".agg(grade=(df['grade'], 'nunique'), perc=(df['loan_status'], lambda x: x.value_counts(normalize=True), ['0'])))"
   ]
  },
  {
   "cell_type": "code",
   "execution_count": null,
   "id": "8cfefb16",
   "metadata": {},
   "outputs": [],
   "source": []
  },
  {
   "cell_type": "code",
   "execution_count": 235,
   "id": "a05ed815",
   "metadata": {},
   "outputs": [
    {
     "ename": "KeyError",
     "evalue": "\"Column(s) ['0'] do not exist\"",
     "output_type": "error",
     "traceback": [
      "\u001b[1;31m---------------------------------------------------------------------------\u001b[0m",
      "\u001b[1;31mKeyError\u001b[0m                                  Traceback (most recent call last)",
      "\u001b[1;32m~\\AppData\\Local\\Temp\\ipykernel_12244\\2750753472.py\u001b[0m in \u001b[0;36m<module>\u001b[1;34m\u001b[0m\n\u001b[1;32m----> 1\u001b[1;33m df.groupby('grade', as_index=False).agg(ID=('grade', 'nunique'), \n\u001b[0m\u001b[0;32m      2\u001b[0m                                           percent=('0', lambda x: x.value_counts(normalize=True)['loan_status']))\n",
      "\u001b[1;32mD:\\anaconda\\lib\\site-packages\\pandas\\core\\groupby\\generic.py\u001b[0m in \u001b[0;36maggregate\u001b[1;34m(self, func, engine, engine_kwargs, *args, **kwargs)\u001b[0m\n\u001b[0;32m    867\u001b[0m \u001b[1;33m\u001b[0m\u001b[0m\n\u001b[0;32m    868\u001b[0m         \u001b[0mop\u001b[0m \u001b[1;33m=\u001b[0m \u001b[0mGroupByApply\u001b[0m\u001b[1;33m(\u001b[0m\u001b[0mself\u001b[0m\u001b[1;33m,\u001b[0m \u001b[0mfunc\u001b[0m\u001b[1;33m,\u001b[0m \u001b[0margs\u001b[0m\u001b[1;33m,\u001b[0m \u001b[0mkwargs\u001b[0m\u001b[1;33m)\u001b[0m\u001b[1;33m\u001b[0m\u001b[1;33m\u001b[0m\u001b[0m\n\u001b[1;32m--> 869\u001b[1;33m         \u001b[0mresult\u001b[0m \u001b[1;33m=\u001b[0m \u001b[0mop\u001b[0m\u001b[1;33m.\u001b[0m\u001b[0magg\u001b[0m\u001b[1;33m(\u001b[0m\u001b[1;33m)\u001b[0m\u001b[1;33m\u001b[0m\u001b[1;33m\u001b[0m\u001b[0m\n\u001b[0m\u001b[0;32m    870\u001b[0m         \u001b[1;32mif\u001b[0m \u001b[1;32mnot\u001b[0m \u001b[0mis_dict_like\u001b[0m\u001b[1;33m(\u001b[0m\u001b[0mfunc\u001b[0m\u001b[1;33m)\u001b[0m \u001b[1;32mand\u001b[0m \u001b[0mresult\u001b[0m \u001b[1;32mis\u001b[0m \u001b[1;32mnot\u001b[0m \u001b[1;32mNone\u001b[0m\u001b[1;33m:\u001b[0m\u001b[1;33m\u001b[0m\u001b[1;33m\u001b[0m\u001b[0m\n\u001b[0;32m    871\u001b[0m             \u001b[1;32mreturn\u001b[0m \u001b[0mresult\u001b[0m\u001b[1;33m\u001b[0m\u001b[1;33m\u001b[0m\u001b[0m\n",
      "\u001b[1;32mD:\\anaconda\\lib\\site-packages\\pandas\\core\\apply.py\u001b[0m in \u001b[0;36magg\u001b[1;34m(self)\u001b[0m\n\u001b[0;32m    166\u001b[0m \u001b[1;33m\u001b[0m\u001b[0m\n\u001b[0;32m    167\u001b[0m         \u001b[1;32mif\u001b[0m \u001b[0mis_dict_like\u001b[0m\u001b[1;33m(\u001b[0m\u001b[0marg\u001b[0m\u001b[1;33m)\u001b[0m\u001b[1;33m:\u001b[0m\u001b[1;33m\u001b[0m\u001b[1;33m\u001b[0m\u001b[0m\n\u001b[1;32m--> 168\u001b[1;33m             \u001b[1;32mreturn\u001b[0m \u001b[0mself\u001b[0m\u001b[1;33m.\u001b[0m\u001b[0magg_dict_like\u001b[0m\u001b[1;33m(\u001b[0m\u001b[1;33m)\u001b[0m\u001b[1;33m\u001b[0m\u001b[1;33m\u001b[0m\u001b[0m\n\u001b[0m\u001b[0;32m    169\u001b[0m         \u001b[1;32melif\u001b[0m \u001b[0mis_list_like\u001b[0m\u001b[1;33m(\u001b[0m\u001b[0marg\u001b[0m\u001b[1;33m)\u001b[0m\u001b[1;33m:\u001b[0m\u001b[1;33m\u001b[0m\u001b[1;33m\u001b[0m\u001b[0m\n\u001b[0;32m    170\u001b[0m             \u001b[1;31m# we require a list, but not a 'str'\u001b[0m\u001b[1;33m\u001b[0m\u001b[1;33m\u001b[0m\u001b[0m\n",
      "\u001b[1;32mD:\\anaconda\\lib\\site-packages\\pandas\\core\\apply.py\u001b[0m in \u001b[0;36magg_dict_like\u001b[1;34m(self)\u001b[0m\n\u001b[0;32m    471\u001b[0m             \u001b[0mselection\u001b[0m \u001b[1;33m=\u001b[0m \u001b[0mobj\u001b[0m\u001b[1;33m.\u001b[0m\u001b[0m_selection\u001b[0m\u001b[1;33m\u001b[0m\u001b[1;33m\u001b[0m\u001b[0m\n\u001b[0;32m    472\u001b[0m \u001b[1;33m\u001b[0m\u001b[0m\n\u001b[1;32m--> 473\u001b[1;33m         \u001b[0marg\u001b[0m \u001b[1;33m=\u001b[0m \u001b[0mself\u001b[0m\u001b[1;33m.\u001b[0m\u001b[0mnormalize_dictlike_arg\u001b[0m\u001b[1;33m(\u001b[0m\u001b[1;34m\"agg\"\u001b[0m\u001b[1;33m,\u001b[0m \u001b[0mselected_obj\u001b[0m\u001b[1;33m,\u001b[0m \u001b[0marg\u001b[0m\u001b[1;33m)\u001b[0m\u001b[1;33m\u001b[0m\u001b[1;33m\u001b[0m\u001b[0m\n\u001b[0m\u001b[0;32m    474\u001b[0m \u001b[1;33m\u001b[0m\u001b[0m\n\u001b[0;32m    475\u001b[0m         \u001b[1;32mif\u001b[0m \u001b[0mselected_obj\u001b[0m\u001b[1;33m.\u001b[0m\u001b[0mndim\u001b[0m \u001b[1;33m==\u001b[0m \u001b[1;36m1\u001b[0m\u001b[1;33m:\u001b[0m\u001b[1;33m\u001b[0m\u001b[1;33m\u001b[0m\u001b[0m\n",
      "\u001b[1;32mD:\\anaconda\\lib\\site-packages\\pandas\\core\\apply.py\u001b[0m in \u001b[0;36mnormalize_dictlike_arg\u001b[1;34m(self, how, obj, func)\u001b[0m\n\u001b[0;32m    589\u001b[0m             \u001b[1;32mif\u001b[0m \u001b[0mlen\u001b[0m\u001b[1;33m(\u001b[0m\u001b[0mcols\u001b[0m\u001b[1;33m)\u001b[0m \u001b[1;33m>\u001b[0m \u001b[1;36m0\u001b[0m\u001b[1;33m:\u001b[0m\u001b[1;33m\u001b[0m\u001b[1;33m\u001b[0m\u001b[0m\n\u001b[0;32m    590\u001b[0m                 \u001b[0mcols_sorted\u001b[0m \u001b[1;33m=\u001b[0m \u001b[0mlist\u001b[0m\u001b[1;33m(\u001b[0m\u001b[0msafe_sort\u001b[0m\u001b[1;33m(\u001b[0m\u001b[0mlist\u001b[0m\u001b[1;33m(\u001b[0m\u001b[0mcols\u001b[0m\u001b[1;33m)\u001b[0m\u001b[1;33m)\u001b[0m\u001b[1;33m)\u001b[0m\u001b[1;33m\u001b[0m\u001b[1;33m\u001b[0m\u001b[0m\n\u001b[1;32m--> 591\u001b[1;33m                 \u001b[1;32mraise\u001b[0m \u001b[0mKeyError\u001b[0m\u001b[1;33m(\u001b[0m\u001b[1;34mf\"Column(s) {cols_sorted} do not exist\"\u001b[0m\u001b[1;33m)\u001b[0m\u001b[1;33m\u001b[0m\u001b[1;33m\u001b[0m\u001b[0m\n\u001b[0m\u001b[0;32m    592\u001b[0m \u001b[1;33m\u001b[0m\u001b[0m\n\u001b[0;32m    593\u001b[0m         \u001b[0mis_aggregator\u001b[0m \u001b[1;33m=\u001b[0m \u001b[1;32mlambda\u001b[0m \u001b[0mx\u001b[0m\u001b[1;33m:\u001b[0m \u001b[0misinstance\u001b[0m\u001b[1;33m(\u001b[0m\u001b[0mx\u001b[0m\u001b[1;33m,\u001b[0m \u001b[1;33m(\u001b[0m\u001b[0mlist\u001b[0m\u001b[1;33m,\u001b[0m \u001b[0mtuple\u001b[0m\u001b[1;33m,\u001b[0m \u001b[0mdict\u001b[0m\u001b[1;33m)\u001b[0m\u001b[1;33m)\u001b[0m\u001b[1;33m\u001b[0m\u001b[1;33m\u001b[0m\u001b[0m\n",
      "\u001b[1;31mKeyError\u001b[0m: \"Column(s) ['0'] do not exist\""
     ]
    }
   ],
   "source": [
    "df.groupby('grade', as_index=False).agg(ID=('grade', 'nunique'), \n",
    "                                          percent=('0', lambda x: x.value_counts(normalize=True)['loan_status']))"
   ]
  },
  {
   "cell_type": "code",
   "execution_count": 237,
   "id": "08b9eabd",
   "metadata": {},
   "outputs": [
    {
     "data": {
      "text/html": [
       "<div>\n",
       "<style scoped>\n",
       "    .dataframe tbody tr th:only-of-type {\n",
       "        vertical-align: middle;\n",
       "    }\n",
       "\n",
       "    .dataframe tbody tr th {\n",
       "        vertical-align: top;\n",
       "    }\n",
       "\n",
       "    .dataframe thead th {\n",
       "        text-align: right;\n",
       "    }\n",
       "</style>\n",
       "<table border=\"1\" class=\"dataframe\">\n",
       "  <thead>\n",
       "    <tr style=\"text-align: right;\">\n",
       "      <th></th>\n",
       "      <th>grade</th>\n",
       "      <th>loan_status</th>\n",
       "    </tr>\n",
       "    <tr>\n",
       "      <th>grade</th>\n",
       "      <th></th>\n",
       "      <th></th>\n",
       "    </tr>\n",
       "  </thead>\n",
       "  <tbody>\n",
       "    <tr>\n",
       "      <th>A</th>\n",
       "      <td>1</td>\n",
       "      <td>2</td>\n",
       "    </tr>\n",
       "    <tr>\n",
       "      <th>B</th>\n",
       "      <td>1</td>\n",
       "      <td>2</td>\n",
       "    </tr>\n",
       "    <tr>\n",
       "      <th>C</th>\n",
       "      <td>1</td>\n",
       "      <td>2</td>\n",
       "    </tr>\n",
       "    <tr>\n",
       "      <th>D</th>\n",
       "      <td>1</td>\n",
       "      <td>2</td>\n",
       "    </tr>\n",
       "    <tr>\n",
       "      <th>E</th>\n",
       "      <td>1</td>\n",
       "      <td>2</td>\n",
       "    </tr>\n",
       "    <tr>\n",
       "      <th>F</th>\n",
       "      <td>1</td>\n",
       "      <td>2</td>\n",
       "    </tr>\n",
       "    <tr>\n",
       "      <th>G</th>\n",
       "      <td>1</td>\n",
       "      <td>2</td>\n",
       "    </tr>\n",
       "  </tbody>\n",
       "</table>\n",
       "</div>"
      ],
      "text/plain": [
       "       grade  loan_status\n",
       "grade                    \n",
       "A          1            2\n",
       "B          1            2\n",
       "C          1            2\n",
       "D          1            2\n",
       "E          1            2\n",
       "F          1            2\n",
       "G          1            2"
      ]
     },
     "execution_count": 237,
     "metadata": {},
     "output_type": "execute_result"
    }
   ],
   "source": [
    "df.assign(type=df['loan_status'].eq('0')).groupby('grade').agg({'grade': 'nunique', 'loan_status': 'nunique'}) "
   ]
  },
  {
   "cell_type": "code",
   "execution_count": null,
   "id": "c0ffa033",
   "metadata": {},
   "outputs": [],
   "source": []
  }
 ],
 "metadata": {
  "kernelspec": {
   "display_name": "Python 3 (ipykernel)",
   "language": "python",
   "name": "python3"
  },
  "language_info": {
   "codemirror_mode": {
    "name": "ipython",
    "version": 3
   },
   "file_extension": ".py",
   "mimetype": "text/x-python",
   "name": "python",
   "nbconvert_exporter": "python",
   "pygments_lexer": "ipython3",
   "version": "3.9.13"
  }
 },
 "nbformat": 4,
 "nbformat_minor": 5
}
